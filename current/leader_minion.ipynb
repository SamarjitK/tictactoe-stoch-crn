{
 "cells": [
  {
   "cell_type": "code",
   "execution_count": 1,
   "id": "large-carry",
   "metadata": {},
   "outputs": [],
   "source": [
    "from ppsim import Simulation, time_trials"
   ]
  },
  {
   "cell_type": "code",
   "execution_count": 2,
   "id": "embedded-failure",
   "metadata": {},
   "outputs": [],
   "source": [
    "def leader_minion(x, y, m):\n",
    "    def is_contender(x):\n",
    "        return x > 0\n",
    "    def contend_priority(x, y):\n",
    "        if max(abs(x), abs(y)) == m+1:\n",
    "            return m\n",
    "        else:\n",
    "            return max(abs(x), abs(y)) + 1\n",
    "    def minion_priority(x, y):\n",
    "        if max(abs(x), abs(y)) == m+1:\n",
    "            return -m\n",
    "        else:\n",
    "            return -max(abs(x), abs(y))\n",
    "    if is_contender(x) and abs(x) >= abs(y):\n",
    "        x2 = contend_priority(x, y)\n",
    "    else:\n",
    "        x2 = minion_priority(x, y)\n",
    "    if is_contender(y) and abs(y) >= abs(x):\n",
    "        y2 = contend_priority(x, y)\n",
    "    else:\n",
    "        y2 = minion_priority(x, y)\n",
    "    return x2, y2\n",
    "\n",
    "def init(n):\n",
    "    return {1: n}"
   ]
  },
  {
   "cell_type": "code",
   "execution_count": 3,
   "id": "alive-coral",
   "metadata": {},
   "outputs": [],
   "source": [
    "import math\n",
    "n = 10 ** 2\n",
    "m = int(math.log2(n) ** 2)\n",
    "sim = Simulation(init(n), leader_minion, m=m)"
   ]
  },
  {
   "cell_type": "code",
   "execution_count": 4,
   "id": "provincial-kernel",
   "metadata": {},
   "outputs": [],
   "source": [
    "from ppsim import Simulation, StatePlotter, HistoryPlotter\n",
    "%matplotlib widget\n",
    "from matplotlib import pyplot as plt\n",
    "import ipywidgets as widgets\n",
    "\n",
    "def make_display(sim):\n",
    "    plt.ioff()\n",
    "    sp, hp = StatePlotter(), HistoryPlotter()\n",
    "    sim.add_snapshot(sp)\n",
    "    sim.add_snapshot(hp)\n",
    "    def set_yscale(yscale):\n",
    "        for snap in sim.snapshots:\n",
    "            snap.ax.set_yscale(yscale)\n",
    "            snap.update()\n",
    "\n",
    "    yscale_button = widgets.interactive(set_yscale, yscale=widgets.ToggleButtons(options=['linear', 'symlog'], description = 'y scale:'))\n",
    "    sim.layout = widgets.AppLayout(\n",
    "        left_sidebar=sp.fig.canvas,\n",
    "        right_sidebar=hp.fig.canvas,\n",
    "        header = yscale_button\n",
    "    )\n",
    "    \n",
    "    plt.ion()\n",
    "    display(sim.layout)\n",
    "    \n",
    "def add_timebar(sim):\n",
    "    time_bar = widgets.interactive(sim.set_snapshot_time, time=widgets.FloatSlider(min=sim.times[0], max=sim.times[-1], layout=widgets.Layout(width='100%'), step=0.01))\n",
    "    sim.layout.footer=time_bar"
   ]
  },
  {
   "cell_type": "code",
   "execution_count": 5,
   "id": "ruled-jacksonville",
   "metadata": {},
   "outputs": [
    {
     "data": {
      "application/vnd.jupyter.widget-view+json": {
       "model_id": "a2436fedf79a4fe595069151e568f050",
       "version_major": 2,
       "version_minor": 0
      },
      "text/plain": [
       "AppLayout(children=(interactive(children=(ToggleButtons(description='y scale:', options=('linear', 'symlog'), …"
      ]
     },
     "metadata": {},
     "output_type": "display_data"
    }
   ],
   "source": [
    "make_display(sim)"
   ]
  },
  {
   "cell_type": "code",
   "execution_count": 6,
   "id": "expired-january",
   "metadata": {},
   "outputs": [],
   "source": [
    "sim.run(100, recording_step=0.1)\n",
    "add_timebar(sim)"
   ]
  },
  {
   "cell_type": "code",
   "execution_count": 37,
   "id": "circular-range",
   "metadata": {},
   "outputs": [],
   "source": [
    "sim.run(100, recording_step = 0.1)"
   ]
  },
  {
   "cell_type": "code",
   "execution_count": 38,
   "id": "sunset-reward",
   "metadata": {},
   "outputs": [],
   "source": [
    "add_timebar(sim)"
   ]
  },
  {
   "cell_type": "code",
   "execution_count": null,
   "id": "contemporary-disorder",
   "metadata": {},
   "outputs": [],
   "source": []
  }
 ],
 "metadata": {
  "kernelspec": {
   "display_name": "Python 3",
   "language": "python",
   "name": "python3"
  },
  "language_info": {
   "codemirror_mode": {
    "name": "ipython",
    "version": 3
   },
   "file_extension": ".py",
   "mimetype": "text/x-python",
   "name": "python",
   "nbconvert_exporter": "python",
   "pygments_lexer": "ipython3",
   "version": "3.7.3"
  }
 },
 "nbformat": 4,
 "nbformat_minor": 5
}
