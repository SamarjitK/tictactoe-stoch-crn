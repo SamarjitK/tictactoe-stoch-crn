{
 "cells": [
  {
   "cell_type": "code",
   "execution_count": 1,
   "metadata": {},
   "outputs": [],
   "source": [
    "from ppsim import Simulation\n",
    "%matplotlib widget"
   ]
  },
  {
   "cell_type": "code",
   "execution_count": 2,
   "metadata": {},
   "outputs": [],
   "source": [
    "a, b, u = 'A', 'B', 'U'\n",
    "approximate_majority = {\n",
    "    (a,b):(u,u),\n",
    "    (a,u):(a,a),\n",
    "    (b,u):(b,b)\n",
    "}\n",
    "n = 10 ** 9\n",
    "sim = Simulation({a: n // 2, b: n // 2}, approximate_majority)"
   ]
  },
  {
   "cell_type": "code",
   "execution_count": 3,
   "metadata": {},
   "outputs": [
    {
     "data": {
      "application/vnd.jupyter.widget-view+json": {
       "model_id": "c45b5cc6fa714741b4292acda6e98eb1",
       "version_major": 2,
       "version_minor": 0
      },
      "text/plain": [
       "Canvas(toolbar=Toolbar(toolitems=[('Home', 'Reset original view', 'home', 'home'), ('Back', 'Back to previous …"
      ]
     },
     "metadata": {},
     "output_type": "display_data"
    }
   ],
   "source": [
    "from ppsim import StatePlotter\n",
    "sp = StatePlotter()\n",
    "sim.add_snapshot(sp)"
   ]
  },
  {
   "cell_type": "code",
   "execution_count": 4,
   "metadata": {},
   "outputs": [
    {
     "data": {
      "application/vnd.jupyter.widget-view+json": {
       "model_id": "5da49becc6d34a3c8233aaf9bdaa9f67",
       "version_major": 2,
       "version_minor": 0
      },
      "text/plain": [
       "interactive(children=(IntSlider(value=0, description='index', layout=Layout(width='100%'), max=60), Output()),…"
      ]
     },
     "metadata": {},
     "output_type": "display_data"
    }
   ],
   "source": [
    "sim.run()\n",
    "sim.snapshot_slider()"
   ]
  },
  {
   "cell_type": "code",
   "execution_count": 18,
   "metadata": {},
   "outputs": [
    {
     "name": "stdout",
     "output_type": "stream",
     "text": [
      " Time: 11.000\r"
     ]
    },
    {
     "data": {
      "text/html": [
       "<div>\n",
       "<style scoped>\n",
       "    .dataframe tbody tr th:only-of-type {\n",
       "        vertical-align: middle;\n",
       "    }\n",
       "\n",
       "    .dataframe tbody tr th {\n",
       "        vertical-align: top;\n",
       "    }\n",
       "\n",
       "    .dataframe thead th {\n",
       "        text-align: right;\n",
       "    }\n",
       "</style>\n",
       "<table border=\"1\" class=\"dataframe\">\n",
       "  <thead>\n",
       "    <tr style=\"text-align: right;\">\n",
       "      <th></th>\n",
       "      <th>A</th>\n",
       "      <th>B</th>\n",
       "      <th>U</th>\n",
       "    </tr>\n",
       "    <tr>\n",
       "      <th>time</th>\n",
       "      <th></th>\n",
       "      <th></th>\n",
       "      <th></th>\n",
       "    </tr>\n",
       "  </thead>\n",
       "  <tbody>\n",
       "    <tr>\n",
       "      <th>0.000000</th>\n",
       "      <td>500000000</td>\n",
       "      <td>500000000</td>\n",
       "      <td>0</td>\n",
       "    </tr>\n",
       "    <tr>\n",
       "      <th>1.000010</th>\n",
       "      <td>379927222</td>\n",
       "      <td>379906395</td>\n",
       "      <td>240166383</td>\n",
       "    </tr>\n",
       "    <tr>\n",
       "      <th>2.000010</th>\n",
       "      <td>349098811</td>\n",
       "      <td>349065460</td>\n",
       "      <td>301835729</td>\n",
       "    </tr>\n",
       "    <tr>\n",
       "      <th>3.000036</th>\n",
       "      <td>338995533</td>\n",
       "      <td>338948434</td>\n",
       "      <td>322056033</td>\n",
       "    </tr>\n",
       "    <tr>\n",
       "      <th>4.000069</th>\n",
       "      <td>335417565</td>\n",
       "      <td>335369545</td>\n",
       "      <td>329212890</td>\n",
       "    </tr>\n",
       "    <tr>\n",
       "      <th>5.000078</th>\n",
       "      <td>334132148</td>\n",
       "      <td>334053310</td>\n",
       "      <td>331814542</td>\n",
       "    </tr>\n",
       "    <tr>\n",
       "      <th>6.000102</th>\n",
       "      <td>333658269</td>\n",
       "      <td>333556029</td>\n",
       "      <td>332785702</td>\n",
       "    </tr>\n",
       "    <tr>\n",
       "      <th>7.000117</th>\n",
       "      <td>333518625</td>\n",
       "      <td>333353906</td>\n",
       "      <td>333127469</td>\n",
       "    </tr>\n",
       "    <tr>\n",
       "      <th>8.000119</th>\n",
       "      <td>333482691</td>\n",
       "      <td>333265012</td>\n",
       "      <td>333252297</td>\n",
       "    </tr>\n",
       "    <tr>\n",
       "      <th>9.000127</th>\n",
       "      <td>333498911</td>\n",
       "      <td>333180338</td>\n",
       "      <td>333320751</td>\n",
       "    </tr>\n",
       "    <tr>\n",
       "      <th>10.000162</th>\n",
       "      <td>333552492</td>\n",
       "      <td>333126893</td>\n",
       "      <td>333320615</td>\n",
       "    </tr>\n",
       "    <tr>\n",
       "      <th>10.100174</th>\n",
       "      <td>333563340</td>\n",
       "      <td>333122712</td>\n",
       "      <td>333313948</td>\n",
       "    </tr>\n",
       "    <tr>\n",
       "      <th>10.200203</th>\n",
       "      <td>333569791</td>\n",
       "      <td>333107639</td>\n",
       "      <td>333322570</td>\n",
       "    </tr>\n",
       "    <tr>\n",
       "      <th>10.300204</th>\n",
       "      <td>333571462</td>\n",
       "      <td>333101374</td>\n",
       "      <td>333327164</td>\n",
       "    </tr>\n",
       "    <tr>\n",
       "      <th>10.400223</th>\n",
       "      <td>333584257</td>\n",
       "      <td>333096940</td>\n",
       "      <td>333318803</td>\n",
       "    </tr>\n",
       "    <tr>\n",
       "      <th>10.500229</th>\n",
       "      <td>333582362</td>\n",
       "      <td>333082218</td>\n",
       "      <td>333335420</td>\n",
       "    </tr>\n",
       "    <tr>\n",
       "      <th>10.600254</th>\n",
       "      <td>333587053</td>\n",
       "      <td>333072277</td>\n",
       "      <td>333340670</td>\n",
       "    </tr>\n",
       "    <tr>\n",
       "      <th>10.700263</th>\n",
       "      <td>333597240</td>\n",
       "      <td>333058472</td>\n",
       "      <td>333344288</td>\n",
       "    </tr>\n",
       "    <tr>\n",
       "      <th>10.800276</th>\n",
       "      <td>333595896</td>\n",
       "      <td>333049905</td>\n",
       "      <td>333354199</td>\n",
       "    </tr>\n",
       "    <tr>\n",
       "      <th>10.900299</th>\n",
       "      <td>333607755</td>\n",
       "      <td>333051244</td>\n",
       "      <td>333341001</td>\n",
       "    </tr>\n",
       "    <tr>\n",
       "      <th>11.000333</th>\n",
       "      <td>333616431</td>\n",
       "      <td>333041246</td>\n",
       "      <td>333342323</td>\n",
       "    </tr>\n",
       "  </tbody>\n",
       "</table>\n",
       "</div>"
      ],
      "text/plain": [
       "                   A          B          U\n",
       "time                                      \n",
       "0.000000   500000000  500000000          0\n",
       "1.000010   379927222  379906395  240166383\n",
       "2.000010   349098811  349065460  301835729\n",
       "3.000036   338995533  338948434  322056033\n",
       "4.000069   335417565  335369545  329212890\n",
       "5.000078   334132148  334053310  331814542\n",
       "6.000102   333658269  333556029  332785702\n",
       "7.000117   333518625  333353906  333127469\n",
       "8.000119   333482691  333265012  333252297\n",
       "9.000127   333498911  333180338  333320751\n",
       "10.000162  333552492  333126893  333320615\n",
       "10.100174  333563340  333122712  333313948\n",
       "10.200203  333569791  333107639  333322570\n",
       "10.300204  333571462  333101374  333327164\n",
       "10.400223  333584257  333096940  333318803\n",
       "10.500229  333582362  333082218  333335420\n",
       "10.600254  333587053  333072277  333340670\n",
       "10.700263  333597240  333058472  333344288\n",
       "10.800276  333595896  333049905  333354199\n",
       "10.900299  333607755  333051244  333341001\n",
       "11.000333  333616431  333041246  333342323"
      ]
     },
     "execution_count": 18,
     "metadata": {},
     "output_type": "execute_result"
    }
   ],
   "source": [
    "sim.run(1, 0.1)\n",
    "sim.history"
   ]
  },
  {
   "cell_type": "code",
   "execution_count": 5,
   "metadata": {},
   "outputs": [
    {
     "data": {
      "application/vnd.jupyter.widget-view+json": {
       "model_id": "a0164e2271584776bfa179ed40011ab7",
       "version_major": 2,
       "version_minor": 0
      },
      "text/plain": [
       "Canvas(toolbar=Toolbar(toolitems=[('Home', 'Reset original view', 'home', 'home'), ('Back', 'Back to previous …"
      ]
     },
     "metadata": {},
     "output_type": "display_data"
    },
    {
     "data": {
      "text/plain": [
       "<AxesSubplot:xlabel='time'>"
      ]
     },
     "execution_count": 5,
     "metadata": {},
     "output_type": "execute_result"
    }
   ],
   "source": [
    "sim.history.plot()"
   ]
  },
  {
   "cell_type": "code",
   "execution_count": 4,
   "metadata": {},
   "outputs": [],
   "source": [
    "sim.run()"
   ]
  },
  {
   "cell_type": "code",
   "execution_count": 14,
   "metadata": {},
   "outputs": [],
   "source": [
    "sim.run()"
   ]
  },
  {
   "cell_type": "code",
   "execution_count": 7,
   "metadata": {
    "tags": []
   },
   "outputs": [
    {
     "ename": "ValueError",
     "evalue": "Asymmetric interaction:\n                                            ('A', 'B') -> ('A', 'U')\n                                            ('B', 'A') -> ('B', 'U')",
     "output_type": "error",
     "traceback": [
      "\u001b[1;31m---------------------------------------------------------------------------\u001b[0m",
      "\u001b[1;31mValueError\u001b[0m                                Traceback (most recent call last)",
      "\u001b[1;32m<ipython-input-7-57209a461cfc>\u001b[0m in \u001b[0;36m<module>\u001b[1;34m\u001b[0m\n\u001b[0;32m      6\u001b[0m }\n\u001b[0;32m      7\u001b[0m \u001b[1;31m# Simulation({a: n //2, b: n // 2}, approximate_majority_variant).print_reactions()\u001b[0m\u001b[1;33m\u001b[0m\u001b[1;33m\u001b[0m\u001b[1;33m\u001b[0m\u001b[0m\n\u001b[1;32m----> 8\u001b[1;33m \u001b[0mSimulation\u001b[0m\u001b[1;33m(\u001b[0m\u001b[1;33m{\u001b[0m\u001b[0ma\u001b[0m\u001b[1;33m:\u001b[0m \u001b[0mn\u001b[0m \u001b[1;33m//\u001b[0m\u001b[1;36m2\u001b[0m\u001b[1;33m,\u001b[0m \u001b[0mb\u001b[0m\u001b[1;33m:\u001b[0m \u001b[0mn\u001b[0m \u001b[1;33m//\u001b[0m \u001b[1;36m2\u001b[0m\u001b[1;33m}\u001b[0m\u001b[1;33m,\u001b[0m \u001b[0mapproximate_majority_variant\u001b[0m\u001b[1;33m,\u001b[0m \u001b[0mtransition_order\u001b[0m\u001b[1;33m=\u001b[0m\u001b[1;34m'symmetric_enforced'\u001b[0m\u001b[1;33m)\u001b[0m\u001b[1;33m.\u001b[0m\u001b[0mprint_reactions\u001b[0m\u001b[1;33m(\u001b[0m\u001b[1;33m)\u001b[0m\u001b[1;33m\u001b[0m\u001b[1;33m\u001b[0m\u001b[0m\n\u001b[0m",
      "\u001b[1;32m~\\PycharmProjects\\ppsim\\ppsim\\ppsim.py\u001b[0m in \u001b[0;36m__init__\u001b[1;34m(self, init_config, rule, simulator_method, transition_order, **kwargs)\u001b[0m\n\u001b[0;32m    258\u001b[0m                             raise ValueError(f'''Asymmetric interaction:\n\u001b[0;32m    259\u001b[0m                                             \u001b[1;33m{\u001b[0m\u001b[0ma\u001b[0m\u001b[1;33m,\u001b[0m \u001b[0mb\u001b[0m\u001b[1;33m}\u001b[0m \u001b[1;33m->\u001b[0m \u001b[1;33m{\u001b[0m\u001b[0mself\u001b[0m\u001b[1;33m.\u001b[0m\u001b[0mrule\u001b[0m\u001b[1;33m(\u001b[0m\u001b[0ma\u001b[0m\u001b[1;33m,\u001b[0m\u001b[0mb\u001b[0m\u001b[1;33m,\u001b[0m\u001b[1;33m**\u001b[0m\u001b[0mkwargs\u001b[0m\u001b[1;33m)\u001b[0m\u001b[1;33m}\u001b[0m\u001b[1;33m\u001b[0m\u001b[1;33m\u001b[0m\u001b[0m\n\u001b[1;32m--> 260\u001b[1;33m                                             {b, a} -> {self.rule(b, a,**kwargs)}''')\n\u001b[0m\u001b[0;32m    261\u001b[0m \u001b[1;33m\u001b[0m\u001b[0m\n\u001b[0;32m    262\u001b[0m         \u001b[1;32mif\u001b[0m \u001b[0msimulator_method\u001b[0m\u001b[1;33m.\u001b[0m\u001b[0mlower\u001b[0m\u001b[1;33m(\u001b[0m\u001b[1;33m)\u001b[0m \u001b[1;33m==\u001b[0m \u001b[1;34m'multibatch'\u001b[0m\u001b[1;33m:\u001b[0m\u001b[1;33m\u001b[0m\u001b[1;33m\u001b[0m\u001b[0m\n",
      "\u001b[1;31mValueError\u001b[0m: Asymmetric interaction:\n                                            ('A', 'B') -> ('A', 'U')\n                                            ('B', 'A') -> ('B', 'U')"
     ]
    }
   ],
   "source": [
    "approximate_majority_variant = {\n",
    "    (a, b): (a, u),\n",
    "    (b, a): (b, u),\n",
    "    (a, u): (a, a),\n",
    "    (b, u): (b, b)\n",
    "}\n",
    "# Simulation({a: n //2, b: n // 2}, approximate_majority_variant).print_reactions()\n",
    "Simulation({a: n //2, b: n // 2}, approximate_majority_variant, transition_order='symmetric_enforced').print_reactions()"
   ]
  },
  {
   "cell_type": "code",
   "execution_count": null,
   "metadata": {},
   "outputs": [],
   "source": [
    "sim"
   ]
  },
  {
   "cell_type": "code",
   "execution_count": 8,
   "metadata": {},
   "outputs": [
    {
     "data": {
      "application/vnd.jupyter.widget-view+json": {
       "model_id": "99e7fd506358471f88f461cc3f66020f",
       "version_major": 2,
       "version_minor": 0
      },
      "text/plain": [
       "  0%|          | 0/20 [00:00<?, ?it/s]"
      ]
     },
     "metadata": {},
     "output_type": "display_data"
    }
   ],
   "source": [
    "from ppsim import time_trials\n",
    "import numpy as np\n",
    "\n",
    "ns = [int(n) for n in np.geomspace(10, 10 ** 8, 20)]\n",
    "def initial_condition(n):\n",
    "    return {'A': n // 2, 'B': n // 2}\n",
    "df = time_trials(approximate_majority, ns, initial_condition, num_trials=100, max_wallclock_time = 30)"
   ]
  },
  {
   "cell_type": "code",
   "execution_count": 9,
   "metadata": {},
   "outputs": [
    {
     "data": {
      "text/html": [
       "<div>\n",
       "<style scoped>\n",
       "    .dataframe tbody tr th:only-of-type {\n",
       "        vertical-align: middle;\n",
       "    }\n",
       "\n",
       "    .dataframe tbody tr th {\n",
       "        vertical-align: top;\n",
       "    }\n",
       "\n",
       "    .dataframe thead th {\n",
       "        text-align: right;\n",
       "    }\n",
       "</style>\n",
       "<table border=\"1\" class=\"dataframe\">\n",
       "  <thead>\n",
       "    <tr style=\"text-align: right;\">\n",
       "      <th></th>\n",
       "      <th>n</th>\n",
       "      <th>time</th>\n",
       "    </tr>\n",
       "  </thead>\n",
       "  <tbody>\n",
       "    <tr>\n",
       "      <th>0</th>\n",
       "      <td>10</td>\n",
       "      <td>7.000000</td>\n",
       "    </tr>\n",
       "    <tr>\n",
       "      <th>1</th>\n",
       "      <td>10</td>\n",
       "      <td>7.400000</td>\n",
       "    </tr>\n",
       "    <tr>\n",
       "      <th>2</th>\n",
       "      <td>10</td>\n",
       "      <td>5.400000</td>\n",
       "    </tr>\n",
       "    <tr>\n",
       "      <th>3</th>\n",
       "      <td>10</td>\n",
       "      <td>15.100000</td>\n",
       "    </tr>\n",
       "    <tr>\n",
       "      <th>4</th>\n",
       "      <td>10</td>\n",
       "      <td>5.900000</td>\n",
       "    </tr>\n",
       "    <tr>\n",
       "      <th>...</th>\n",
       "      <td>...</td>\n",
       "      <td>...</td>\n",
       "    </tr>\n",
       "    <tr>\n",
       "      <th>1524</th>\n",
       "      <td>100000000</td>\n",
       "      <td>50.273655</td>\n",
       "    </tr>\n",
       "    <tr>\n",
       "      <th>1525</th>\n",
       "      <td>100000000</td>\n",
       "      <td>50.440260</td>\n",
       "    </tr>\n",
       "    <tr>\n",
       "      <th>1526</th>\n",
       "      <td>100000000</td>\n",
       "      <td>56.497314</td>\n",
       "    </tr>\n",
       "    <tr>\n",
       "      <th>1527</th>\n",
       "      <td>100000000</td>\n",
       "      <td>51.880454</td>\n",
       "    </tr>\n",
       "    <tr>\n",
       "      <th>1528</th>\n",
       "      <td>100000000</td>\n",
       "      <td>50.548712</td>\n",
       "    </tr>\n",
       "  </tbody>\n",
       "</table>\n",
       "<p>1529 rows × 2 columns</p>\n",
       "</div>"
      ],
      "text/plain": [
       "              n       time\n",
       "0            10   7.000000\n",
       "1            10   7.400000\n",
       "2            10   5.400000\n",
       "3            10  15.100000\n",
       "4            10   5.900000\n",
       "...         ...        ...\n",
       "1524  100000000  50.273655\n",
       "1525  100000000  50.440260\n",
       "1526  100000000  56.497314\n",
       "1527  100000000  51.880454\n",
       "1528  100000000  50.548712\n",
       "\n",
       "[1529 rows x 2 columns]"
      ]
     },
     "execution_count": 9,
     "metadata": {},
     "output_type": "execute_result"
    }
   ],
   "source": [
    "df"
   ]
  },
  {
   "cell_type": "code",
   "execution_count": 10,
   "metadata": {},
   "outputs": [
    {
     "data": {
      "image/png": "[encoded data removed]",
      "text/plain": [
       "<Figure size 432x288 with 1 Axes>"
      ]
     },
     "metadata": {
      "needs_background": "light"
     },
     "output_type": "display_data"
    }
   ],
   "source": [
    "import seaborn as sns\n",
    "import matplotlib as plt\n",
    "a = sns.lineplot(x='n', y='time', data=df)\n",
    "a.set_xscale('log')\n",
    "# plt.xscale('log')"
   ]
  },
  {
   "cell_type": "code",
   "execution_count": 23,
   "metadata": {},
   "outputs": [],
   "source": [
    "from math import ceil, floor\n",
    "\n",
    "def discrete_averaging(a, b):\n",
    "    avg = (a + b) / 2\n",
    "    return floor(avg), ceil(avg)\n",
    "\n",
    "n = 10 ** 8\n",
    "sim = Simulation({0: n // 2, 100: n // 2}, discrete_averaging)"
   ]
  },
  {
   "cell_type": "code",
   "execution_count": 24,
   "metadata": {
    "tags": []
   },
   "outputs": [
    {
     "data": {
      "application/vnd.jupyter.widget-view+json": {
       "model_id": "b64217515dfe4911b50f32408e7df311",
       "version_major": 2,
       "version_minor": 0
      },
      "text/plain": [
       "Canvas(toolbar=Toolbar(toolitems=[('Home', 'Reset original view', 'home', 'home'), ('Back', 'Back to previous …"
      ]
     },
     "metadata": {},
     "output_type": "display_data"
    }
   ],
   "source": [
    "sp = StatePlotter()\n",
    "sim.add_snapshot(sp)"
   ]
  },
  {
   "cell_type": "code",
   "execution_count": 34,
   "metadata": {},
   "outputs": [],
   "source": [
    "sp.ax.tick_params(axis='x', labelsize=5)"
   ]
  },
  {
   "cell_type": "code",
   "execution_count": 36,
   "metadata": {},
   "outputs": [],
   "source": [
    "sp.ax.set_yscale('linear')"
   ]
  },
  {
   "cell_type": "code",
   "execution_count": 28,
   "metadata": {},
   "outputs": [
    {
     "data": {
      "application/vnd.jupyter.widget-view+json": {
       "model_id": "281b0c3ba8854bdda77bbb5e2e2282e1",
       "version_major": 2,
       "version_minor": 0
      },
      "text/plain": [
       "interactive(children=(IntSlider(value=0, description='index', layout=Layout(width='100%'), max=200), Output())…"
      ]
     },
     "metadata": {},
     "output_type": "display_data"
    }
   ],
   "source": [
    "sim.run(20, 0.1)\n",
    "sim.snapshot_slider()"
   ]
  },
  {
   "cell_type": "code",
   "execution_count": 12,
   "metadata": {},
   "outputs": [],
   "source": [
    "sp.ax.set_yscale('symlog')"
   ]
  },
  {
   "cell_type": "code",
   "execution_count": 28,
   "metadata": {},
   "outputs": [],
   "source": [
    "sim.snapshots[0].ax.set_yscale('symlog')"
   ]
  },
  {
   "cell_type": "code",
   "execution_count": 13,
   "metadata": {},
   "outputs": [],
   "source": [
    "sim.run()"
   ]
  },
  {
   "cell_type": "code",
   "execution_count": 18,
   "metadata": {},
   "outputs": [
    {
     "data": {
      "text/html": [
       "<div>\n",
       "<style scoped>\n",
       "    .dataframe tbody tr th:only-of-type {\n",
       "        vertical-align: middle;\n",
       "    }\n",
       "\n",
       "    .dataframe tbody tr th {\n",
       "        vertical-align: top;\n",
       "    }\n",
       "\n",
       "    .dataframe thead th {\n",
       "        text-align: right;\n",
       "    }\n",
       "</style>\n",
       "<table border=\"1\" class=\"dataframe\">\n",
       "  <thead>\n",
       "    <tr style=\"text-align: right;\">\n",
       "      <th></th>\n",
       "      <th>0</th>\n",
       "      <th>1</th>\n",
       "      <th>2</th>\n",
       "      <th>3</th>\n",
       "      <th>4</th>\n",
       "      <th>5</th>\n",
       "      <th>6</th>\n",
       "      <th>7</th>\n",
       "      <th>8</th>\n",
       "      <th>9</th>\n",
       "      <th>...</th>\n",
       "      <th>41</th>\n",
       "      <th>42</th>\n",
       "      <th>43</th>\n",
       "      <th>44</th>\n",
       "      <th>45</th>\n",
       "      <th>46</th>\n",
       "      <th>47</th>\n",
       "      <th>48</th>\n",
       "      <th>49</th>\n",
       "      <th>50</th>\n",
       "    </tr>\n",
       "    <tr>\n",
       "      <th>time</th>\n",
       "      <th></th>\n",
       "      <th></th>\n",
       "      <th></th>\n",
       "      <th></th>\n",
       "      <th></th>\n",
       "      <th></th>\n",
       "      <th></th>\n",
       "      <th></th>\n",
       "      <th></th>\n",
       "      <th></th>\n",
       "      <th></th>\n",
       "      <th></th>\n",
       "      <th></th>\n",
       "      <th></th>\n",
       "      <th></th>\n",
       "      <th></th>\n",
       "      <th></th>\n",
       "      <th></th>\n",
       "      <th></th>\n",
       "      <th></th>\n",
       "      <th></th>\n",
       "    </tr>\n",
       "  </thead>\n",
       "  <tbody>\n",
       "    <tr>\n",
       "      <th>0.000000e+00</th>\n",
       "      <td>500000000</td>\n",
       "      <td>0</td>\n",
       "      <td>0</td>\n",
       "      <td>0</td>\n",
       "      <td>0</td>\n",
       "      <td>0</td>\n",
       "      <td>0</td>\n",
       "      <td>0</td>\n",
       "      <td>0</td>\n",
       "      <td>0</td>\n",
       "      <td>...</td>\n",
       "      <td>0</td>\n",
       "      <td>0</td>\n",
       "      <td>0</td>\n",
       "      <td>0</td>\n",
       "      <td>0</td>\n",
       "      <td>0</td>\n",
       "      <td>0</td>\n",
       "      <td>0</td>\n",
       "      <td>0</td>\n",
       "      <td>500000000</td>\n",
       "    </tr>\n",
       "    <tr>\n",
       "      <th>1.000067e+00</th>\n",
       "      <td>119270875</td>\n",
       "      <td>823520</td>\n",
       "      <td>1166625</td>\n",
       "      <td>5446071</td>\n",
       "      <td>2497691</td>\n",
       "      <td>2665469</td>\n",
       "      <td>17312945</td>\n",
       "      <td>8181000</td>\n",
       "      <td>5074008</td>\n",
       "      <td>9605471</td>\n",
       "      <td>...</td>\n",
       "      <td>9606911</td>\n",
       "      <td>5072745</td>\n",
       "      <td>8184406</td>\n",
       "      <td>17303573</td>\n",
       "      <td>2658181</td>\n",
       "      <td>2493866</td>\n",
       "      <td>5446067</td>\n",
       "      <td>1168722</td>\n",
       "      <td>823979</td>\n",
       "      <td>119275925</td>\n",
       "    </tr>\n",
       "    <tr>\n",
       "      <th>2.001296e+00</th>\n",
       "      <td>17976311</td>\n",
       "      <td>334331</td>\n",
       "      <td>551387</td>\n",
       "      <td>1900610</td>\n",
       "      <td>1416207</td>\n",
       "      <td>1876790</td>\n",
       "      <td>5849469</td>\n",
       "      <td>4419008</td>\n",
       "      <td>4728875</td>\n",
       "      <td>7078539</td>\n",
       "      <td>...</td>\n",
       "      <td>7084169</td>\n",
       "      <td>4728981</td>\n",
       "      <td>4418572</td>\n",
       "      <td>5846420</td>\n",
       "      <td>1875601</td>\n",
       "      <td>1416376</td>\n",
       "      <td>1903665</td>\n",
       "      <td>551621</td>\n",
       "      <td>333487</td>\n",
       "      <td>17978124</td>\n",
       "    </tr>\n",
       "    <tr>\n",
       "      <th>3.002960e+00</th>\n",
       "      <td>2464698</td>\n",
       "      <td>52675</td>\n",
       "      <td>91010</td>\n",
       "      <td>303162</td>\n",
       "      <td>254998</td>\n",
       "      <td>366882</td>\n",
       "      <td>1014449</td>\n",
       "      <td>918876</td>\n",
       "      <td>1150811</td>\n",
       "      <td>1800103</td>\n",
       "      <td>...</td>\n",
       "      <td>1799786</td>\n",
       "      <td>1153656</td>\n",
       "      <td>917635</td>\n",
       "      <td>1014660</td>\n",
       "      <td>365621</td>\n",
       "      <td>254239</td>\n",
       "      <td>301862</td>\n",
       "      <td>91255</td>\n",
       "      <td>52671</td>\n",
       "      <td>2462578</td>\n",
       "    </tr>\n",
       "    <tr>\n",
       "      <th>4.005906e+00</th>\n",
       "      <td>332228</td>\n",
       "      <td>7320</td>\n",
       "      <td>12534</td>\n",
       "      <td>41964</td>\n",
       "      <td>35754</td>\n",
       "      <td>52923</td>\n",
       "      <td>145019</td>\n",
       "      <td>137969</td>\n",
       "      <td>182867</td>\n",
       "      <td>300720</td>\n",
       "      <td>...</td>\n",
       "      <td>301860</td>\n",
       "      <td>183338</td>\n",
       "      <td>137560</td>\n",
       "      <td>143933</td>\n",
       "      <td>52961</td>\n",
       "      <td>35938</td>\n",
       "      <td>41344</td>\n",
       "      <td>12828</td>\n",
       "      <td>7167</td>\n",
       "      <td>331215</td>\n",
       "    </tr>\n",
       "    <tr>\n",
       "      <th>...</th>\n",
       "      <td>...</td>\n",
       "      <td>...</td>\n",
       "      <td>...</td>\n",
       "      <td>...</td>\n",
       "      <td>...</td>\n",
       "      <td>...</td>\n",
       "      <td>...</td>\n",
       "      <td>...</td>\n",
       "      <td>...</td>\n",
       "      <td>...</td>\n",
       "      <td>...</td>\n",
       "      <td>...</td>\n",
       "      <td>...</td>\n",
       "      <td>...</td>\n",
       "      <td>...</td>\n",
       "      <td>...</td>\n",
       "      <td>...</td>\n",
       "      <td>...</td>\n",
       "      <td>...</td>\n",
       "      <td>...</td>\n",
       "      <td>...</td>\n",
       "    </tr>\n",
       "    <tr>\n",
       "      <th>5.347354e+07</th>\n",
       "      <td>0</td>\n",
       "      <td>0</td>\n",
       "      <td>0</td>\n",
       "      <td>0</td>\n",
       "      <td>0</td>\n",
       "      <td>0</td>\n",
       "      <td>0</td>\n",
       "      <td>0</td>\n",
       "      <td>0</td>\n",
       "      <td>0</td>\n",
       "      <td>...</td>\n",
       "      <td>0</td>\n",
       "      <td>0</td>\n",
       "      <td>0</td>\n",
       "      <td>0</td>\n",
       "      <td>0</td>\n",
       "      <td>0</td>\n",
       "      <td>0</td>\n",
       "      <td>0</td>\n",
       "      <td>0</td>\n",
       "      <td>0</td>\n",
       "    </tr>\n",
       "    <tr>\n",
       "      <th>5.358760e+07</th>\n",
       "      <td>0</td>\n",
       "      <td>0</td>\n",
       "      <td>0</td>\n",
       "      <td>0</td>\n",
       "      <td>0</td>\n",
       "      <td>0</td>\n",
       "      <td>0</td>\n",
       "      <td>0</td>\n",
       "      <td>0</td>\n",
       "      <td>0</td>\n",
       "      <td>...</td>\n",
       "      <td>0</td>\n",
       "      <td>0</td>\n",
       "      <td>0</td>\n",
       "      <td>0</td>\n",
       "      <td>0</td>\n",
       "      <td>0</td>\n",
       "      <td>0</td>\n",
       "      <td>0</td>\n",
       "      <td>0</td>\n",
       "      <td>0</td>\n",
       "    </tr>\n",
       "    <tr>\n",
       "      <th>7.028421e+07</th>\n",
       "      <td>0</td>\n",
       "      <td>0</td>\n",
       "      <td>0</td>\n",
       "      <td>0</td>\n",
       "      <td>0</td>\n",
       "      <td>0</td>\n",
       "      <td>0</td>\n",
       "      <td>0</td>\n",
       "      <td>0</td>\n",
       "      <td>0</td>\n",
       "      <td>...</td>\n",
       "      <td>0</td>\n",
       "      <td>0</td>\n",
       "      <td>0</td>\n",
       "      <td>0</td>\n",
       "      <td>0</td>\n",
       "      <td>0</td>\n",
       "      <td>0</td>\n",
       "      <td>0</td>\n",
       "      <td>0</td>\n",
       "      <td>0</td>\n",
       "    </tr>\n",
       "    <tr>\n",
       "      <th>7.733692e+07</th>\n",
       "      <td>0</td>\n",
       "      <td>0</td>\n",
       "      <td>0</td>\n",
       "      <td>0</td>\n",
       "      <td>0</td>\n",
       "      <td>0</td>\n",
       "      <td>0</td>\n",
       "      <td>0</td>\n",
       "      <td>0</td>\n",
       "      <td>0</td>\n",
       "      <td>...</td>\n",
       "      <td>0</td>\n",
       "      <td>0</td>\n",
       "      <td>0</td>\n",
       "      <td>0</td>\n",
       "      <td>0</td>\n",
       "      <td>0</td>\n",
       "      <td>0</td>\n",
       "      <td>0</td>\n",
       "      <td>0</td>\n",
       "      <td>0</td>\n",
       "    </tr>\n",
       "    <tr>\n",
       "      <th>7.733692e+07</th>\n",
       "      <td>0</td>\n",
       "      <td>0</td>\n",
       "      <td>0</td>\n",
       "      <td>0</td>\n",
       "      <td>0</td>\n",
       "      <td>0</td>\n",
       "      <td>0</td>\n",
       "      <td>0</td>\n",
       "      <td>0</td>\n",
       "      <td>0</td>\n",
       "      <td>...</td>\n",
       "      <td>0</td>\n",
       "      <td>0</td>\n",
       "      <td>0</td>\n",
       "      <td>0</td>\n",
       "      <td>0</td>\n",
       "      <td>0</td>\n",
       "      <td>0</td>\n",
       "      <td>0</td>\n",
       "      <td>0</td>\n",
       "      <td>0</td>\n",
       "    </tr>\n",
       "  </tbody>\n",
       "</table>\n",
       "<p>35006 rows × 51 columns</p>\n",
       "</div>"
      ],
      "text/plain": [
       "                      0       1        2        3        4        5         6  \\\n",
       "time                                                                            \n",
       "0.000000e+00  500000000       0        0        0        0        0         0   \n",
       "1.000067e+00  119270875  823520  1166625  5446071  2497691  2665469  17312945   \n",
       "2.001296e+00   17976311  334331   551387  1900610  1416207  1876790   5849469   \n",
       "3.002960e+00    2464698   52675    91010   303162   254998   366882   1014449   \n",
       "4.005906e+00     332228    7320    12534    41964    35754    52923    145019   \n",
       "...                 ...     ...      ...      ...      ...      ...       ...   \n",
       "5.347354e+07          0       0        0        0        0        0         0   \n",
       "5.358760e+07          0       0        0        0        0        0         0   \n",
       "7.028421e+07          0       0        0        0        0        0         0   \n",
       "7.733692e+07          0       0        0        0        0        0         0   \n",
       "7.733692e+07          0       0        0        0        0        0         0   \n",
       "\n",
       "                    7        8        9  ...       41       42       43  \\\n",
       "time                                     ...                              \n",
       "0.000000e+00        0        0        0  ...        0        0        0   \n",
       "1.000067e+00  8181000  5074008  9605471  ...  9606911  5072745  8184406   \n",
       "2.001296e+00  4419008  4728875  7078539  ...  7084169  4728981  4418572   \n",
       "3.002960e+00   918876  1150811  1800103  ...  1799786  1153656   917635   \n",
       "4.005906e+00   137969   182867   300720  ...   301860   183338   137560   \n",
       "...               ...      ...      ...  ...      ...      ...      ...   \n",
       "5.347354e+07        0        0        0  ...        0        0        0   \n",
       "5.358760e+07        0        0        0  ...        0        0        0   \n",
       "7.028421e+07        0        0        0  ...        0        0        0   \n",
       "7.733692e+07        0        0        0  ...        0        0        0   \n",
       "7.733692e+07        0        0        0  ...        0        0        0   \n",
       "\n",
       "                    44       45       46       47       48      49         50  \n",
       "time                                                                           \n",
       "0.000000e+00         0        0        0        0        0       0  500000000  \n",
       "1.000067e+00  17303573  2658181  2493866  5446067  1168722  823979  119275925  \n",
       "2.001296e+00   5846420  1875601  1416376  1903665   551621  333487   17978124  \n",
       "3.002960e+00   1014660   365621   254239   301862    91255   52671    2462578  \n",
       "4.005906e+00    143933    52961    35938    41344    12828    7167     331215  \n",
       "...                ...      ...      ...      ...      ...     ...        ...  \n",
       "5.347354e+07         0        0        0        0        0       0          0  \n",
       "5.358760e+07         0        0        0        0        0       0          0  \n",
       "7.028421e+07         0        0        0        0        0       0          0  \n",
       "7.733692e+07         0        0        0        0        0       0          0  \n",
       "7.733692e+07         0        0        0        0        0       0          0  \n",
       "\n",
       "[35006 rows x 51 columns]"
      ]
     },
     "execution_count": 18,
     "metadata": {},
     "output_type": "execute_result"
    }
   ],
   "source": [
    "sim.history"
   ]
  },
  {
   "cell_type": "code",
   "execution_count": 9,
   "metadata": {},
   "outputs": [],
   "source": [
    "def self_stabilizing_clock(a, b, m, p=1):\n",
    "    # states a, b in (0, ..., m-1, 'N')\n",
    "    if a in range(m) and b in range(m):\n",
    "        # drip reaction\n",
    "        if a == b:\n",
    "            return {((a + 1) % m, b): p}\n",
    "        # epidemic reaction\n",
    "        elif (a + 1) % m == b:\n",
    "            return b, b\n",
    "        elif (b + 1) % m == a:\n",
    "            return a, a\n",
    "        # clipping reaction\n",
    "        else:\n",
    "            return 'N', 'N'\n",
    "    # recovery epidemic reactions\n",
    "    elif a == 'N':\n",
    "        return b, b\n",
    "    elif b == 'N':\n",
    "        return a, a\n",
    "    \n",
    "m = 12\n",
    "n = 10 ** 9\n",
    "sim = Simulation({i: n // m for i in range(m)}, self_stabilizing_clock, m=m)\n",
    "sim.add_snapshot(StatePlotter())\n",
    "sim.add_snapshot(HistoryPlotter())"
   ]
  },
  {
   "cell_type": "code",
   "execution_count": null,
   "metadata": {},
   "outputs": [],
   "source": []
  }
 ],
 "metadata": {
  "kernelspec": {
   "display_name": "Python 3",
   "language": "python",
   "name": "python3"
  },
  "language_info": {
   "codemirror_mode": {
    "name": "ipython",
    "version": 3
   },
   "file_extension": ".py",
   "mimetype": "text/x-python",
   "name": "python",
   "nbconvert_exporter": "python",
   "pygments_lexer": "ipython3",
   "version": "3.7.3"
  }
 },
 "nbformat": 4,
 "nbformat_minor": 4
}
