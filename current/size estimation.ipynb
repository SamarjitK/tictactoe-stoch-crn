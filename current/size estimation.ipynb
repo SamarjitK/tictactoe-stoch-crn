{
 "cells": [
  {
   "cell_type": "code",
   "execution_count": 1,
   "id": "rental-departure",
   "metadata": {},
   "outputs": [],
   "source": [
    "from ppsim import Simulation, StatePlotter, HistoryPlotter\n",
    "from dataclasses import dataclass\n",
    "import dataclasses\n",
    "import numpy as np\n",
    "from matplotlib import pyplot as plt\n",
    "import ipywidgets as widgets\n",
    "%matplotlib widget"
   ]
  },
  {
   "cell_type": "code",
   "execution_count": 36,
   "id": "likely-trance",
   "metadata": {},
   "outputs": [],
   "source": [
    "def make_display(sim, state_map = None):\n",
    "    sp, hp = StatePlotter(state_map = state_map), HistoryPlotter()\n",
    "    plt.ioff()\n",
    "    sim.add_snapshot(sp)\n",
    "#     sim.add_snapshot(hp)\n",
    "    \n",
    "\n",
    "    sim.layout = widgets.AppLayout(\n",
    "        pane_heights = [1,10,1],\n",
    "        center=sp.fig.canvas\n",
    "#         right_sidebar=hp.fig.canvas\n",
    "    )\n",
    "    plt.ion()\n",
    "    display(sim.layout)\n",
    "    def set_yscale(yscale):\n",
    "        for snap in sim.snapshots:\n",
    "            if hasattr(snap, 'ax'):\n",
    "                snap.ax.set_yscale(yscale)\n",
    "                snap.update()\n",
    "\n",
    "    yscale_button = widgets.interactive(set_yscale, yscale=widgets.ToggleButtons(options=['linear', 'symlog'], description = 'y scale:'))\n",
    "    sim.layout.header=yscale_button\n",
    "    sim.pane_heights = [1,10]\n",
    "    \n",
    "def add_time_bar(sim):\n",
    "    time_bar = widgets.interactive(sim.set_snapshot_time, time=widgets.FloatSlider(min=sim.times[0], max=sim.times[-1], layout=widgets.Layout(width='100%'), step=0.01))\n",
    "    sim.layout.footer=time_bar\n",
    "    \n",
    "def add_index_bar(sim):\n",
    "    index_bar = widgets.interactive(sim.set_snapshot_index, index=widgets.IntSlider(min=0, max=len(sim.times)-1, layout=widgets.Layout(width='100%'), step=1))\n",
    "    sim.layout.footer=index_bar"
   ]
  },
  {
   "cell_type": "code",
   "execution_count": 41,
   "id": "tight-formula",
   "metadata": {},
   "outputs": [],
   "source": [
    "@dataclass(unsafe_hash = True)\n",
    "class Agent:\n",
    "    g: int = 0\n",
    "    log: int = 0\n",
    "    counter: int = 0\n",
    "    def __str__(self):\n",
    "        return str(self.g) + ',' + str(self.log)\n",
    "    \n",
    "def stationary(a, b, bound):\n",
    "    return min(a + 1, bound), 0\n",
    "\n",
    "def estimate_size(a: Agent, b: Agent, bound):\n",
    "    a, b = dataclasses.replace(a), dataclasses.replace(b)\n",
    "    a.g, b.g = min(a.g + 1, bound), 0\n",
    "    for i in [a,b]:\n",
    "        if i.log + 1 in (a.g, b.g, a.log, b.log):\n",
    "            i.log += 1\n",
    "    return a, b"
   ]
  },
  {
   "cell_type": "code",
   "execution_count": 64,
   "id": "allied-pressure",
   "metadata": {},
   "outputs": [],
   "source": [
    "n = 10 ** 6\n",
    "sim = Simulation({(0,0): n}, fast_estimate_size, bound = 30)"
   ]
  },
  {
   "cell_type": "code",
   "execution_count": 65,
   "id": "hundred-flood",
   "metadata": {},
   "outputs": [],
   "source": [
    "n = 10 ** 6\n",
    "sim = Simulation({Agent(): n}, estimate_size, bound = 30)"
   ]
  },
  {
   "cell_type": "code",
   "execution_count": 51,
   "id": "marine-homeless",
   "metadata": {},
   "outputs": [
    {
     "data": {
      "text/plain": [
       "{Agent(g=0, log=1): 320,\n",
       " Agent(g=0, log=2): 6433,\n",
       " Agent(g=0, log=3): 23008,\n",
       " Agent(g=0, log=4): 28459,\n",
       " Agent(g=0, log=5): 30164,\n",
       " Agent(g=0, log=6): 183351,\n",
       " Agent(g=0, log=7): 205363,\n",
       " Agent(g=0, log=8): 16186,\n",
       " Agent(g=0, log=9): 3555,\n",
       " Agent(g=0, log=10): 1562,\n",
       " Agent(g=0, log=11): 672,\n",
       " Agent(g=0, log=12): 296,\n",
       " Agent(g=0, log=13): 149,\n",
       " Agent(g=0, log=14): 50,\n",
       " Agent(g=0, log=15): 21,\n",
       " Agent(g=0, log=16): 13,\n",
       " Agent(g=0, log=17): 3,\n",
       " Agent(g=0, log=18): 3,\n",
       " Agent(g=0, log=20): 1,\n",
       " Agent(g=1, log=1): 236,\n",
       " Agent(g=1, log=2): 3783,\n",
       " Agent(g=1, log=3): 11937,\n",
       " Agent(g=1, log=4): 14130,\n",
       " Agent(g=1, log=5): 14516,\n",
       " Agent(g=1, log=6): 92233,\n",
       " Agent(g=1, log=7): 102385,\n",
       " Agent(g=1, log=8): 7737,\n",
       " Agent(g=1, log=9): 1638,\n",
       " Agent(g=1, log=10): 708,\n",
       " Agent(g=1, log=11): 286,\n",
       " Agent(g=1, log=12): 132,\n",
       " Agent(g=1, log=13): 75,\n",
       " Agent(g=1, log=14): 36,\n",
       " Agent(g=1, log=15): 8,\n",
       " Agent(g=1, log=16): 7,\n",
       " Agent(g=1, log=17): 5,\n",
       " Agent(g=1, log=19): 2,\n",
       " Agent(g=2, log=2): 2336,\n",
       " Agent(g=2, log=3): 6283,\n",
       " Agent(g=2, log=4): 6874,\n",
       " Agent(g=2, log=5): 7297,\n",
       " Agent(g=2, log=6): 46419,\n",
       " Agent(g=2, log=7): 51013,\n",
       " Agent(g=2, log=8): 3731,\n",
       " Agent(g=2, log=9): 819,\n",
       " Agent(g=2, log=10): 335,\n",
       " Agent(g=2, log=11): 153,\n",
       " Agent(g=2, log=12): 46,\n",
       " Agent(g=2, log=13): 28,\n",
       " Agent(g=2, log=14): 20,\n",
       " Agent(g=2, log=15): 10,\n",
       " Agent(g=2, log=16): 3,\n",
       " Agent(g=3, log=3): 4487,\n",
       " Agent(g=3, log=4): 3377,\n",
       " Agent(g=3, log=5): 3667,\n",
       " Agent(g=3, log=6): 23056,\n",
       " Agent(g=3, log=7): 25617,\n",
       " Agent(g=3, log=8): 1819,\n",
       " Agent(g=3, log=9): 323,\n",
       " Agent(g=3, log=10): 144,\n",
       " Agent(g=3, log=11): 60,\n",
       " Agent(g=3, log=12): 34,\n",
       " Agent(g=3, log=13): 19,\n",
       " Agent(g=3, log=14): 5,\n",
       " Agent(g=3, log=15): 4,\n",
       " Agent(g=3, log=17): 1,\n",
       " Agent(g=3, log=18): 2,\n",
       " Agent(g=4, log=4): 4042,\n",
       " Agent(g=4, log=5): 1844,\n",
       " Agent(g=4, log=6): 11660,\n",
       " Agent(g=4, log=7): 12804,\n",
       " Agent(g=4, log=8): 868,\n",
       " Agent(g=4, log=9): 166,\n",
       " Agent(g=4, log=10): 54,\n",
       " Agent(g=4, log=11): 32,\n",
       " Agent(g=4, log=12): 12,\n",
       " Agent(g=4, log=13): 2,\n",
       " Agent(g=4, log=16): 1,\n",
       " Agent(g=5, log=5): 3011,\n",
       " Agent(g=5, log=6): 5556,\n",
       " Agent(g=5, log=7): 6316,\n",
       " Agent(g=5, log=8): 384,\n",
       " Agent(g=5, log=9): 61,\n",
       " Agent(g=5, log=10): 28,\n",
       " Agent(g=5, log=11): 5,\n",
       " Agent(g=5, log=12): 5,\n",
       " Agent(g=5, log=13): 1,\n",
       " Agent(g=5, log=14): 1,\n",
       " Agent(g=6, log=6): 4432,\n",
       " Agent(g=6, log=7): 3079,\n",
       " Agent(g=6, log=8): 190,\n",
       " Agent(g=6, log=9): 32,\n",
       " Agent(g=6, log=10): 14,\n",
       " Agent(g=6, log=11): 7,\n",
       " Agent(g=6, log=12): 1,\n",
       " Agent(g=6, log=14): 1,\n",
       " Agent(g=7, log=7): 3828,\n",
       " Agent(g=7, log=8): 92,\n",
       " Agent(g=7, log=9): 22,\n",
       " Agent(g=7, log=10): 4,\n",
       " Agent(g=7, log=12): 2,\n",
       " Agent(g=7, log=13): 1,\n",
       " Agent(g=8, log=8): 2002,\n",
       " Agent(g=8, log=9): 3,\n",
       " Agent(g=8, log=10): 7,\n",
       " Agent(g=8, log=11): 1,\n",
       " Agent(g=8, log=13): 2,\n",
       " Agent(g=9, log=9): 972,\n",
       " Agent(g=9, log=10): 1,\n",
       " Agent(g=9, log=11): 1,\n",
       " Agent(g=9, log=13): 1,\n",
       " Agent(g=10, log=10): 467,\n",
       " Agent(g=11, log=11): 256,\n",
       " Agent(g=12, log=12): 146,\n",
       " Agent(g=13, log=13): 70,\n",
       " Agent(g=14, log=14): 34,\n",
       " Agent(g=15, log=15): 17,\n",
       " Agent(g=16, log=16): 11,\n",
       " Agent(g=17, log=17): 3,\n",
       " Agent(g=18, log=18): 1,\n",
       " Agent(g=19, log=19): 1,\n",
       " Agent(g=20, log=20): 1}"
      ]
     },
     "execution_count": 51,
     "metadata": {},
     "output_type": "execute_result"
    }
   ],
   "source": [
    "sim.config_dict"
   ]
  },
  {
   "cell_type": "code",
   "execution_count": 67,
   "id": "common-congo",
   "metadata": {},
   "outputs": [],
   "source": [
    "sim.run(30, 0.1)\n",
    "add_index_bar(sim)"
   ]
  },
  {
   "cell_type": "code",
   "execution_count": 66,
   "id": "freelance-gasoline",
   "metadata": {},
   "outputs": [
    {
     "data": {
      "application/vnd.jupyter.widget-view+json": {
       "model_id": "422179ac3bc84e87bb124872b3379907",
       "version_major": 2,
       "version_minor": 0
      },
      "text/plain": [
       "AppLayout(children=(Canvas(layout=Layout(grid_area='center'), toolbar=Toolbar(toolitems=[('Home', 'Reset origi…"
      ]
     },
     "metadata": {},
     "output_type": "display_data"
    }
   ],
   "source": [
    "make_display(sim, lambda x: x.g)\n",
    "add_index_bar(sim)"
   ]
  },
  {
   "cell_type": "code",
   "execution_count": 9,
   "id": "sized-seeking",
   "metadata": {},
   "outputs": [],
   "source": [
    "sim.run(100, 0.1)\n",
    "sim.set_config({0: 1000})\n",
    "sim.run(100, 0.1)\n",
    "sim.set_config(sim.config_array * 1000)\n",
    "sim.run(100, 0.1)\n",
    "add_index_bar(sim)"
   ]
  },
  {
   "cell_type": "code",
   "execution_count": 6,
   "id": "dress-local",
   "metadata": {},
   "outputs": [],
   "source": [
    "sim.set_config(sim.config_array // 1000)"
   ]
  },
  {
   "cell_type": "code",
   "execution_count": 47,
   "id": "aware-street",
   "metadata": {},
   "outputs": [
    {
     "data": {
      "text/plain": [
       "array([1000, 1000, 1000, 1000, 1000, 1000, 1000, 1000, 1000, 1000],\n",
       "      dtype=int64)"
      ]
     },
     "execution_count": 47,
     "metadata": {},
     "output_type": "execute_result"
    }
   ],
   "source": [
    "a = np.ones(10, dtype=np.int64) * 1000\n",
    "a"
   ]
  },
  {
   "cell_type": "code",
   "execution_count": 49,
   "id": "crazy-louisiana",
   "metadata": {},
   "outputs": [
    {
     "data": {
      "text/plain": [
       "array([2, 2, 2, 2, 2, 2, 2, 2, 2, 2], dtype=int64)"
      ]
     },
     "execution_count": 49,
     "metadata": {},
     "output_type": "execute_result"
    }
   ],
   "source": [
    "a // 340"
   ]
  },
  {
   "cell_type": "code",
   "execution_count": 19,
   "id": "hydraulic-uniform",
   "metadata": {},
   "outputs": [],
   "source": [
    "c = 20\n",
    "n = 10 ** 10\n",
    "d = 10 ** -3\n",
    "init_config = {Agent(level = c, fixed = True): int(d * n) , Agent(level = c, fixed = False): int((1 - d) * n)}\n",
    "sim = Simulation(init_config, detection_epidemic, c = c)"
   ]
  },
  {
   "cell_type": "code",
   "execution_count": 20,
   "id": "elegant-cliff",
   "metadata": {},
   "outputs": [
    {
     "data": {
      "application/vnd.jupyter.widget-view+json": {
       "model_id": "bace98346484457bb96337aea7601030",
       "version_major": 2,
       "version_minor": 0
      },
      "text/plain": [
       "AppLayout(children=(Canvas(layout=Layout(grid_area='center'), toolbar=Toolbar(toolitems=[('Home', 'Reset origi…"
      ]
     },
     "metadata": {},
     "output_type": "display_data"
    }
   ],
   "source": [
    "make_display(sim)"
   ]
  },
  {
   "cell_type": "code",
   "execution_count": 22,
   "id": "hybrid-birth",
   "metadata": {},
   "outputs": [],
   "source": [
    "sim.run(20, 0.1)\n",
    "add_index_bar(sim)"
   ]
  },
  {
   "cell_type": "code",
   "execution_count": null,
   "id": "british-commercial",
   "metadata": {},
   "outputs": [],
   "source": []
  }
 ],
 "metadata": {
  "kernelspec": {
   "display_name": "Python 3",
   "language": "python",
   "name": "python3"
  },
  "language_info": {
   "codemirror_mode": {
    "name": "ipython",
    "version": 3
   },
   "file_extension": ".py",
   "mimetype": "text/x-python",
   "name": "python",
   "nbconvert_exporter": "python",
   "pygments_lexer": "ipython3",
   "version": "3.7.3"
  }
 },
 "nbformat": 4,
 "nbformat_minor": 5
}
