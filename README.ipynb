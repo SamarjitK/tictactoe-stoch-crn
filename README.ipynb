{
 "cells": [
  {
   "cell_type": "markdown",
   "id": "foster-luther",
   "metadata": {},
   "source": [
    "# ppsim Python package\n",
    "\n",
    "The `ppsim` package is used for simulating population protocols. The package and further example notebooks can be found on [Github](https://github.com/UC-Davis-molecular-computing/ppsim).\n",
    "\n",
    "The core of the simulator uses a [batching algorithm](https://arxiv.org/abs/2005.03584) which gives significant asymptotic gains for protocols with relatively small reachable state sets. The package is designed to be run in a Python notebook, to concisely describe complex protocols, efficiently simulate their dynamics, and provide helpful visualization of the simulation.\n",
    "\n",
    "## Installation\n",
    "\n",
    "The package can be installed with `pip` via"
   ]
  },
  {
   "cell_type": "code",
   "execution_count": null,
   "id": "ancient-electron",
   "metadata": {
    "tags": []
   },
   "outputs": [],
   "source": [
    "pip install ppsim"
   ]
  },
  {
   "cell_type": "markdown",
   "id": "loaded-bones",
   "metadata": {},
   "source": [
    "The most important part of the package is the `Simulation` class, which is responsible for parsing a protocol, performing the simulation, and giving data about the simulation."
   ]
  },
  {
   "cell_type": "code",
   "execution_count": 1,
   "id": "regulation-pledge",
   "metadata": {},
   "outputs": [],
   "source": [
    "from ppsim import Simulation"
   ]
  },
  {
   "cell_type": "markdown",
   "id": "transparent-newsletter",
   "metadata": {},
   "source": [
    "## Example protocol\n",
    "\n",
    "A state can be any hashable Python object. The simplest way to describe a protocol is a dictionary mapping pairs of input states to pairs of output states.\n",
    "For example, here is a description of the classic 3-state [approximate majority protocol](http://www.cs.yale.edu/homes/aspnes/papers/approximate-majority-journal.pdf). There are two initial states `A` and `B`, and the protocol converges with high probability to the majority state with the help of a third \"undecided\" state `U`."
   ]
  },
  {
   "cell_type": "code",
   "execution_count": 2,
   "id": "ignored-classroom",
   "metadata": {},
   "outputs": [],
   "source": [
    "a, b, u = 'A', 'B', 'U'\n",
    "approximate_majority = {\n",
    "    (a,b): (u,u),\n",
    "    (a,u): (a,a),\n",
    "    (b,u): (b,b)\n",
    "}"
   ]
  },
  {
   "cell_type": "markdown",
   "id": "meaningful-contrast",
   "metadata": {},
   "source": [
    "## Example Simulation\n",
    "\n",
    "To instantiate a `Simulation`, we must specify a protocol along with an initial condition, which is a dictionary mapping states to counts. Let's simulate approximate majority with in a population of one billion agents with a slight majority of `A` agents."
   ]
  },
  {
   "cell_type": "code",
   "execution_count": 3,
   "id": "secret-soldier",
   "metadata": {},
   "outputs": [],
   "source": [
    "n = 10 ** 9\n",
    "init_config = {a: 0.501 * n, b: 0.499 * n}\n",
    "sim = Simulation(init_config, approximate_majority)"
   ]
  },
  {
   "cell_type": "markdown",
   "id": "graduate-madonna",
   "metadata": {},
   "source": [
    "Now let's run this simulation for `10` units of parallel time (`10 * n` interactions). We will record the configuration every `0.1` units of time."
   ]
  },
  {
   "cell_type": "code",
   "execution_count": 4,
   "id": "subsequent-bahamas",
   "metadata": {},
   "outputs": [
    {
     "name": "stdout",
     "output_type": "stream",
     "text": [
      " Time: 10.000\n"
     ]
    }
   ],
   "source": [
    "sim.run(10, 0.1)"
   ]
  },
  {
   "cell_type": "markdown",
   "id": "imposed-panama",
   "metadata": {},
   "source": [
    "The `Simulation` class can display all these configurations in a `pandas` dataframe in the attribute `history`."
   ]
  },
  {
   "cell_type": "code",
   "execution_count": 5,
   "id": "posted-plant",
   "metadata": {},
   "outputs": [
    {
     "data": {
      "text/html": [
       "<div>\n",
       "<style scoped>\n",
       "    .dataframe tbody tr th:only-of-type {\n",
       "        vertical-align: middle;\n",
       "    }\n",
       "\n",
       "    .dataframe tbody tr th {\n",
       "        vertical-align: top;\n",
       "    }\n",
       "\n",
       "    .dataframe thead th {\n",
       "        text-align: right;\n",
       "    }\n",
       "</style>\n",
       "<table border=\"1\" class=\"dataframe\">\n",
       "  <thead>\n",
       "    <tr style=\"text-align: right;\">\n",
       "      <th></th>\n",
       "      <th>A</th>\n",
       "      <th>B</th>\n",
       "      <th>U</th>\n",
       "    </tr>\n",
       "    <tr>\n",
       "      <th>time (n interactions)</th>\n",
       "      <th></th>\n",
       "      <th></th>\n",
       "      <th></th>\n",
       "    </tr>\n",
       "  </thead>\n",
       "  <tbody>\n",
       "    <tr>\n",
       "      <th>0.0</th>\n",
       "      <td>501000000</td>\n",
       "      <td>499000000</td>\n",
       "      <td>0</td>\n",
       "    </tr>\n",
       "    <tr>\n",
       "      <th>0.1</th>\n",
       "      <td>459457762</td>\n",
       "      <td>457439751</td>\n",
       "      <td>83102487</td>\n",
       "    </tr>\n",
       "    <tr>\n",
       "      <th>0.2</th>\n",
       "      <td>430276789</td>\n",
       "      <td>428217565</td>\n",
       "      <td>141505646</td>\n",
       "    </tr>\n",
       "    <tr>\n",
       "      <th>0.3</th>\n",
       "      <td>409027376</td>\n",
       "      <td>406898254</td>\n",
       "      <td>184074370</td>\n",
       "    </tr>\n",
       "    <tr>\n",
       "      <th>0.4</th>\n",
       "      <td>393162729</td>\n",
       "      <td>390949934</td>\n",
       "      <td>215887337</td>\n",
       "    </tr>\n",
       "    <tr>\n",
       "      <th>...</th>\n",
       "      <td>...</td>\n",
       "      <td>...</td>\n",
       "      <td>...</td>\n",
       "    </tr>\n",
       "    <tr>\n",
       "      <th>9.7</th>\n",
       "      <td>771074143</td>\n",
       "      <td>55357812</td>\n",
       "      <td>173568045</td>\n",
       "    </tr>\n",
       "    <tr>\n",
       "      <th>9.8</th>\n",
       "      <td>789103074</td>\n",
       "      <td>48973925</td>\n",
       "      <td>161923001</td>\n",
       "    </tr>\n",
       "    <tr>\n",
       "      <th>9.9</th>\n",
       "      <td>806667929</td>\n",
       "      <td>43076383</td>\n",
       "      <td>150255688</td>\n",
       "    </tr>\n",
       "    <tr>\n",
       "      <th>10.0</th>\n",
       "      <td>823641388</td>\n",
       "      <td>37668547</td>\n",
       "      <td>138690065</td>\n",
       "    </tr>\n",
       "    <tr>\n",
       "      <th>10.0</th>\n",
       "      <td>823641389</td>\n",
       "      <td>37668547</td>\n",
       "      <td>138690064</td>\n",
       "    </tr>\n",
       "  </tbody>\n",
       "</table>\n",
       "<p>102 rows × 3 columns</p>\n",
       "</div>"
      ],
      "text/plain": [
       "                               A          B          U\n",
       "time (n interactions)                                 \n",
       "0.0                    501000000  499000000          0\n",
       "0.1                    459457762  457439751   83102487\n",
       "0.2                    430276789  428217565  141505646\n",
       "0.3                    409027376  406898254  184074370\n",
       "0.4                    393162729  390949934  215887337\n",
       "...                          ...        ...        ...\n",
       "9.7                    771074143   55357812  173568045\n",
       "9.8                    789103074   48973925  161923001\n",
       "9.9                    806667929   43076383  150255688\n",
       "10.0                   823641388   37668547  138690065\n",
       "10.0                   823641389   37668547  138690064\n",
       "\n",
       "[102 rows x 3 columns]"
      ]
     },
     "execution_count": 5,
     "metadata": {},
     "output_type": "execute_result"
    }
   ],
   "source": [
    "sim.history"
   ]
  },
  {
   "cell_type": "code",
   "execution_count": 6,
   "id": "endangered-slovak",
   "metadata": {},
   "outputs": [
    {
     "data": {
      "image/png": "[encoded data removed]",
      "text/plain": [
       "<Figure size 432x288 with 1 Axes>"
      ]
     },
     "metadata": {
      "needs_background": "light"
     },
     "output_type": "display_data"
    }
   ],
   "source": [
    "p = sim.history.plot()"
   ]
  },
  {
   "cell_type": "markdown",
   "id": "harmful-interface",
   "metadata": {},
   "source": [
    "Without specifying an end time, `run` will run the simulation until the configuration is silent (all interactions are null). In this case, that will be when the protocol reaches a silent majority consensus configuration."
   ]
  },
  {
   "cell_type": "code",
   "execution_count": 7,
   "id": "veterinary-catch",
   "metadata": {},
   "outputs": [
    {
     "name": "stdout",
     "output_type": "stream",
     "text": [
      " Time: 21.000\n"
     ]
    },
    {
     "data": {
      "image/png": "[encoded data removed]",
      "text/plain": [
       "<Figure size 432x288 with 1 Axes>"
      ]
     },
     "metadata": {
      "needs_background": "light"
     },
     "output_type": "display_data"
    }
   ],
   "source": [
    "sim.run()\n",
    "p = sim.history.plot()"
   ]
  },
  {
   "cell_type": "markdown",
   "id": "first-gambling",
   "metadata": {},
   "source": [
    "Note that by default, `Simulation` assumes that input pair `(b,a)` will have the same transition as `(a,b)`, so order doesn't matter, with the default setting `transition_order = 'symmetric'`.\n",
    "Thus we have the exact same protocol as if we had spent more time explicitly specifying"
   ]
  },
  {
   "cell_type": "code",
   "execution_count": 8,
   "id": "occupied-helping",
   "metadata": {},
   "outputs": [],
   "source": [
    "approximate_majority_symmetric = {\n",
    "    (a,b): (u,u), (b,a): (u,u),\n",
    "    (a,u): (a,a), (u,a): (a,a),\n",
    "    (b,u): (b,b), (u,b): (b,b)\n",
    "}"
   ]
  },
  {
   "cell_type": "markdown",
   "id": "subject-timer",
   "metadata": {},
   "source": [
    "If we intentionally meant for these pairwise transitions to only happen in this specified order, we can declare that. We see in this case that it has the same behavior, but just runs twice as slow because now every interaction must happen in a specified order."
   ]
  },
  {
   "cell_type": "code",
   "execution_count": 9,
   "id": "annoying-exclusive",
   "metadata": {},
   "outputs": [
    {
     "name": "stdout",
     "output_type": "stream",
     "text": [
      "A, B  -->  U, U      with probability 0.5\n",
      "A, U  -->  A, A      with probability 0.5\n",
      "B, U  -->  B, B      with probability 0.5\n",
      " Time: 44.000\n"
     ]
    },
    {
     "data": {
      "image/png": "[encoded data removed]",
      "text/plain": [
       "<Figure size 432x288 with 1 Axes>"
      ]
     },
     "metadata": {
      "needs_background": "light"
     },
     "output_type": "display_data"
    }
   ],
   "source": [
    "sim = Simulation(init_config, approximate_majority, transition_order='asymmetric')\n",
    "print(sim.reactions)\n",
    "sim.run()\n",
    "p = sim.history.plot()"
   ]
  },
  {
   "cell_type": "markdown",
   "id": "comfortable-mortgage",
   "metadata": {},
   "source": [
    "A key result about this protocol is it converges in expected O(log n) time, which surprisingly is very nontrivial to prove. We can use this package to very quickly gather some convincing data that the convergence really is O(log n) time, with the function `time_trials`."
   ]
  },
  {
   "cell_type": "code",
   "execution_count": 10,
   "id": "consistent-stone",
   "metadata": {},
   "outputs": [
    {
     "data": {
      "application/vnd.jupyter.widget-view+json": {
       "model_id": "f77cc0d9452b492a8502a283a2728fe0",
       "version_major": 2,
       "version_minor": 0
      },
      "text/plain": [
       "  0%|          | 0/20 [00:00<?, ?it/s]"
      ]
     },
     "metadata": {},
     "output_type": "display_data"
    },
    {
     "data": {
      "text/html": [
       "<div>\n",
       "<style scoped>\n",
       "    .dataframe tbody tr th:only-of-type {\n",
       "        vertical-align: middle;\n",
       "    }\n",
       "\n",
       "    .dataframe tbody tr th {\n",
       "        vertical-align: top;\n",
       "    }\n",
       "\n",
       "    .dataframe thead th {\n",
       "        text-align: right;\n",
       "    }\n",
       "</style>\n",
       "<table border=\"1\" class=\"dataframe\">\n",
       "  <thead>\n",
       "    <tr style=\"text-align: right;\">\n",
       "      <th></th>\n",
       "      <th>n</th>\n",
       "      <th>time</th>\n",
       "    </tr>\n",
       "  </thead>\n",
       "  <tbody>\n",
       "    <tr>\n",
       "      <th>0</th>\n",
       "      <td>10</td>\n",
       "      <td>3.0</td>\n",
       "    </tr>\n",
       "    <tr>\n",
       "      <th>1</th>\n",
       "      <td>10</td>\n",
       "      <td>2.1</td>\n",
       "    </tr>\n",
       "    <tr>\n",
       "      <th>2</th>\n",
       "      <td>10</td>\n",
       "      <td>2.8</td>\n",
       "    </tr>\n",
       "    <tr>\n",
       "      <th>3</th>\n",
       "      <td>10</td>\n",
       "      <td>2.7</td>\n",
       "    </tr>\n",
       "    <tr>\n",
       "      <th>4</th>\n",
       "      <td>10</td>\n",
       "      <td>3.8</td>\n",
       "    </tr>\n",
       "    <tr>\n",
       "      <th>...</th>\n",
       "      <td>...</td>\n",
       "      <td>...</td>\n",
       "    </tr>\n",
       "    <tr>\n",
       "      <th>1492</th>\n",
       "      <td>42813323</td>\n",
       "      <td>23.8</td>\n",
       "    </tr>\n",
       "    <tr>\n",
       "      <th>1493</th>\n",
       "      <td>100000000</td>\n",
       "      <td>28.1</td>\n",
       "    </tr>\n",
       "    <tr>\n",
       "      <th>1494</th>\n",
       "      <td>100000000</td>\n",
       "      <td>25.2</td>\n",
       "    </tr>\n",
       "    <tr>\n",
       "      <th>1495</th>\n",
       "      <td>100000000</td>\n",
       "      <td>25.1</td>\n",
       "    </tr>\n",
       "    <tr>\n",
       "      <th>1496</th>\n",
       "      <td>100000000</td>\n",
       "      <td>24.6</td>\n",
       "    </tr>\n",
       "  </tbody>\n",
       "</table>\n",
       "<p>1497 rows × 2 columns</p>\n",
       "</div>"
      ],
      "text/plain": [
       "              n  time\n",
       "0            10   3.0\n",
       "1            10   2.1\n",
       "2            10   2.8\n",
       "3            10   2.7\n",
       "4            10   3.8\n",
       "...         ...   ...\n",
       "1492   42813323  23.8\n",
       "1493  100000000  28.1\n",
       "1494  100000000  25.2\n",
       "1495  100000000  25.1\n",
       "1496  100000000  24.6\n",
       "\n",
       "[1497 rows x 2 columns]"
      ]
     },
     "execution_count": 10,
     "metadata": {},
     "output_type": "execute_result"
    }
   ],
   "source": [
    "from ppsim import time_trials\n",
    "import numpy as np\n",
    "\n",
    "ns = [int(n) for n in np.geomspace(10, 10 ** 8, 20)]\n",
    "def initial_condition(n):\n",
    "    return {'A': n // 2, 'B': n // 2}\n",
    "df = time_trials(approximate_majority, ns, initial_condition, num_trials=100, max_wallclock_time = 30)\n",
    "df"
   ]
  },
  {
   "cell_type": "markdown",
   "id": "digital-activation",
   "metadata": {},
   "source": [
    "This dataframe collected time from up to 100 trials for each population size n across a many orders of magnitude, limited by the budget of 30 seconds of wallclock time that we gave it.\n",
    "We can now use the `seaborn` library to get a convincing plot of the data."
   ]
  },
  {
   "cell_type": "code",
   "execution_count": 11,
   "id": "sweet-prefix",
   "metadata": {},
   "outputs": [
    {
     "data": {
      "image/png": "[encoded data removed]",
      "text/plain": [
       "<Figure size 432x288 with 1 Axes>"
      ]
     },
     "metadata": {
      "needs_background": "light"
     },
     "output_type": "display_data"
    }
   ],
   "source": [
    "import seaborn as sns\n",
    "lp = sns.lineplot(x='n', y='time', data=df)\n",
    "lp.set_xscale('log')"
   ]
  },
  {
   "cell_type": "markdown",
   "id": "painted-parameter",
   "metadata": {},
   "source": [
    "## Larger state protocol\n",
    "\n",
    "For more complicated protocols, it would be very tedious to use this dictionary format. Instead we can give an arbitrary Python function which takes a pair of states as input (along with possible other protocol parameters) and returns a pair of states as output (or if we wanted a randomized transition, it would output a dictionary which maps pairs of states to probabilities).\n",
    "\n",
    "As a quick example, let's take a look at the discrete averaging dynamics, as analyzed [here](https://arxiv.org/abs/1808.05389) and [here](https://hal-cnrs.archives-ouvertes.fr/hal-02473856/file/main_JAP.pdf), which have been a key subroutine used in counting and majority protocols."
   ]
  },
  {
   "cell_type": "code",
   "execution_count": 12,
   "id": "smooth-factor",
   "metadata": {},
   "outputs": [],
   "source": [
    "from math import ceil, floor\n",
    "\n",
    "def discrete_averaging(a, b):\n",
    "    avg = (a + b) / 2\n",
    "    return floor(avg), ceil(avg)\n",
    "\n",
    "n = 10 ** 6\n",
    "sim = Simulation({0: n // 2, 50: n // 2}, discrete_averaging)"
   ]
  },
  {
   "cell_type": "markdown",
   "id": "shared-extreme",
   "metadata": {},
   "source": [
    "We did not need to explicitly describe the state set. Upon initialization, `Simulation` used breadth first search to find all states reachable from the initial configuration."
   ]
  },
  {
   "cell_type": "code",
   "execution_count": 13,
   "id": "micro-generator",
   "metadata": {},
   "outputs": [
    {
     "name": "stdout",
     "output_type": "stream",
     "text": [
      "[0, 1, 2, 3, 4, 5, 6, 7, 8, 9, 10, 11, 12, 13, 14, 15, 16, 17, 18, 19, 20, 21, 22, 23, 24, 25, 26, 27, 28, 29, 30, 31, 32, 33, 34, 35, 36, 37, 38, 39, 40, 41, 42, 43, 44, 45, 46, 47, 48, 49, 50]\n"
     ]
    }
   ],
   "source": [
    "print(sim.state_list)"
   ]
  },
  {
   "cell_type": "markdown",
   "id": "fatal-house",
   "metadata": {},
   "source": [
    "This enumeration will call the function `rule` we give it O(q^2) times, where q is the number of reachable states. This preprocessing step also builds an internal representation of the transition function, so it will not need to continue calling `rule`. Thus we don't need to worry too much about our code for `rule` being efficient.\n",
    "\n",
    "Rather than the dictionary format used to input the configuration, internally `Simulation` represents the configuration as an array of counts, where the ordering of the indices is given by `state_list`."
   ]
  },
  {
   "cell_type": "code",
   "execution_count": 14,
   "id": "greater-greenhouse",
   "metadata": {},
   "outputs": [
    {
     "data": {
      "text/plain": [
       "{0: 500000, 50: 500000}"
      ]
     },
     "execution_count": 14,
     "metadata": {},
     "output_type": "execute_result"
    }
   ],
   "source": [
    "sim.config_dict"
   ]
  },
  {
   "cell_type": "code",
   "execution_count": 15,
   "id": "damaged-budapest",
   "metadata": {},
   "outputs": [
    {
     "data": {
      "text/plain": [
       "array([500000,      0,      0,      0,      0,      0,      0,      0,\n",
       "            0,      0,      0,      0,      0,      0,      0,      0,\n",
       "            0,      0,      0,      0,      0,      0,      0,      0,\n",
       "            0,      0,      0,      0,      0,      0,      0,      0,\n",
       "            0,      0,      0,      0,      0,      0,      0,      0,\n",
       "            0,      0,      0,      0,      0,      0,      0,      0,\n",
       "            0,      0, 500000], dtype=int64)"
      ]
     },
     "execution_count": 15,
     "metadata": {},
     "output_type": "execute_result"
    }
   ],
   "source": [
    "sim.config_array"
   ]
  },
  {
   "cell_type": "markdown",
   "id": "angry-joseph",
   "metadata": {},
   "source": [
    "A key result about these discrete averaging dynamics is that they converge in O(log n) time to at most 3 consecutive values. It could take longer to reach the ultimate silent configuration with only 2 consecutive values, so if we wanted to check for the faster convergence condition, we could use a function that checks for the condition. This function takes a configuration dictionary (mapping states to counts) as input and returns `True` if the convergence criterion has been met."
   ]
  },
  {
   "cell_type": "code",
   "execution_count": 16,
   "id": "animal-kruger",
   "metadata": {},
   "outputs": [],
   "source": [
    "def three_consecutive_values(config):\n",
    "    states = config.keys()\n",
    "    return max(states) - min(states) <= 2"
   ]
  },
  {
   "cell_type": "markdown",
   "id": "parliamentary-words",
   "metadata": {},
   "source": [
    "Now we can run until this condition is met (or also use `time_trials` as above to generate statistics about this convergence time)."
   ]
  },
  {
   "cell_type": "code",
   "execution_count": 17,
   "id": "focal-aerospace",
   "metadata": {},
   "outputs": [
    {
     "name": "stdout",
     "output_type": "stream",
     "text": [
      " Time: 14.300\n"
     ]
    },
    {
     "data": {
      "text/html": [
       "<div>\n",
       "<style scoped>\n",
       "    .dataframe tbody tr th:only-of-type {\n",
       "        vertical-align: middle;\n",
       "    }\n",
       "\n",
       "    .dataframe tbody tr th {\n",
       "        vertical-align: top;\n",
       "    }\n",
       "\n",
       "    .dataframe thead th {\n",
       "        text-align: right;\n",
       "    }\n",
       "</style>\n",
       "<table border=\"1\" class=\"dataframe\">\n",
       "  <thead>\n",
       "    <tr style=\"text-align: right;\">\n",
       "      <th></th>\n",
       "      <th>0</th>\n",
       "      <th>1</th>\n",
       "      <th>2</th>\n",
       "      <th>3</th>\n",
       "      <th>4</th>\n",
       "      <th>5</th>\n",
       "      <th>6</th>\n",
       "      <th>7</th>\n",
       "      <th>8</th>\n",
       "      <th>9</th>\n",
       "      <th>...</th>\n",
       "      <th>41</th>\n",
       "      <th>42</th>\n",
       "      <th>43</th>\n",
       "      <th>44</th>\n",
       "      <th>45</th>\n",
       "      <th>46</th>\n",
       "      <th>47</th>\n",
       "      <th>48</th>\n",
       "      <th>49</th>\n",
       "      <th>50</th>\n",
       "    </tr>\n",
       "    <tr>\n",
       "      <th>time (n interactions)</th>\n",
       "      <th></th>\n",
       "      <th></th>\n",
       "      <th></th>\n",
       "      <th></th>\n",
       "      <th></th>\n",
       "      <th></th>\n",
       "      <th></th>\n",
       "      <th></th>\n",
       "      <th></th>\n",
       "      <th></th>\n",
       "      <th></th>\n",
       "      <th></th>\n",
       "      <th></th>\n",
       "      <th></th>\n",
       "      <th></th>\n",
       "      <th></th>\n",
       "      <th></th>\n",
       "      <th></th>\n",
       "      <th></th>\n",
       "      <th></th>\n",
       "      <th></th>\n",
       "    </tr>\n",
       "  </thead>\n",
       "  <tbody>\n",
       "    <tr>\n",
       "      <th>0.0</th>\n",
       "      <td>500000</td>\n",
       "      <td>0</td>\n",
       "      <td>0</td>\n",
       "      <td>0</td>\n",
       "      <td>0</td>\n",
       "      <td>0</td>\n",
       "      <td>0</td>\n",
       "      <td>0</td>\n",
       "      <td>0</td>\n",
       "      <td>0</td>\n",
       "      <td>...</td>\n",
       "      <td>0</td>\n",
       "      <td>0</td>\n",
       "      <td>0</td>\n",
       "      <td>0</td>\n",
       "      <td>0</td>\n",
       "      <td>0</td>\n",
       "      <td>0</td>\n",
       "      <td>0</td>\n",
       "      <td>0</td>\n",
       "      <td>500000</td>\n",
       "    </tr>\n",
       "    <tr>\n",
       "      <th>0.1</th>\n",
       "      <td>450122</td>\n",
       "      <td>1</td>\n",
       "      <td>1</td>\n",
       "      <td>16</td>\n",
       "      <td>2</td>\n",
       "      <td>0</td>\n",
       "      <td>364</td>\n",
       "      <td>127</td>\n",
       "      <td>0</td>\n",
       "      <td>18</td>\n",
       "      <td>...</td>\n",
       "      <td>23</td>\n",
       "      <td>0</td>\n",
       "      <td>116</td>\n",
       "      <td>344</td>\n",
       "      <td>4</td>\n",
       "      <td>1</td>\n",
       "      <td>15</td>\n",
       "      <td>1</td>\n",
       "      <td>1</td>\n",
       "      <td>450204</td>\n",
       "    </tr>\n",
       "    <tr>\n",
       "      <th>0.2</th>\n",
       "      <td>401218</td>\n",
       "      <td>11</td>\n",
       "      <td>18</td>\n",
       "      <td>242</td>\n",
       "      <td>48</td>\n",
       "      <td>17</td>\n",
       "      <td>2059</td>\n",
       "      <td>692</td>\n",
       "      <td>26</td>\n",
       "      <td>211</td>\n",
       "      <td>...</td>\n",
       "      <td>236</td>\n",
       "      <td>25</td>\n",
       "      <td>697</td>\n",
       "      <td>2053</td>\n",
       "      <td>22</td>\n",
       "      <td>37</td>\n",
       "      <td>180</td>\n",
       "      <td>2</td>\n",
       "      <td>3</td>\n",
       "      <td>401462</td>\n",
       "    </tr>\n",
       "    <tr>\n",
       "      <th>0.3</th>\n",
       "      <td>354315</td>\n",
       "      <td>40</td>\n",
       "      <td>63</td>\n",
       "      <td>696</td>\n",
       "      <td>147</td>\n",
       "      <td>72</td>\n",
       "      <td>5015</td>\n",
       "      <td>1722</td>\n",
       "      <td>151</td>\n",
       "      <td>759</td>\n",
       "      <td>...</td>\n",
       "      <td>706</td>\n",
       "      <td>97</td>\n",
       "      <td>1725</td>\n",
       "      <td>4952</td>\n",
       "      <td>76</td>\n",
       "      <td>163</td>\n",
       "      <td>717</td>\n",
       "      <td>43</td>\n",
       "      <td>32</td>\n",
       "      <td>354744</td>\n",
       "    </tr>\n",
       "    <tr>\n",
       "      <th>0.4</th>\n",
       "      <td>309976</td>\n",
       "      <td>109</td>\n",
       "      <td>135</td>\n",
       "      <td>1527</td>\n",
       "      <td>382</td>\n",
       "      <td>247</td>\n",
       "      <td>8439</td>\n",
       "      <td>2994</td>\n",
       "      <td>404</td>\n",
       "      <td>1714</td>\n",
       "      <td>...</td>\n",
       "      <td>1673</td>\n",
       "      <td>380</td>\n",
       "      <td>2934</td>\n",
       "      <td>8292</td>\n",
       "      <td>249</td>\n",
       "      <td>414</td>\n",
       "      <td>1588</td>\n",
       "      <td>140</td>\n",
       "      <td>108</td>\n",
       "      <td>310440</td>\n",
       "    </tr>\n",
       "    <tr>\n",
       "      <th>...</th>\n",
       "      <td>...</td>\n",
       "      <td>...</td>\n",
       "      <td>...</td>\n",
       "      <td>...</td>\n",
       "      <td>...</td>\n",
       "      <td>...</td>\n",
       "      <td>...</td>\n",
       "      <td>...</td>\n",
       "      <td>...</td>\n",
       "      <td>...</td>\n",
       "      <td>...</td>\n",
       "      <td>...</td>\n",
       "      <td>...</td>\n",
       "      <td>...</td>\n",
       "      <td>...</td>\n",
       "      <td>...</td>\n",
       "      <td>...</td>\n",
       "      <td>...</td>\n",
       "      <td>...</td>\n",
       "      <td>...</td>\n",
       "      <td>...</td>\n",
       "    </tr>\n",
       "    <tr>\n",
       "      <th>13.9</th>\n",
       "      <td>0</td>\n",
       "      <td>0</td>\n",
       "      <td>0</td>\n",
       "      <td>0</td>\n",
       "      <td>0</td>\n",
       "      <td>0</td>\n",
       "      <td>0</td>\n",
       "      <td>0</td>\n",
       "      <td>0</td>\n",
       "      <td>0</td>\n",
       "      <td>...</td>\n",
       "      <td>0</td>\n",
       "      <td>0</td>\n",
       "      <td>0</td>\n",
       "      <td>0</td>\n",
       "      <td>0</td>\n",
       "      <td>0</td>\n",
       "      <td>0</td>\n",
       "      <td>0</td>\n",
       "      <td>0</td>\n",
       "      <td>0</td>\n",
       "    </tr>\n",
       "    <tr>\n",
       "      <th>14.0</th>\n",
       "      <td>0</td>\n",
       "      <td>0</td>\n",
       "      <td>0</td>\n",
       "      <td>0</td>\n",
       "      <td>0</td>\n",
       "      <td>0</td>\n",
       "      <td>0</td>\n",
       "      <td>0</td>\n",
       "      <td>0</td>\n",
       "      <td>0</td>\n",
       "      <td>...</td>\n",
       "      <td>0</td>\n",
       "      <td>0</td>\n",
       "      <td>0</td>\n",
       "      <td>0</td>\n",
       "      <td>0</td>\n",
       "      <td>0</td>\n",
       "      <td>0</td>\n",
       "      <td>0</td>\n",
       "      <td>0</td>\n",
       "      <td>0</td>\n",
       "    </tr>\n",
       "    <tr>\n",
       "      <th>14.1</th>\n",
       "      <td>0</td>\n",
       "      <td>0</td>\n",
       "      <td>0</td>\n",
       "      <td>0</td>\n",
       "      <td>0</td>\n",
       "      <td>0</td>\n",
       "      <td>0</td>\n",
       "      <td>0</td>\n",
       "      <td>0</td>\n",
       "      <td>0</td>\n",
       "      <td>...</td>\n",
       "      <td>0</td>\n",
       "      <td>0</td>\n",
       "      <td>0</td>\n",
       "      <td>0</td>\n",
       "      <td>0</td>\n",
       "      <td>0</td>\n",
       "      <td>0</td>\n",
       "      <td>0</td>\n",
       "      <td>0</td>\n",
       "      <td>0</td>\n",
       "    </tr>\n",
       "    <tr>\n",
       "      <th>14.2</th>\n",
       "      <td>0</td>\n",
       "      <td>0</td>\n",
       "      <td>0</td>\n",
       "      <td>0</td>\n",
       "      <td>0</td>\n",
       "      <td>0</td>\n",
       "      <td>0</td>\n",
       "      <td>0</td>\n",
       "      <td>0</td>\n",
       "      <td>0</td>\n",
       "      <td>...</td>\n",
       "      <td>0</td>\n",
       "      <td>0</td>\n",
       "      <td>0</td>\n",
       "      <td>0</td>\n",
       "      <td>0</td>\n",
       "      <td>0</td>\n",
       "      <td>0</td>\n",
       "      <td>0</td>\n",
       "      <td>0</td>\n",
       "      <td>0</td>\n",
       "    </tr>\n",
       "    <tr>\n",
       "      <th>14.3</th>\n",
       "      <td>0</td>\n",
       "      <td>0</td>\n",
       "      <td>0</td>\n",
       "      <td>0</td>\n",
       "      <td>0</td>\n",
       "      <td>0</td>\n",
       "      <td>0</td>\n",
       "      <td>0</td>\n",
       "      <td>0</td>\n",
       "      <td>0</td>\n",
       "      <td>...</td>\n",
       "      <td>0</td>\n",
       "      <td>0</td>\n",
       "      <td>0</td>\n",
       "      <td>0</td>\n",
       "      <td>0</td>\n",
       "      <td>0</td>\n",
       "      <td>0</td>\n",
       "      <td>0</td>\n",
       "      <td>0</td>\n",
       "      <td>0</td>\n",
       "    </tr>\n",
       "  </tbody>\n",
       "</table>\n",
       "<p>144 rows × 51 columns</p>\n",
       "</div>"
      ],
      "text/plain": [
       "                            0    1    2     3    4    5     6     7    8  \\\n",
       "time (n interactions)                                                      \n",
       "0.0                    500000    0    0     0    0    0     0     0    0   \n",
       "0.1                    450122    1    1    16    2    0   364   127    0   \n",
       "0.2                    401218   11   18   242   48   17  2059   692   26   \n",
       "0.3                    354315   40   63   696  147   72  5015  1722  151   \n",
       "0.4                    309976  109  135  1527  382  247  8439  2994  404   \n",
       "...                       ...  ...  ...   ...  ...  ...   ...   ...  ...   \n",
       "13.9                        0    0    0     0    0    0     0     0    0   \n",
       "14.0                        0    0    0     0    0    0     0     0    0   \n",
       "14.1                        0    0    0     0    0    0     0     0    0   \n",
       "14.2                        0    0    0     0    0    0     0     0    0   \n",
       "14.3                        0    0    0     0    0    0     0     0    0   \n",
       "\n",
       "                          9  ...    41   42    43    44   45   46    47   48  \\\n",
       "time (n interactions)        ...                                               \n",
       "0.0                       0  ...     0    0     0     0    0    0     0    0   \n",
       "0.1                      18  ...    23    0   116   344    4    1    15    1   \n",
       "0.2                     211  ...   236   25   697  2053   22   37   180    2   \n",
       "0.3                     759  ...   706   97  1725  4952   76  163   717   43   \n",
       "0.4                    1714  ...  1673  380  2934  8292  249  414  1588  140   \n",
       "...                     ...  ...   ...  ...   ...   ...  ...  ...   ...  ...   \n",
       "13.9                      0  ...     0    0     0     0    0    0     0    0   \n",
       "14.0                      0  ...     0    0     0     0    0    0     0    0   \n",
       "14.1                      0  ...     0    0     0     0    0    0     0    0   \n",
       "14.2                      0  ...     0    0     0     0    0    0     0    0   \n",
       "14.3                      0  ...     0    0     0     0    0    0     0    0   \n",
       "\n",
       "                        49      50  \n",
       "time (n interactions)               \n",
       "0.0                      0  500000  \n",
       "0.1                      1  450204  \n",
       "0.2                      3  401462  \n",
       "0.3                     32  354744  \n",
       "0.4                    108  310440  \n",
       "...                    ...     ...  \n",
       "13.9                     0       0  \n",
       "14.0                     0       0  \n",
       "14.1                     0       0  \n",
       "14.2                     0       0  \n",
       "14.3                     0       0  \n",
       "\n",
       "[144 rows x 51 columns]"
      ]
     },
     "execution_count": 17,
     "metadata": {},
     "output_type": "execute_result"
    }
   ],
   "source": [
    "sim.run(three_consecutive_values, 0.1)\n",
    "sim.history"
   ]
  },
  {
   "cell_type": "markdown",
   "id": "durable-fortune",
   "metadata": {},
   "source": [
    "With a much larger number of states, the `history` dataframe is more unwieldly, so trying to directly call `history.plot()` would be very messy and not very useful.\n",
    "Instead we will bring in a `Snapshot` object that makes a bar plot with the counts of each state, and lets us visualize the way the distribution evolves over time.\n",
    "\n",
    "For this `StatePlotter` object to work as intended, we need to be using an interactive matplotlib backend, such as `%matplotlib widget` or `%matplotlib qt`. It is recommended to use `%matplotlib widget`, which uses the package [ipympl](https://github.com/matplotlib/ipympl), and to run the notebook with [Jupyter Lab](https://jupyterlab.readthedocs.io/en/stable/).\n",
    "\n",
    "Note these interactive plots are not displayed in a static notebook. Also note that some common IPython environments such as [Google Colab](https://colab.research.google.com/) do not support any of the interactive matplotlib backends, which prevents the interactive `Snapshot` objects `StatePlotter` and `HistoryPlotter` from working correctly."
   ]
  },
  {
   "cell_type": "code",
   "execution_count": 18,
   "id": "cubic-graduation",
   "metadata": {},
   "outputs": [
    {
     "data": {
      "application/vnd.jupyter.widget-view+json": {
       "model_id": "edb906c3dae345038c02051e0a8c6fae",
       "version_major": 2,
       "version_minor": 0
      },
      "text/plain": [
       "Canvas(toolbar=Toolbar(toolitems=[('Home', 'Reset original view', 'home', 'home'), ('Back', 'Back to previous …"
      ]
     },
     "metadata": {},
     "output_type": "display_data"
    },
    {
     "data": {
      "application/vnd.jupyter.widget-view+json": {
       "model_id": "7bf7f57eb30b44c89b7b6b2f64a8957f",
       "version_major": 2,
       "version_minor": 0
      },
      "text/plain": [
       "interactive(children=(FloatSlider(value=0.0, description='time', layout=Layout(width='100%'), max=14.299999999…"
      ]
     },
     "metadata": {},
     "output_type": "display_data"
    }
   ],
   "source": [
    "# Requires ipympl package, can be installed from pip with pip install ipympl\n",
    "%matplotlib widget\n",
    "\n",
    "from ppsim import StatePlotter\n",
    "sp = StatePlotter(update_time=1)\n",
    "sim.add_snapshot(sp)\n",
    "sim.snapshot_slider('time')"
   ]
  },
  {
   "cell_type": "markdown",
   "id": "activated-illustration",
   "metadata": {},
   "source": [
    "To better visualize small count states, let's change `yscale` to `symlog`."
   ]
  },
  {
   "cell_type": "code",
   "execution_count": 19,
   "id": "going-israeli",
   "metadata": {},
   "outputs": [],
   "source": [
    "sp.ax.set_yscale('symlog')"
   ]
  },
  {
   "cell_type": "markdown",
   "id": "opened-damages",
   "metadata": {},
   "source": [
    "If we run the `Simulation` while this `Snapshot` has already been created, it will update while the simulation runs. Because the population average was exactly 25, the ultimate silent configuration will have every agent in state 50, but it will take a a very long time to reach, as we must wait for pairwise interactions between dwindling counts of states 24 and 26. We can check that this reaction is now the only possible non-null interaction."
   ]
  },
  {
   "cell_type": "code",
   "execution_count": 20,
   "id": "consolidated-glasgow",
   "metadata": {},
   "outputs": [
    {
     "name": "stdout",
     "output_type": "stream",
     "text": [
      "24, 26  -->  25, 25\n"
     ]
    }
   ],
   "source": [
    "print(sim.enabled_reactions)"
   ]
  },
  {
   "cell_type": "markdown",
   "id": "charming-hunter",
   "metadata": {},
   "source": [
    "As a result, the probability of a non-null interaction will grow very small, upon which the simulator will switch to the Gillespie algorithm. This allows it to relatively quickly run all the way until silence, which we can confirm takes a very long amount of parallel time."
   ]
  },
  {
   "cell_type": "code",
   "execution_count": 21,
   "id": "bigger-expansion",
   "metadata": {},
   "outputs": [],
   "source": [
    "# In order to see a Snapshot update live while the simulation is running, the command sim.add_snapshot() must be called in a previous cell\n",
    "# After the Snapshot is already displayed, calling sim.run() will update it in real time\n",
    "# The parameter Snapshot.update_time controls how often (in seconds) the Snapshot will get updated\n",
    "\n",
    "# Setting history_interval to be a function of time t that shrinks, to not record too many configurations over a long time scale\n",
    "sim.run(history_interval=lambda t: 10 ** len(str(int(t))) / 100)"
   ]
  },
  {
   "cell_type": "markdown",
   "id": "complicated-telescope",
   "metadata": {},
   "source": [
    "Since the timescale of the whole simulation is now very long, we should have the slider range across recorded indices rather than parallel time."
   ]
  },
  {
   "cell_type": "code",
   "execution_count": 22,
   "id": "elder-freeware",
   "metadata": {},
   "outputs": [
    {
     "data": {
      "application/vnd.jupyter.widget-view+json": {
       "model_id": "edb906c3dae345038c02051e0a8c6fae",
       "version_major": 2,
       "version_minor": 0
      },
      "text/plain": [
       "Canvas(toolbar=Toolbar(toolitems=[('Home', 'Reset original view', 'home', 'home'), ('Back', 'Back to previous …"
      ]
     },
     "metadata": {},
     "output_type": "display_data"
    },
    {
     "data": {
      "application/vnd.jupyter.widget-view+json": {
       "model_id": "a627a33cc98a489caa5bbc79353524b9",
       "version_major": 2,
       "version_minor": 0
      },
      "text/plain": [
       "interactive(children=(IntSlider(value=0, description='index', layout=Layout(width='100%'), max=562), Output())…"
      ]
     },
     "metadata": {},
     "output_type": "display_data"
    }
   ],
   "source": [
    "display(sp.fig.canvas)\n",
    "sim.snapshot_slider('index')"
   ]
  },
  {
   "cell_type": "markdown",
   "id": "rubber-cancer",
   "metadata": {},
   "source": [
    "For more examples see https://github.com/UC-Davis-molecular-computing/population-protocols-python-package/tree/main/examples/"
   ]
  },
  {
   "cell_type": "code",
   "execution_count": null,
   "id": "level-discrimination",
   "metadata": {},
   "outputs": [],
   "source": []
  }
 ],
 "metadata": {
  "kernelspec": {
   "display_name": "Python 3",
   "language": "python",
   "name": "python3"
  },
  "language_info": {
   "codemirror_mode": {
    "name": "ipython",
    "version": 3
   },
   "file_extension": ".py",
   "mimetype": "text/x-python",
   "name": "python",
   "nbconvert_exporter": "python",
   "pygments_lexer": "ipython3",
   "version": "3.7.3"
  }
 },
 "nbformat": 4,
 "nbformat_minor": 5
}
