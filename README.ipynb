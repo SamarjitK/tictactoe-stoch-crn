{
 "cells": [
  {
   "cell_type": "markdown",
   "id": "refined-guess",
   "metadata": {},
   "source": [
    "# ppsim Python package\n",
    "\n",
    "The `ppsim` package is used for simulating population protcols. The core of the simulator uses a [batching algorithm](https://arxiv.org/abs/2005.03584) which gives significant asymptotic gains for protocols with relatively small reachable state sets. The package is designed to be run in a Python notebook, to concisely describe complex protocols, efficiently simulate their dynamics, and provide helpful visualization of the simulation.\n",
    "\n",
    "## Installation\n",
    "\n",
    "The package can be installed with `pip` via"
   ]
  },
  {
   "cell_type": "code",
   "execution_count": 2,
   "id": "political-waste",
   "metadata": {
    "collapsed": true,
    "jupyter": {
     "outputs_hidden": true
    },
    "tags": []
   },
   "outputs": [
    {
     "name": "stdout",
     "output_type": "stream",
     "text": [
      "Requirement already satisfied: ppsim in c:\\users\\eric\\pycharmprojects\\population-protocols-python-package (0.0.1)\n",
      "Requirement already satisfied: numpy>=1.20.1 in c:\\users\\eric\\anaconda2\\lib\\site-packages (from ppsim) (1.20.1)\n",
      "Requirement already satisfied: cython>=0.29.22 in c:\\users\\eric\\anaconda2\\lib\\site-packages (from ppsim) (0.29.22)\n",
      "Requirement already satisfied: setuptools>=49.6.0 in c:\\users\\eric\\anaconda2\\lib\\site-packages (from ppsim) (49.6.0.post20210108)\n",
      "Requirement already satisfied: ipywidgets>=7.6.3 in c:\\users\\eric\\anaconda2\\lib\\site-packages (from ppsim) (7.6.3)\n",
      "Requirement already satisfied: matplotlib>=3.3.4 in c:\\users\\eric\\anaconda2\\lib\\site-packages (from ppsim) (3.3.4)\n",
      "Requirement already satisfied: pandas>=1.2.3 in c:\\users\\eric\\anaconda2\\lib\\site-packages (from ppsim) (1.2.3)\n",
      "Requirement already satisfied: seaborn>=0.11.1 in c:\\users\\eric\\anaconda2\\lib\\site-packages (from ppsim) (0.11.1)\n",
      "Requirement already satisfied: natsort>=7.1.1 in c:\\users\\eric\\anaconda2\\lib\\site-packages (from ppsim) (7.1.1)\n",
      "Requirement already satisfied: tqdm>=4.59.0 in c:\\users\\eric\\anaconda2\\lib\\site-packages (from ppsim) (4.59.0)\n",
      "Requirement already satisfied: jupyterlab-widgets>=1.0.0 in c:\\users\\eric\\anaconda2\\lib\\site-packages (from ipywidgets>=7.6.3->ppsim) (1.0.0)\n",
      "Requirement already satisfied: ipython>=4.0.0 in c:\\users\\eric\\anaconda2\\lib\\site-packages (from ipywidgets>=7.6.3->ppsim) (7.21.0)\n",
      "Requirement already satisfied: widgetsnbextension~=3.5.0 in c:\\users\\eric\\anaconda2\\lib\\site-packages (from ipywidgets>=7.6.3->ppsim) (3.5.1)\n",
      "Requirement already satisfied: ipykernel>=4.5.1 in c:\\users\\eric\\anaconda2\\lib\\site-packages (from ipywidgets>=7.6.3->ppsim) (5.5.0)\n",
      "Requirement already satisfied: traitlets>=4.3.1 in c:\\users\\eric\\anaconda2\\lib\\site-packages (from ipywidgets>=7.6.3->ppsim) (5.0.5)\n",
      "Requirement already satisfied: nbformat>=4.2.0 in c:\\users\\eric\\anaconda2\\lib\\site-packages (from ipywidgets>=7.6.3->ppsim) (5.1.2)\n",
      "Requirement already satisfied: jupyter-client in c:\\users\\eric\\anaconda2\\lib\\site-packages (from ipykernel>=4.5.1->ipywidgets>=7.6.3->ppsim) (6.1.12)\n",
      "Requirement already satisfied: tornado>=4.2 in c:\\users\\eric\\anaconda2\\lib\\site-packages (from ipykernel>=4.5.1->ipywidgets>=7.6.3->ppsim) (6.1)\n",
      "Requirement already satisfied: pygments in c:\\users\\eric\\anaconda2\\lib\\site-packages (from ipython>=4.0.0->ipywidgets>=7.6.3->ppsim) (2.8.1)\n",
      "Requirement already satisfied: jedi>=0.16 in c:\\users\\eric\\anaconda2\\lib\\site-packages (from ipython>=4.0.0->ipywidgets>=7.6.3->ppsim) (0.18.0)\n",
      "Requirement already satisfied: backcall in c:\\users\\eric\\anaconda2\\lib\\site-packages (from ipython>=4.0.0->ipywidgets>=7.6.3->ppsim) (0.2.0)\n",
      "Requirement already satisfied: pickleshare in c:\\users\\eric\\anaconda2\\lib\\site-packages (from ipython>=4.0.0->ipywidgets>=7.6.3->ppsim) (0.7.5)\n",
      "Requirement already satisfied: decorator in c:\\users\\eric\\anaconda2\\lib\\site-packages (from ipython>=4.0.0->ipywidgets>=7.6.3->ppsim) (4.4.2)\n",
      "Requirement already satisfied: colorama in c:\\users\\eric\\anaconda2\\lib\\site-packages (from ipython>=4.0.0->ipywidgets>=7.6.3->ppsim) (0.4.4)\n",
      "Requirement already satisfied: prompt-toolkit!=3.0.0,!=3.0.1,<3.1.0,>=2.0.0 in c:\\users\\eric\\anaconda2\\lib\\site-packages (from ipython>=4.0.0->ipywidgets>=7.6.3->ppsim) (3.0.18)\n",
      "Requirement already satisfied: parso<0.9.0,>=0.8.0 in c:\\users\\eric\\anaconda2\\lib\\site-packages (from jedi>=0.16->ipython>=4.0.0->ipywidgets>=7.6.3->ppsim) (0.8.1)\n",
      "Requirement already satisfied: pyparsing!=2.0.4,!=2.1.2,!=2.1.6,>=2.0.3 in c:\\users\\eric\\anaconda2\\lib\\site-packages (from matplotlib>=3.3.4->ppsim) (2.4.7)\n",
      "Requirement already satisfied: python-dateutil>=2.1 in c:\\users\\eric\\anaconda2\\lib\\site-packages (from matplotlib>=3.3.4->ppsim) (2.8.1)\n",
      "Requirement already satisfied: kiwisolver>=1.0.1 in c:\\users\\eric\\anaconda2\\lib\\site-packages (from matplotlib>=3.3.4->ppsim) (1.3.1)\n",
      "Requirement already satisfied: cycler>=0.10 in c:\\users\\eric\\anaconda2\\lib\\site-packages (from matplotlib>=3.3.4->ppsim) (0.10.0)\n",
      "Requirement already satisfied: pillow>=6.2.0 in c:\\users\\eric\\anaconda2\\lib\\site-packages (from matplotlib>=3.3.4->ppsim) (7.2.0)\n",
      "Requirement already satisfied: six in c:\\users\\eric\\anaconda2\\lib\\site-packages (from cycler>=0.10->matplotlib>=3.3.4->ppsim) (1.15.0)\n",
      "Requirement already satisfied: jupyter-core in c:\\users\\eric\\anaconda2\\lib\\site-packages (from nbformat>=4.2.0->ipywidgets>=7.6.3->ppsim) (4.7.1)\n",
      "Requirement already satisfied: ipython-genutils in c:\\users\\eric\\anaconda2\\lib\\site-packages (from nbformat>=4.2.0->ipywidgets>=7.6.3->ppsim) (0.2.0)\n",
      "Requirement already satisfied: jsonschema!=2.5.0,>=2.4 in c:\\users\\eric\\anaconda2\\lib\\site-packages (from nbformat>=4.2.0->ipywidgets>=7.6.3->ppsim) (3.2.0)\n",
      "Requirement already satisfied: importlib-metadata in c:\\users\\eric\\anaconda2\\lib\\site-packages (from jsonschema!=2.5.0,>=2.4->nbformat>=4.2.0->ipywidgets>=7.6.3->ppsim) (3.7.3)\n",
      "Requirement already satisfied: attrs>=17.4.0 in c:\\users\\eric\\appdata\\roaming\\python\\python37\\site-packages (from jsonschema!=2.5.0,>=2.4->nbformat>=4.2.0->ipywidgets>=7.6.3->ppsim) (19.3.0)\n",
      "Requirement already satisfied: pyrsistent>=0.14.0 in c:\\users\\eric\\anaconda2\\lib\\site-packages (from jsonschema!=2.5.0,>=2.4->nbformat>=4.2.0->ipywidgets>=7.6.3->ppsim) (0.17.3)\n",
      "Requirement already satisfied: pytz>=2017.3 in c:\\users\\eric\\anaconda2\\lib\\site-packages (from pandas>=1.2.3->ppsim) (2021.1)\n",
      "Requirement already satisfied: wcwidth in c:\\users\\eric\\anaconda2\\lib\\site-packages (from prompt-toolkit!=3.0.0,!=3.0.1,<3.1.0,>=2.0.0->ipython>=4.0.0->ipywidgets>=7.6.3->ppsim) (0.2.5)\n",
      "Requirement already satisfied: scipy>=1.0 in c:\\users\\eric\\anaconda2\\lib\\site-packages (from seaborn>=0.11.1->ppsim) (1.6.2)\n",
      "Requirement already satisfied: notebook>=4.4.1 in c:\\users\\eric\\anaconda2\\lib\\site-packages (from widgetsnbextension~=3.5.0->ipywidgets>=7.6.3->ppsim) (6.3.0)\n",
      "Requirement already satisfied: pyzmq>=17 in c:\\users\\eric\\anaconda2\\lib\\site-packages (from notebook>=4.4.1->widgetsnbextension~=3.5.0->ipywidgets>=7.6.3->ppsim) (22.0.3)\n",
      "Requirement already satisfied: prometheus-client in c:\\users\\eric\\anaconda2\\lib\\site-packages (from notebook>=4.4.1->widgetsnbextension~=3.5.0->ipywidgets>=7.6.3->ppsim) (0.9.0)\n",
      "Requirement already satisfied: Send2Trash>=1.5.0 in c:\\users\\eric\\anaconda2\\lib\\site-packages (from notebook>=4.4.1->widgetsnbextension~=3.5.0->ipywidgets>=7.6.3->ppsim) (1.5.0)\n",
      "Requirement already satisfied: nbconvert in c:\\users\\eric\\anaconda2\\lib\\site-packages (from notebook>=4.4.1->widgetsnbextension~=3.5.0->ipywidgets>=7.6.3->ppsim) (6.0.7)\n",
      "Requirement already satisfied: argon2-cffi in c:\\users\\eric\\anaconda2\\lib\\site-packages (from notebook>=4.4.1->widgetsnbextension~=3.5.0->ipywidgets>=7.6.3->ppsim) (20.1.0)\n",
      "Requirement already satisfied: terminado>=0.8.3 in c:\\users\\eric\\anaconda2\\lib\\site-packages (from notebook>=4.4.1->widgetsnbextension~=3.5.0->ipywidgets>=7.6.3->ppsim) (0.9.3)\n",
      "Requirement already satisfied: jinja2 in c:\\users\\eric\\anaconda2\\lib\\site-packages (from notebook>=4.4.1->widgetsnbextension~=3.5.0->ipywidgets>=7.6.3->ppsim) (2.11.3)\n",
      "Requirement already satisfied: pywin32>=1.0 in c:\\users\\eric\\anaconda2\\lib\\site-packages (from jupyter-core->nbformat>=4.2.0->ipywidgets>=7.6.3->ppsim) (300)\n",
      "Requirement already satisfied: pywinpty>=0.5 in c:\\users\\eric\\anaconda2\\lib\\site-packages (from terminado>=0.8.3->notebook>=4.4.1->widgetsnbextension~=3.5.0->ipywidgets>=7.6.3->ppsim) (0.5.7)\n",
      "Requirement already satisfied: cffi>=1.0.0 in c:\\users\\eric\\anaconda2\\lib\\site-packages (from argon2-cffi->notebook>=4.4.1->widgetsnbextension~=3.5.0->ipywidgets>=7.6.3->ppsim) (1.14.5)\n",
      "Requirement already satisfied: pycparser in c:\\users\\eric\\anaconda2\\lib\\site-packages (from cffi>=1.0.0->argon2-cffi->notebook>=4.4.1->widgetsnbextension~=3.5.0->ipywidgets>=7.6.3->ppsim) (2.20)\n",
      "Requirement already satisfied: typing-extensions>=3.6.4 in c:\\users\\eric\\anaconda2\\lib\\site-packages (from importlib-metadata->jsonschema!=2.5.0,>=2.4->nbformat>=4.2.0->ipywidgets>=7.6.3->ppsim) (3.7.4.3)\n",
      "Requirement already satisfied: zipp>=0.5 in c:\\users\\eric\\anaconda2\\lib\\site-packages (from importlib-metadata->jsonschema!=2.5.0,>=2.4->nbformat>=4.2.0->ipywidgets>=7.6.3->ppsim) (3.4.1)\n",
      "Requirement already satisfied: MarkupSafe>=0.23 in c:\\users\\eric\\anaconda2\\lib\\site-packages (from jinja2->notebook>=4.4.1->widgetsnbextension~=3.5.0->ipywidgets>=7.6.3->ppsim) (1.1.1)\n",
      "Requirement already satisfied: entrypoints>=0.2.2 in c:\\users\\eric\\anaconda2\\lib\\site-packages (from nbconvert->notebook>=4.4.1->widgetsnbextension~=3.5.0->ipywidgets>=7.6.3->ppsim) (0.3)\n",
      "Requirement already satisfied: pandocfilters>=1.4.1 in c:\\users\\eric\\anaconda2\\lib\\site-packages (from nbconvert->notebook>=4.4.1->widgetsnbextension~=3.5.0->ipywidgets>=7.6.3->ppsim) (1.4.2)\n",
      "Requirement already satisfied: jupyterlab-pygments in c:\\users\\eric\\anaconda2\\lib\\site-packages (from nbconvert->notebook>=4.4.1->widgetsnbextension~=3.5.0->ipywidgets>=7.6.3->ppsim) (0.1.2)\n",
      "Requirement already satisfied: nbclient<0.6.0,>=0.5.0 in c:\\users\\eric\\anaconda2\\lib\\site-packages (from nbconvert->notebook>=4.4.1->widgetsnbextension~=3.5.0->ipywidgets>=7.6.3->ppsim) (0.5.3)\n",
      "Requirement already satisfied: mistune<2,>=0.8.1 in c:\\users\\eric\\anaconda2\\lib\\site-packages (from nbconvert->notebook>=4.4.1->widgetsnbextension~=3.5.0->ipywidgets>=7.6.3->ppsim) (0.8.4)\n",
      "Requirement already satisfied: defusedxml in c:\\users\\eric\\anaconda2\\lib\\site-packages (from nbconvert->notebook>=4.4.1->widgetsnbextension~=3.5.0->ipywidgets>=7.6.3->ppsim) (0.7.1)\n",
      "Requirement already satisfied: testpath in c:\\users\\eric\\anaconda2\\lib\\site-packages (from nbconvert->notebook>=4.4.1->widgetsnbextension~=3.5.0->ipywidgets>=7.6.3->ppsim) (0.4.4)\n",
      "Requirement already satisfied: bleach in c:\\users\\eric\\anaconda2\\lib\\site-packages (from nbconvert->notebook>=4.4.1->widgetsnbextension~=3.5.0->ipywidgets>=7.6.3->ppsim) (3.3.0)\n",
      "Requirement already satisfied: async-generator in c:\\users\\eric\\anaconda2\\lib\\site-packages (from nbclient<0.6.0,>=0.5.0->nbconvert->notebook>=4.4.1->widgetsnbextension~=3.5.0->ipywidgets>=7.6.3->ppsim) (1.10)\n",
      "Requirement already satisfied: nest-asyncio in c:\\users\\eric\\anaconda2\\lib\\site-packages (from nbclient<0.6.0,>=0.5.0->nbconvert->notebook>=4.4.1->widgetsnbextension~=3.5.0->ipywidgets>=7.6.3->ppsim) (1.4.3)\n",
      "Requirement already satisfied: packaging in c:\\users\\eric\\anaconda2\\lib\\site-packages (from bleach->nbconvert->notebook>=4.4.1->widgetsnbextension~=3.5.0->ipywidgets>=7.6.3->ppsim) (20.9)\n",
      "Requirement already satisfied: webencodings in c:\\users\\eric\\anaconda2\\lib\\site-packages (from bleach->nbconvert->notebook>=4.4.1->widgetsnbextension~=3.5.0->ipywidgets>=7.6.3->ppsim) (0.5.1)\n",
      "Note: you may need to restart the kernel to use updated packages.\n"
     ]
    }
   ],
   "source": [
    "pip install ppsim\n"
   ]
  },
  {
   "cell_type": "code",
   "execution_count": null,
   "id": "prerequisite-characteristic",
   "metadata": {},
   "outputs": [],
   "source": [
    "Simulation"
   ]
  },
  {
   "cell_type": "markdown",
   "id": "informed-trial",
   "metadata": {},
   "source": [
    "The most important part of the package is the `Simulation` class, which is responsible for parsing a protocol, performing the simulation, and giving data about the simulation."
   ]
  },
  {
   "cell_type": "code",
   "execution_count": 43,
   "id": "palestinian-harvey",
   "metadata": {},
   "outputs": [],
   "source": [
    "from ppsim import Simulation"
   ]
  },
  {
   "cell_type": "markdown",
   "id": "favorite-blackjack",
   "metadata": {},
   "source": [
    "## Example protcol\n",
    "\n",
    "A state can be any hashable Python object. The simplest way to describe a protocol is a dictionary mapping pairs of input states to pairs of output states.\n",
    "For example, here is a description of the classic 3-state [approximate majority protocol](http://www.cs.yale.edu/homes/aspnes/papers/approximate-majority-journal.pdf). There are two initial states `A` and `B`, and the protocol converges with high probability to the majority state with the help of a third \"undecided\" state `U`."
   ]
  },
  {
   "cell_type": "code",
   "execution_count": 45,
   "id": "lined-disclosure",
   "metadata": {},
   "outputs": [],
   "source": [
    "a, b, u = 'A', 'B', 'U'\n",
    "approximate_majority = {\n",
    "    (a,b): (u,u),\n",
    "    (a,u): (a,a),\n",
    "    (b,u): (b,b)\n",
    "}"
   ]
  },
  {
   "cell_type": "markdown",
   "id": "statistical-bedroom",
   "metadata": {},
   "source": [
    "## Example Simulation\n",
    "\n",
    "To instantiate a `Simulation`, we must specify a protocol along with an initial condition, which is a dictionary mapping states to counts. Let's simulate approximate majority with in a population of one billion agents with a slight majority of `A` agents."
   ]
  },
  {
   "cell_type": "code",
   "execution_count": 46,
   "id": "stone-collective",
   "metadata": {},
   "outputs": [],
   "source": [
    "n = 10 ** 10\n",
    "init_config = {a: 0.501 * n, b: 0.499 * n}\n",
    "sim = Simulation(init_config, approximate_majority)"
   ]
  },
  {
   "cell_type": "markdown",
   "id": "regulation-plenty",
   "metadata": {},
   "source": [
    "Now let's run this simulation for `10` units of parallel time (`10 * n` interactions). We will record the configuration every `0.1` units of time."
   ]
  },
  {
   "cell_type": "code",
   "execution_count": 47,
   "id": "suffering-tuition",
   "metadata": {},
   "outputs": [
    {
     "name": "stdout",
     "output_type": "stream",
     "text": [
      " Time: 10.000\r"
     ]
    }
   ],
   "source": [
    "sim.run(10, 0.1)"
   ]
  },
  {
   "cell_type": "markdown",
   "id": "incorporated-minute",
   "metadata": {},
   "source": [
    "The `Simulation` class can display all these configurations in a `pandas` dataframe in the attribute `history`."
   ]
  },
  {
   "cell_type": "code",
   "execution_count": 48,
   "id": "textile-imaging",
   "metadata": {},
   "outputs": [
    {
     "data": {
      "text/html": [
       "<div>\n",
       "<style scoped>\n",
       "    .dataframe tbody tr th:only-of-type {\n",
       "        vertical-align: middle;\n",
       "    }\n",
       "\n",
       "    .dataframe tbody tr th {\n",
       "        vertical-align: top;\n",
       "    }\n",
       "\n",
       "    .dataframe thead th {\n",
       "        text-align: right;\n",
       "    }\n",
       "</style>\n",
       "<table border=\"1\" class=\"dataframe\">\n",
       "  <thead>\n",
       "    <tr style=\"text-align: right;\">\n",
       "      <th></th>\n",
       "      <th>A</th>\n",
       "      <th>B</th>\n",
       "      <th>U</th>\n",
       "    </tr>\n",
       "    <tr>\n",
       "      <th>time</th>\n",
       "      <th></th>\n",
       "      <th></th>\n",
       "      <th></th>\n",
       "    </tr>\n",
       "  </thead>\n",
       "  <tbody>\n",
       "    <tr>\n",
       "      <th>0.000000</th>\n",
       "      <td>5010000000</td>\n",
       "      <td>4990000000</td>\n",
       "      <td>0</td>\n",
       "    </tr>\n",
       "    <tr>\n",
       "      <th>0.100004</th>\n",
       "      <td>4782913863</td>\n",
       "      <td>4762867384</td>\n",
       "      <td>454218753</td>\n",
       "    </tr>\n",
       "    <tr>\n",
       "      <th>0.200008</th>\n",
       "      <td>4594552855</td>\n",
       "      <td>4574369632</td>\n",
       "      <td>831077513</td>\n",
       "    </tr>\n",
       "    <tr>\n",
       "      <th>0.300010</th>\n",
       "      <td>4436553625</td>\n",
       "      <td>4416155122</td>\n",
       "      <td>1147291253</td>\n",
       "    </tr>\n",
       "    <tr>\n",
       "      <th>0.400017</th>\n",
       "      <td>4302741572</td>\n",
       "      <td>4282063060</td>\n",
       "      <td>1415195368</td>\n",
       "    </tr>\n",
       "    <tr>\n",
       "      <th>...</th>\n",
       "      <td>...</td>\n",
       "      <td>...</td>\n",
       "      <td>...</td>\n",
       "    </tr>\n",
       "    <tr>\n",
       "      <th>9.600445</th>\n",
       "      <td>3522557821</td>\n",
       "      <td>3148442429</td>\n",
       "      <td>3328999750</td>\n",
       "    </tr>\n",
       "    <tr>\n",
       "      <th>9.700447</th>\n",
       "      <td>3529033051</td>\n",
       "      <td>3142259524</td>\n",
       "      <td>3328707425</td>\n",
       "    </tr>\n",
       "    <tr>\n",
       "      <th>9.800453</th>\n",
       "      <td>3535741059</td>\n",
       "      <td>3135847426</td>\n",
       "      <td>3328411515</td>\n",
       "    </tr>\n",
       "    <tr>\n",
       "      <th>9.900456</th>\n",
       "      <td>3542653093</td>\n",
       "      <td>3129223984</td>\n",
       "      <td>3328122923</td>\n",
       "    </tr>\n",
       "    <tr>\n",
       "      <th>10.000463</th>\n",
       "      <td>3549796603</td>\n",
       "      <td>3122386926</td>\n",
       "      <td>3327816471</td>\n",
       "    </tr>\n",
       "  </tbody>\n",
       "</table>\n",
       "<p>101 rows × 3 columns</p>\n",
       "</div>"
      ],
      "text/plain": [
       "                    A           B           U\n",
       "time                                         \n",
       "0.000000   5010000000  4990000000           0\n",
       "0.100004   4782913863  4762867384   454218753\n",
       "0.200008   4594552855  4574369632   831077513\n",
       "0.300010   4436553625  4416155122  1147291253\n",
       "0.400017   4302741572  4282063060  1415195368\n",
       "...               ...         ...         ...\n",
       "9.600445   3522557821  3148442429  3328999750\n",
       "9.700447   3529033051  3142259524  3328707425\n",
       "9.800453   3535741059  3135847426  3328411515\n",
       "9.900456   3542653093  3129223984  3328122923\n",
       "10.000463  3549796603  3122386926  3327816471\n",
       "\n",
       "[101 rows x 3 columns]"
      ]
     },
     "execution_count": 48,
     "metadata": {},
     "output_type": "execute_result"
    }
   ],
   "source": [
    "sim.history"
   ]
  },
  {
   "cell_type": "code",
   "execution_count": 49,
   "id": "extra-production",
   "metadata": {},
   "outputs": [
    {
     "data": {
      "application/vnd.jupyter.widget-view+json": {
       "model_id": "662193193dbe498aa35ff6f468c20c21",
       "version_major": 2,
       "version_minor": 0
      },
      "text/plain": [
       "Canvas(toolbar=Toolbar(toolitems=[('Home', 'Reset original view', 'home', 'home'), ('Back', 'Back to previous …"
      ]
     },
     "metadata": {},
     "output_type": "display_data"
    },
    {
     "data": {
      "text/plain": [
       "<AxesSubplot:xlabel='time'>"
      ]
     },
     "execution_count": 49,
     "metadata": {},
     "output_type": "execute_result"
    }
   ],
   "source": [
    "sim.history.plot()"
   ]
  },
  {
   "cell_type": "markdown",
   "id": "immune-therapist",
   "metadata": {},
   "source": [
    "Without specifying an end time, `run` will run the simulation until the configuration is silent (all interactions are null). In this case, that will be when the protcol reaches a silent majority consensus configuration."
   ]
  },
  {
   "cell_type": "code",
   "execution_count": 50,
   "id": "instrumental-suggestion",
   "metadata": {},
   "outputs": [
    {
     "name": "stdout",
     "output_type": "stream",
     "text": [
      " Time: 33.002\r"
     ]
    },
    {
     "data": {
      "application/vnd.jupyter.widget-view+json": {
       "model_id": "394e1ca863b04e909d62658e8837579d",
       "version_major": 2,
       "version_minor": 0
      },
      "text/plain": [
       "Canvas(toolbar=Toolbar(toolitems=[('Home', 'Reset original view', 'home', 'home'), ('Back', 'Back to previous …"
      ]
     },
     "metadata": {},
     "output_type": "display_data"
    },
    {
     "data": {
      "text/plain": [
       "<AxesSubplot:xlabel='time'>"
      ]
     },
     "execution_count": 50,
     "metadata": {},
     "output_type": "execute_result"
    }
   ],
   "source": [
    "sim.run()\n",
    "sim.history.plot()"
   ]
  },
  {
   "cell_type": "code",
   "execution_count": 51,
   "id": "received-milton",
   "metadata": {},
   "outputs": [],
   "source": [
    "sim.reset()"
   ]
  },
  {
   "cell_type": "code",
   "execution_count": 52,
   "id": "wireless-forum",
   "metadata": {},
   "outputs": [
    {
     "data": {
      "application/vnd.jupyter.widget-view+json": {
       "model_id": "5789bcd3b4404383980711b790d30ad6",
       "version_major": 2,
       "version_minor": 0
      },
      "text/plain": [
       "Canvas(toolbar=Toolbar(toolitems=[('Home', 'Reset original view', 'home', 'home'), ('Back', 'Back to previous …"
      ]
     },
     "metadata": {},
     "output_type": "display_data"
    }
   ],
   "source": [
    "from ppsim import StatePlotter\n",
    "sp = StatePlotter()\n",
    "sim.add_snapshot(sp)"
   ]
  },
  {
   "cell_type": "code",
   "execution_count": 53,
   "id": "novel-method",
   "metadata": {},
   "outputs": [],
   "source": [
    "sim.run()"
   ]
  },
  {
   "cell_type": "markdown",
   "id": "incredible-retail",
   "metadata": {},
   "source": [
    "As currently described, this protocol is one-way, where these interactions only take place if the two states meet in the specified order. We can see this by checking `print_reactions`."
   ]
  },
  {
   "cell_type": "code",
   "execution_count": 54,
   "id": "rotary-orlando",
   "metadata": {},
   "outputs": [
    {
     "name": "stdout",
     "output_type": "stream",
     "text": [
      "A, B  -->  U, U      with probability 0.5\n",
      "A, U  -->  A, A      with probability 0.5\n",
      "B, U  -->  B, B      with probability 0.5\n"
     ]
    }
   ],
   "source": [
    "sim.print_reactions()"
   ]
  },
  {
   "cell_type": "markdown",
   "id": "aquatic-dealing",
   "metadata": {},
   "source": [
    "Here we have unorder pairs of reactants, and the probability `0.5` is because these interactions as written depended on the order of the agents. If we wanted to consider the more sensible symmetric variant of the protocol, one approach would explicitly give all non-null interactions:"
   ]
  },
  {
   "cell_type": "code",
   "execution_count": 55,
   "id": "announced-cleaner",
   "metadata": {},
   "outputs": [],
   "source": [
    "approximate_majority_symmetric = {\n",
    "    (a,b): (u,u), (b,a): (u,u),\n",
    "    (a,u): (a,a), (u,a): (a,a),\n",
    "    (b,u): (b,b), (u,b): (b,b)\n",
    "}\n",
    "sim = Simulation(init_config, approximate_majority_symmetric)"
   ]
  },
  {
   "cell_type": "markdown",
   "id": "experienced-harvey",
   "metadata": {},
   "source": [
    "But a quicker equivalent approach is to tell `Simulation` that all interactions should be interpreted as symmetric, so if we specify interaction `(a,b)` but leave `(b,a)` as null, then `(b,a)` will be interpreted as having the same output pair."
   ]
  },
  {
   "cell_type": "code",
   "execution_count": 56,
   "id": "acting-playing",
   "metadata": {},
   "outputs": [
    {
     "name": "stdout",
     "output_type": "stream",
     "text": [
      "A, B  -->  U, U\n",
      "A, U  -->  A, A\n",
      "B, U  -->  B, B\n",
      " Time: 17.001\r"
     ]
    },
    {
     "data": {
      "application/vnd.jupyter.widget-view+json": {
       "model_id": "d955f5ccff664da4800c268ec41788a4",
       "version_major": 2,
       "version_minor": 0
      },
      "text/plain": [
       "Canvas(toolbar=Toolbar(toolitems=[('Home', 'Reset original view', 'home', 'home'), ('Back', 'Back to previous …"
      ]
     },
     "metadata": {},
     "output_type": "display_data"
    },
    {
     "data": {
      "text/plain": [
       "<AxesSubplot:xlabel='time'>"
      ]
     },
     "execution_count": 56,
     "metadata": {},
     "output_type": "execute_result"
    }
   ],
   "source": [
    "sim = Simulation(init_config, approximate_majority, transition_order='symmetric')\n",
    "sim.print_reactions()\n",
    "sim.run()\n",
    "sim.history.plot()"
   ]
  },
  {
   "cell_type": "markdown",
   "id": "sorted-handle",
   "metadata": {},
   "source": [
    "A key result about this protocol is it converges in expected O(log n) time, which surprisingly is very nontrivial to prove. We can use this package to very quickly gather some convincing data that the convergence really is O(log n) time, with the function `time_trials`."
   ]
  },
  {
   "cell_type": "code",
   "execution_count": 57,
   "id": "bibliographic-patch",
   "metadata": {},
   "outputs": [
    {
     "data": {
      "application/vnd.jupyter.widget-view+json": {
       "model_id": "9937b4b794f14d1a9416c5cec6b47fa6",
       "version_major": 2,
       "version_minor": 0
      },
      "text/plain": [
       "  0%|          | 0/20 [00:00<?, ?it/s]"
      ]
     },
     "metadata": {},
     "output_type": "display_data"
    },
    {
     "data": {
      "text/html": [
       "<div>\n",
       "<style scoped>\n",
       "    .dataframe tbody tr th:only-of-type {\n",
       "        vertical-align: middle;\n",
       "    }\n",
       "\n",
       "    .dataframe tbody tr th {\n",
       "        vertical-align: top;\n",
       "    }\n",
       "\n",
       "    .dataframe thead th {\n",
       "        text-align: right;\n",
       "    }\n",
       "</style>\n",
       "<table border=\"1\" class=\"dataframe\">\n",
       "  <thead>\n",
       "    <tr style=\"text-align: right;\">\n",
       "      <th></th>\n",
       "      <th>n</th>\n",
       "      <th>time</th>\n",
       "    </tr>\n",
       "  </thead>\n",
       "  <tbody>\n",
       "    <tr>\n",
       "      <th>0</th>\n",
       "      <td>10</td>\n",
       "      <td>7.000000</td>\n",
       "    </tr>\n",
       "    <tr>\n",
       "      <th>1</th>\n",
       "      <td>10</td>\n",
       "      <td>17.500000</td>\n",
       "    </tr>\n",
       "    <tr>\n",
       "      <th>2</th>\n",
       "      <td>10</td>\n",
       "      <td>8.100000</td>\n",
       "    </tr>\n",
       "    <tr>\n",
       "      <th>3</th>\n",
       "      <td>10</td>\n",
       "      <td>9.300000</td>\n",
       "    </tr>\n",
       "    <tr>\n",
       "      <th>4</th>\n",
       "      <td>10</td>\n",
       "      <td>9.000000</td>\n",
       "    </tr>\n",
       "    <tr>\n",
       "      <th>...</th>\n",
       "      <td>...</td>\n",
       "      <td>...</td>\n",
       "    </tr>\n",
       "    <tr>\n",
       "      <th>1289</th>\n",
       "      <td>18329807</td>\n",
       "      <td>46.193274</td>\n",
       "    </tr>\n",
       "    <tr>\n",
       "      <th>1290</th>\n",
       "      <td>42813323</td>\n",
       "      <td>51.307681</td>\n",
       "    </tr>\n",
       "    <tr>\n",
       "      <th>1291</th>\n",
       "      <td>42813323</td>\n",
       "      <td>46.691383</td>\n",
       "    </tr>\n",
       "    <tr>\n",
       "      <th>1292</th>\n",
       "      <td>42813323</td>\n",
       "      <td>46.965354</td>\n",
       "    </tr>\n",
       "    <tr>\n",
       "      <th>1293</th>\n",
       "      <td>100000000</td>\n",
       "      <td>54.840709</td>\n",
       "    </tr>\n",
       "  </tbody>\n",
       "</table>\n",
       "<p>1294 rows × 2 columns</p>\n",
       "</div>"
      ],
      "text/plain": [
       "              n       time\n",
       "0            10   7.000000\n",
       "1            10  17.500000\n",
       "2            10   8.100000\n",
       "3            10   9.300000\n",
       "4            10   9.000000\n",
       "...         ...        ...\n",
       "1289   18329807  46.193274\n",
       "1290   42813323  51.307681\n",
       "1291   42813323  46.691383\n",
       "1292   42813323  46.965354\n",
       "1293  100000000  54.840709\n",
       "\n",
       "[1294 rows x 2 columns]"
      ]
     },
     "execution_count": 57,
     "metadata": {},
     "output_type": "execute_result"
    }
   ],
   "source": [
    "from ppsim import time_trials\n",
    "import numpy as np\n",
    "\n",
    "ns = [int(n) for n in np.geomspace(10, 10 ** 8, 20)]\n",
    "def initial_condition(n):\n",
    "    return {'A': n // 2, 'B': n // 2}\n",
    "df = time_trials(approximate_majority, ns, initial_condition, num_trials=100, max_wallclock_time = 30, transition_order='symmetric')\n",
    "df"
   ]
  },
  {
   "cell_type": "markdown",
   "id": "recorded-organic",
   "metadata": {},
   "source": [
    "This dataframe collected time from up to 100 trials for each population size n across a many orders of magnitude, limited by the budget of 30 seconds of wallclock time that we gave it.\n",
    "We can now use the `seaborn` library to get a convincing plot of the data."
   ]
  },
  {
   "cell_type": "code",
   "execution_count": 59,
   "id": "false-richards",
   "metadata": {},
   "outputs": [
    {
     "data": {
      "image/png": "[encoded data removed]",
      "text/plain": [
       "<Figure size 432x288 with 1 Axes>"
      ]
     },
     "metadata": {
      "needs_background": "light"
     },
     "output_type": "display_data"
    }
   ],
   "source": [
    "import seaborn as sns\n",
    "%matplotlib inline\n",
    "lp = sns.lineplot(x='n', y='time', data=df)\n",
    "lp.set_xscale('log')"
   ]
  },
  {
   "cell_type": "markdown",
   "id": "nominated-glance",
   "metadata": {},
   "source": [
    "## Larger state protocol\n",
    "\n",
    "For more complicated protocols, it would be very tedious to use this dictionary format. Instead we can give an arbitrary Python function which takes a pair of states as input (along with possible other protocol parameters) and returns a pair of states as output (or if we wanted a randomized transition, it would output a dictionary which maps pairs of states to probabilities).\n",
    "\n",
    "As a quick example, let's take a look at the discrete averaging dynamics, as analyzed [here](https://arxiv.org/abs/1808.05389) and [here](https://hal-cnrs.archives-ouvertes.fr/hal-02473856/file/main_JAP.pdf), which have been a key subroutine used in counting and majority protocols."
   ]
  },
  {
   "cell_type": "code",
   "execution_count": 66,
   "id": "restricted-token",
   "metadata": {},
   "outputs": [],
   "source": [
    "from math import ceil, floor\n",
    "\n",
    "def discrete_averaging(a, b):\n",
    "    avg = (a + b) / 2\n",
    "    return floor(avg), ceil(avg)\n",
    "\n",
    "n = 10 ** 7\n",
    "sim = Simulation({0: n // 2, 100: n // 2}, discrete_averaging)"
   ]
  },
  {
   "cell_type": "markdown",
   "id": "large-transmission",
   "metadata": {},
   "source": [
    "We did not need to explicitly describe the state set. Upon initialization, `Simulation` used breadth first search to find all states reachable from the initial configuration."
   ]
  },
  {
   "cell_type": "code",
   "execution_count": 62,
   "id": "recovered-default",
   "metadata": {},
   "outputs": [
    {
     "name": "stdout",
     "output_type": "stream",
     "text": [
      "[0, 1, 2, 3, 4, 5, 6, 7, 8, 9, 10, 11, 12, 13, 14, 15, 16, 17, 18, 19, 20, 21, 22, 23, 24, 25, 26, 27, 28, 29, 30, 31, 32, 33, 34, 35, 36, 37, 38, 39, 40, 41, 42, 43, 44, 45, 46, 47, 48, 49, 50, 51, 52, 53, 54, 55, 56, 57, 58, 59, 60, 61, 62, 63, 64, 65, 66, 67, 68, 69, 70, 71, 72, 73, 74, 75, 76, 77, 78, 79, 80, 81, 82, 83, 84, 85, 86, 87, 88, 89, 90, 91, 92, 93, 94, 95, 96, 97, 98, 99, 100]\n"
     ]
    }
   ],
   "source": [
    "print(sim.state_list)"
   ]
  },
  {
   "cell_type": "markdown",
   "id": "colonial-amateur",
   "metadata": {},
   "source": [
    "This enumeration will call the function `rule` we give it O(q^2) times, where q is the number of reachable states. This preprocessing step also builds an internal representation of the transition function, so it will not need to continue calling `rule`. Thus we don't need to worry too much about our code for `rule` being efficient.\n",
    "\n",
    "Rather than the dictionary format used to input the configuration, internally `Simulation` represents the configuration as an array of counts, where the ordering of the indices is given by `state_list`."
   ]
  },
  {
   "cell_type": "code",
   "execution_count": 17,
   "id": "english-bubble",
   "metadata": {},
   "outputs": [
    {
     "data": {
      "text/plain": [
       "{0: 50000000, 100: 50000000}"
      ]
     },
     "execution_count": 17,
     "metadata": {},
     "output_type": "execute_result"
    }
   ],
   "source": [
    "sim.config_dict"
   ]
  },
  {
   "cell_type": "code",
   "execution_count": 18,
   "id": "instrumental-income",
   "metadata": {},
   "outputs": [
    {
     "data": {
      "text/plain": [
       "array([50000000,        0,        0,        0,        0,        0,\n",
       "              0,        0,        0,        0,        0,        0,\n",
       "              0,        0,        0,        0,        0,        0,\n",
       "              0,        0,        0,        0,        0,        0,\n",
       "              0,        0,        0,        0,        0,        0,\n",
       "              0,        0,        0,        0,        0,        0,\n",
       "              0,        0,        0,        0,        0,        0,\n",
       "              0,        0,        0,        0,        0,        0,\n",
       "              0,        0,        0,        0,        0,        0,\n",
       "              0,        0,        0,        0,        0,        0,\n",
       "              0,        0,        0,        0,        0,        0,\n",
       "              0,        0,        0,        0,        0,        0,\n",
       "              0,        0,        0,        0,        0,        0,\n",
       "              0,        0,        0,        0,        0,        0,\n",
       "              0,        0,        0,        0,        0,        0,\n",
       "              0,        0,        0,        0,        0,        0,\n",
       "              0,        0,        0,        0, 50000000], dtype=int64)"
      ]
     },
     "execution_count": 18,
     "metadata": {},
     "output_type": "execute_result"
    }
   ],
   "source": [
    "sim.config_array"
   ]
  },
  {
   "cell_type": "code",
   "execution_count": 67,
   "id": "labeled-april",
   "metadata": {},
   "outputs": [
    {
     "data": {
      "application/vnd.jupyter.widget-view+json": {
       "model_id": "de9a584cb901404e93b7b7ac09a7f9fc",
       "version_major": 2,
       "version_minor": 0
      },
      "text/plain": [
       "Canvas(toolbar=Toolbar(toolitems=[('Home', 'Reset original view', 'home', 'home'), ('Back', 'Back to previous …"
      ]
     },
     "metadata": {},
     "output_type": "display_data"
    }
   ],
   "source": [
    "%matplotlib widget\n",
    "sp = StatePlotter()\n",
    "sim.add_snapshot(sp)"
   ]
  },
  {
   "cell_type": "code",
   "execution_count": 86,
   "id": "coupled-gregory",
   "metadata": {},
   "outputs": [],
   "source": [
    "def log_counting(a, b, m):\n",
    "    if a == b and a < m:\n",
    "        return 2 * a, 0"
   ]
  },
  {
   "cell_type": "code",
   "execution_count": 87,
   "id": "protected-appointment",
   "metadata": {},
   "outputs": [],
   "source": [
    "import numpy as np\n",
    "n = 10 ** 6\n",
    "init_config = {1: n}\n",
    "sim = Simulation(init_config, log_counting, m=2 * n)"
   ]
  },
  {
   "cell_type": "code",
   "execution_count": 88,
   "id": "dress-treasurer",
   "metadata": {},
   "outputs": [
    {
     "data": {
      "application/vnd.jupyter.widget-view+json": {
       "model_id": "07bdc472f93e4be0b70fe1ae67399e3d",
       "version_major": 2,
       "version_minor": 0
      },
      "text/plain": [
       "Canvas(toolbar=Toolbar(toolitems=[('Home', 'Reset original view', 'home', 'home'), ('Back', 'Back to previous …"
      ]
     },
     "metadata": {},
     "output_type": "display_data"
    }
   ],
   "source": [
    "%matplotlib widget\n",
    "sp = StatePlotter()\n",
    "sim.add_snapshot(sp)"
   ]
  },
  {
   "cell_type": "code",
   "execution_count": 92,
   "id": "blank-advantage",
   "metadata": {},
   "outputs": [
    {
     "data": {
      "application/vnd.jupyter.widget-view+json": {
       "model_id": "fd3c9c85a01f42349b5cbfa96a2f61b4",
       "version_major": 2,
       "version_minor": 0
      },
      "text/plain": [
       "interactive(children=(IntSlider(value=0, description='index', layout=Layout(width='100%'), max=4957), Output()…"
      ]
     },
     "metadata": {},
     "output_type": "display_data"
    }
   ],
   "source": [
    "sim.snapshot_slider()"
   ]
  },
  {
   "cell_type": "code",
   "execution_count": 89,
   "id": "assigned-twelve",
   "metadata": {},
   "outputs": [],
   "source": [
    "sim.run()"
   ]
  },
  {
   "cell_type": "code",
   "execution_count": 91,
   "id": "dying-steps",
   "metadata": {},
   "outputs": [],
   "source": [
    "sp.ax.set_yscale('symlog')"
   ]
  },
  {
   "cell_type": "code",
   "execution_count": null,
   "id": "missing-custody",
   "metadata": {},
   "outputs": [],
   "source": []
  },
  {
   "cell_type": "code",
   "execution_count": 90,
   "id": "bacterial-wedding",
   "metadata": {},
   "outputs": [
    {
     "name": "stdout",
     "output_type": "stream",
     "text": [
      "      1,       1  -->        0,       2\n",
      "      2,       2  -->        0,       4\n",
      "      4,       4  -->        0,       8\n",
      "      8,       8  -->        0,      16\n",
      "     16,      16  -->        0,      32\n",
      "     32,      32  -->        0,      64\n",
      "     64,      64  -->        0,     128\n",
      "    128,     128  -->        0,     256\n",
      "    256,     256  -->        0,     512\n",
      "    512,     512  -->        0,    1024\n",
      "   1024,    1024  -->        0,    2048\n",
      "   2048,    2048  -->        0,    4096\n",
      "   4096,    4096  -->        0,    8192\n",
      "   8192,    8192  -->        0,   16384\n",
      "  16384,   16384  -->        0,   32768\n",
      "  32768,   32768  -->        0,   65536\n",
      "  65536,   65536  -->        0,  131072\n",
      " 131072,  131072  -->        0,  262144\n",
      " 262144,  262144  -->        0,  524288\n",
      " 524288,  524288  -->        0, 1048576\n",
      "1048576, 1048576  -->        0, 2097152\n"
     ]
    }
   ],
   "source": [
    "sim.print_reactions()"
   ]
  },
  {
   "cell_type": "code",
   "execution_count": 76,
   "id": "split-condition",
   "metadata": {},
   "outputs": [
    {
     "name": "stdout",
     "output_type": "stream",
     "text": [
      " 49,  51  -->   50,  50\n"
     ]
    }
   ],
   "source": [
    "sim.print_enabled_reactions()"
   ]
  },
  {
   "cell_type": "code",
   "execution_count": 77,
   "id": "retired-encyclopedia",
   "metadata": {},
   "outputs": [],
   "source": [
    "sim."
   ]
  },
  {
   "cell_type": "code",
   "execution_count": 79,
   "id": "searching-optimum",
   "metadata": {},
   "outputs": [],
   "source": [
    "sp.ax.set_yscale('linear')"
   ]
  },
  {
   "cell_type": "code",
   "execution_count": 74,
   "id": "forward-modern",
   "metadata": {},
   "outputs": [],
   "source": [
    "sim.run(three_consecutive_values)"
   ]
  },
  {
   "cell_type": "markdown",
   "id": "structural-justice",
   "metadata": {},
   "source": [
    "A key result about these discrete averaging dynamics is that they converge in O(log n) time to at most 3 consecutive values. It could take longer to reach the ultimate silent configuration with only 2 consecutive values, so if we wanted to check for the faster convergence condition, we could use a function that checks for the condition. This function takes a configuration dictionary (mapping states to counts) as input and returns `True` if the convergence criterion has been met."
   ]
  },
  {
   "cell_type": "code",
   "execution_count": 73,
   "id": "infectious-philadelphia",
   "metadata": {},
   "outputs": [],
   "source": [
    "def three_consecutive_values(config):\n",
    "    states = config.keys()\n",
    "    return max(states) - min(states) <= 2"
   ]
  },
  {
   "cell_type": "markdown",
   "id": "baking-colleague",
   "metadata": {},
   "source": [
    "Now we can run until this condition is met (or also use `time_trials` as above to generate statistics about this convergence time)."
   ]
  },
  {
   "cell_type": "code",
   "execution_count": 20,
   "id": "effective-puppy",
   "metadata": {},
   "outputs": [
    {
     "name": "stdout",
     "output_type": "stream",
     "text": [
      " Time: 18.397\r"
     ]
    },
    {
     "data": {
      "text/html": [
       "<div>\n",
       "<style scoped>\n",
       "    .dataframe tbody tr th:only-of-type {\n",
       "        vertical-align: middle;\n",
       "    }\n",
       "\n",
       "    .dataframe tbody tr th {\n",
       "        vertical-align: top;\n",
       "    }\n",
       "\n",
       "    .dataframe thead th {\n",
       "        text-align: right;\n",
       "    }\n",
       "</style>\n",
       "<table border=\"1\" class=\"dataframe\">\n",
       "  <thead>\n",
       "    <tr style=\"text-align: right;\">\n",
       "      <th></th>\n",
       "      <th>0</th>\n",
       "      <th>1</th>\n",
       "      <th>2</th>\n",
       "      <th>3</th>\n",
       "      <th>4</th>\n",
       "      <th>5</th>\n",
       "      <th>6</th>\n",
       "      <th>7</th>\n",
       "      <th>8</th>\n",
       "      <th>9</th>\n",
       "      <th>...</th>\n",
       "      <th>91</th>\n",
       "      <th>92</th>\n",
       "      <th>93</th>\n",
       "      <th>94</th>\n",
       "      <th>95</th>\n",
       "      <th>96</th>\n",
       "      <th>97</th>\n",
       "      <th>98</th>\n",
       "      <th>99</th>\n",
       "      <th>100</th>\n",
       "    </tr>\n",
       "    <tr>\n",
       "      <th>time</th>\n",
       "      <th></th>\n",
       "      <th></th>\n",
       "      <th></th>\n",
       "      <th></th>\n",
       "      <th></th>\n",
       "      <th></th>\n",
       "      <th></th>\n",
       "      <th></th>\n",
       "      <th></th>\n",
       "      <th></th>\n",
       "      <th></th>\n",
       "      <th></th>\n",
       "      <th></th>\n",
       "      <th></th>\n",
       "      <th></th>\n",
       "      <th></th>\n",
       "      <th></th>\n",
       "      <th></th>\n",
       "      <th></th>\n",
       "      <th></th>\n",
       "      <th></th>\n",
       "    </tr>\n",
       "  </thead>\n",
       "  <tbody>\n",
       "    <tr>\n",
       "      <th>0.000000</th>\n",
       "      <td>50000000</td>\n",
       "      <td>0</td>\n",
       "      <td>0</td>\n",
       "      <td>0</td>\n",
       "      <td>0</td>\n",
       "      <td>0</td>\n",
       "      <td>0</td>\n",
       "      <td>0</td>\n",
       "      <td>0</td>\n",
       "      <td>0</td>\n",
       "      <td>...</td>\n",
       "      <td>0</td>\n",
       "      <td>0</td>\n",
       "      <td>0</td>\n",
       "      <td>0</td>\n",
       "      <td>0</td>\n",
       "      <td>0</td>\n",
       "      <td>0</td>\n",
       "      <td>0</td>\n",
       "      <td>0</td>\n",
       "      <td>50000000</td>\n",
       "    </tr>\n",
       "    <tr>\n",
       "      <th>0.100146</th>\n",
       "      <td>45014193</td>\n",
       "      <td>1</td>\n",
       "      <td>1</td>\n",
       "      <td>69</td>\n",
       "      <td>12</td>\n",
       "      <td>2</td>\n",
       "      <td>1654</td>\n",
       "      <td>575</td>\n",
       "      <td>1</td>\n",
       "      <td>56</td>\n",
       "      <td>...</td>\n",
       "      <td>76</td>\n",
       "      <td>4</td>\n",
       "      <td>570</td>\n",
       "      <td>1740</td>\n",
       "      <td>0</td>\n",
       "      <td>13</td>\n",
       "      <td>93</td>\n",
       "      <td>0</td>\n",
       "      <td>0</td>\n",
       "      <td>45014282</td>\n",
       "    </tr>\n",
       "    <tr>\n",
       "      <th>0.200448</th>\n",
       "      <td>40112987</td>\n",
       "      <td>40</td>\n",
       "      <td>60</td>\n",
       "      <td>1507</td>\n",
       "      <td>263</td>\n",
       "      <td>75</td>\n",
       "      <td>18696</td>\n",
       "      <td>6346</td>\n",
       "      <td>113</td>\n",
       "      <td>1300</td>\n",
       "      <td>...</td>\n",
       "      <td>1337</td>\n",
       "      <td>120</td>\n",
       "      <td>6237</td>\n",
       "      <td>18861</td>\n",
       "      <td>85</td>\n",
       "      <td>249</td>\n",
       "      <td>1567</td>\n",
       "      <td>62</td>\n",
       "      <td>41</td>\n",
       "      <td>40113094</td>\n",
       "    </tr>\n",
       "    <tr>\n",
       "      <th>0.300672</th>\n",
       "      <td>35406472</td>\n",
       "      <td>373</td>\n",
       "      <td>482</td>\n",
       "      <td>7613</td>\n",
       "      <td>1460</td>\n",
       "      <td>653</td>\n",
       "      <td>63463</td>\n",
       "      <td>21462</td>\n",
       "      <td>1011</td>\n",
       "      <td>6961</td>\n",
       "      <td>...</td>\n",
       "      <td>7081</td>\n",
       "      <td>956</td>\n",
       "      <td>21260</td>\n",
       "      <td>62837</td>\n",
       "      <td>662</td>\n",
       "      <td>1444</td>\n",
       "      <td>7428</td>\n",
       "      <td>439</td>\n",
       "      <td>365</td>\n",
       "      <td>35405222</td>\n",
       "    </tr>\n",
       "    <tr>\n",
       "      <th>0.402360</th>\n",
       "      <td>30903572</td>\n",
       "      <td>1362</td>\n",
       "      <td>1672</td>\n",
       "      <td>20151</td>\n",
       "      <td>4264</td>\n",
       "      <td>2518</td>\n",
       "      <td>134516</td>\n",
       "      <td>45843</td>\n",
       "      <td>4018</td>\n",
       "      <td>20409</td>\n",
       "      <td>...</td>\n",
       "      <td>20438</td>\n",
       "      <td>3858</td>\n",
       "      <td>45996</td>\n",
       "      <td>133796</td>\n",
       "      <td>2456</td>\n",
       "      <td>4261</td>\n",
       "      <td>20178</td>\n",
       "      <td>1553</td>\n",
       "      <td>1245</td>\n",
       "      <td>30904393</td>\n",
       "    </tr>\n",
       "    <tr>\n",
       "      <th>...</th>\n",
       "      <td>...</td>\n",
       "      <td>...</td>\n",
       "      <td>...</td>\n",
       "      <td>...</td>\n",
       "      <td>...</td>\n",
       "      <td>...</td>\n",
       "      <td>...</td>\n",
       "      <td>...</td>\n",
       "      <td>...</td>\n",
       "      <td>...</td>\n",
       "      <td>...</td>\n",
       "      <td>...</td>\n",
       "      <td>...</td>\n",
       "      <td>...</td>\n",
       "      <td>...</td>\n",
       "      <td>...</td>\n",
       "      <td>...</td>\n",
       "      <td>...</td>\n",
       "      <td>...</td>\n",
       "      <td>...</td>\n",
       "      <td>...</td>\n",
       "    </tr>\n",
       "    <tr>\n",
       "      <th>17.997134</th>\n",
       "      <td>0</td>\n",
       "      <td>0</td>\n",
       "      <td>0</td>\n",
       "      <td>0</td>\n",
       "      <td>0</td>\n",
       "      <td>0</td>\n",
       "      <td>0</td>\n",
       "      <td>0</td>\n",
       "      <td>0</td>\n",
       "      <td>0</td>\n",
       "      <td>...</td>\n",
       "      <td>0</td>\n",
       "      <td>0</td>\n",
       "      <td>0</td>\n",
       "      <td>0</td>\n",
       "      <td>0</td>\n",
       "      <td>0</td>\n",
       "      <td>0</td>\n",
       "      <td>0</td>\n",
       "      <td>0</td>\n",
       "      <td>0</td>\n",
       "    </tr>\n",
       "    <tr>\n",
       "      <th>18.097209</th>\n",
       "      <td>0</td>\n",
       "      <td>0</td>\n",
       "      <td>0</td>\n",
       "      <td>0</td>\n",
       "      <td>0</td>\n",
       "      <td>0</td>\n",
       "      <td>0</td>\n",
       "      <td>0</td>\n",
       "      <td>0</td>\n",
       "      <td>0</td>\n",
       "      <td>...</td>\n",
       "      <td>0</td>\n",
       "      <td>0</td>\n",
       "      <td>0</td>\n",
       "      <td>0</td>\n",
       "      <td>0</td>\n",
       "      <td>0</td>\n",
       "      <td>0</td>\n",
       "      <td>0</td>\n",
       "      <td>0</td>\n",
       "      <td>0</td>\n",
       "    </tr>\n",
       "    <tr>\n",
       "      <th>18.197294</th>\n",
       "      <td>0</td>\n",
       "      <td>0</td>\n",
       "      <td>0</td>\n",
       "      <td>0</td>\n",
       "      <td>0</td>\n",
       "      <td>0</td>\n",
       "      <td>0</td>\n",
       "      <td>0</td>\n",
       "      <td>0</td>\n",
       "      <td>0</td>\n",
       "      <td>...</td>\n",
       "      <td>0</td>\n",
       "      <td>0</td>\n",
       "      <td>0</td>\n",
       "      <td>0</td>\n",
       "      <td>0</td>\n",
       "      <td>0</td>\n",
       "      <td>0</td>\n",
       "      <td>0</td>\n",
       "      <td>0</td>\n",
       "      <td>0</td>\n",
       "    </tr>\n",
       "    <tr>\n",
       "      <th>18.297304</th>\n",
       "      <td>0</td>\n",
       "      <td>0</td>\n",
       "      <td>0</td>\n",
       "      <td>0</td>\n",
       "      <td>0</td>\n",
       "      <td>0</td>\n",
       "      <td>0</td>\n",
       "      <td>0</td>\n",
       "      <td>0</td>\n",
       "      <td>0</td>\n",
       "      <td>...</td>\n",
       "      <td>0</td>\n",
       "      <td>0</td>\n",
       "      <td>0</td>\n",
       "      <td>0</td>\n",
       "      <td>0</td>\n",
       "      <td>0</td>\n",
       "      <td>0</td>\n",
       "      <td>0</td>\n",
       "      <td>0</td>\n",
       "      <td>0</td>\n",
       "    </tr>\n",
       "    <tr>\n",
       "      <th>18.397351</th>\n",
       "      <td>0</td>\n",
       "      <td>0</td>\n",
       "      <td>0</td>\n",
       "      <td>0</td>\n",
       "      <td>0</td>\n",
       "      <td>0</td>\n",
       "      <td>0</td>\n",
       "      <td>0</td>\n",
       "      <td>0</td>\n",
       "      <td>0</td>\n",
       "      <td>...</td>\n",
       "      <td>0</td>\n",
       "      <td>0</td>\n",
       "      <td>0</td>\n",
       "      <td>0</td>\n",
       "      <td>0</td>\n",
       "      <td>0</td>\n",
       "      <td>0</td>\n",
       "      <td>0</td>\n",
       "      <td>0</td>\n",
       "      <td>0</td>\n",
       "    </tr>\n",
       "  </tbody>\n",
       "</table>\n",
       "<p>184 rows × 101 columns</p>\n",
       "</div>"
      ],
      "text/plain": [
       "                  0     1     2      3     4     5       6      7     8  \\\n",
       "time                                                                      \n",
       "0.000000   50000000     0     0      0     0     0       0      0     0   \n",
       "0.100146   45014193     1     1     69    12     2    1654    575     1   \n",
       "0.200448   40112987    40    60   1507   263    75   18696   6346   113   \n",
       "0.300672   35406472   373   482   7613  1460   653   63463  21462  1011   \n",
       "0.402360   30903572  1362  1672  20151  4264  2518  134516  45843  4018   \n",
       "...             ...   ...   ...    ...   ...   ...     ...    ...   ...   \n",
       "17.997134         0     0     0      0     0     0       0      0     0   \n",
       "18.097209         0     0     0      0     0     0       0      0     0   \n",
       "18.197294         0     0     0      0     0     0       0      0     0   \n",
       "18.297304         0     0     0      0     0     0       0      0     0   \n",
       "18.397351         0     0     0      0     0     0       0      0     0   \n",
       "\n",
       "               9  ...     91    92     93      94    95    96     97    98  \\\n",
       "time              ...                                                        \n",
       "0.000000       0  ...      0     0      0       0     0     0      0     0   \n",
       "0.100146      56  ...     76     4    570    1740     0    13     93     0   \n",
       "0.200448    1300  ...   1337   120   6237   18861    85   249   1567    62   \n",
       "0.300672    6961  ...   7081   956  21260   62837   662  1444   7428   439   \n",
       "0.402360   20409  ...  20438  3858  45996  133796  2456  4261  20178  1553   \n",
       "...          ...  ...    ...   ...    ...     ...   ...   ...    ...   ...   \n",
       "17.997134      0  ...      0     0      0       0     0     0      0     0   \n",
       "18.097209      0  ...      0     0      0       0     0     0      0     0   \n",
       "18.197294      0  ...      0     0      0       0     0     0      0     0   \n",
       "18.297304      0  ...      0     0      0       0     0     0      0     0   \n",
       "18.397351      0  ...      0     0      0       0     0     0      0     0   \n",
       "\n",
       "             99       100  \n",
       "time                       \n",
       "0.000000      0  50000000  \n",
       "0.100146      0  45014282  \n",
       "0.200448     41  40113094  \n",
       "0.300672    365  35405222  \n",
       "0.402360   1245  30904393  \n",
       "...         ...       ...  \n",
       "17.997134     0         0  \n",
       "18.097209     0         0  \n",
       "18.197294     0         0  \n",
       "18.297304     0         0  \n",
       "18.397351     0         0  \n",
       "\n",
       "[184 rows x 101 columns]"
      ]
     },
     "execution_count": 20,
     "metadata": {},
     "output_type": "execute_result"
    }
   ],
   "source": [
    "sim.run(three_consecutive_values, 0.1)\n",
    "sim.history"
   ]
  },
  {
   "cell_type": "code",
   "execution_count": 27,
   "id": "approximate-consultancy",
   "metadata": {},
   "outputs": [],
   "source": [
    "%matplotlib widget"
   ]
  },
  {
   "cell_type": "code",
   "execution_count": 35,
   "id": "signal-doubt",
   "metadata": {},
   "outputs": [
    {
     "data": {
      "application/vnd.jupyter.widget-view+json": {
       "model_id": "fe46444372b545a4a74f0e9d6a3847f7",
       "version_major": 2,
       "version_minor": 0
      },
      "text/plain": [
       "Canvas(toolbar=Toolbar(toolitems=[('Home', 'Reset original view', 'home', 'home'), ('Back', 'Back to previous …"
      ]
     },
     "metadata": {},
     "output_type": "display_data"
    },
    {
     "data": {
      "text/plain": [
       "[<matplotlib.lines.Line2D at 0x1deff163eb8>]"
      ]
     },
     "execution_count": 35,
     "metadata": {},
     "output_type": "execute_result"
    }
   ],
   "source": [
    "from matplotlib import pyplot as plt\n",
    "fig, ax = plt.subplots()\n",
    "ax.plot([x ** 2 for x in range(1000)])"
   ]
  },
  {
   "cell_type": "code",
   "execution_count": 38,
   "id": "secure-confusion",
   "metadata": {},
   "outputs": [],
   "source": [
    "ax.set_yscale('linear')"
   ]
  },
  {
   "cell_type": "markdown",
   "id": "animated-bandwidth",
   "metadata": {},
   "source": [
    "With a much larger number of states, the `history` dataframe is more unwieldly, so trying to directly call `history.plot()` would be very messy and not very useful.\n",
    "Instead we will bring in a `Snapshot` object that makes a bar plot with the counts of each state, and lets us visualize the way the distribution evolves over time.\n",
    "For this `StatePlotter` object to work as intended, we need to be using an interactive matplotlib backend, such as `%matplotlib widget` or `%matplotlib qt`."
   ]
  },
  {
   "cell_type": "code",
   "execution_count": 21,
   "id": "agreed-dispute",
   "metadata": {},
   "outputs": [
    {
     "data": {
      "application/vnd.jupyter.widget-view+json": {
       "model_id": "e5d304a3ec22418e998c78d8f43a47d8",
       "version_major": 2,
       "version_minor": 0
      },
      "text/plain": [
       "Canvas(toolbar=Toolbar(toolitems=[('Home', 'Reset original view', 'home', 'home'), ('Back', 'Back to previous …"
      ]
     },
     "metadata": {},
     "output_type": "display_data"
    },
    {
     "data": {
      "application/vnd.jupyter.widget-view+json": {
       "model_id": "4c5fafcb3ae14b34bd0e89ea77e9c4af",
       "version_major": 2,
       "version_minor": 0
      },
      "text/plain": [
       "interactive(children=(FloatSlider(value=0.0, description='time', layout=Layout(width='100%'), max=18.39735108,…"
      ]
     },
     "metadata": {},
     "output_type": "display_data"
    }
   ],
   "source": [
    "%matplotlib widget\n",
    "from ppsim import StatePlotter\n",
    "sp = StatePlotter()\n",
    "sim.add_snapshot(sp)\n",
    "sim.snapshot_slider('time')"
   ]
  },
  {
   "cell_type": "markdown",
   "id": "thirty-transport",
   "metadata": {},
   "source": [
    "To better visualize small count states, let's change `yscale` to `symlog`."
   ]
  },
  {
   "cell_type": "code",
   "execution_count": 22,
   "id": "peripheral-component",
   "metadata": {},
   "outputs": [],
   "source": [
    "sp.ax.set_yscale('symlog')"
   ]
  },
  {
   "cell_type": "markdown",
   "id": "scenic-infection",
   "metadata": {},
   "source": [
    "If we run the `Simulation` while this `Snapshot` has already been created, it will update while the simulation runs. Because the population average was exactly 50, the ultimate silent configuration will have every agent in state 50, but it will take a a very long time to reach, as we must wait for pairwise interactions between dwindling counts of states 49 and 51. We can check that this reaction is now the only possible non-null interaction."
   ]
  },
  {
   "cell_type": "code",
   "execution_count": 23,
   "id": "disabled-masters",
   "metadata": {},
   "outputs": [
    {
     "name": "stdout",
     "output_type": "stream",
     "text": [
      " 49,  51  -->   50,  50\n"
     ]
    }
   ],
   "source": [
    "sim.print_enabled_reactions()"
   ]
  },
  {
   "cell_type": "markdown",
   "id": "closed-chapter",
   "metadata": {},
   "source": [
    "As a result, the probability of a non-null interaction will grow very small, upon which the simulator will switch to the Gillespie algorithm. This allows it to relatively quickly run all the way until silence, which we can confirm takes a very long amount of parallel time."
   ]
  },
  {
   "cell_type": "code",
   "execution_count": 24,
   "id": "rational-contrary",
   "metadata": {},
   "outputs": [],
   "source": [
    "sim.run()"
   ]
  },
  {
   "cell_type": "markdown",
   "id": "guilty-lesbian",
   "metadata": {},
   "source": [
    "Since the timescale of the whole simulation is now very long, we should have the slider range across recorded indices rather than parallel time."
   ]
  },
  {
   "cell_type": "code",
   "execution_count": 25,
   "id": "dominant-victor",
   "metadata": {},
   "outputs": [
    {
     "data": {
      "application/vnd.jupyter.widget-view+json": {
       "model_id": "f28c6a1beb104a7392a431022f6ebeba",
       "version_major": 2,
       "version_minor": 0
      },
      "text/plain": [
       "Canvas(toolbar=Toolbar(toolitems=[('Home', 'Reset original view', 'home', 'home'), ('Back', 'Back to previous …"
      ]
     },
     "metadata": {},
     "output_type": "display_data"
    },
    {
     "data": {
      "application/vnd.jupyter.widget-view+json": {
       "model_id": "51a42eb36b74412a99b10decf345fbae",
       "version_major": 2,
       "version_minor": 0
      },
      "text/plain": [
       "interactive(children=(IntSlider(value=0, description='index', layout=Layout(width='100%'), max=11329), Output(…"
      ]
     },
     "metadata": {},
     "output_type": "display_data"
    }
   ],
   "source": [
    "display(sp.fig.canvas)\n",
    "sim.snapshot_slider('index')"
   ]
  },
  {
   "cell_type": "code",
   "execution_count": null,
   "id": "alike-cannon",
   "metadata": {},
   "outputs": [],
   "source": []
  }
 ],
 "metadata": {
  "kernelspec": {
   "display_name": "Python 3",
   "language": "python",
   "name": "python3"
  },
  "language_info": {
   "codemirror_mode": {
    "name": "ipython",
    "version": 3
   },
   "file_extension": ".py",
   "mimetype": "text/x-python",
   "name": "python",
   "nbconvert_exporter": "python",
   "pygments_lexer": "ipython3",
   "version": "3.7.3"
  }
 },
 "nbformat": 4,
 "nbformat_minor": 5
}
