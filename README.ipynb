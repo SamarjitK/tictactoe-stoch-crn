{
 "cells": [
  {
   "cell_type": "markdown",
   "id": "labeled-posting",
   "metadata": {},
   "source": [
    "# ppsim Python package\n",
    "\n",
    "The `ppsim` package is used for simulating population protcols. The core of the simulator uses a [batching algorithm](https://arxiv.org/abs/2005.03584) which gives significant asymptotic gains for protocols with relatively small reachable state sets. The package is designed to be run in a Python notebook, to concisely describe complex protocols, efficiently simulate their dynamics, and provide helpful visualization of the simulation.\n",
    "\n",
    "## Installation\n",
    "\n",
    "The package can be installed with `pip` via"
   ]
  },
  {
   "cell_type": "code",
   "execution_count": 2,
   "id": "shared-ribbon",
   "metadata": {
    "collapsed": true,
    "jupyter": {
     "outputs_hidden": true
    },
    "tags": []
   },
   "outputs": [
    {
     "name": "stdout",
     "output_type": "stream",
     "text": [
      "Found existing installation: ppsim 0.0.5\n",
      "Can't uninstall 'ppsim'. No files were found to uninstall.\n",
      "Note: you may need to restart the kernel to use updated packages.\n"
     ]
    }
   ],
   "source": [
    "pip install ppsim"
   ]
  },
  {
   "cell_type": "markdown",
   "id": "operational-there",
   "metadata": {},
   "source": [
    "The most important part of the package is the `Simulation` class, which is responsible for parsing a protocol, performing the simulation, and giving data about the simulation."
   ]
  },
  {
   "cell_type": "code",
   "execution_count": 3,
   "id": "sustainable-advertising",
   "metadata": {},
   "outputs": [],
   "source": [
    "from ppsim import Simulation"
   ]
  },
  {
   "cell_type": "markdown",
   "id": "complimentary-sally",
   "metadata": {},
   "source": [
    "## Example protcol\n",
    "\n",
    "A state can be any hashable Python object. The simplest way to describe a protocol is a dictionary mapping pairs of input states to pairs of output states.\n",
    "For example, here is a description of the classic 3-state [approximate majority protocol](http://www.cs.yale.edu/homes/aspnes/papers/approximate-majority-journal.pdf). There are two initial states `A` and `B`, and the protocol converges with high probability to the majority state with the help of a third \"undecided\" state `U`."
   ]
  },
  {
   "cell_type": "code",
   "execution_count": 4,
   "id": "light-princess",
   "metadata": {},
   "outputs": [],
   "source": [
    "a, b, u = 'A', 'B', 'U'\n",
    "approximate_majority = {\n",
    "    (a,b): (u,u),\n",
    "    (a,u): (a,a),\n",
    "    (b,u): (b,b)\n",
    "}"
   ]
  },
  {
   "cell_type": "markdown",
   "id": "exotic-junction",
   "metadata": {},
   "source": [
    "## Example Simulation\n",
    "\n",
    "To instantiate a `Simulation`, we must specify a protocol along with an initial condition, which is a dictionary mapping states to counts. Let's simulate approximate majority with in a population of one billion agents with a slight majority of `A` agents."
   ]
  },
  {
   "cell_type": "code",
   "execution_count": 7,
   "id": "christian-morris",
   "metadata": {},
   "outputs": [],
   "source": [
    "n = 10 ** 9\n",
    "init_config = {a: 0.501 * n, b: 0.499 * n}\n",
    "sim = Simulation(init_config, approximate_majority)"
   ]
  },
  {
   "cell_type": "markdown",
   "id": "mobile-concentrate",
   "metadata": {},
   "source": [
    "Now let's run this simulation for `10` units of parallel time (`10 * n` interactions). We will record the configuration every `0.1` units of time."
   ]
  },
  {
   "cell_type": "code",
   "execution_count": 8,
   "id": "touched-kenya",
   "metadata": {},
   "outputs": [
    {
     "name": "stdout",
     "output_type": "stream",
     "text": [
      " Time: 10.002\r"
     ]
    }
   ],
   "source": [
    "sim.run(10, 0.1)"
   ]
  },
  {
   "cell_type": "markdown",
   "id": "circular-level",
   "metadata": {},
   "source": [
    "The `Simulation` class can display all these configurations in a `pandas` dataframe in the attribute `history`."
   ]
  },
  {
   "cell_type": "code",
   "execution_count": 9,
   "id": "black-combine",
   "metadata": {},
   "outputs": [
    {
     "data": {
      "text/html": [
       "<div>\n",
       "<style scoped>\n",
       "    .dataframe tbody tr th:only-of-type {\n",
       "        vertical-align: middle;\n",
       "    }\n",
       "\n",
       "    .dataframe tbody tr th {\n",
       "        vertical-align: top;\n",
       "    }\n",
       "\n",
       "    .dataframe thead th {\n",
       "        text-align: right;\n",
       "    }\n",
       "</style>\n",
       "<table border=\"1\" class=\"dataframe\">\n",
       "  <thead>\n",
       "    <tr style=\"text-align: right;\">\n",
       "      <th></th>\n",
       "      <th>A</th>\n",
       "      <th>B</th>\n",
       "      <th>U</th>\n",
       "    </tr>\n",
       "    <tr>\n",
       "      <th>time</th>\n",
       "      <th></th>\n",
       "      <th></th>\n",
       "      <th></th>\n",
       "    </tr>\n",
       "  </thead>\n",
       "  <tbody>\n",
       "    <tr>\n",
       "      <th>0.000000</th>\n",
       "      <td>501000000</td>\n",
       "      <td>499000000</td>\n",
       "      <td>0</td>\n",
       "    </tr>\n",
       "    <tr>\n",
       "      <th>0.100019</th>\n",
       "      <td>478280568</td>\n",
       "      <td>476279336</td>\n",
       "      <td>45440096</td>\n",
       "    </tr>\n",
       "    <tr>\n",
       "      <th>0.200020</th>\n",
       "      <td>459452270</td>\n",
       "      <td>457437245</td>\n",
       "      <td>83110485</td>\n",
       "    </tr>\n",
       "    <tr>\n",
       "      <th>0.300020</th>\n",
       "      <td>443657844</td>\n",
       "      <td>441619960</td>\n",
       "      <td>114722196</td>\n",
       "    </tr>\n",
       "    <tr>\n",
       "      <th>0.400038</th>\n",
       "      <td>430275369</td>\n",
       "      <td>428209473</td>\n",
       "      <td>141515158</td>\n",
       "    </tr>\n",
       "    <tr>\n",
       "      <th>...</th>\n",
       "      <td>...</td>\n",
       "      <td>...</td>\n",
       "      <td>...</td>\n",
       "    </tr>\n",
       "    <tr>\n",
       "      <th>9.601563</th>\n",
       "      <td>352383237</td>\n",
       "      <td>314710447</td>\n",
       "      <td>332906316</td>\n",
       "    </tr>\n",
       "    <tr>\n",
       "      <th>9.701567</th>\n",
       "      <td>353031342</td>\n",
       "      <td>314085559</td>\n",
       "      <td>332883099</td>\n",
       "    </tr>\n",
       "    <tr>\n",
       "      <th>9.801585</th>\n",
       "      <td>353699490</td>\n",
       "      <td>313442830</td>\n",
       "      <td>332857680</td>\n",
       "    </tr>\n",
       "    <tr>\n",
       "      <th>9.901613</th>\n",
       "      <td>354400478</td>\n",
       "      <td>312787765</td>\n",
       "      <td>332811757</td>\n",
       "    </tr>\n",
       "    <tr>\n",
       "      <th>10.001624</th>\n",
       "      <td>355119662</td>\n",
       "      <td>312104917</td>\n",
       "      <td>332775421</td>\n",
       "    </tr>\n",
       "  </tbody>\n",
       "</table>\n",
       "<p>101 rows × 3 columns</p>\n",
       "</div>"
      ],
      "text/plain": [
       "                   A          B          U\n",
       "time                                      \n",
       "0.000000   501000000  499000000          0\n",
       "0.100019   478280568  476279336   45440096\n",
       "0.200020   459452270  457437245   83110485\n",
       "0.300020   443657844  441619960  114722196\n",
       "0.400038   430275369  428209473  141515158\n",
       "...              ...        ...        ...\n",
       "9.601563   352383237  314710447  332906316\n",
       "9.701567   353031342  314085559  332883099\n",
       "9.801585   353699490  313442830  332857680\n",
       "9.901613   354400478  312787765  332811757\n",
       "10.001624  355119662  312104917  332775421\n",
       "\n",
       "[101 rows x 3 columns]"
      ]
     },
     "execution_count": 9,
     "metadata": {},
     "output_type": "execute_result"
    }
   ],
   "source": [
    "sim.history"
   ]
  },
  {
   "cell_type": "code",
   "execution_count": 12,
   "id": "neural-report",
   "metadata": {},
   "outputs": [
    {
     "data": {
      "text/plain": [
       "<AxesSubplot:xlabel='time'>"
      ]
     },
     "execution_count": 12,
     "metadata": {},
     "output_type": "execute_result"
    },
    {
     "data": {
      "image/png": "[encoded data removed]",
      "text/plain": [
       "<Figure size 432x288 with 1 Axes>"
      ]
     },
     "metadata": {
      "needs_background": "light"
     },
     "output_type": "display_data"
    }
   ],
   "source": [
    "sim.history.plot()"
   ]
  },
  {
   "cell_type": "markdown",
   "id": "positive-dependence",
   "metadata": {},
   "source": [
    "Without specifying an end time, `run` will run the simulation until the configuration is silent (all interactions are null). In this case, that will be when the protcol reaches a silent majority consensus configuration."
   ]
  },
  {
   "cell_type": "code",
   "execution_count": 8,
   "id": "brave-support",
   "metadata": {},
   "outputs": [
    {
     "name": "stdout",
     "output_type": "stream",
     "text": [
      " Time: 44.593\r"
     ]
    },
    {
     "data": {
      "text/plain": [
       "<AxesSubplot:xlabel='time'>"
      ]
     },
     "execution_count": 8,
     "metadata": {},
     "output_type": "execute_result"
    },
    {
     "data": {
      "image/png": "[encoded data removed]",
      "text/plain": [
       "<Figure size 432x288 with 1 Axes>"
      ]
     },
     "metadata": {
      "needs_background": "light"
     },
     "output_type": "display_data"
    }
   ],
   "source": [
    "sim.run()\n",
    "sim.history.plot()"
   ]
  },
  {
   "cell_type": "markdown",
   "id": "voluntary-consultation",
   "metadata": {},
   "source": [
    "As currently described, this protocol is one-way, where these interactions only take place if the two states meet in the specified order. We can see this by printing `sim.reactions`."
   ]
  },
  {
   "cell_type": "code",
   "execution_count": 14,
   "id": "substantial-cinema",
   "metadata": {},
   "outputs": [
    {
     "name": "stdout",
     "output_type": "stream",
     "text": [
      "A, B  -->  U, U      with probability 0.5\n",
      "A, U  -->  A, A      with probability 0.5\n",
      "B, U  -->  B, B      with probability 0.5\n"
     ]
    }
   ],
   "source": [
    "print(sim.reactions)"
   ]
  },
  {
   "cell_type": "markdown",
   "id": "superb-harassment",
   "metadata": {},
   "source": [
    "Here we have unorder pairs of reactants, and the probability `0.5` is because these interactions as written depended on the order of the agents. If we wanted to consider the more sensible symmetric variant of the protocol, one approach would explicitly give all non-null interactions:"
   ]
  },
  {
   "cell_type": "code",
   "execution_count": 15,
   "id": "narrow-diving",
   "metadata": {},
   "outputs": [],
   "source": [
    "approximate_majority_symmetric = {\n",
    "    (a,b): (u,u), (b,a): (u,u),\n",
    "    (a,u): (a,a), (u,a): (a,a),\n",
    "    (b,u): (b,b), (u,b): (b,b)\n",
    "}\n",
    "sim = Simulation(init_config, approximate_majority_symmetric)"
   ]
  },
  {
   "cell_type": "markdown",
   "id": "immediate-platform",
   "metadata": {},
   "source": [
    "But a quicker equivalent approach is to tell `Simulation` that all interactions should be interpreted as symmetric, so if we specify interaction `(a,b)` but leave `(b,a)` as null, then `(b,a)` will be interpreted as having the same output pair."
   ]
  },
  {
   "cell_type": "code",
   "execution_count": 17,
   "id": "professional-female",
   "metadata": {},
   "outputs": [
    {
     "name": "stdout",
     "output_type": "stream",
     "text": [
      "A, B  -->  U, U\n",
      "A, U  -->  A, A\n",
      "B, U  -->  B, B\n",
      " Time: 23.383\r"
     ]
    },
    {
     "data": {
      "text/plain": [
       "<AxesSubplot:xlabel='time'>"
      ]
     },
     "execution_count": 17,
     "metadata": {},
     "output_type": "execute_result"
    },
    {
     "data": {
      "image/png": "[encoded data removed]",
      "text/plain": [
       "<Figure size 432x288 with 1 Axes>"
      ]
     },
     "metadata": {
      "needs_background": "light"
     },
     "output_type": "display_data"
    }
   ],
   "source": [
    "sim = Simulation(init_config, approximate_majority, transition_order='symmetric')\n",
    "print(sim.reactions)\n",
    "sim.run()\n",
    "sim.history.plot()"
   ]
  },
  {
   "cell_type": "markdown",
   "id": "unique-package",
   "metadata": {},
   "source": [
    "A key result about this protocol is it converges in expected O(log n) time, which surprisingly is very nontrivial to prove. We can use this package to very quickly gather some convincing data that the convergence really is O(log n) time, with the function `time_trials`."
   ]
  },
  {
   "cell_type": "code",
   "execution_count": 18,
   "id": "finnish-ancient",
   "metadata": {},
   "outputs": [
    {
     "data": {
      "application/vnd.jupyter.widget-view+json": {
       "model_id": "b147e603d77142cf94db179dad350b62",
       "version_major": 2,
       "version_minor": 0
      },
      "text/plain": [
       "  0%|          | 0/20 [00:00<?, ?it/s]"
      ]
     },
     "metadata": {},
     "output_type": "display_data"
    },
    {
     "data": {
      "text/html": [
       "<div>\n",
       "<style scoped>\n",
       "    .dataframe tbody tr th:only-of-type {\n",
       "        vertical-align: middle;\n",
       "    }\n",
       "\n",
       "    .dataframe tbody tr th {\n",
       "        vertical-align: top;\n",
       "    }\n",
       "\n",
       "    .dataframe thead th {\n",
       "        text-align: right;\n",
       "    }\n",
       "</style>\n",
       "<table border=\"1\" class=\"dataframe\">\n",
       "  <thead>\n",
       "    <tr style=\"text-align: right;\">\n",
       "      <th></th>\n",
       "      <th>n</th>\n",
       "      <th>time</th>\n",
       "    </tr>\n",
       "  </thead>\n",
       "  <tbody>\n",
       "    <tr>\n",
       "      <th>0</th>\n",
       "      <td>10</td>\n",
       "      <td>5.600000</td>\n",
       "    </tr>\n",
       "    <tr>\n",
       "      <th>1</th>\n",
       "      <td>10</td>\n",
       "      <td>3.900000</td>\n",
       "    </tr>\n",
       "    <tr>\n",
       "      <th>2</th>\n",
       "      <td>10</td>\n",
       "      <td>5.400000</td>\n",
       "    </tr>\n",
       "    <tr>\n",
       "      <th>3</th>\n",
       "      <td>10</td>\n",
       "      <td>6.000000</td>\n",
       "    </tr>\n",
       "    <tr>\n",
       "      <th>4</th>\n",
       "      <td>10</td>\n",
       "      <td>2.900000</td>\n",
       "    </tr>\n",
       "    <tr>\n",
       "      <th>...</th>\n",
       "      <td>...</td>\n",
       "      <td>...</td>\n",
       "    </tr>\n",
       "    <tr>\n",
       "      <th>1501</th>\n",
       "      <td>42813323</td>\n",
       "      <td>31.818947</td>\n",
       "    </tr>\n",
       "    <tr>\n",
       "      <th>1502</th>\n",
       "      <td>100000000</td>\n",
       "      <td>31.928544</td>\n",
       "    </tr>\n",
       "    <tr>\n",
       "      <th>1503</th>\n",
       "      <td>100000000</td>\n",
       "      <td>25.953497</td>\n",
       "    </tr>\n",
       "    <tr>\n",
       "      <th>1504</th>\n",
       "      <td>100000000</td>\n",
       "      <td>24.025694</td>\n",
       "    </tr>\n",
       "    <tr>\n",
       "      <th>1505</th>\n",
       "      <td>100000000</td>\n",
       "      <td>25.495013</td>\n",
       "    </tr>\n",
       "  </tbody>\n",
       "</table>\n",
       "<p>1506 rows × 2 columns</p>\n",
       "</div>"
      ],
      "text/plain": [
       "              n       time\n",
       "0            10   5.600000\n",
       "1            10   3.900000\n",
       "2            10   5.400000\n",
       "3            10   6.000000\n",
       "4            10   2.900000\n",
       "...         ...        ...\n",
       "1501   42813323  31.818947\n",
       "1502  100000000  31.928544\n",
       "1503  100000000  25.953497\n",
       "1504  100000000  24.025694\n",
       "1505  100000000  25.495013\n",
       "\n",
       "[1506 rows x 2 columns]"
      ]
     },
     "execution_count": 18,
     "metadata": {},
     "output_type": "execute_result"
    }
   ],
   "source": [
    "from ppsim import time_trials\n",
    "import numpy as np\n",
    "\n",
    "ns = [int(n) for n in np.geomspace(10, 10 ** 8, 20)]\n",
    "def initial_condition(n):\n",
    "    return {'A': n // 2, 'B': n // 2}\n",
    "df = time_trials(approximate_majority, ns, initial_condition, num_trials=100, max_wallclock_time = 30, transition_order='symmetric')\n",
    "df"
   ]
  },
  {
   "cell_type": "markdown",
   "id": "former-niger",
   "metadata": {},
   "source": [
    "This dataframe collected time from up to 100 trials for each population size n across a many orders of magnitude, limited by the budget of 30 seconds of wallclock time that we gave it.\n",
    "We can now use the `seaborn` library to get a convincing plot of the data."
   ]
  },
  {
   "cell_type": "code",
   "execution_count": 13,
   "id": "motivated-variance",
   "metadata": {},
   "outputs": [
    {
     "data": {
      "image/png": "[encoded data removed]",
      "text/plain": [
       "<Figure size 432x288 with 1 Axes>"
      ]
     },
     "metadata": {
      "needs_background": "light"
     },
     "output_type": "display_data"
    }
   ],
   "source": [
    "import seaborn as sns\n",
    "lp = sns.lineplot(x='n', y='time', data=df)\n",
    "lp.set_xscale('log')"
   ]
  },
  {
   "cell_type": "markdown",
   "id": "rapid-blade",
   "metadata": {},
   "source": [
    "## Larger state protocol\n",
    "\n",
    "For more complicated protocols, it would be very tedious to use this dictionary format. Instead we can give an arbitrary Python function which takes a pair of states as input (along with possible other protocol parameters) and returns a pair of states as output (or if we wanted a randomized transition, it would output a dictionary which maps pairs of states to probabilities).\n",
    "\n",
    "As a quick example, let's take a look at the discrete averaging dynamics, as analyzed [here](https://arxiv.org/abs/1808.05389) and [here](https://hal-cnrs.archives-ouvertes.fr/hal-02473856/file/main_JAP.pdf), which have been a key subroutine used in counting and majority protocols."
   ]
  },
  {
   "cell_type": "code",
   "execution_count": 19,
   "id": "worse-aurora",
   "metadata": {},
   "outputs": [],
   "source": [
    "from math import ceil, floor\n",
    "\n",
    "def discrete_averaging(a, b):\n",
    "    avg = (a + b) / 2\n",
    "    return floor(avg), ceil(avg)\n",
    "\n",
    "n = 10 ** 8\n",
    "sim = Simulation({0: n // 2, 100: n // 2}, discrete_averaging)"
   ]
  },
  {
   "cell_type": "markdown",
   "id": "medium-wrist",
   "metadata": {},
   "source": [
    "We did not need to explicitly describe the state set. Upon initialization, `Simulation` used breadth first search to find all states reachable from the initial configuration."
   ]
  },
  {
   "cell_type": "code",
   "execution_count": 23,
   "id": "prompt-lambda",
   "metadata": {},
   "outputs": [
    {
     "name": "stdout",
     "output_type": "stream",
     "text": [
      "[0, 1, 2, 3, 4, 5, 6, 7, 8, 9, 10, 11, 12, 13, 14, 15, 16, 17, 18, 19, 20, 21, 22, 23, 24, 25, 26, 27, 28, 29, 30, 31, 32, 33, 34, 35, 36, 37, 38, 39, 40, 41, 42, 43, 44, 45, 46, 47, 48, 49, 50, 51, 52, 53, 54, 55, 56, 57, 58, 59, 60, 61, 62, 63, 64, 65, 66, 67, 68, 69, 70, 71, 72, 73, 74, 75, 76, 77, 78, 79, 80, 81, 82, 83, 84, 85, 86, 87, 88, 89, 90, 91, 92, 93, 94, 95, 96, 97, 98, 99, 100]\n"
     ]
    }
   ],
   "source": [
    "print(sim.state_list)"
   ]
  },
  {
   "cell_type": "markdown",
   "id": "technological-breeding",
   "metadata": {},
   "source": [
    "This enumeration will call the function `rule` we give it O(q^2) times, where q is the number of reachable states. This preprocessing step also builds an internal representation of the transition function, so it will not need to continue calling `rule`. Thus we don't need to worry too much about our code for `rule` being efficient.\n",
    "\n",
    "Rather than the dictionary format used to input the configuration, internally `Simulation` represents the configuration as an array of counts, where the ordering of the indices is given by `state_list`."
   ]
  },
  {
   "cell_type": "code",
   "execution_count": 24,
   "id": "synthetic-reliance",
   "metadata": {},
   "outputs": [
    {
     "data": {
      "text/plain": [
       "{0: 50000000, 100: 50000000}"
      ]
     },
     "execution_count": 24,
     "metadata": {},
     "output_type": "execute_result"
    }
   ],
   "source": [
    "sim.config_dict"
   ]
  },
  {
   "cell_type": "code",
   "execution_count": 25,
   "id": "addressed-mathematics",
   "metadata": {},
   "outputs": [
    {
     "data": {
      "text/plain": [
       "array([50000000,        0,        0,        0,        0,        0,\n",
       "              0,        0,        0,        0,        0,        0,\n",
       "              0,        0,        0,        0,        0,        0,\n",
       "              0,        0,        0,        0,        0,        0,\n",
       "              0,        0,        0,        0,        0,        0,\n",
       "              0,        0,        0,        0,        0,        0,\n",
       "              0,        0,        0,        0,        0,        0,\n",
       "              0,        0,        0,        0,        0,        0,\n",
       "              0,        0,        0,        0,        0,        0,\n",
       "              0,        0,        0,        0,        0,        0,\n",
       "              0,        0,        0,        0,        0,        0,\n",
       "              0,        0,        0,        0,        0,        0,\n",
       "              0,        0,        0,        0,        0,        0,\n",
       "              0,        0,        0,        0,        0,        0,\n",
       "              0,        0,        0,        0,        0,        0,\n",
       "              0,        0,        0,        0,        0,        0,\n",
       "              0,        0,        0,        0, 50000000], dtype=int64)"
      ]
     },
     "execution_count": 25,
     "metadata": {},
     "output_type": "execute_result"
    }
   ],
   "source": [
    "sim.config_array"
   ]
  },
  {
   "cell_type": "markdown",
   "id": "monetary-geology",
   "metadata": {},
   "source": [
    "A key result about these discrete averaging dynamics is that they converge in O(log n) time to at most 3 consecutive values. It could take longer to reach the ultimate silent configuration with only 2 consecutive values, so if we wanted to check for the faster convergence condition, we could use a function that checks for the condition. This function takes a configuration dictionary (mapping states to counts) as input and returns `True` if the convergence criterion has been met."
   ]
  },
  {
   "cell_type": "code",
   "execution_count": 26,
   "id": "empirical-standard",
   "metadata": {},
   "outputs": [],
   "source": [
    "def three_consecutive_values(config):\n",
    "    states = config.keys()\n",
    "    return max(states) - min(states) <= 2"
   ]
  },
  {
   "cell_type": "markdown",
   "id": "internal-bearing",
   "metadata": {},
   "source": [
    "Now we can run until this condition is met (or also use `time_trials` as above to generate statistics about this convergence time)."
   ]
  },
  {
   "cell_type": "code",
   "execution_count": 27,
   "id": "lined-accident",
   "metadata": {},
   "outputs": [
    {
     "name": "stdout",
     "output_type": "stream",
     "text": [
      " Time: 18.394\r"
     ]
    },
    {
     "data": {
      "text/html": [
       "<div>\n",
       "<style scoped>\n",
       "    .dataframe tbody tr th:only-of-type {\n",
       "        vertical-align: middle;\n",
       "    }\n",
       "\n",
       "    .dataframe tbody tr th {\n",
       "        vertical-align: top;\n",
       "    }\n",
       "\n",
       "    .dataframe thead th {\n",
       "        text-align: right;\n",
       "    }\n",
       "</style>\n",
       "<table border=\"1\" class=\"dataframe\">\n",
       "  <thead>\n",
       "    <tr style=\"text-align: right;\">\n",
       "      <th></th>\n",
       "      <th>0</th>\n",
       "      <th>1</th>\n",
       "      <th>2</th>\n",
       "      <th>3</th>\n",
       "      <th>4</th>\n",
       "      <th>5</th>\n",
       "      <th>6</th>\n",
       "      <th>7</th>\n",
       "      <th>8</th>\n",
       "      <th>9</th>\n",
       "      <th>...</th>\n",
       "      <th>91</th>\n",
       "      <th>92</th>\n",
       "      <th>93</th>\n",
       "      <th>94</th>\n",
       "      <th>95</th>\n",
       "      <th>96</th>\n",
       "      <th>97</th>\n",
       "      <th>98</th>\n",
       "      <th>99</th>\n",
       "      <th>100</th>\n",
       "    </tr>\n",
       "    <tr>\n",
       "      <th>time</th>\n",
       "      <th></th>\n",
       "      <th></th>\n",
       "      <th></th>\n",
       "      <th></th>\n",
       "      <th></th>\n",
       "      <th></th>\n",
       "      <th></th>\n",
       "      <th></th>\n",
       "      <th></th>\n",
       "      <th></th>\n",
       "      <th></th>\n",
       "      <th></th>\n",
       "      <th></th>\n",
       "      <th></th>\n",
       "      <th></th>\n",
       "      <th></th>\n",
       "      <th></th>\n",
       "      <th></th>\n",
       "      <th></th>\n",
       "      <th></th>\n",
       "      <th></th>\n",
       "    </tr>\n",
       "  </thead>\n",
       "  <tbody>\n",
       "    <tr>\n",
       "      <th>0.000000</th>\n",
       "      <td>50000000</td>\n",
       "      <td>0</td>\n",
       "      <td>0</td>\n",
       "      <td>0</td>\n",
       "      <td>0</td>\n",
       "      <td>0</td>\n",
       "      <td>0</td>\n",
       "      <td>0</td>\n",
       "      <td>0</td>\n",
       "      <td>0</td>\n",
       "      <td>...</td>\n",
       "      <td>0</td>\n",
       "      <td>0</td>\n",
       "      <td>0</td>\n",
       "      <td>0</td>\n",
       "      <td>0</td>\n",
       "      <td>0</td>\n",
       "      <td>0</td>\n",
       "      <td>0</td>\n",
       "      <td>0</td>\n",
       "      <td>50000000</td>\n",
       "    </tr>\n",
       "    <tr>\n",
       "      <th>0.100112</th>\n",
       "      <td>45011237</td>\n",
       "      <td>1</td>\n",
       "      <td>3</td>\n",
       "      <td>82</td>\n",
       "      <td>16</td>\n",
       "      <td>0</td>\n",
       "      <td>1688</td>\n",
       "      <td>568</td>\n",
       "      <td>4</td>\n",
       "      <td>50</td>\n",
       "      <td>...</td>\n",
       "      <td>48</td>\n",
       "      <td>0</td>\n",
       "      <td>594</td>\n",
       "      <td>1689</td>\n",
       "      <td>1</td>\n",
       "      <td>13</td>\n",
       "      <td>81</td>\n",
       "      <td>1</td>\n",
       "      <td>1</td>\n",
       "      <td>45011888</td>\n",
       "    </tr>\n",
       "    <tr>\n",
       "      <th>0.200576</th>\n",
       "      <td>40102576</td>\n",
       "      <td>53</td>\n",
       "      <td>67</td>\n",
       "      <td>1627</td>\n",
       "      <td>270</td>\n",
       "      <td>77</td>\n",
       "      <td>18565</td>\n",
       "      <td>6305</td>\n",
       "      <td>138</td>\n",
       "      <td>1345</td>\n",
       "      <td>...</td>\n",
       "      <td>1367</td>\n",
       "      <td>151</td>\n",
       "      <td>6180</td>\n",
       "      <td>18431</td>\n",
       "      <td>86</td>\n",
       "      <td>275</td>\n",
       "      <td>1601</td>\n",
       "      <td>70</td>\n",
       "      <td>61</td>\n",
       "      <td>40103660</td>\n",
       "    </tr>\n",
       "    <tr>\n",
       "      <th>0.301440</th>\n",
       "      <td>35366286</td>\n",
       "      <td>366</td>\n",
       "      <td>455</td>\n",
       "      <td>7533</td>\n",
       "      <td>1453</td>\n",
       "      <td>653</td>\n",
       "      <td>62958</td>\n",
       "      <td>21070</td>\n",
       "      <td>1029</td>\n",
       "      <td>7166</td>\n",
       "      <td>...</td>\n",
       "      <td>7359</td>\n",
       "      <td>1069</td>\n",
       "      <td>21291</td>\n",
       "      <td>62942</td>\n",
       "      <td>720</td>\n",
       "      <td>1489</td>\n",
       "      <td>7401</td>\n",
       "      <td>433</td>\n",
       "      <td>382</td>\n",
       "      <td>35368065</td>\n",
       "    </tr>\n",
       "    <tr>\n",
       "      <th>0.402708</th>\n",
       "      <td>30886350</td>\n",
       "      <td>1310</td>\n",
       "      <td>1633</td>\n",
       "      <td>20116</td>\n",
       "      <td>4446</td>\n",
       "      <td>2507</td>\n",
       "      <td>133956</td>\n",
       "      <td>45872</td>\n",
       "      <td>3950</td>\n",
       "      <td>20640</td>\n",
       "      <td>...</td>\n",
       "      <td>20753</td>\n",
       "      <td>3886</td>\n",
       "      <td>45857</td>\n",
       "      <td>133427</td>\n",
       "      <td>2571</td>\n",
       "      <td>4287</td>\n",
       "      <td>19822</td>\n",
       "      <td>1550</td>\n",
       "      <td>1233</td>\n",
       "      <td>30888463</td>\n",
       "    </tr>\n",
       "    <tr>\n",
       "      <th>...</th>\n",
       "      <td>...</td>\n",
       "      <td>...</td>\n",
       "      <td>...</td>\n",
       "      <td>...</td>\n",
       "      <td>...</td>\n",
       "      <td>...</td>\n",
       "      <td>...</td>\n",
       "      <td>...</td>\n",
       "      <td>...</td>\n",
       "      <td>...</td>\n",
       "      <td>...</td>\n",
       "      <td>...</td>\n",
       "      <td>...</td>\n",
       "      <td>...</td>\n",
       "      <td>...</td>\n",
       "      <td>...</td>\n",
       "      <td>...</td>\n",
       "      <td>...</td>\n",
       "      <td>...</td>\n",
       "      <td>...</td>\n",
       "      <td>...</td>\n",
       "    </tr>\n",
       "    <tr>\n",
       "      <th>17.993288</th>\n",
       "      <td>0</td>\n",
       "      <td>0</td>\n",
       "      <td>0</td>\n",
       "      <td>0</td>\n",
       "      <td>0</td>\n",
       "      <td>0</td>\n",
       "      <td>0</td>\n",
       "      <td>0</td>\n",
       "      <td>0</td>\n",
       "      <td>0</td>\n",
       "      <td>...</td>\n",
       "      <td>0</td>\n",
       "      <td>0</td>\n",
       "      <td>0</td>\n",
       "      <td>0</td>\n",
       "      <td>0</td>\n",
       "      <td>0</td>\n",
       "      <td>0</td>\n",
       "      <td>0</td>\n",
       "      <td>0</td>\n",
       "      <td>0</td>\n",
       "    </tr>\n",
       "    <tr>\n",
       "      <th>18.093388</th>\n",
       "      <td>0</td>\n",
       "      <td>0</td>\n",
       "      <td>0</td>\n",
       "      <td>0</td>\n",
       "      <td>0</td>\n",
       "      <td>0</td>\n",
       "      <td>0</td>\n",
       "      <td>0</td>\n",
       "      <td>0</td>\n",
       "      <td>0</td>\n",
       "      <td>...</td>\n",
       "      <td>0</td>\n",
       "      <td>0</td>\n",
       "      <td>0</td>\n",
       "      <td>0</td>\n",
       "      <td>0</td>\n",
       "      <td>0</td>\n",
       "      <td>0</td>\n",
       "      <td>0</td>\n",
       "      <td>0</td>\n",
       "      <td>0</td>\n",
       "    </tr>\n",
       "    <tr>\n",
       "      <th>18.193590</th>\n",
       "      <td>0</td>\n",
       "      <td>0</td>\n",
       "      <td>0</td>\n",
       "      <td>0</td>\n",
       "      <td>0</td>\n",
       "      <td>0</td>\n",
       "      <td>0</td>\n",
       "      <td>0</td>\n",
       "      <td>0</td>\n",
       "      <td>0</td>\n",
       "      <td>...</td>\n",
       "      <td>0</td>\n",
       "      <td>0</td>\n",
       "      <td>0</td>\n",
       "      <td>0</td>\n",
       "      <td>0</td>\n",
       "      <td>0</td>\n",
       "      <td>0</td>\n",
       "      <td>0</td>\n",
       "      <td>0</td>\n",
       "      <td>0</td>\n",
       "    </tr>\n",
       "    <tr>\n",
       "      <th>18.293700</th>\n",
       "      <td>0</td>\n",
       "      <td>0</td>\n",
       "      <td>0</td>\n",
       "      <td>0</td>\n",
       "      <td>0</td>\n",
       "      <td>0</td>\n",
       "      <td>0</td>\n",
       "      <td>0</td>\n",
       "      <td>0</td>\n",
       "      <td>0</td>\n",
       "      <td>...</td>\n",
       "      <td>0</td>\n",
       "      <td>0</td>\n",
       "      <td>0</td>\n",
       "      <td>0</td>\n",
       "      <td>0</td>\n",
       "      <td>0</td>\n",
       "      <td>0</td>\n",
       "      <td>0</td>\n",
       "      <td>0</td>\n",
       "      <td>0</td>\n",
       "    </tr>\n",
       "    <tr>\n",
       "      <th>18.393828</th>\n",
       "      <td>0</td>\n",
       "      <td>0</td>\n",
       "      <td>0</td>\n",
       "      <td>0</td>\n",
       "      <td>0</td>\n",
       "      <td>0</td>\n",
       "      <td>0</td>\n",
       "      <td>0</td>\n",
       "      <td>0</td>\n",
       "      <td>0</td>\n",
       "      <td>...</td>\n",
       "      <td>0</td>\n",
       "      <td>0</td>\n",
       "      <td>0</td>\n",
       "      <td>0</td>\n",
       "      <td>0</td>\n",
       "      <td>0</td>\n",
       "      <td>0</td>\n",
       "      <td>0</td>\n",
       "      <td>0</td>\n",
       "      <td>0</td>\n",
       "    </tr>\n",
       "  </tbody>\n",
       "</table>\n",
       "<p>183 rows × 101 columns</p>\n",
       "</div>"
      ],
      "text/plain": [
       "                  0     1     2      3     4     5       6      7     8  \\\n",
       "time                                                                      \n",
       "0.000000   50000000     0     0      0     0     0       0      0     0   \n",
       "0.100112   45011237     1     3     82    16     0    1688    568     4   \n",
       "0.200576   40102576    53    67   1627   270    77   18565   6305   138   \n",
       "0.301440   35366286   366   455   7533  1453   653   62958  21070  1029   \n",
       "0.402708   30886350  1310  1633  20116  4446  2507  133956  45872  3950   \n",
       "...             ...   ...   ...    ...   ...   ...     ...    ...   ...   \n",
       "17.993288         0     0     0      0     0     0       0      0     0   \n",
       "18.093388         0     0     0      0     0     0       0      0     0   \n",
       "18.193590         0     0     0      0     0     0       0      0     0   \n",
       "18.293700         0     0     0      0     0     0       0      0     0   \n",
       "18.393828         0     0     0      0     0     0       0      0     0   \n",
       "\n",
       "               9  ...     91    92     93      94    95    96     97    98  \\\n",
       "time              ...                                                        \n",
       "0.000000       0  ...      0     0      0       0     0     0      0     0   \n",
       "0.100112      50  ...     48     0    594    1689     1    13     81     1   \n",
       "0.200576    1345  ...   1367   151   6180   18431    86   275   1601    70   \n",
       "0.301440    7166  ...   7359  1069  21291   62942   720  1489   7401   433   \n",
       "0.402708   20640  ...  20753  3886  45857  133427  2571  4287  19822  1550   \n",
       "...          ...  ...    ...   ...    ...     ...   ...   ...    ...   ...   \n",
       "17.993288      0  ...      0     0      0       0     0     0      0     0   \n",
       "18.093388      0  ...      0     0      0       0     0     0      0     0   \n",
       "18.193590      0  ...      0     0      0       0     0     0      0     0   \n",
       "18.293700      0  ...      0     0      0       0     0     0      0     0   \n",
       "18.393828      0  ...      0     0      0       0     0     0      0     0   \n",
       "\n",
       "             99       100  \n",
       "time                       \n",
       "0.000000      0  50000000  \n",
       "0.100112      1  45011888  \n",
       "0.200576     61  40103660  \n",
       "0.301440    382  35368065  \n",
       "0.402708   1233  30888463  \n",
       "...         ...       ...  \n",
       "17.993288     0         0  \n",
       "18.093388     0         0  \n",
       "18.193590     0         0  \n",
       "18.293700     0         0  \n",
       "18.393828     0         0  \n",
       "\n",
       "[183 rows x 101 columns]"
      ]
     },
     "execution_count": 27,
     "metadata": {},
     "output_type": "execute_result"
    }
   ],
   "source": [
    "sim.run(three_consecutive_values, 0.1)\n",
    "sim.history"
   ]
  },
  {
   "cell_type": "markdown",
   "id": "applied-recording",
   "metadata": {},
   "source": [
    "With a much larger number of states, the `history` dataframe is more unwieldly, so trying to directly call `history.plot()` would be very messy and not very useful.\n",
    "Instead we will bring in a `Snapshot` object that makes a bar plot with the counts of each state, and lets us visualize the way the distribution evolves over time.\n",
    "For this `StatePlotter` object to work as intended, we need to be using an interactive matplotlib backend, such as `%matplotlib widget` or `%matplotlib qt`."
   ]
  },
  {
   "cell_type": "code",
   "execution_count": 29,
   "id": "introductory-tracy",
   "metadata": {},
   "outputs": [
    {
     "data": {
      "application/vnd.jupyter.widget-view+json": {
       "model_id": "541d52b42792415d93e607b29e5ee950",
       "version_major": 2,
       "version_minor": 0
      },
      "text/plain": [
       "Canvas(toolbar=Toolbar(toolitems=[('Home', 'Reset original view', 'home', 'home'), ('Back', 'Back to previous …"
      ]
     },
     "metadata": {},
     "output_type": "display_data"
    },
    {
     "data": {
      "application/vnd.jupyter.widget-view+json": {
       "model_id": "6c78ee3adf0b43d3b9f990b7742154e4",
       "version_major": 2,
       "version_minor": 0
      },
      "text/plain": [
       "interactive(children=(FloatSlider(value=0.0, description='time', layout=Layout(width='100%'), max=18.3938276, …"
      ]
     },
     "metadata": {},
     "output_type": "display_data"
    }
   ],
   "source": [
    "%matplotlib widget\n",
    "from ppsim import StatePlotter\n",
    "sp = StatePlotter()\n",
    "sim.add_snapshot(sp)\n",
    "sim.snapshot_slider('time')\n",
    "sp.ax.xaxis.label.set_size(5)"
   ]
  },
  {
   "cell_type": "markdown",
   "id": "popular-locator",
   "metadata": {},
   "source": [
    "To better visualize small count states, let's change `yscale` to `symlog`."
   ]
  },
  {
   "cell_type": "code",
   "execution_count": 52,
   "id": "exact-memphis",
   "metadata": {},
   "outputs": [],
   "source": [
    "sp.ax.set_yscale('symlog')"
   ]
  },
  {
   "cell_type": "markdown",
   "id": "greater-verse",
   "metadata": {},
   "source": [
    "If we run the `Simulation` while this `Snapshot` has already been created, it will update while the simulation runs. Because the population average was exactly 50, the ultimate silent configuration will have every agent in state 50, but it will take a a very long time to reach, as we must wait for pairwise interactions between dwindling counts of states 49 and 51. We can check that this reaction is now the only possible non-null interaction."
   ]
  },
  {
   "cell_type": "code",
   "execution_count": 32,
   "id": "apart-magazine",
   "metadata": {},
   "outputs": [
    {
     "name": "stdout",
     "output_type": "stream",
     "text": [
      " 49,  51  -->   50,  50\n"
     ]
    }
   ],
   "source": [
    "print(sim.enabled_reactions)"
   ]
  },
  {
   "cell_type": "markdown",
   "id": "collective-personality",
   "metadata": {},
   "source": [
    "As a result, the probability of a non-null interaction will grow very small, upon which the simulator will switch to the Gillespie algorithm. This allows it to relatively quickly run all the way until silence, which we can confirm takes a very long amount of parallel time."
   ]
  },
  {
   "cell_type": "code",
   "execution_count": 33,
   "id": "married-quantity",
   "metadata": {},
   "outputs": [],
   "source": [
    "sim.run()"
   ]
  },
  {
   "cell_type": "markdown",
   "id": "killing-parade",
   "metadata": {},
   "source": [
    "Since the timescale of the whole simulation is now very long, we should have the slider range across recorded indices rather than parallel time."
   ]
  },
  {
   "cell_type": "code",
   "execution_count": 34,
   "id": "amber-hacker",
   "metadata": {},
   "outputs": [
    {
     "data": {
      "application/vnd.jupyter.widget-view+json": {
       "model_id": "541d52b42792415d93e607b29e5ee950",
       "version_major": 2,
       "version_minor": 0
      },
      "text/plain": [
       "Canvas(toolbar=Toolbar(toolitems=[('Home', 'Reset original view', 'home', 'home'), ('Back', 'Back to previous …"
      ]
     },
     "metadata": {},
     "output_type": "display_data"
    },
    {
     "data": {
      "application/vnd.jupyter.widget-view+json": {
       "model_id": "1ea6e7a429b44c05ab47d1eec230d212",
       "version_major": 2,
       "version_minor": 0
      },
      "text/plain": [
       "interactive(children=(IntSlider(value=0, description='index', layout=Layout(width='100%'), max=11274), Output(…"
      ]
     },
     "metadata": {},
     "output_type": "display_data"
    }
   ],
   "source": [
    "display(sp.fig.canvas)\n",
    "sim.snapshot_slider('index')"
   ]
  },
  {
   "cell_type": "markdown",
   "id": "limiting-sherman",
   "metadata": {},
   "source": [
    "For more examples see https://github.com/UC-Davis-molecular-computing/population-protocols-python-package/tree/main/examples/"
   ]
  }
 ],
 "metadata": {
  "kernelspec": {
   "display_name": "Python 3",
   "language": "python",
   "name": "python3"
  },
  "language_info": {
   "codemirror_mode": {
    "name": "ipython",
    "version": 3
   },
   "file_extension": ".py",
   "mimetype": "text/x-python",
   "name": "python",
   "nbconvert_exporter": "python",
   "pygments_lexer": "ipython3",
   "version": "3.7.3"
  }
 },
 "nbformat": 4,
 "nbformat_minor": 5
}
