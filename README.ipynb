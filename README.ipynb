{
 "cells": [
  {
   "cell_type": "markdown",
   "id": "banner-printing",
   "metadata": {},
   "source": [
    "# ppsim Python package\n",
    "\n",
    "The `ppsim` package is used for simulating population protocols. The core of the simulator uses a [batching algorithm](https://arxiv.org/abs/2005.03584) which gives significant asymptotic gains for protocols with relatively small reachable state sets. The package is designed to be run in a Python notebook, to concisely describe complex protocols, efficiently simulate their dynamics, and provide helpful visualization of the simulation.\n",
    "\n",
    "## Installation\n",
    "\n",
    "The package can be installed with `pip` via"
   ]
  },
  {
   "cell_type": "code",
   "execution_count": 1,
   "id": "structural-adaptation",
   "metadata": {
    "collapsed": true,
    "jupyter": {
     "outputs_hidden": true
    },
    "tags": []
   },
   "outputs": [
    {
     "name": "stdout",
     "output_type": "stream",
     "text": [
      "Requirement already satisfied: ppsim in c:\\users\\eric\\pycharmprojects\\population-protocols-python-package (0.0.8)\n",
      "Requirement already satisfied: numpy in c:\\users\\eric\\anaconda2\\lib\\site-packages (from ppsim) (1.20.1)\n",
      "Requirement already satisfied: cython in c:\\users\\eric\\anaconda2\\lib\\site-packages (from ppsim) (0.29.22)\n",
      "Requirement already satisfied: setuptools in c:\\users\\eric\\anaconda2\\lib\\site-packages (from ppsim) (49.6.0.post20210108)\n",
      "Requirement already satisfied: ipywidgets in c:\\users\\eric\\anaconda2\\lib\\site-packages (from ppsim) (7.6.3)\n",
      "Requirement already satisfied: matplotlib in c:\\users\\eric\\appdata\\roaming\\python\\python37\\site-packages (from ppsim) (3.4.1)\n",
      "Requirement already satisfied: pandas in c:\\users\\eric\\anaconda2\\lib\\site-packages (from ppsim) (1.2.3)\n",
      "Requirement already satisfied: seaborn in c:\\users\\eric\\anaconda2\\lib\\site-packages (from ppsim) (0.11.1)\n",
      "Requirement already satisfied: natsort in c:\\users\\eric\\anaconda2\\lib\\site-packages (from ppsim) (7.1.1)\n",
      "Requirement already satisfied: tqdm in c:\\users\\eric\\anaconda2\\lib\\site-packages (from ppsim) (4.59.0)\n",
      "Requirement already satisfied: ipython>=4.0.0 in c:\\users\\eric\\anaconda2\\lib\\site-packages (from ipywidgets->ppsim) (7.21.0)\n",
      "Requirement already satisfied: nbformat>=4.2.0 in c:\\users\\eric\\anaconda2\\lib\\site-packages (from ipywidgets->ppsim) (5.1.2)\n",
      "Requirement already satisfied: traitlets>=4.3.1 in c:\\users\\eric\\anaconda2\\lib\\site-packages (from ipywidgets->ppsim) (5.0.5)\n",
      "Requirement already satisfied: jupyterlab-widgets>=1.0.0 in c:\\users\\eric\\anaconda2\\lib\\site-packages (from ipywidgets->ppsim) (1.0.0)\n",
      "Requirement already satisfied: widgetsnbextension~=3.5.0 in c:\\users\\eric\\anaconda2\\lib\\site-packages (from ipywidgets->ppsim) (3.5.1)\n",
      "Requirement already satisfied: ipykernel>=4.5.1 in c:\\users\\eric\\anaconda2\\lib\\site-packages (from ipywidgets->ppsim) (5.5.0)\n",
      "Requirement already satisfied: jupyter-client in c:\\users\\eric\\anaconda2\\lib\\site-packages (from ipykernel>=4.5.1->ipywidgets->ppsim) (6.1.12)\n",
      "Requirement already satisfied: tornado>=4.2 in c:\\users\\eric\\anaconda2\\lib\\site-packages (from ipykernel>=4.5.1->ipywidgets->ppsim) (6.1)\n",
      "Requirement already satisfied: decorator in c:\\users\\eric\\anaconda2\\lib\\site-packages (from ipython>=4.0.0->ipywidgets->ppsim) (4.4.2)\n",
      "Requirement already satisfied: backcall in c:\\users\\eric\\anaconda2\\lib\\site-packages (from ipython>=4.0.0->ipywidgets->ppsim) (0.2.0)\n",
      "Requirement already satisfied: pickleshare in c:\\users\\eric\\anaconda2\\lib\\site-packages (from ipython>=4.0.0->ipywidgets->ppsim) (0.7.5)\n",
      "Requirement already satisfied: colorama in c:\\users\\eric\\anaconda2\\lib\\site-packages (from ipython>=4.0.0->ipywidgets->ppsim) (0.4.4)\n",
      "Requirement already satisfied: prompt-toolkit!=3.0.0,!=3.0.1,<3.1.0,>=2.0.0 in c:\\users\\eric\\anaconda2\\lib\\site-packages (from ipython>=4.0.0->ipywidgets->ppsim) (3.0.18)\n",
      "Requirement already satisfied: jedi>=0.16 in c:\\users\\eric\\anaconda2\\lib\\site-packages (from ipython>=4.0.0->ipywidgets->ppsim) (0.18.0)\n",
      "Requirement already satisfied: pygments in c:\\users\\eric\\anaconda2\\lib\\site-packages (from ipython>=4.0.0->ipywidgets->ppsim) (2.8.1)\n",
      "Requirement already satisfied: parso<0.9.0,>=0.8.0 in c:\\users\\eric\\anaconda2\\lib\\site-packages (from jedi>=0.16->ipython>=4.0.0->ipywidgets->ppsim) (0.8.1)\n",
      "Requirement already satisfied: jsonschema!=2.5.0,>=2.4 in c:\\users\\eric\\anaconda2\\lib\\site-packages (from nbformat>=4.2.0->ipywidgets->ppsim) (3.2.0)\n",
      "Requirement already satisfied: ipython-genutils in c:\\users\\eric\\anaconda2\\lib\\site-packages (from nbformat>=4.2.0->ipywidgets->ppsim) (0.2.0)\n",
      "Requirement already satisfied: jupyter-core in c:\\users\\eric\\anaconda2\\lib\\site-packages (from nbformat>=4.2.0->ipywidgets->ppsim) (4.7.1)\n",
      "Requirement already satisfied: six>=1.11.0 in c:\\users\\eric\\anaconda2\\lib\\site-packages (from jsonschema!=2.5.0,>=2.4->nbformat>=4.2.0->ipywidgets->ppsim) (1.15.0)\n",
      "Requirement already satisfied: importlib-metadata in c:\\users\\eric\\anaconda2\\lib\\site-packages (from jsonschema!=2.5.0,>=2.4->nbformat>=4.2.0->ipywidgets->ppsim) (3.7.3)\n",
      "Requirement already satisfied: attrs>=17.4.0 in c:\\users\\eric\\appdata\\roaming\\python\\python37\\site-packages (from jsonschema!=2.5.0,>=2.4->nbformat>=4.2.0->ipywidgets->ppsim) (19.3.0)\n",
      "Requirement already satisfied: pyrsistent>=0.14.0 in c:\\users\\eric\\anaconda2\\lib\\site-packages (from jsonschema!=2.5.0,>=2.4->nbformat>=4.2.0->ipywidgets->ppsim) (0.17.3)\n",
      "Requirement already satisfied: wcwidth in c:\\users\\eric\\anaconda2\\lib\\site-packages (from prompt-toolkit!=3.0.0,!=3.0.1,<3.1.0,>=2.0.0->ipython>=4.0.0->ipywidgets->ppsim) (0.2.5)Note: you may need to restart the kernel to use updated packages.\n",
      "\n",
      "Requirement already satisfied: notebook>=4.4.1 in c:\\users\\eric\\anaconda2\\lib\\site-packages (from widgetsnbextension~=3.5.0->ipywidgets->ppsim) (6.3.0)\n",
      "Requirement already satisfied: argon2-cffi in c:\\users\\eric\\anaconda2\\lib\\site-packages (from notebook>=4.4.1->widgetsnbextension~=3.5.0->ipywidgets->ppsim) (20.1.0)\n",
      "Requirement already satisfied: nbconvert in c:\\users\\eric\\anaconda2\\lib\\site-packages (from notebook>=4.4.1->widgetsnbextension~=3.5.0->ipywidgets->ppsim) (6.0.7)\n",
      "Requirement already satisfied: Send2Trash>=1.5.0 in c:\\users\\eric\\anaconda2\\lib\\site-packages (from notebook>=4.4.1->widgetsnbextension~=3.5.0->ipywidgets->ppsim) (1.5.0)\n",
      "Requirement already satisfied: prometheus-client in c:\\users\\eric\\anaconda2\\lib\\site-packages (from notebook>=4.4.1->widgetsnbextension~=3.5.0->ipywidgets->ppsim) (0.9.0)\n",
      "Requirement already satisfied: pyzmq>=17 in c:\\users\\eric\\anaconda2\\lib\\site-packages (from notebook>=4.4.1->widgetsnbextension~=3.5.0->ipywidgets->ppsim) (22.0.3)\n",
      "Requirement already satisfied: terminado>=0.8.3 in c:\\users\\eric\\anaconda2\\lib\\site-packages (from notebook>=4.4.1->widgetsnbextension~=3.5.0->ipywidgets->ppsim) (0.9.3)\n",
      "Requirement already satisfied: jinja2 in c:\\users\\eric\\anaconda2\\lib\\site-packages (from notebook>=4.4.1->widgetsnbextension~=3.5.0->ipywidgets->ppsim) (2.11.3)\n",
      "Requirement already satisfied: python-dateutil>=2.1 in c:\\users\\eric\\anaconda2\\lib\\site-packages (from jupyter-client->ipykernel>=4.5.1->ipywidgets->ppsim) (2.8.1)\n",
      "Requirement already satisfied: pywin32>=1.0 in c:\\users\\eric\\anaconda2\\lib\\site-packages (from jupyter-core->nbformat>=4.2.0->ipywidgets->ppsim) (300)\n",
      "Requirement already satisfied: pywinpty>=0.5 in c:\\users\\eric\\anaconda2\\lib\\site-packages (from terminado>=0.8.3->notebook>=4.4.1->widgetsnbextension~=3.5.0->ipywidgets->ppsim) (0.5.7)\n",
      "Requirement already satisfied: cffi>=1.0.0 in c:\\users\\eric\\anaconda2\\lib\\site-packages (from argon2-cffi->notebook>=4.4.1->widgetsnbextension~=3.5.0->ipywidgets->ppsim) (1.14.5)\n",
      "Requirement already satisfied: pycparser in c:\\users\\eric\\anaconda2\\lib\\site-packages (from cffi>=1.0.0->argon2-cffi->notebook>=4.4.1->widgetsnbextension~=3.5.0->ipywidgets->ppsim) (2.20)\n",
      "Requirement already satisfied: zipp>=0.5 in c:\\users\\eric\\anaconda2\\lib\\site-packages (from importlib-metadata->jsonschema!=2.5.0,>=2.4->nbformat>=4.2.0->ipywidgets->ppsim) (3.4.1)\n",
      "Requirement already satisfied: typing-extensions>=3.6.4 in c:\\users\\eric\\anaconda2\\lib\\site-packages (from importlib-metadata->jsonschema!=2.5.0,>=2.4->nbformat>=4.2.0->ipywidgets->ppsim) (3.7.4.3)\n",
      "Requirement already satisfied: MarkupSafe>=0.23 in c:\\users\\eric\\anaconda2\\lib\\site-packages (from jinja2->notebook>=4.4.1->widgetsnbextension~=3.5.0->ipywidgets->ppsim) (1.1.1)\n",
      "Requirement already satisfied: cycler>=0.10 in c:\\users\\eric\\anaconda2\\lib\\site-packages (from matplotlib->ppsim) (0.10.0)\n",
      "Requirement already satisfied: pyparsing>=2.2.1 in c:\\users\\eric\\anaconda2\\lib\\site-packages (from matplotlib->ppsim) (2.4.7)\n",
      "Requirement already satisfied: pillow>=6.2.0 in c:\\users\\eric\\anaconda2\\lib\\site-packages (from matplotlib->ppsim) (7.2.0)\n",
      "Requirement already satisfied: kiwisolver>=1.0.1 in c:\\users\\eric\\anaconda2\\lib\\site-packages (from matplotlib->ppsim) (1.3.1)\n",
      "Requirement already satisfied: jupyterlab-pygments in c:\\users\\eric\\anaconda2\\lib\\site-packages (from nbconvert->notebook>=4.4.1->widgetsnbextension~=3.5.0->ipywidgets->ppsim) (0.1.2)\n",
      "Requirement already satisfied: pandocfilters>=1.4.1 in c:\\users\\eric\\anaconda2\\lib\\site-packages (from nbconvert->notebook>=4.4.1->widgetsnbextension~=3.5.0->ipywidgets->ppsim) (1.4.2)\n",
      "Requirement already satisfied: defusedxml in c:\\users\\eric\\anaconda2\\lib\\site-packages (from nbconvert->notebook>=4.4.1->widgetsnbextension~=3.5.0->ipywidgets->ppsim) (0.7.1)\n",
      "Requirement already satisfied: bleach in c:\\users\\eric\\anaconda2\\lib\\site-packages (from nbconvert->notebook>=4.4.1->widgetsnbextension~=3.5.0->ipywidgets->ppsim) (3.3.0)\n",
      "Requirement already satisfied: nbclient<0.6.0,>=0.5.0 in c:\\users\\eric\\anaconda2\\lib\\site-packages (from nbconvert->notebook>=4.4.1->widgetsnbextension~=3.5.0->ipywidgets->ppsim) (0.5.3)\n",
      "Requirement already satisfied: mistune<2,>=0.8.1 in c:\\users\\eric\\anaconda2\\lib\\site-packages (from nbconvert->notebook>=4.4.1->widgetsnbextension~=3.5.0->ipywidgets->ppsim) (0.8.4)\n",
      "Requirement already satisfied: testpath in c:\\users\\eric\\anaconda2\\lib\\site-packages (from nbconvert->notebook>=4.4.1->widgetsnbextension~=3.5.0->ipywidgets->ppsim) (0.4.4)\n",
      "Requirement already satisfied: entrypoints>=0.2.2 in c:\\users\\eric\\anaconda2\\lib\\site-packages (from nbconvert->notebook>=4.4.1->widgetsnbextension~=3.5.0->ipywidgets->ppsim) (0.3)\n",
      "Requirement already satisfied: nest-asyncio in c:\\users\\eric\\anaconda2\\lib\\site-packages (from nbclient<0.6.0,>=0.5.0->nbconvert->notebook>=4.4.1->widgetsnbextension~=3.5.0->ipywidgets->ppsim) (1.4.3)\n",
      "Requirement already satisfied: async-generator in c:\\users\\eric\\anaconda2\\lib\\site-packages (from nbclient<0.6.0,>=0.5.0->nbconvert->notebook>=4.4.1->widgetsnbextension~=3.5.0->ipywidgets->ppsim) (1.10)\n",
      "Requirement already satisfied: webencodings in c:\\users\\eric\\anaconda2\\lib\\site-packages (from bleach->nbconvert->notebook>=4.4.1->widgetsnbextension~=3.5.0->ipywidgets->ppsim) (0.5.1)\n",
      "Requirement already satisfied: packaging in c:\\users\\eric\\anaconda2\\lib\\site-packages (from bleach->nbconvert->notebook>=4.4.1->widgetsnbextension~=3.5.0->ipywidgets->ppsim) (20.9)\n",
      "Requirement already satisfied: pytz>=2017.3 in c:\\users\\eric\\anaconda2\\lib\\site-packages (from pandas->ppsim) (2021.1)\n",
      "Requirement already satisfied: scipy>=1.0 in c:\\users\\eric\\anaconda2\\lib\\site-packages (from seaborn->ppsim) (1.6.2)\n"
     ]
    }
   ],
   "source": [
    "pip install ppsim"
   ]
  },
  {
   "cell_type": "markdown",
   "id": "olive-noise",
   "metadata": {},
   "source": [
    "The most important part of the package is the `Simulation` class, which is responsible for parsing a protocol, performing the simulation, and giving data about the simulation."
   ]
  },
  {
   "cell_type": "code",
   "execution_count": 2,
   "id": "incomplete-diabetes",
   "metadata": {},
   "outputs": [],
   "source": [
    "from ppsim import Simulation"
   ]
  },
  {
   "cell_type": "markdown",
   "id": "interior-couple",
   "metadata": {},
   "source": [
    "## Example protocol\n",
    "\n",
    "A state can be any hashable Python object. The simplest way to describe a protocol is a dictionary mapping pairs of input states to pairs of output states.\n",
    "For example, here is a description of the classic 3-state [approximate majority protocol](http://www.cs.yale.edu/homes/aspnes/papers/approximate-majority-journal.pdf). There are two initial states `A` and `B`, and the protocol converges with high probability to the majority state with the help of a third \"undecided\" state `U`."
   ]
  },
  {
   "cell_type": "code",
   "execution_count": 3,
   "id": "elementary-sunglasses",
   "metadata": {},
   "outputs": [],
   "source": [
    "a, b, u = 'A', 'B', 'U'\n",
    "approximate_majority = {\n",
    "    (a,b): (u,u),\n",
    "    (a,u): (a,a),\n",
    "    (b,u): (b,b)\n",
    "}"
   ]
  },
  {
   "cell_type": "markdown",
   "id": "utility-teacher",
   "metadata": {},
   "source": [
    "## Example Simulation\n",
    "\n",
    "To instantiate a `Simulation`, we must specify a protocol along with an initial condition, which is a dictionary mapping states to counts. Let's simulate approximate majority with in a population of one billion agents with a slight majority of `A` agents."
   ]
  },
  {
   "cell_type": "code",
   "execution_count": 4,
   "id": "republican-olive",
   "metadata": {},
   "outputs": [],
   "source": [
    "n = 10 ** 9\n",
    "init_config = {a: 0.501 * n, b: 0.499 * n}\n",
    "sim = Simulation(init_config, approximate_majority)"
   ]
  },
  {
   "cell_type": "markdown",
   "id": "tutorial-conviction",
   "metadata": {},
   "source": [
    "Now let's run this simulation for `10` units of parallel time (`10 * n` interactions). We will record the configuration every `0.1` units of time."
   ]
  },
  {
   "cell_type": "code",
   "execution_count": 5,
   "id": "ordered-horizontal",
   "metadata": {},
   "outputs": [
    {
     "name": "stdout",
     "output_type": "stream",
     "text": [
      " Time: 10.000\n"
     ]
    }
   ],
   "source": [
    "sim.run(10, 0.1)"
   ]
  },
  {
   "cell_type": "markdown",
   "id": "bigger-falls",
   "metadata": {},
   "source": [
    "The `Simulation` class can display all these configurations in a `pandas` dataframe in the attribute `history`."
   ]
  },
  {
   "cell_type": "code",
   "execution_count": 6,
   "id": "desperate-investigator",
   "metadata": {},
   "outputs": [
    {
     "data": {
      "text/html": [
       "<div>\n",
       "<style scoped>\n",
       "    .dataframe tbody tr th:only-of-type {\n",
       "        vertical-align: middle;\n",
       "    }\n",
       "\n",
       "    .dataframe tbody tr th {\n",
       "        vertical-align: top;\n",
       "    }\n",
       "\n",
       "    .dataframe thead th {\n",
       "        text-align: right;\n",
       "    }\n",
       "</style>\n",
       "<table border=\"1\" class=\"dataframe\">\n",
       "  <thead>\n",
       "    <tr style=\"text-align: right;\">\n",
       "      <th></th>\n",
       "      <th>A</th>\n",
       "      <th>B</th>\n",
       "      <th>U</th>\n",
       "    </tr>\n",
       "    <tr>\n",
       "      <th>time (n interactions)</th>\n",
       "      <th></th>\n",
       "      <th></th>\n",
       "      <th></th>\n",
       "    </tr>\n",
       "  </thead>\n",
       "  <tbody>\n",
       "    <tr>\n",
       "      <th>0.0</th>\n",
       "      <td>501000000</td>\n",
       "      <td>499000000</td>\n",
       "      <td>0</td>\n",
       "    </tr>\n",
       "    <tr>\n",
       "      <th>0.1</th>\n",
       "      <td>478292511</td>\n",
       "      <td>476287867</td>\n",
       "      <td>45419622</td>\n",
       "    </tr>\n",
       "    <tr>\n",
       "      <th>0.2</th>\n",
       "      <td>459455540</td>\n",
       "      <td>457436005</td>\n",
       "      <td>83108455</td>\n",
       "    </tr>\n",
       "    <tr>\n",
       "      <th>0.3</th>\n",
       "      <td>443655204</td>\n",
       "      <td>441615556</td>\n",
       "      <td>114729240</td>\n",
       "    </tr>\n",
       "    <tr>\n",
       "      <th>0.4</th>\n",
       "      <td>430271230</td>\n",
       "      <td>428206912</td>\n",
       "      <td>141521858</td>\n",
       "    </tr>\n",
       "    <tr>\n",
       "      <th>...</th>\n",
       "      <td>...</td>\n",
       "      <td>...</td>\n",
       "      <td>...</td>\n",
       "    </tr>\n",
       "    <tr>\n",
       "      <th>9.7</th>\n",
       "      <td>352865914</td>\n",
       "      <td>314291384</td>\n",
       "      <td>332842702</td>\n",
       "    </tr>\n",
       "    <tr>\n",
       "      <th>9.8</th>\n",
       "      <td>353533134</td>\n",
       "      <td>313651370</td>\n",
       "      <td>332815496</td>\n",
       "    </tr>\n",
       "    <tr>\n",
       "      <th>9.9</th>\n",
       "      <td>354217879</td>\n",
       "      <td>312985962</td>\n",
       "      <td>332796159</td>\n",
       "    </tr>\n",
       "    <tr>\n",
       "      <th>10.0</th>\n",
       "      <td>354935652</td>\n",
       "      <td>312300804</td>\n",
       "      <td>332763544</td>\n",
       "    </tr>\n",
       "    <tr>\n",
       "      <th>10.0</th>\n",
       "      <td>354935653</td>\n",
       "      <td>312300804</td>\n",
       "      <td>332763543</td>\n",
       "    </tr>\n",
       "  </tbody>\n",
       "</table>\n",
       "<p>102 rows × 3 columns</p>\n",
       "</div>"
      ],
      "text/plain": [
       "                               A          B          U\n",
       "time (n interactions)                                 \n",
       "0.0                    501000000  499000000          0\n",
       "0.1                    478292511  476287867   45419622\n",
       "0.2                    459455540  457436005   83108455\n",
       "0.3                    443655204  441615556  114729240\n",
       "0.4                    430271230  428206912  141521858\n",
       "...                          ...        ...        ...\n",
       "9.7                    352865914  314291384  332842702\n",
       "9.8                    353533134  313651370  332815496\n",
       "9.9                    354217879  312985962  332796159\n",
       "10.0                   354935652  312300804  332763544\n",
       "10.0                   354935653  312300804  332763543\n",
       "\n",
       "[102 rows x 3 columns]"
      ]
     },
     "execution_count": 6,
     "metadata": {},
     "output_type": "execute_result"
    }
   ],
   "source": [
    "sim.history"
   ]
  },
  {
   "cell_type": "code",
   "execution_count": 7,
   "id": "terminal-entrepreneur",
   "metadata": {},
   "outputs": [
    {
     "data": {
      "text/plain": [
       "<AxesSubplot:xlabel='time (n interactions)'>"
      ]
     },
     "execution_count": 7,
     "metadata": {},
     "output_type": "execute_result"
    },
    {
     "data": {
      "image/png": "[encoded data removed]",
      "text/plain": [
       "<Figure size 432x288 with 1 Axes>"
      ]
     },
     "metadata": {
      "needs_background": "light"
     },
     "output_type": "display_data"
    }
   ],
   "source": [
    "sim.history.plot()"
   ]
  },
  {
   "cell_type": "markdown",
   "id": "bright-grass",
   "metadata": {},
   "source": [
    "Without specifying an end time, `run` will run the simulation until the configuration is silent (all interactions are null). In this case, that will be when the protocol reaches a silent majority consensus configuration."
   ]
  },
  {
   "cell_type": "code",
   "execution_count": 8,
   "id": "arbitrary-iraqi",
   "metadata": {},
   "outputs": [
    {
     "name": "stdout",
     "output_type": "stream",
     "text": [
      " Time: 43.000\n"
     ]
    },
    {
     "data": {
      "text/plain": [
       "<AxesSubplot:xlabel='time (1000000000.0 interaction steps)'>"
      ]
     },
     "execution_count": 8,
     "metadata": {},
     "output_type": "execute_result"
    },
    {
     "data": {
      "image/png": "[encoded data removed]",
      "text/plain": [
       "<Figure size 432x288 with 1 Axes>"
      ]
     },
     "metadata": {
      "needs_background": "light"
     },
     "output_type": "display_data"
    }
   ],
   "source": [
    "sim.run()\n",
    "sim.history.plot()"
   ]
  },
  {
   "cell_type": "markdown",
   "id": "surface-floor",
   "metadata": {},
   "source": [
    "As currently described, this protocol is one-way, where these interactions only take place if the two states meet in the specified order. We can see this by printing `sim.reactions`."
   ]
  },
  {
   "cell_type": "code",
   "execution_count": 9,
   "id": "thirty-window",
   "metadata": {},
   "outputs": [
    {
     "name": "stdout",
     "output_type": "stream",
     "text": [
      "A, B  -->  U, U      with probability 0.5\n",
      "A, U  -->  A, A      with probability 0.5\n",
      "B, U  -->  B, B      with probability 0.5\n"
     ]
    }
   ],
   "source": [
    "print(sim.reactions)"
   ]
  },
  {
   "cell_type": "markdown",
   "id": "increasing-antique",
   "metadata": {},
   "source": [
    "Here we have unorder pairs of reactants, and the probability `0.5` is because these interactions as written depended on the order of the agents. If we wanted to consider the more sensible symmetric variant of the protocol, one approach would explicitly give all non-null interactions:"
   ]
  },
  {
   "cell_type": "code",
   "execution_count": 10,
   "id": "descending-triumph",
   "metadata": {},
   "outputs": [],
   "source": [
    "approximate_majority_symmetric = {\n",
    "    (a,b): (u,u), (b,a): (u,u),\n",
    "    (a,u): (a,a), (u,a): (a,a),\n",
    "    (b,u): (b,b), (u,b): (b,b)\n",
    "}\n",
    "sim = Simulation(init_config, approximate_majority_symmetric)"
   ]
  },
  {
   "cell_type": "markdown",
   "id": "excessive-consideration",
   "metadata": {},
   "source": [
    "But a quicker equivalent approach is to tell `Simulation` that all interactions should be interpreted as symmetric, so if we specify interaction `(a,b)` but leave `(b,a)` as null, then `(b,a)` will be interpreted as having the same output pair."
   ]
  },
  {
   "cell_type": "code",
   "execution_count": 11,
   "id": "earned-juvenile",
   "metadata": {},
   "outputs": [
    {
     "name": "stdout",
     "output_type": "stream",
     "text": [
      "A, B  -->  U, U\n",
      "A, U  -->  A, A\n",
      "B, U  -->  B, B\n",
      " Time: 22.000\n"
     ]
    },
    {
     "data": {
      "text/plain": [
       "<AxesSubplot:xlabel='time (1000000000.0 interaction steps)'>"
      ]
     },
     "execution_count": 11,
     "metadata": {},
     "output_type": "execute_result"
    },
    {
     "data": {
      "image/png": "[encoded data removed]",
      "text/plain": [
       "<Figure size 432x288 with 1 Axes>"
      ]
     },
     "metadata": {
      "needs_background": "light"
     },
     "output_type": "display_data"
    }
   ],
   "source": [
    "sim = Simulation(init_config, approximate_majority, transition_order='symmetric')\n",
    "print(sim.reactions)\n",
    "sim.run()\n",
    "sim.history.plot()"
   ]
  },
  {
   "cell_type": "markdown",
   "id": "loaded-lodge",
   "metadata": {},
   "source": [
    "A key result about this protocol is it converges in expected O(log n) time, which surprisingly is very nontrivial to prove. We can use this package to very quickly gather some convincing data that the convergence really is O(log n) time, with the function `time_trials`."
   ]
  },
  {
   "cell_type": "code",
   "execution_count": null,
   "id": "compliant-afghanistan",
   "metadata": {},
   "outputs": [],
   "source": [
    "from ppsim import time_trials\n",
    "import numpy as np\n",
    "\n",
    "ns = [int(n) for n in np.geomspace(10, 10 ** 8, 20)]\n",
    "def initial_condition(n):\n",
    "    return {'A': n // 2, 'B': n // 2}\n",
    "df = time_trials(approximate_majority, ns, initial_condition, num_trials=100, max_wallclock_time = 60, transition_order='symmetric')\n",
    "df"
   ]
  },
  {
   "cell_type": "markdown",
   "id": "interested-bangkok",
   "metadata": {},
   "source": [
    "This dataframe collected time from up to 100 trials for each population size n across a many orders of magnitude, limited by the budget of 30 seconds of wallclock time that we gave it.\n",
    "We can now use the `seaborn` library to get a convincing plot of the data."
   ]
  },
  {
   "cell_type": "code",
   "execution_count": 13,
   "id": "handy-potential",
   "metadata": {},
   "outputs": [
    {
     "data": {
      "image/png": "[encoded data removed]",
      "text/plain": [
       "<Figure size 432x288 with 1 Axes>"
      ]
     },
     "metadata": {
      "needs_background": "light"
     },
     "output_type": "display_data"
    }
   ],
   "source": [
    "import seaborn as sns\n",
    "lp = sns.lineplot(x='n', y='time', data=df)\n",
    "lp.set_xscale('log')"
   ]
  },
  {
   "cell_type": "markdown",
   "id": "golden-button",
   "metadata": {},
   "source": [
    "## Larger state protocol\n",
    "\n",
    "For more complicated protocols, it would be very tedious to use this dictionary format. Instead we can give an arbitrary Python function which takes a pair of states as input (along with possible other protocol parameters) and returns a pair of states as output (or if we wanted a randomized transition, it would output a dictionary which maps pairs of states to probabilities).\n",
    "\n",
    "As a quick example, let's take a look at the discrete averaging dynamics, as analyzed [here](https://arxiv.org/abs/1808.05389) and [here](https://hal-cnrs.archives-ouvertes.fr/hal-02473856/file/main_JAP.pdf), which have been a key subroutine used in counting and majority protocols."
   ]
  },
  {
   "cell_type": "code",
   "execution_count": 14,
   "id": "incorrect-addition",
   "metadata": {},
   "outputs": [],
   "source": [
    "from math import ceil, floor\n",
    "\n",
    "def discrete_averaging(a, b):\n",
    "    avg = (a + b) / 2\n",
    "    return floor(avg), ceil(avg)\n",
    "\n",
    "n = 10 ** 8\n",
    "sim = Simulation({0: n // 2, 100: n // 2}, discrete_averaging)"
   ]
  },
  {
   "cell_type": "markdown",
   "id": "bound-accommodation",
   "metadata": {},
   "source": [
    "We did not need to explicitly describe the state set. Upon initialization, `Simulation` used breadth first search to find all states reachable from the initial configuration."
   ]
  },
  {
   "cell_type": "code",
   "execution_count": 15,
   "id": "diagnostic-praise",
   "metadata": {},
   "outputs": [
    {
     "name": "stdout",
     "output_type": "stream",
     "text": [
      "[0, 1, 2, 3, 4, 5, 6, 7, 8, 9, 10, 11, 12, 13, 14, 15, 16, 17, 18, 19, 20, 21, 22, 23, 24, 25, 26, 27, 28, 29, 30, 31, 32, 33, 34, 35, 36, 37, 38, 39, 40, 41, 42, 43, 44, 45, 46, 47, 48, 49, 50, 51, 52, 53, 54, 55, 56, 57, 58, 59, 60, 61, 62, 63, 64, 65, 66, 67, 68, 69, 70, 71, 72, 73, 74, 75, 76, 77, 78, 79, 80, 81, 82, 83, 84, 85, 86, 87, 88, 89, 90, 91, 92, 93, 94, 95, 96, 97, 98, 99, 100]\n"
     ]
    }
   ],
   "source": [
    "print(sim.state_list)"
   ]
  },
  {
   "cell_type": "markdown",
   "id": "acquired-province",
   "metadata": {},
   "source": [
    "This enumeration will call the function `rule` we give it O(q^2) times, where q is the number of reachable states. This preprocessing step also builds an internal representation of the transition function, so it will not need to continue calling `rule`. Thus we don't need to worry too much about our code for `rule` being efficient.\n",
    "\n",
    "Rather than the dictionary format used to input the configuration, internally `Simulation` represents the configuration as an array of counts, where the ordering of the indices is given by `state_list`."
   ]
  },
  {
   "cell_type": "code",
   "execution_count": 16,
   "id": "related-change",
   "metadata": {},
   "outputs": [
    {
     "data": {
      "text/plain": [
       "{0: 50000000, 100: 50000000}"
      ]
     },
     "execution_count": 16,
     "metadata": {},
     "output_type": "execute_result"
    }
   ],
   "source": [
    "sim.config_dict"
   ]
  },
  {
   "cell_type": "code",
   "execution_count": 17,
   "id": "fantastic-thomson",
   "metadata": {},
   "outputs": [
    {
     "data": {
      "text/plain": [
       "array([50000000,        0,        0,        0,        0,        0,\n",
       "              0,        0,        0,        0,        0,        0,\n",
       "              0,        0,        0,        0,        0,        0,\n",
       "              0,        0,        0,        0,        0,        0,\n",
       "              0,        0,        0,        0,        0,        0,\n",
       "              0,        0,        0,        0,        0,        0,\n",
       "              0,        0,        0,        0,        0,        0,\n",
       "              0,        0,        0,        0,        0,        0,\n",
       "              0,        0,        0,        0,        0,        0,\n",
       "              0,        0,        0,        0,        0,        0,\n",
       "              0,        0,        0,        0,        0,        0,\n",
       "              0,        0,        0,        0,        0,        0,\n",
       "              0,        0,        0,        0,        0,        0,\n",
       "              0,        0,        0,        0,        0,        0,\n",
       "              0,        0,        0,        0,        0,        0,\n",
       "              0,        0,        0,        0,        0,        0,\n",
       "              0,        0,        0,        0, 50000000], dtype=int64)"
      ]
     },
     "execution_count": 17,
     "metadata": {},
     "output_type": "execute_result"
    }
   ],
   "source": [
    "sim.config_array"
   ]
  },
  {
   "cell_type": "markdown",
   "id": "relevant-expert",
   "metadata": {},
   "source": [
    "A key result about these discrete averaging dynamics is that they converge in O(log n) time to at most 3 consecutive values. It could take longer to reach the ultimate silent configuration with only 2 consecutive values, so if we wanted to check for the faster convergence condition, we could use a function that checks for the condition. This function takes a configuration dictionary (mapping states to counts) as input and returns `True` if the convergence criterion has been met."
   ]
  },
  {
   "cell_type": "code",
   "execution_count": 18,
   "id": "extreme-consciousness",
   "metadata": {},
   "outputs": [],
   "source": [
    "def three_consecutive_values(config):\n",
    "    states = config.keys()\n",
    "    return max(states) - min(states) <= 2"
   ]
  },
  {
   "cell_type": "markdown",
   "id": "alpine-standard",
   "metadata": {},
   "source": [
    "Now we can run until this condition is met (or also use `time_trials` as above to generate statistics about this convergence time)."
   ]
  },
  {
   "cell_type": "code",
   "execution_count": 19,
   "id": "continuous-buffer",
   "metadata": {},
   "outputs": [
    {
     "name": "stdout",
     "output_type": "stream",
     "text": [
      " Time: 19.300\n"
     ]
    },
    {
     "data": {
      "text/html": [
       "<div>\n",
       "<style scoped>\n",
       "    .dataframe tbody tr th:only-of-type {\n",
       "        vertical-align: middle;\n",
       "    }\n",
       "\n",
       "    .dataframe tbody tr th {\n",
       "        vertical-align: top;\n",
       "    }\n",
       "\n",
       "    .dataframe thead th {\n",
       "        text-align: right;\n",
       "    }\n",
       "</style>\n",
       "<table border=\"1\" class=\"dataframe\">\n",
       "  <thead>\n",
       "    <tr style=\"text-align: right;\">\n",
       "      <th></th>\n",
       "      <th>0</th>\n",
       "      <th>1</th>\n",
       "      <th>2</th>\n",
       "      <th>3</th>\n",
       "      <th>4</th>\n",
       "      <th>5</th>\n",
       "      <th>6</th>\n",
       "      <th>7</th>\n",
       "      <th>8</th>\n",
       "      <th>9</th>\n",
       "      <th>...</th>\n",
       "      <th>91</th>\n",
       "      <th>92</th>\n",
       "      <th>93</th>\n",
       "      <th>94</th>\n",
       "      <th>95</th>\n",
       "      <th>96</th>\n",
       "      <th>97</th>\n",
       "      <th>98</th>\n",
       "      <th>99</th>\n",
       "      <th>100</th>\n",
       "    </tr>\n",
       "    <tr>\n",
       "      <th>time (100000000 interaction steps)</th>\n",
       "      <th></th>\n",
       "      <th></th>\n",
       "      <th></th>\n",
       "      <th></th>\n",
       "      <th></th>\n",
       "      <th></th>\n",
       "      <th></th>\n",
       "      <th></th>\n",
       "      <th></th>\n",
       "      <th></th>\n",
       "      <th></th>\n",
       "      <th></th>\n",
       "      <th></th>\n",
       "      <th></th>\n",
       "      <th></th>\n",
       "      <th></th>\n",
       "      <th></th>\n",
       "      <th></th>\n",
       "      <th></th>\n",
       "      <th></th>\n",
       "      <th></th>\n",
       "    </tr>\n",
       "  </thead>\n",
       "  <tbody>\n",
       "    <tr>\n",
       "      <th>0.0</th>\n",
       "      <td>50000000</td>\n",
       "      <td>0</td>\n",
       "      <td>0</td>\n",
       "      <td>0</td>\n",
       "      <td>0</td>\n",
       "      <td>0</td>\n",
       "      <td>0</td>\n",
       "      <td>0</td>\n",
       "      <td>0</td>\n",
       "      <td>0</td>\n",
       "      <td>...</td>\n",
       "      <td>0</td>\n",
       "      <td>0</td>\n",
       "      <td>0</td>\n",
       "      <td>0</td>\n",
       "      <td>0</td>\n",
       "      <td>0</td>\n",
       "      <td>0</td>\n",
       "      <td>0</td>\n",
       "      <td>0</td>\n",
       "      <td>50000000</td>\n",
       "    </tr>\n",
       "    <tr>\n",
       "      <th>0.1</th>\n",
       "      <td>45019198</td>\n",
       "      <td>2</td>\n",
       "      <td>2</td>\n",
       "      <td>87</td>\n",
       "      <td>15</td>\n",
       "      <td>2</td>\n",
       "      <td>1663</td>\n",
       "      <td>562</td>\n",
       "      <td>6</td>\n",
       "      <td>54</td>\n",
       "      <td>...</td>\n",
       "      <td>78</td>\n",
       "      <td>3</td>\n",
       "      <td>587</td>\n",
       "      <td>1764</td>\n",
       "      <td>2</td>\n",
       "      <td>11</td>\n",
       "      <td>92</td>\n",
       "      <td>1</td>\n",
       "      <td>1</td>\n",
       "      <td>45019742</td>\n",
       "    </tr>\n",
       "    <tr>\n",
       "      <th>0.2</th>\n",
       "      <td>40133628</td>\n",
       "      <td>44</td>\n",
       "      <td>61</td>\n",
       "      <td>1518</td>\n",
       "      <td>260</td>\n",
       "      <td>103</td>\n",
       "      <td>18030</td>\n",
       "      <td>6064</td>\n",
       "      <td>126</td>\n",
       "      <td>1395</td>\n",
       "      <td>...</td>\n",
       "      <td>1294</td>\n",
       "      <td>118</td>\n",
       "      <td>6321</td>\n",
       "      <td>18555</td>\n",
       "      <td>87</td>\n",
       "      <td>260</td>\n",
       "      <td>1693</td>\n",
       "      <td>77</td>\n",
       "      <td>64</td>\n",
       "      <td>40134153</td>\n",
       "    </tr>\n",
       "    <tr>\n",
       "      <th>0.3</th>\n",
       "      <td>35436339</td>\n",
       "      <td>379</td>\n",
       "      <td>502</td>\n",
       "      <td>7185</td>\n",
       "      <td>1384</td>\n",
       "      <td>692</td>\n",
       "      <td>62111</td>\n",
       "      <td>21049</td>\n",
       "      <td>981</td>\n",
       "      <td>6997</td>\n",
       "      <td>...</td>\n",
       "      <td>6850</td>\n",
       "      <td>1057</td>\n",
       "      <td>21363</td>\n",
       "      <td>62502</td>\n",
       "      <td>677</td>\n",
       "      <td>1412</td>\n",
       "      <td>7514</td>\n",
       "      <td>490</td>\n",
       "      <td>393</td>\n",
       "      <td>35435144</td>\n",
       "    </tr>\n",
       "    <tr>\n",
       "      <th>0.4</th>\n",
       "      <td>31007780</td>\n",
       "      <td>1212</td>\n",
       "      <td>1489</td>\n",
       "      <td>19120</td>\n",
       "      <td>4138</td>\n",
       "      <td>2382</td>\n",
       "      <td>131268</td>\n",
       "      <td>44692</td>\n",
       "      <td>3713</td>\n",
       "      <td>20170</td>\n",
       "      <td>...</td>\n",
       "      <td>20026</td>\n",
       "      <td>3882</td>\n",
       "      <td>45394</td>\n",
       "      <td>131868</td>\n",
       "      <td>2435</td>\n",
       "      <td>4188</td>\n",
       "      <td>19662</td>\n",
       "      <td>1592</td>\n",
       "      <td>1289</td>\n",
       "      <td>30999389</td>\n",
       "    </tr>\n",
       "    <tr>\n",
       "      <th>...</th>\n",
       "      <td>...</td>\n",
       "      <td>...</td>\n",
       "      <td>...</td>\n",
       "      <td>...</td>\n",
       "      <td>...</td>\n",
       "      <td>...</td>\n",
       "      <td>...</td>\n",
       "      <td>...</td>\n",
       "      <td>...</td>\n",
       "      <td>...</td>\n",
       "      <td>...</td>\n",
       "      <td>...</td>\n",
       "      <td>...</td>\n",
       "      <td>...</td>\n",
       "      <td>...</td>\n",
       "      <td>...</td>\n",
       "      <td>...</td>\n",
       "      <td>...</td>\n",
       "      <td>...</td>\n",
       "      <td>...</td>\n",
       "      <td>...</td>\n",
       "    </tr>\n",
       "    <tr>\n",
       "      <th>18.9</th>\n",
       "      <td>0</td>\n",
       "      <td>0</td>\n",
       "      <td>0</td>\n",
       "      <td>0</td>\n",
       "      <td>0</td>\n",
       "      <td>0</td>\n",
       "      <td>0</td>\n",
       "      <td>0</td>\n",
       "      <td>0</td>\n",
       "      <td>0</td>\n",
       "      <td>...</td>\n",
       "      <td>0</td>\n",
       "      <td>0</td>\n",
       "      <td>0</td>\n",
       "      <td>0</td>\n",
       "      <td>0</td>\n",
       "      <td>0</td>\n",
       "      <td>0</td>\n",
       "      <td>0</td>\n",
       "      <td>0</td>\n",
       "      <td>0</td>\n",
       "    </tr>\n",
       "    <tr>\n",
       "      <th>19.0</th>\n",
       "      <td>0</td>\n",
       "      <td>0</td>\n",
       "      <td>0</td>\n",
       "      <td>0</td>\n",
       "      <td>0</td>\n",
       "      <td>0</td>\n",
       "      <td>0</td>\n",
       "      <td>0</td>\n",
       "      <td>0</td>\n",
       "      <td>0</td>\n",
       "      <td>...</td>\n",
       "      <td>0</td>\n",
       "      <td>0</td>\n",
       "      <td>0</td>\n",
       "      <td>0</td>\n",
       "      <td>0</td>\n",
       "      <td>0</td>\n",
       "      <td>0</td>\n",
       "      <td>0</td>\n",
       "      <td>0</td>\n",
       "      <td>0</td>\n",
       "    </tr>\n",
       "    <tr>\n",
       "      <th>19.1</th>\n",
       "      <td>0</td>\n",
       "      <td>0</td>\n",
       "      <td>0</td>\n",
       "      <td>0</td>\n",
       "      <td>0</td>\n",
       "      <td>0</td>\n",
       "      <td>0</td>\n",
       "      <td>0</td>\n",
       "      <td>0</td>\n",
       "      <td>0</td>\n",
       "      <td>...</td>\n",
       "      <td>0</td>\n",
       "      <td>0</td>\n",
       "      <td>0</td>\n",
       "      <td>0</td>\n",
       "      <td>0</td>\n",
       "      <td>0</td>\n",
       "      <td>0</td>\n",
       "      <td>0</td>\n",
       "      <td>0</td>\n",
       "      <td>0</td>\n",
       "    </tr>\n",
       "    <tr>\n",
       "      <th>19.2</th>\n",
       "      <td>0</td>\n",
       "      <td>0</td>\n",
       "      <td>0</td>\n",
       "      <td>0</td>\n",
       "      <td>0</td>\n",
       "      <td>0</td>\n",
       "      <td>0</td>\n",
       "      <td>0</td>\n",
       "      <td>0</td>\n",
       "      <td>0</td>\n",
       "      <td>...</td>\n",
       "      <td>0</td>\n",
       "      <td>0</td>\n",
       "      <td>0</td>\n",
       "      <td>0</td>\n",
       "      <td>0</td>\n",
       "      <td>0</td>\n",
       "      <td>0</td>\n",
       "      <td>0</td>\n",
       "      <td>0</td>\n",
       "      <td>0</td>\n",
       "    </tr>\n",
       "    <tr>\n",
       "      <th>19.3</th>\n",
       "      <td>0</td>\n",
       "      <td>0</td>\n",
       "      <td>0</td>\n",
       "      <td>0</td>\n",
       "      <td>0</td>\n",
       "      <td>0</td>\n",
       "      <td>0</td>\n",
       "      <td>0</td>\n",
       "      <td>0</td>\n",
       "      <td>0</td>\n",
       "      <td>...</td>\n",
       "      <td>0</td>\n",
       "      <td>0</td>\n",
       "      <td>0</td>\n",
       "      <td>0</td>\n",
       "      <td>0</td>\n",
       "      <td>0</td>\n",
       "      <td>0</td>\n",
       "      <td>0</td>\n",
       "      <td>0</td>\n",
       "      <td>0</td>\n",
       "    </tr>\n",
       "  </tbody>\n",
       "</table>\n",
       "<p>194 rows × 101 columns</p>\n",
       "</div>"
      ],
      "text/plain": [
       "                                           0     1     2      3     4     5  \\\n",
       "time (100000000 interaction steps)                                            \n",
       "0.0                                 50000000     0     0      0     0     0   \n",
       "0.1                                 45019198     2     2     87    15     2   \n",
       "0.2                                 40133628    44    61   1518   260   103   \n",
       "0.3                                 35436339   379   502   7185  1384   692   \n",
       "0.4                                 31007780  1212  1489  19120  4138  2382   \n",
       "...                                      ...   ...   ...    ...   ...   ...   \n",
       "18.9                                       0     0     0      0     0     0   \n",
       "19.0                                       0     0     0      0     0     0   \n",
       "19.1                                       0     0     0      0     0     0   \n",
       "19.2                                       0     0     0      0     0     0   \n",
       "19.3                                       0     0     0      0     0     0   \n",
       "\n",
       "                                         6      7     8      9  ...     91  \\\n",
       "time (100000000 interaction steps)                              ...          \n",
       "0.0                                      0      0     0      0  ...      0   \n",
       "0.1                                   1663    562     6     54  ...     78   \n",
       "0.2                                  18030   6064   126   1395  ...   1294   \n",
       "0.3                                  62111  21049   981   6997  ...   6850   \n",
       "0.4                                 131268  44692  3713  20170  ...  20026   \n",
       "...                                    ...    ...   ...    ...  ...    ...   \n",
       "18.9                                     0      0     0      0  ...      0   \n",
       "19.0                                     0      0     0      0  ...      0   \n",
       "19.1                                     0      0     0      0  ...      0   \n",
       "19.2                                     0      0     0      0  ...      0   \n",
       "19.3                                     0      0     0      0  ...      0   \n",
       "\n",
       "                                      92     93      94    95    96     97  \\\n",
       "time (100000000 interaction steps)                                           \n",
       "0.0                                    0      0       0     0     0      0   \n",
       "0.1                                    3    587    1764     2    11     92   \n",
       "0.2                                  118   6321   18555    87   260   1693   \n",
       "0.3                                 1057  21363   62502   677  1412   7514   \n",
       "0.4                                 3882  45394  131868  2435  4188  19662   \n",
       "...                                  ...    ...     ...   ...   ...    ...   \n",
       "18.9                                   0      0       0     0     0      0   \n",
       "19.0                                   0      0       0     0     0      0   \n",
       "19.1                                   0      0       0     0     0      0   \n",
       "19.2                                   0      0       0     0     0      0   \n",
       "19.3                                   0      0       0     0     0      0   \n",
       "\n",
       "                                      98    99       100  \n",
       "time (100000000 interaction steps)                        \n",
       "0.0                                    0     0  50000000  \n",
       "0.1                                    1     1  45019742  \n",
       "0.2                                   77    64  40134153  \n",
       "0.3                                  490   393  35435144  \n",
       "0.4                                 1592  1289  30999389  \n",
       "...                                  ...   ...       ...  \n",
       "18.9                                   0     0         0  \n",
       "19.0                                   0     0         0  \n",
       "19.1                                   0     0         0  \n",
       "19.2                                   0     0         0  \n",
       "19.3                                   0     0         0  \n",
       "\n",
       "[194 rows x 101 columns]"
      ]
     },
     "execution_count": 19,
     "metadata": {},
     "output_type": "execute_result"
    }
   ],
   "source": [
    "sim.run(three_consecutive_values, 0.1)\n",
    "sim.history"
   ]
  },
  {
   "cell_type": "markdown",
   "id": "acoustic-motorcycle",
   "metadata": {},
   "source": [
    "With a much larger number of states, the `history` dataframe is more unwieldly, so trying to directly call `history.plot()` would be very messy and not very useful.\n",
    "Instead we will bring in a `Snapshot` object that makes a bar plot with the counts of each state, and lets us visualize the way the distribution evolves over time.\n",
    "For this `StatePlotter` object to work as intended, we need to be using an interactive matplotlib backend, such as `%matplotlib widget` or `%matplotlib qt`."
   ]
  },
  {
   "cell_type": "code",
   "execution_count": 20,
   "id": "finnish-shape",
   "metadata": {},
   "outputs": [
    {
     "data": {
      "application/vnd.jupyter.widget-view+json": {
       "model_id": "eca04c9c94af4e13881a446beb750ea2",
       "version_major": 2,
       "version_minor": 0
      },
      "text/plain": [
       "Canvas(toolbar=Toolbar(toolitems=[('Home', 'Reset original view', 'home', 'home'), ('Back', 'Back to previous …"
      ]
     },
     "metadata": {},
     "output_type": "display_data"
    }
   ],
   "source": [
    "%matplotlib widget\n",
    "from ppsim import StatePlotter\n",
    "sp = StatePlotter()\n",
    "sim.add_snapshot(sp)\n",
    "sim.snapshot_slider('time')\n",
    "sp.ax.xaxis.label.set_size(5)"
   ]
  },
  {
   "cell_type": "markdown",
   "id": "covered-catch",
   "metadata": {},
   "source": [
    "To better visualize small count states, let's change `yscale` to `symlog`."
   ]
  },
  {
   "cell_type": "code",
   "execution_count": 21,
   "id": "gentle-monitoring",
   "metadata": {},
   "outputs": [],
   "source": [
    "sp.ax.set_yscale('symlog')"
   ]
  },
  {
   "cell_type": "markdown",
   "id": "western-forum",
   "metadata": {},
   "source": [
    "If we run the `Simulation` while this `Snapshot` has already been created, it will update while the simulation runs. Because the population average was exactly 50, the ultimate silent configuration will have every agent in state 50, but it will take a a very long time to reach, as we must wait for pairwise interactions between dwindling counts of states 49 and 51. We can check that this reaction is now the only possible non-null interaction."
   ]
  },
  {
   "cell_type": "code",
   "execution_count": 22,
   "id": "assured-invalid",
   "metadata": {},
   "outputs": [
    {
     "name": "stdout",
     "output_type": "stream",
     "text": [
      " 49,  51  -->   50,  50\n"
     ]
    }
   ],
   "source": [
    "print(sim.enabled_reactions)"
   ]
  },
  {
   "cell_type": "markdown",
   "id": "unable-moses",
   "metadata": {},
   "source": [
    "As a result, the probability of a non-null interaction will grow very small, upon which the simulator will switch to the Gillespie algorithm. This allows it to relatively quickly run all the way until silence, which we can confirm takes a very long amount of parallel time."
   ]
  },
  {
   "cell_type": "code",
   "execution_count": null,
   "id": "worldwide-student",
   "metadata": {},
   "outputs": [],
   "source": [
    "# In order to see a Snapshot update live while the simulation is running, the command sim.add_snapshot() must be called in a previous cell\n",
    "# After the Snapshot is already displayed, calling sim.run() will update it in real time\n",
    "# The parameter Snapshot.update_time controls how often (in seconds) the Snapshot will get updated\n",
    "sim.run()"
   ]
  },
  {
   "cell_type": "markdown",
   "id": "buried-calendar",
   "metadata": {},
   "source": [
    "Since the timescale of the whole simulation is now very long, we should have the slider range across recorded indices rather than parallel time."
   ]
  },
  {
   "cell_type": "code",
   "execution_count": null,
   "id": "sweet-fever",
   "metadata": {},
   "outputs": [],
   "source": [
    "display(sp.fig.canvas)\n",
    "sim.snapshot_slider('index')"
   ]
  },
  {
   "cell_type": "markdown",
   "id": "relative-skiing",
   "metadata": {},
   "source": [
    "For more examples see https://github.com/UC-Davis-molecular-computing/population-protocols-python-package/tree/main/examples/"
   ]
  }
 ],
 "metadata": {
  "kernelspec": {
   "display_name": "Python 3",
   "language": "python",
   "name": "python3"
  },
  "language_info": {
   "codemirror_mode": {
    "name": "ipython",
    "version": 3
   },
   "file_extension": ".py",
   "mimetype": "text/x-python",
   "name": "python",
   "nbconvert_exporter": "python",
   "pygments_lexer": "ipython3",
   "version": "3.7.3"
  }
 },
 "nbformat": 4,
 "nbformat_minor": 5
}
