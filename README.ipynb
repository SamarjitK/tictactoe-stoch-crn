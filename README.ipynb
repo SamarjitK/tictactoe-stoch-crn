{
 "cells": [
  {
   "cell_type": "markdown",
   "id": "invalid-compression",
   "metadata": {},
   "source": [
    "# ppsim Python package\n",
    "\n",
    "The `ppsim` package is used for simulating population protcols. The core of the simulator uses a [batching algorithm](https://arxiv.org/abs/2005.03584) which gives significant asymptotic gains for protocols with relatively small reachable state sets. The package is designed to be run in a Python notebook, to concisely describe complex protocols, efficiently simulate their dynamics, and provide helpful visualization of the simulation.\n",
    "\n",
    "## Installation\n",
    "\n",
    "The package can be installed with `pip` via"
   ]
  },
  {
   "cell_type": "code",
   "execution_count": 1,
   "id": "hydraulic-mountain",
   "metadata": {},
   "outputs": [
    {
     "name": "stdout",
     "output_type": "stream",
     "text": [
      "Note: you may need to restart the kernel to use updated packages.\n"
     ]
    },
    {
     "name": "stderr",
     "output_type": "stream",
     "text": [
      "ERROR: Could not find a version that satisfies the requirement ppsim\n",
      "ERROR: No matching distribution found for ppsim\n"
     ]
    }
   ],
   "source": [
    "pip install ppsim"
   ]
  },
  {
   "cell_type": "markdown",
   "id": "broken-elder",
   "metadata": {},
   "source": [
    "The most important part of the package is the `Simulation` class, which is responsible for parsing a protocol, performing the simulation, and giving data about the simulation."
   ]
  },
  {
   "cell_type": "code",
   "execution_count": 2,
   "id": "convinced-newman",
   "metadata": {},
   "outputs": [],
   "source": [
    "from ppsim import Simulation"
   ]
  },
  {
   "cell_type": "markdown",
   "id": "extensive-large",
   "metadata": {},
   "source": [
    "## Example protcol\n",
    "\n",
    "A state can be any hashable Python object. The simplest way to describe a protocol is a dictionary mapping pairs of input states to pairs of output states.\n",
    "For example, here is a description of the classic 3-state [approximate majority protocol](http://www.cs.yale.edu/homes/aspnes/papers/approximate-majority-journal.pdf). There are two initial states `A` and `B`, and the protocol converges with high probability to the majority state with the help of a third \"undecided\" state `U`."
   ]
  },
  {
   "cell_type": "code",
   "execution_count": 3,
   "id": "supposed-passing",
   "metadata": {},
   "outputs": [],
   "source": [
    "a, b, u = 'A', 'B', 'U'\n",
    "approximate_majority = {\n",
    "    (a,b): (u,u),\n",
    "    (a,u): (a,a),\n",
    "    (b,u): (b,b)\n",
    "}"
   ]
  },
  {
   "cell_type": "markdown",
   "id": "experimental-corps",
   "metadata": {},
   "source": [
    "## Example Simulation\n",
    "\n",
    "To instantiate a `Simulation`, we must specify a protocol along with an initial condition, which is a dictionary mapping states to counts. Let's simulate approximate majority with in a population of one billion agents with a slight majority of `A` agents."
   ]
  },
  {
   "cell_type": "code",
   "execution_count": 4,
   "id": "declared-burst",
   "metadata": {},
   "outputs": [],
   "source": [
    "n = 10 ** 9\n",
    "init_config = {a: 0.501 * n, b: 0.499 * n}\n",
    "sim = Simulation(init_config, approximate_majority)"
   ]
  },
  {
   "cell_type": "markdown",
   "id": "latest-beaver",
   "metadata": {},
   "source": [
    "Now let's run this simulation for `10` units of parallel time (`10 * n` interactions). We will record the configuration every `0.1` units of time."
   ]
  },
  {
   "cell_type": "code",
   "execution_count": 5,
   "id": "korean-lincoln",
   "metadata": {},
   "outputs": [
    {
     "name": "stdout",
     "output_type": "stream",
     "text": [
      " Time: 10.001\r"
     ]
    }
   ],
   "source": [
    "sim.run(10, 0.1)"
   ]
  },
  {
   "cell_type": "markdown",
   "id": "signal-tuner",
   "metadata": {},
   "source": [
    "The `Simulation` class can display all these configurations in a `pandas` dataframe in the attribute `history`."
   ]
  },
  {
   "cell_type": "code",
   "execution_count": 6,
   "id": "sapphire-black",
   "metadata": {},
   "outputs": [
    {
     "data": {
      "text/html": [
       "<div>\n",
       "<style scoped>\n",
       "    .dataframe tbody tr th:only-of-type {\n",
       "        vertical-align: middle;\n",
       "    }\n",
       "\n",
       "    .dataframe tbody tr th {\n",
       "        vertical-align: top;\n",
       "    }\n",
       "\n",
       "    .dataframe thead th {\n",
       "        text-align: right;\n",
       "    }\n",
       "</style>\n",
       "<table border=\"1\" class=\"dataframe\">\n",
       "  <thead>\n",
       "    <tr style=\"text-align: right;\">\n",
       "      <th></th>\n",
       "      <th>A</th>\n",
       "      <th>B</th>\n",
       "      <th>U</th>\n",
       "    </tr>\n",
       "    <tr>\n",
       "      <th>time</th>\n",
       "      <th></th>\n",
       "      <th></th>\n",
       "      <th></th>\n",
       "    </tr>\n",
       "  </thead>\n",
       "  <tbody>\n",
       "    <tr>\n",
       "      <th>0.000000</th>\n",
       "      <td>501000000</td>\n",
       "      <td>499000000</td>\n",
       "      <td>0</td>\n",
       "    </tr>\n",
       "    <tr>\n",
       "      <th>0.100010</th>\n",
       "      <td>478285585</td>\n",
       "      <td>476280966</td>\n",
       "      <td>45433449</td>\n",
       "    </tr>\n",
       "    <tr>\n",
       "      <th>0.200039</th>\n",
       "      <td>459449200</td>\n",
       "      <td>457428961</td>\n",
       "      <td>83121839</td>\n",
       "    </tr>\n",
       "    <tr>\n",
       "      <th>0.300056</th>\n",
       "      <td>443650105</td>\n",
       "      <td>441607805</td>\n",
       "      <td>114742090</td>\n",
       "    </tr>\n",
       "    <tr>\n",
       "      <th>0.400098</th>\n",
       "      <td>430264769</td>\n",
       "      <td>428196457</td>\n",
       "      <td>141538774</td>\n",
       "    </tr>\n",
       "    <tr>\n",
       "      <th>...</th>\n",
       "      <td>...</td>\n",
       "      <td>...</td>\n",
       "      <td>...</td>\n",
       "    </tr>\n",
       "    <tr>\n",
       "      <th>9.601324</th>\n",
       "      <td>352755117</td>\n",
       "      <td>314377928</td>\n",
       "      <td>332866955</td>\n",
       "    </tr>\n",
       "    <tr>\n",
       "      <th>9.701327</th>\n",
       "      <td>353418258</td>\n",
       "      <td>313744457</td>\n",
       "      <td>332837285</td>\n",
       "    </tr>\n",
       "    <tr>\n",
       "      <th>9.801359</th>\n",
       "      <td>354106871</td>\n",
       "      <td>313093847</td>\n",
       "      <td>332799282</td>\n",
       "    </tr>\n",
       "    <tr>\n",
       "      <th>9.901364</th>\n",
       "      <td>354824761</td>\n",
       "      <td>312423976</td>\n",
       "      <td>332751263</td>\n",
       "    </tr>\n",
       "    <tr>\n",
       "      <th>10.001375</th>\n",
       "      <td>355556526</td>\n",
       "      <td>311728627</td>\n",
       "      <td>332714847</td>\n",
       "    </tr>\n",
       "  </tbody>\n",
       "</table>\n",
       "<p>101 rows × 3 columns</p>\n",
       "</div>"
      ],
      "text/plain": [
       "                   A          B          U\n",
       "time                                      \n",
       "0.000000   501000000  499000000          0\n",
       "0.100010   478285585  476280966   45433449\n",
       "0.200039   459449200  457428961   83121839\n",
       "0.300056   443650105  441607805  114742090\n",
       "0.400098   430264769  428196457  141538774\n",
       "...              ...        ...        ...\n",
       "9.601324   352755117  314377928  332866955\n",
       "9.701327   353418258  313744457  332837285\n",
       "9.801359   354106871  313093847  332799282\n",
       "9.901364   354824761  312423976  332751263\n",
       "10.001375  355556526  311728627  332714847\n",
       "\n",
       "[101 rows x 3 columns]"
      ]
     },
     "execution_count": 6,
     "metadata": {},
     "output_type": "execute_result"
    }
   ],
   "source": [
    "sim.history"
   ]
  },
  {
   "cell_type": "code",
   "execution_count": 7,
   "id": "chief-teach",
   "metadata": {},
   "outputs": [
    {
     "data": {
      "text/plain": [
       "<AxesSubplot:xlabel='time'>"
      ]
     },
     "execution_count": 7,
     "metadata": {},
     "output_type": "execute_result"
    },
    {
     "data": {
      "image/png": "[encoded data removed]",
      "text/plain": [
       "<Figure size 432x288 with 1 Axes>"
      ]
     },
     "metadata": {
      "needs_background": "light"
     },
     "output_type": "display_data"
    }
   ],
   "source": [
    "sim.history.plot()"
   ]
  },
  {
   "cell_type": "markdown",
   "id": "imposed-albania",
   "metadata": {},
   "source": [
    "Without specifying an end time, `run` will run the simulation until the configuration is silent (all interactions are null). In this case, that will be when the protcol reaches a silent majority consensus configuration."
   ]
  },
  {
   "cell_type": "code",
   "execution_count": 8,
   "id": "rough-robinson",
   "metadata": {},
   "outputs": [
    {
     "name": "stdout",
     "output_type": "stream",
     "text": [
      " Time: 41.716\r"
     ]
    },
    {
     "data": {
      "text/plain": [
       "<AxesSubplot:xlabel='time'>"
      ]
     },
     "execution_count": 8,
     "metadata": {},
     "output_type": "execute_result"
    },
    {
     "data": {
      "image/png": "[encoded data removed]",
      "text/plain": [
       "<Figure size 432x288 with 1 Axes>"
      ]
     },
     "metadata": {
      "needs_background": "light"
     },
     "output_type": "display_data"
    }
   ],
   "source": [
    "sim.run()\n",
    "sim.history.plot()"
   ]
  },
  {
   "cell_type": "markdown",
   "id": "southeast-daisy",
   "metadata": {},
   "source": [
    "As currently described, this protocol is one-way, where these interactions only take place if the two states meet in the specified order. We can see this by checking `print_reactions`."
   ]
  },
  {
   "cell_type": "code",
   "execution_count": 9,
   "id": "pressing-definition",
   "metadata": {},
   "outputs": [
    {
     "name": "stdout",
     "output_type": "stream",
     "text": [
      "A, B  -->  U, U      with probability 0.5\n",
      "A, U  -->  A, A      with probability 0.5\n",
      "B, U  -->  B, B      with probability 0.5\n"
     ]
    }
   ],
   "source": [
    "sim.print_reactions()"
   ]
  },
  {
   "cell_type": "markdown",
   "id": "clean-blend",
   "metadata": {},
   "source": [
    "Here we have unorder pairs of reactants, and the probability `0.5` is because these interactions as written depended on the order of the agents. If we wanted to consider the more sensible symmetric variant of the protocol, one approach would explicitly give all non-null interactions:"
   ]
  },
  {
   "cell_type": "code",
   "execution_count": 10,
   "id": "documentary-watson",
   "metadata": {},
   "outputs": [],
   "source": [
    "approximate_majority_symmetric = {\n",
    "    (a,b): (u,u), (b,a): (u,u),\n",
    "    (a,u): (a,a), (u,a): (a,a),\n",
    "    (b,u): (b,b), (u,b): (b,b)\n",
    "}\n",
    "sim = Simulation(init_config, approximate_majority_symmetric)"
   ]
  },
  {
   "cell_type": "markdown",
   "id": "supported-garage",
   "metadata": {},
   "source": [
    "But a quicker equivalent approach is to tell `Simulation` that all interactions should be interpreted as symmetric, so if we specify interaction `(a,b)` but leave `(b,a)` as null, then `(b,a)` will be interpreted as having the same output pair."
   ]
  },
  {
   "cell_type": "code",
   "execution_count": 11,
   "id": "respiratory-macintosh",
   "metadata": {},
   "outputs": [
    {
     "name": "stdout",
     "output_type": "stream",
     "text": [
      "A, B  -->  U, U\n",
      "A, U  -->  A, A\n",
      "B, U  -->  B, B\n",
      " Time: 21.195\r"
     ]
    },
    {
     "data": {
      "text/plain": [
       "<AxesSubplot:xlabel='time'>"
      ]
     },
     "execution_count": 11,
     "metadata": {},
     "output_type": "execute_result"
    },
    {
     "data": {
      "image/png": "[encoded data removed]",
      "text/plain": [
       "<Figure size 432x288 with 1 Axes>"
      ]
     },
     "metadata": {
      "needs_background": "light"
     },
     "output_type": "display_data"
    }
   ],
   "source": [
    "sim = Simulation(init_config, approximate_majority, transition_order='symmetric')\n",
    "sim.print_reactions()\n",
    "sim.run()\n",
    "sim.history.plot()"
   ]
  },
  {
   "cell_type": "markdown",
   "id": "muslim-shuttle",
   "metadata": {},
   "source": [
    "A key result about this protocol is it converges in expected O(log n) time, which surprisingly is very nontrivial to prove. We can use this package to very quickly gather some convincing data that the convergence really is O(log n) time, with the function `time_trials`."
   ]
  },
  {
   "cell_type": "code",
   "execution_count": 12,
   "id": "general-writing",
   "metadata": {},
   "outputs": [
    {
     "data": {
      "application/vnd.jupyter.widget-view+json": {
       "model_id": "8fe0e181ef544e0b850cd921a253e8c0",
       "version_major": 2,
       "version_minor": 0
      },
      "text/plain": [
       "  0%|          | 0/20 [00:00<?, ?it/s]"
      ]
     },
     "metadata": {},
     "output_type": "display_data"
    },
    {
     "data": {
      "text/html": [
       "<div>\n",
       "<style scoped>\n",
       "    .dataframe tbody tr th:only-of-type {\n",
       "        vertical-align: middle;\n",
       "    }\n",
       "\n",
       "    .dataframe tbody tr th {\n",
       "        vertical-align: top;\n",
       "    }\n",
       "\n",
       "    .dataframe thead th {\n",
       "        text-align: right;\n",
       "    }\n",
       "</style>\n",
       "<table border=\"1\" class=\"dataframe\">\n",
       "  <thead>\n",
       "    <tr style=\"text-align: right;\">\n",
       "      <th></th>\n",
       "      <th>n</th>\n",
       "      <th>time</th>\n",
       "    </tr>\n",
       "  </thead>\n",
       "  <tbody>\n",
       "    <tr>\n",
       "      <th>0</th>\n",
       "      <td>10</td>\n",
       "      <td>14.100000</td>\n",
       "    </tr>\n",
       "    <tr>\n",
       "      <th>1</th>\n",
       "      <td>10</td>\n",
       "      <td>9.000000</td>\n",
       "    </tr>\n",
       "    <tr>\n",
       "      <th>2</th>\n",
       "      <td>10</td>\n",
       "      <td>7.700000</td>\n",
       "    </tr>\n",
       "    <tr>\n",
       "      <th>3</th>\n",
       "      <td>10</td>\n",
       "      <td>14.900000</td>\n",
       "    </tr>\n",
       "    <tr>\n",
       "      <th>4</th>\n",
       "      <td>10</td>\n",
       "      <td>7.200000</td>\n",
       "    </tr>\n",
       "    <tr>\n",
       "      <th>...</th>\n",
       "      <td>...</td>\n",
       "      <td>...</td>\n",
       "    </tr>\n",
       "    <tr>\n",
       "      <th>1359</th>\n",
       "      <td>42813323</td>\n",
       "      <td>48.937840</td>\n",
       "    </tr>\n",
       "    <tr>\n",
       "      <th>1360</th>\n",
       "      <td>42813323</td>\n",
       "      <td>50.391446</td>\n",
       "    </tr>\n",
       "    <tr>\n",
       "      <th>1361</th>\n",
       "      <td>42813323</td>\n",
       "      <td>56.390054</td>\n",
       "    </tr>\n",
       "    <tr>\n",
       "      <th>1362</th>\n",
       "      <td>100000000</td>\n",
       "      <td>50.265050</td>\n",
       "    </tr>\n",
       "    <tr>\n",
       "      <th>1363</th>\n",
       "      <td>100000000</td>\n",
       "      <td>53.851442</td>\n",
       "    </tr>\n",
       "  </tbody>\n",
       "</table>\n",
       "<p>1364 rows × 2 columns</p>\n",
       "</div>"
      ],
      "text/plain": [
       "              n       time\n",
       "0            10  14.100000\n",
       "1            10   9.000000\n",
       "2            10   7.700000\n",
       "3            10  14.900000\n",
       "4            10   7.200000\n",
       "...         ...        ...\n",
       "1359   42813323  48.937840\n",
       "1360   42813323  50.391446\n",
       "1361   42813323  56.390054\n",
       "1362  100000000  50.265050\n",
       "1363  100000000  53.851442\n",
       "\n",
       "[1364 rows x 2 columns]"
      ]
     },
     "execution_count": 12,
     "metadata": {},
     "output_type": "execute_result"
    }
   ],
   "source": [
    "from ppsim import time_trials\n",
    "import numpy as np\n",
    "\n",
    "ns = [int(n) for n in np.geomspace(10, 10 ** 8, 20)]\n",
    "def initial_condition(n):\n",
    "    return {'A': n // 2, 'B': n // 2}\n",
    "df = time_trials(approximate_majority, ns, initial_condition, num_trials=100, max_wallclock_time = 30, transition_order='symmetric')\n",
    "df"
   ]
  },
  {
   "cell_type": "markdown",
   "id": "prostate-substance",
   "metadata": {},
   "source": [
    "This dataframe collected time from up to 100 trials for each population size n across a many orders of magnitude, limited by the budget of 30 seconds of wallclock time that we gave it.\n",
    "We can now use the `seaborn` library to get a convincing plot of the data."
   ]
  },
  {
   "cell_type": "code",
   "execution_count": 13,
   "id": "reasonable-peeing",
   "metadata": {},
   "outputs": [
    {
     "data": {
      "image/png": "[encoded data removed]",
      "text/plain": [
       "<Figure size 432x288 with 1 Axes>"
      ]
     },
     "metadata": {
      "needs_background": "light"
     },
     "output_type": "display_data"
    }
   ],
   "source": [
    "import seaborn as sns\n",
    "lp = sns.lineplot(x='n', y='time', data=df)\n",
    "lp.set_xscale('log')"
   ]
  },
  {
   "cell_type": "markdown",
   "id": "attractive-catering",
   "metadata": {},
   "source": [
    "## Larger state protocol\n",
    "\n",
    "For more complicated protocols, it would be very tedious to use this dictionary format. Instead we can give an arbitrary Python function which takes a pair of states as input (along with possible other protocol parameters) and returns a pair of states as output (or if we wanted a randomized transition, it would output a dictionary which maps pairs of states to probabilities).\n",
    "\n",
    "As a quick example, let's take a look at the discrete averaging dynamics, as analyzed [here](https://arxiv.org/abs/1808.05389) and [here](https://hal-cnrs.archives-ouvertes.fr/hal-02473856/file/main_JAP.pdf), which have been a key subroutine used in counting and majority protocols."
   ]
  },
  {
   "cell_type": "code",
   "execution_count": 14,
   "id": "invisible-venice",
   "metadata": {},
   "outputs": [],
   "source": [
    "from math import ceil, floor\n",
    "\n",
    "def discrete_averaging(a, b):\n",
    "    avg = (a + b) / 2\n",
    "    return floor(avg), ceil(avg)\n",
    "\n",
    "n = 10 ** 8\n",
    "sim = Simulation({0: n // 2, 100: n // 2}, discrete_averaging)"
   ]
  },
  {
   "cell_type": "markdown",
   "id": "incorrect-permit",
   "metadata": {},
   "source": [
    "We did not need to explicitly describe the state set. Upon initialization, `Simulation` used breadth first search to find all states reachable from the initial configuration."
   ]
  },
  {
   "cell_type": "code",
   "execution_count": 15,
   "id": "unlimited-humor",
   "metadata": {},
   "outputs": [
    {
     "name": "stdout",
     "output_type": "stream",
     "text": [
      "[0, 1, 2, 3, 4, 5, 6, 7, 8, 9, 10, 11, 12, 13, 14, 15, 16, 17, 18, 19, 20, 21, 22, 23, 24, 25, 26, 27, 28, 29, 30, 31, 32, 33, 34, 35, 36, 37, 38, 39, 40, 41, 42, 43, 44, 45, 46, 47, 48, 49, 50, 51, 52, 53, 54, 55, 56, 57, 58, 59, 60, 61, 62, 63, 64, 65, 66, 67, 68, 69, 70, 71, 72, 73, 74, 75, 76, 77, 78, 79, 80, 81, 82, 83, 84, 85, 86, 87, 88, 89, 90, 91, 92, 93, 94, 95, 96, 97, 98, 99, 100]\n"
     ]
    }
   ],
   "source": [
    "print(sim.state_list)"
   ]
  },
  {
   "cell_type": "markdown",
   "id": "duplicate-earthquake",
   "metadata": {},
   "source": [
    "This enumeration will call the function `rule` we give it O(q^2) times, where q is the number of reachable states. This preprocessing step also builds an internal representation of the transition function, so it will not need to continue calling `rule`. Thus we don't need to worry too much about our code for `rule` being efficient.\n",
    "\n",
    "Rather than the dictionary format used to input the configuration, internally `Simulation` represents the configuration as an array of counts, where the ordering of the indices is given by `state_list`."
   ]
  },
  {
   "cell_type": "code",
   "execution_count": 16,
   "id": "major-transparency",
   "metadata": {},
   "outputs": [
    {
     "data": {
      "text/plain": [
       "{0: 50000000, 100: 50000000}"
      ]
     },
     "execution_count": 16,
     "metadata": {},
     "output_type": "execute_result"
    }
   ],
   "source": [
    "sim.config_dict"
   ]
  },
  {
   "cell_type": "code",
   "execution_count": 17,
   "id": "happy-kingston",
   "metadata": {},
   "outputs": [
    {
     "data": {
      "text/plain": [
       "array([50000000,        0,        0,        0,        0,        0,\n",
       "              0,        0,        0,        0,        0,        0,\n",
       "              0,        0,        0,        0,        0,        0,\n",
       "              0,        0,        0,        0,        0,        0,\n",
       "              0,        0,        0,        0,        0,        0,\n",
       "              0,        0,        0,        0,        0,        0,\n",
       "              0,        0,        0,        0,        0,        0,\n",
       "              0,        0,        0,        0,        0,        0,\n",
       "              0,        0,        0,        0,        0,        0,\n",
       "              0,        0,        0,        0,        0,        0,\n",
       "              0,        0,        0,        0,        0,        0,\n",
       "              0,        0,        0,        0,        0,        0,\n",
       "              0,        0,        0,        0,        0,        0,\n",
       "              0,        0,        0,        0,        0,        0,\n",
       "              0,        0,        0,        0,        0,        0,\n",
       "              0,        0,        0,        0,        0,        0,\n",
       "              0,        0,        0,        0, 50000000], dtype=int64)"
      ]
     },
     "execution_count": 17,
     "metadata": {},
     "output_type": "execute_result"
    }
   ],
   "source": [
    "sim.config_array"
   ]
  },
  {
   "cell_type": "markdown",
   "id": "consolidated-highland",
   "metadata": {},
   "source": [
    "A key result about these discrete averaging dynamics is that they converge in O(log n) time to at most 3 consecutive values. It could take longer to reach the ultimate silent configuration with only 2 consecutive values, so if we wanted to check for the faster convergence condition, we could use a function that checks for the condition. This function takes a configuration dictionary (mapping states to counts) as input and returns `True` if the convergence criterion has been met."
   ]
  },
  {
   "cell_type": "code",
   "execution_count": 18,
   "id": "cheap-grammar",
   "metadata": {},
   "outputs": [],
   "source": [
    "def three_consecutive_values(config):\n",
    "    states = config.keys()\n",
    "    return max(states) - min(states) <= 2"
   ]
  },
  {
   "cell_type": "markdown",
   "id": "funny-election",
   "metadata": {},
   "source": [
    "Now we can run until this condition is met (or also use `time_trials` as above to generate statistics about this convergence time)."
   ]
  },
  {
   "cell_type": "code",
   "execution_count": 19,
   "id": "dense-incident",
   "metadata": {},
   "outputs": [
    {
     "name": "stdout",
     "output_type": "stream",
     "text": [
      " Time: 17.870\r"
     ]
    },
    {
     "data": {
      "text/html": [
       "<div>\n",
       "<style scoped>\n",
       "    .dataframe tbody tr th:only-of-type {\n",
       "        vertical-align: middle;\n",
       "    }\n",
       "\n",
       "    .dataframe tbody tr th {\n",
       "        vertical-align: top;\n",
       "    }\n",
       "\n",
       "    .dataframe thead th {\n",
       "        text-align: right;\n",
       "    }\n",
       "</style>\n",
       "<table border=\"1\" class=\"dataframe\">\n",
       "  <thead>\n",
       "    <tr style=\"text-align: right;\">\n",
       "      <th></th>\n",
       "      <th>0</th>\n",
       "      <th>1</th>\n",
       "      <th>2</th>\n",
       "      <th>3</th>\n",
       "      <th>4</th>\n",
       "      <th>5</th>\n",
       "      <th>6</th>\n",
       "      <th>7</th>\n",
       "      <th>8</th>\n",
       "      <th>9</th>\n",
       "      <th>...</th>\n",
       "      <th>91</th>\n",
       "      <th>92</th>\n",
       "      <th>93</th>\n",
       "      <th>94</th>\n",
       "      <th>95</th>\n",
       "      <th>96</th>\n",
       "      <th>97</th>\n",
       "      <th>98</th>\n",
       "      <th>99</th>\n",
       "      <th>100</th>\n",
       "    </tr>\n",
       "    <tr>\n",
       "      <th>time</th>\n",
       "      <th></th>\n",
       "      <th></th>\n",
       "      <th></th>\n",
       "      <th></th>\n",
       "      <th></th>\n",
       "      <th></th>\n",
       "      <th></th>\n",
       "      <th></th>\n",
       "      <th></th>\n",
       "      <th></th>\n",
       "      <th></th>\n",
       "      <th></th>\n",
       "      <th></th>\n",
       "      <th></th>\n",
       "      <th></th>\n",
       "      <th></th>\n",
       "      <th></th>\n",
       "      <th></th>\n",
       "      <th></th>\n",
       "      <th></th>\n",
       "      <th></th>\n",
       "    </tr>\n",
       "  </thead>\n",
       "  <tbody>\n",
       "    <tr>\n",
       "      <th>0.000000</th>\n",
       "      <td>50000000</td>\n",
       "      <td>0</td>\n",
       "      <td>0</td>\n",
       "      <td>0</td>\n",
       "      <td>0</td>\n",
       "      <td>0</td>\n",
       "      <td>0</td>\n",
       "      <td>0</td>\n",
       "      <td>0</td>\n",
       "      <td>0</td>\n",
       "      <td>...</td>\n",
       "      <td>0</td>\n",
       "      <td>0</td>\n",
       "      <td>0</td>\n",
       "      <td>0</td>\n",
       "      <td>0</td>\n",
       "      <td>0</td>\n",
       "      <td>0</td>\n",
       "      <td>0</td>\n",
       "      <td>0</td>\n",
       "      <td>50000000</td>\n",
       "    </tr>\n",
       "    <tr>\n",
       "      <th>0.100003</th>\n",
       "      <td>45017904</td>\n",
       "      <td>1</td>\n",
       "      <td>1</td>\n",
       "      <td>56</td>\n",
       "      <td>6</td>\n",
       "      <td>2</td>\n",
       "      <td>1721</td>\n",
       "      <td>603</td>\n",
       "      <td>2</td>\n",
       "      <td>64</td>\n",
       "      <td>...</td>\n",
       "      <td>63</td>\n",
       "      <td>0</td>\n",
       "      <td>558</td>\n",
       "      <td>1643</td>\n",
       "      <td>4</td>\n",
       "      <td>11</td>\n",
       "      <td>71</td>\n",
       "      <td>4</td>\n",
       "      <td>2</td>\n",
       "      <td>45018958</td>\n",
       "    </tr>\n",
       "    <tr>\n",
       "      <th>0.200260</th>\n",
       "      <td>40123004</td>\n",
       "      <td>53</td>\n",
       "      <td>57</td>\n",
       "      <td>1520</td>\n",
       "      <td>226</td>\n",
       "      <td>77</td>\n",
       "      <td>18293</td>\n",
       "      <td>6134</td>\n",
       "      <td>137</td>\n",
       "      <td>1328</td>\n",
       "      <td>...</td>\n",
       "      <td>1349</td>\n",
       "      <td>141</td>\n",
       "      <td>6256</td>\n",
       "      <td>18388</td>\n",
       "      <td>87</td>\n",
       "      <td>278</td>\n",
       "      <td>1494</td>\n",
       "      <td>71</td>\n",
       "      <td>51</td>\n",
       "      <td>40124502</td>\n",
       "    </tr>\n",
       "    <tr>\n",
       "      <th>0.300952</th>\n",
       "      <td>35393996</td>\n",
       "      <td>357</td>\n",
       "      <td>397</td>\n",
       "      <td>7436</td>\n",
       "      <td>1435</td>\n",
       "      <td>728</td>\n",
       "      <td>62975</td>\n",
       "      <td>21222</td>\n",
       "      <td>962</td>\n",
       "      <td>7077</td>\n",
       "      <td>...</td>\n",
       "      <td>7262</td>\n",
       "      <td>1006</td>\n",
       "      <td>21274</td>\n",
       "      <td>62986</td>\n",
       "      <td>669</td>\n",
       "      <td>1394</td>\n",
       "      <td>7319</td>\n",
       "      <td>447</td>\n",
       "      <td>342</td>\n",
       "      <td>35396414</td>\n",
       "    </tr>\n",
       "    <tr>\n",
       "      <th>0.400990</th>\n",
       "      <td>30961350</td>\n",
       "      <td>1257</td>\n",
       "      <td>1556</td>\n",
       "      <td>19870</td>\n",
       "      <td>4242</td>\n",
       "      <td>2637</td>\n",
       "      <td>132312</td>\n",
       "      <td>45295</td>\n",
       "      <td>3802</td>\n",
       "      <td>20391</td>\n",
       "      <td>...</td>\n",
       "      <td>20433</td>\n",
       "      <td>3878</td>\n",
       "      <td>45205</td>\n",
       "      <td>132546</td>\n",
       "      <td>2413</td>\n",
       "      <td>4136</td>\n",
       "      <td>19346</td>\n",
       "      <td>1534</td>\n",
       "      <td>1202</td>\n",
       "      <td>30964915</td>\n",
       "    </tr>\n",
       "    <tr>\n",
       "      <th>...</th>\n",
       "      <td>...</td>\n",
       "      <td>...</td>\n",
       "      <td>...</td>\n",
       "      <td>...</td>\n",
       "      <td>...</td>\n",
       "      <td>...</td>\n",
       "      <td>...</td>\n",
       "      <td>...</td>\n",
       "      <td>...</td>\n",
       "      <td>...</td>\n",
       "      <td>...</td>\n",
       "      <td>...</td>\n",
       "      <td>...</td>\n",
       "      <td>...</td>\n",
       "      <td>...</td>\n",
       "      <td>...</td>\n",
       "      <td>...</td>\n",
       "      <td>...</td>\n",
       "      <td>...</td>\n",
       "      <td>...</td>\n",
       "      <td>...</td>\n",
       "    </tr>\n",
       "    <tr>\n",
       "      <th>17.469344</th>\n",
       "      <td>0</td>\n",
       "      <td>0</td>\n",
       "      <td>0</td>\n",
       "      <td>0</td>\n",
       "      <td>0</td>\n",
       "      <td>0</td>\n",
       "      <td>0</td>\n",
       "      <td>0</td>\n",
       "      <td>0</td>\n",
       "      <td>0</td>\n",
       "      <td>...</td>\n",
       "      <td>0</td>\n",
       "      <td>0</td>\n",
       "      <td>0</td>\n",
       "      <td>0</td>\n",
       "      <td>0</td>\n",
       "      <td>0</td>\n",
       "      <td>0</td>\n",
       "      <td>0</td>\n",
       "      <td>0</td>\n",
       "      <td>0</td>\n",
       "    </tr>\n",
       "    <tr>\n",
       "      <th>17.569425</th>\n",
       "      <td>0</td>\n",
       "      <td>0</td>\n",
       "      <td>0</td>\n",
       "      <td>0</td>\n",
       "      <td>0</td>\n",
       "      <td>0</td>\n",
       "      <td>0</td>\n",
       "      <td>0</td>\n",
       "      <td>0</td>\n",
       "      <td>0</td>\n",
       "      <td>...</td>\n",
       "      <td>0</td>\n",
       "      <td>0</td>\n",
       "      <td>0</td>\n",
       "      <td>0</td>\n",
       "      <td>0</td>\n",
       "      <td>0</td>\n",
       "      <td>0</td>\n",
       "      <td>0</td>\n",
       "      <td>0</td>\n",
       "      <td>0</td>\n",
       "    </tr>\n",
       "    <tr>\n",
       "      <th>17.669490</th>\n",
       "      <td>0</td>\n",
       "      <td>0</td>\n",
       "      <td>0</td>\n",
       "      <td>0</td>\n",
       "      <td>0</td>\n",
       "      <td>0</td>\n",
       "      <td>0</td>\n",
       "      <td>0</td>\n",
       "      <td>0</td>\n",
       "      <td>0</td>\n",
       "      <td>...</td>\n",
       "      <td>0</td>\n",
       "      <td>0</td>\n",
       "      <td>0</td>\n",
       "      <td>0</td>\n",
       "      <td>0</td>\n",
       "      <td>0</td>\n",
       "      <td>0</td>\n",
       "      <td>0</td>\n",
       "      <td>0</td>\n",
       "      <td>0</td>\n",
       "    </tr>\n",
       "    <tr>\n",
       "      <th>17.769641</th>\n",
       "      <td>0</td>\n",
       "      <td>0</td>\n",
       "      <td>0</td>\n",
       "      <td>0</td>\n",
       "      <td>0</td>\n",
       "      <td>0</td>\n",
       "      <td>0</td>\n",
       "      <td>0</td>\n",
       "      <td>0</td>\n",
       "      <td>0</td>\n",
       "      <td>...</td>\n",
       "      <td>0</td>\n",
       "      <td>0</td>\n",
       "      <td>0</td>\n",
       "      <td>0</td>\n",
       "      <td>0</td>\n",
       "      <td>0</td>\n",
       "      <td>0</td>\n",
       "      <td>0</td>\n",
       "      <td>0</td>\n",
       "      <td>0</td>\n",
       "    </tr>\n",
       "    <tr>\n",
       "      <th>17.869756</th>\n",
       "      <td>0</td>\n",
       "      <td>0</td>\n",
       "      <td>0</td>\n",
       "      <td>0</td>\n",
       "      <td>0</td>\n",
       "      <td>0</td>\n",
       "      <td>0</td>\n",
       "      <td>0</td>\n",
       "      <td>0</td>\n",
       "      <td>0</td>\n",
       "      <td>...</td>\n",
       "      <td>0</td>\n",
       "      <td>0</td>\n",
       "      <td>0</td>\n",
       "      <td>0</td>\n",
       "      <td>0</td>\n",
       "      <td>0</td>\n",
       "      <td>0</td>\n",
       "      <td>0</td>\n",
       "      <td>0</td>\n",
       "      <td>0</td>\n",
       "    </tr>\n",
       "  </tbody>\n",
       "</table>\n",
       "<p>178 rows × 101 columns</p>\n",
       "</div>"
      ],
      "text/plain": [
       "                  0     1     2      3     4     5       6      7     8  \\\n",
       "time                                                                      \n",
       "0.000000   50000000     0     0      0     0     0       0      0     0   \n",
       "0.100003   45017904     1     1     56     6     2    1721    603     2   \n",
       "0.200260   40123004    53    57   1520   226    77   18293   6134   137   \n",
       "0.300952   35393996   357   397   7436  1435   728   62975  21222   962   \n",
       "0.400990   30961350  1257  1556  19870  4242  2637  132312  45295  3802   \n",
       "...             ...   ...   ...    ...   ...   ...     ...    ...   ...   \n",
       "17.469344         0     0     0      0     0     0       0      0     0   \n",
       "17.569425         0     0     0      0     0     0       0      0     0   \n",
       "17.669490         0     0     0      0     0     0       0      0     0   \n",
       "17.769641         0     0     0      0     0     0       0      0     0   \n",
       "17.869756         0     0     0      0     0     0       0      0     0   \n",
       "\n",
       "               9  ...     91    92     93      94    95    96     97    98  \\\n",
       "time              ...                                                        \n",
       "0.000000       0  ...      0     0      0       0     0     0      0     0   \n",
       "0.100003      64  ...     63     0    558    1643     4    11     71     4   \n",
       "0.200260    1328  ...   1349   141   6256   18388    87   278   1494    71   \n",
       "0.300952    7077  ...   7262  1006  21274   62986   669  1394   7319   447   \n",
       "0.400990   20391  ...  20433  3878  45205  132546  2413  4136  19346  1534   \n",
       "...          ...  ...    ...   ...    ...     ...   ...   ...    ...   ...   \n",
       "17.469344      0  ...      0     0      0       0     0     0      0     0   \n",
       "17.569425      0  ...      0     0      0       0     0     0      0     0   \n",
       "17.669490      0  ...      0     0      0       0     0     0      0     0   \n",
       "17.769641      0  ...      0     0      0       0     0     0      0     0   \n",
       "17.869756      0  ...      0     0      0       0     0     0      0     0   \n",
       "\n",
       "             99       100  \n",
       "time                       \n",
       "0.000000      0  50000000  \n",
       "0.100003      2  45018958  \n",
       "0.200260     51  40124502  \n",
       "0.300952    342  35396414  \n",
       "0.400990   1202  30964915  \n",
       "...         ...       ...  \n",
       "17.469344     0         0  \n",
       "17.569425     0         0  \n",
       "17.669490     0         0  \n",
       "17.769641     0         0  \n",
       "17.869756     0         0  \n",
       "\n",
       "[178 rows x 101 columns]"
      ]
     },
     "execution_count": 19,
     "metadata": {},
     "output_type": "execute_result"
    }
   ],
   "source": [
    "sim.run(three_consecutive_values, 0.1)\n",
    "sim.history"
   ]
  },
  {
   "cell_type": "markdown",
   "id": "hindu-chapel",
   "metadata": {},
   "source": [
    "With a much larger number of states, the `history` dataframe is more unwieldly, so trying to directly call `history.plot()` would be very messy and not very useful.\n",
    "Instead we will bring in a `Snapshot` object that makes a bar plot with the counts of each state, and lets us visualize the way the distribution evolves over time.\n",
    "For this `StatePlotter` object to work as intended, we need to be using an interactive matplotlib backend, such as `%matplotlib widget` or `%matplotlib qt`."
   ]
  },
  {
   "cell_type": "code",
   "execution_count": 20,
   "id": "earlier-finland",
   "metadata": {},
   "outputs": [
    {
     "data": {
      "application/vnd.jupyter.widget-view+json": {
       "model_id": "f28c6a1beb104a7392a431022f6ebeba",
       "version_major": 2,
       "version_minor": 0
      },
      "text/plain": [
       "Canvas(toolbar=Toolbar(toolitems=[('Home', 'Reset original view', 'home', 'home'), ('Back', 'Back to previous …"
      ]
     },
     "metadata": {},
     "output_type": "display_data"
    },
    {
     "data": {
      "application/vnd.jupyter.widget-view+json": {
       "model_id": "2fccb70a8a8c416baaf6c3e3bdf84b32",
       "version_major": 2,
       "version_minor": 0
      },
      "text/plain": [
       "interactive(children=(FloatSlider(value=0.0, description='time', layout=Layout(width='100%'), max=17.86975578,…"
      ]
     },
     "metadata": {},
     "output_type": "display_data"
    }
   ],
   "source": [
    "%matplotlib widget\n",
    "from ppsim import StatePlotter\n",
    "sp = StatePlotter()\n",
    "sim.add_snapshot(sp)\n",
    "sim.snapshot_slider('time')"
   ]
  },
  {
   "cell_type": "markdown",
   "id": "proud-tribe",
   "metadata": {},
   "source": [
    "To better visualize small count states, let's change `yscale` to `symlog`."
   ]
  },
  {
   "cell_type": "code",
   "execution_count": 21,
   "id": "favorite-photograph",
   "metadata": {},
   "outputs": [],
   "source": [
    "sp.ax.set_yscale('symlog')"
   ]
  },
  {
   "cell_type": "markdown",
   "id": "wrapped-killer",
   "metadata": {},
   "source": [
    "If we run the `Simulation` while this `Snapshot` has already been created, it will update while the simulation runs. Because the population average was exactly 50, the ultimate silent configuration will have every agent in state 50, but it will take a a very long time to reach, as we must wait for pairwise interactions between dwindling counts of states 49 and 51. We can check that this reaction is now the only possible non-null interaction."
   ]
  },
  {
   "cell_type": "code",
   "execution_count": 23,
   "id": "regulation-scene",
   "metadata": {},
   "outputs": [
    {
     "name": "stdout",
     "output_type": "stream",
     "text": [
      " 49,  51  -->   50,  50\n"
     ]
    }
   ],
   "source": [
    "sim.print_enabled_reactions()"
   ]
  },
  {
   "cell_type": "markdown",
   "id": "crucial-saying",
   "metadata": {},
   "source": [
    "As a result, the probability of a non-null interaction will grow very small, upon which the simulator will switch to the Gillespie algorithm. This allows it to relatively quickly run all the way until silence, which we can confirm takes a very long amount of parallel time."
   ]
  },
  {
   "cell_type": "code",
   "execution_count": 24,
   "id": "disabled-spectacular",
   "metadata": {},
   "outputs": [],
   "source": [
    "sim.run()"
   ]
  },
  {
   "cell_type": "markdown",
   "id": "hollow-spouse",
   "metadata": {},
   "source": [
    "Since the timescale of the whole simulation is now very long, we should have the slider range across recorded indices rather than parallel time."
   ]
  },
  {
   "cell_type": "code",
   "execution_count": 25,
   "id": "square-friend",
   "metadata": {},
   "outputs": [
    {
     "data": {
      "application/vnd.jupyter.widget-view+json": {
       "model_id": "f28c6a1beb104a7392a431022f6ebeba",
       "version_major": 2,
       "version_minor": 0
      },
      "text/plain": [
       "Canvas(toolbar=Toolbar(toolitems=[('Home', 'Reset original view', 'home', 'home'), ('Back', 'Back to previous …"
      ]
     },
     "metadata": {},
     "output_type": "display_data"
    },
    {
     "data": {
      "application/vnd.jupyter.widget-view+json": {
       "model_id": "51a42eb36b74412a99b10decf345fbae",
       "version_major": 2,
       "version_minor": 0
      },
      "text/plain": [
       "interactive(children=(IntSlider(value=0, description='index', layout=Layout(width='100%'), max=11329), Output(…"
      ]
     },
     "metadata": {},
     "output_type": "display_data"
    }
   ],
   "source": [
    "display(sp.fig.canvas)\n",
    "sim.snapshot_slider('index')"
   ]
  },
  {
   "cell_type": "code",
   "execution_count": null,
   "id": "through-disabled",
   "metadata": {},
   "outputs": [],
   "source": []
  }
 ],
 "metadata": {
  "kernelspec": {
   "display_name": "Python 3",
   "language": "python",
   "name": "python3"
  },
  "language_info": {
   "codemirror_mode": {
    "name": "ipython",
    "version": 3
   },
   "file_extension": ".py",
   "mimetype": "text/x-python",
   "name": "python",
   "nbconvert_exporter": "python",
   "pygments_lexer": "ipython3",
   "version": "3.7.3"
  }
 },
 "nbformat": 4,
 "nbformat_minor": 5
}
