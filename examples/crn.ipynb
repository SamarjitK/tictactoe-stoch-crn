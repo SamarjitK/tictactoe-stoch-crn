{
 "cells": [
  {
   "cell_type": "markdown",
   "metadata": {},
   "source": [
    "# Simulating Chemical Reaction Networks with ppsim\n",
    "\n",
    "``ppsim`` is able to simulate any Chemical Reaction Network (CRN) whose reactions are all bimolecular (two reactant, two product) or unimolecular (one reactant, one product). This notebook shows some examples of that feature, and how it compares to the standard Gillespie stochastic simulation algorithm."
   ]
  },
  {
   "cell_type": "code",
   "execution_count": 1,
   "metadata": {
    "collapsed": false,
    "jupyter": {
     "outputs_hidden": false
    },
    "pycharm": {
     "name": "#%%\n"
    }
   },
   "outputs": [],
   "source": [
    "import ppsim as pp\n",
    "import numpy as np\n",
    "from matplotlib import pyplot as plt\n",
    "import pickle"
   ]
  },
  {
   "cell_type": "markdown",
   "metadata": {},
   "source": [
    "# Approximate majority CRN\n",
    "\n"
   ]
  },
  {
   "cell_type": "code",
   "execution_count": 2,
   "metadata": {},
   "outputs": [
    {
     "name": "stdout",
     "output_type": "stream",
     "text": [
      " Time: 30.000\n"
     ]
    },
    {
     "data": {
      "image/png": "[encoded data removed]",
      "text/plain": [
       "<Figure size 432x288 with 1 Axes>"
      ]
     },
     "metadata": {
      "needs_background": "light"
     },
     "output_type": "display_data"
    }
   ],
   "source": [
    "a,b,u = pp.species('A B U')\n",
    "approx_majority = [\n",
    "    a+b >> 2*u,\n",
    "    a+u >> 2*a,\n",
    "    b+u >> 2*b,\n",
    "]\n",
    "n = 10 ** 2\n",
    "p = 0.51\n",
    "init_config = {a: p*n, b: (1-p)*n}\n",
    "sim = pp.Simulation(init_config, approx_majority)\n",
    "sim.run(30, 0.1)\n",
    "sim.history.plot(figsize = (6,4))\n",
    "plt.title('approximate majority protocol')\n",
    "plt.savefig('cmsb_data/am1.svg')\n",
    "plt.show()"
   ]
  },
  {
   "cell_type": "code",
   "execution_count": 47,
   "metadata": {},
   "outputs": [],
   "source": [
    "import gillespy2\n",
    "class ApproximateMajority(gillespy2.Model):\n",
    "     def __init__(self, n):\n",
    "            #initialize Model\n",
    "            gillespy2.Model.__init__(self, name=\"Approximate_Majority\")\n",
    "            \n",
    "            self.volume = n\n",
    "            \n",
    "            rate1 = gillespy2.Parameter(name='rate1', expression= 1)\n",
    "            rate2 = gillespy2.Parameter(name='rate2', expression= 1)\n",
    "            rate3 = gillespy2.Parameter(name='rate3', expression = 1)\n",
    "            \n",
    "            # Add parameters to the model\n",
    "            self.add_parameter([rate1,rate2,rate3])\n",
    "            \n",
    "            A = gillespy2.Species(name='A', initial_value= int(p * n))\n",
    "            B = gillespy2.Species(name='B', initial_value= int((1-p) * n))\n",
    "            U = gillespy2.Species(name='U', initial_value=0)\n",
    "            \n",
    "            # Add species to the model\n",
    "            self.add_species([A, B, U])\n",
    "            \n",
    "            r1 = gillespy2.Reaction(name=\"r1\",reactants={A:1,B:1}, products={U:2},\n",
    "                   rate=rate1)\n",
    "            \n",
    "            r2 = gillespy2.Reaction(name=\"r2\",reactants={A:1, U:1}, products={A:2},\n",
    "                    rate=rate2)\n",
    "            \n",
    "            r3 = gillespy2.Reaction(name=\"r3\",reactants={B:1, U:1}, products={B:2},\n",
    "                    rate=rate3)\n",
    "            \n",
    "            # Add reactions to the model\n",
    "            self.add_reaction([r1,r2,r3])\n",
    "            \n",
    "            # Set timespan of model\n",
    "            self.timespan(np.linspace(0,30,300))"
   ]
  },
  {
   "cell_type": "code",
   "execution_count": 31,
   "metadata": {},
   "outputs": [],
   "source": [
    "model = ApproximateMajority(10 ** 2)"
   ]
  },
  {
   "cell_type": "code",
   "execution_count": 35,
   "metadata": {
    "collapsed": true,
    "jupyter": {
     "outputs_hidden": true
    },
    "tags": []
   },
   "outputs": [
    {
     "name": "stdout",
     "output_type": "stream",
     "text": [
      " "
     ]
    },
    {
     "data": {
      "text/plain": [
       "         2165 function calls (2162 primitive calls) in 3.423 seconds\n",
       "\n",
       "   Ordered by: internal time\n",
       "\n",
       "   ncalls  tottime  percall  cumtime  percall filename:lineno(function)\n",
       "       16    3.408    0.213    3.408    0.213 {method 'acquire' of '_thread.lock' objects}\n",
       "        1    0.009    0.009    3.423    3.423 <string>:1(<module>)\n",
       "        1    0.003    0.003    0.003    0.003 solverutils.py:167(numpy_trajectory_base_initialization)\n",
       "        1    0.001    0.001    3.413    3.413 model.py:781(run)\n",
       "     1000    0.000    0.000    0.000    0.000 results.py:97(__init__)\n",
       "        1    0.000    0.000    0.000    0.000 {built-in method numpy.zeros}\n",
       "        1    0.000    0.000    0.000    0.000 {built-in method _thread.start_new_thread}\n",
       "        1    0.000    0.000    3.412    3.412 ssa_solver.py:30(run)\n",
       "     1000    0.000    0.000    0.000    0.000 {method 'append' of 'list' objects}\n",
       "        1    0.000    0.000    3.423    3.423 {built-in method builtins.exec}\n",
       "        1    0.000    0.000    0.000    0.000 function_base.py:23(linspace)\n",
       "        3    0.000    0.000    0.000    0.000 threading.py:216(__init__)\n",
       "        5    0.000    0.000    2.613    0.523 threading.py:1000(join)\n",
       "        1    0.000    0.000    0.000    0.000 {built-in method builtins.round}\n",
       "        6    0.000    0.000    0.000    0.000 threading.py:1080(is_alive)\n",
       "        1    0.000    0.000    0.000    0.000 fromnumeric.py:70(_wrapreduction)\n",
       "       11    0.000    0.000    2.613    0.238 threading.py:1038(_wait_for_tstate_lock)\n",
       "        4    0.000    0.000    0.000    0.000 {built-in method _thread.allocate_lock}\n",
       "        1    0.000    0.000    0.000    0.000 <__array_function__ internals>:2(ndim)\n",
       "        1    0.000    0.000    0.000    0.000 threading.py:758(__init__)\n",
       "        6    0.000    0.000    0.000    0.000 threading.py:1214(current_thread)\n",
       "        1    0.000    0.000    0.796    0.796 threading.py:534(wait)\n",
       "        5    0.000    0.000    0.000    0.000 {built-in method builtins.max}\n",
       "        1    0.000    0.000    0.796    0.796 threading.py:829(start)\n",
       "      4/1    0.000    0.000    0.000    0.000 {built-in method numpy.core._multiarray_umath.implement_array_function}\n",
       "        1    0.000    0.000    0.796    0.796 threading.py:264(wait)\n",
       "        2    0.000    0.000    0.000    0.000 {built-in method numpy.array}\n",
       "        1    0.000    0.000    0.000    0.000 {method 'reduce' of 'numpy.ufunc' objects}\n",
       "        1    0.000    0.000    0.000    0.000 {built-in method numpy.arange}\n",
       "        3    0.000    0.000    0.000    0.000 threading.py:499(__init__)\n",
       "        1    0.000    0.000    0.000    0.000 _weakrefset.py:81(add)\n",
       "        1    0.000    0.000    0.000    0.000 threading.py:728(_newname)\n",
       "        2    0.000    0.000    0.000    0.000 threading.py:243(__exit__)\n",
       "        2    0.000    0.000    0.000    0.000 threading.py:240(__enter__)\n",
       "        1    0.000    0.000    0.000    0.000 _weakrefset.py:38(_remove)\n",
       "        6    0.000    0.000    0.000    0.000 {built-in method _thread.get_ident}\n",
       "        1    0.000    0.000    0.000    0.000 threading.py:968(_stop)\n",
       "       12    0.000    0.000    0.000    0.000 threading.py:507(is_set)\n",
       "        1    0.000    0.000    0.000    0.000 threading.py:513(set)\n",
       "        1    0.000    0.000    0.000    0.000 threading.py:335(notify)\n",
       "        1    0.000    0.000    0.000    0.000 <__array_function__ internals>:2(linspace)\n",
       "        2    0.000    0.000    0.000    0.000 threading.py:255(_is_owned)\n",
       "        2    0.000    0.000    0.000    0.000 numerictypes.py:285(issubclass_)\n",
       "        1    0.000    0.000    0.000    0.000 {method 'any' of 'numpy.generic' objects}\n",
       "        1    0.000    0.000    0.000    0.000 fromnumeric.py:2256(any)\n",
       "        1    0.000    0.000    0.000    0.000 _methods.py:53(_any)\n",
       "        1    0.000    0.000    0.000    0.000 threading.py:358(notify_all)\n",
       "        1    0.000    0.000    0.000    0.000 numerictypes.py:359(issubdtype)\n",
       "        2    0.000    0.000    0.000    0.000 _asarray.py:110(asanyarray)\n",
       "        1    0.000    0.000    0.000    0.000 threading.py:249(_release_save)\n",
       "        1    0.000    0.000    0.000    0.000 <__array_function__ internals>:2(result_type)\n",
       "        1    0.000    0.000    0.000    0.000 {method 'reshape' of 'numpy.ndarray' objects}\n",
       "        1    0.000    0.000    0.000    0.000 threading.py:252(_acquire_restore)\n",
       "        1    0.000    0.000    0.000    0.000 fromnumeric.py:3106(ndim)\n",
       "        1    0.000    0.000    0.000    0.000 {method 'astype' of 'numpy.ndarray' objects}\n",
       "        1    0.000    0.000    0.000    0.000 <__array_function__ internals>:2(any)\n",
       "        3    0.000    0.000    0.000    0.000 {built-in method builtins.issubclass}\n",
       "        1    0.000    0.000    0.000    0.000 threading.py:1104(daemon)\n",
       "        1    0.000    0.000    0.000    0.000 numeric.py:1865(isscalar)\n",
       "        1    0.000    0.000    0.000    0.000 fromnumeric.py:71(<dictcomp>)\n",
       "        2    0.000    0.000    0.000    0.000 {method '__enter__' of '_thread.lock' objects}\n",
       "        5    0.000    0.000    0.000    0.000 {built-in method builtins.len}\n",
       "        2    0.000    0.000    0.000    0.000 {method '__exit__' of '_thread.lock' objects}\n",
       "        1    0.000    0.000    0.000    0.000 {built-in method builtins.getattr}\n",
       "        2    0.000    0.000    0.000    0.000 {built-in method builtins.hasattr}\n",
       "        2    0.000    0.000    0.000    0.000 {method 'release' of '_thread.lock' objects}\n",
       "        1    0.000    0.000    0.000    0.000 {method 'add' of 'set' objects}\n",
       "        1    0.000    0.000    0.000    0.000 {method 'discard' of 'set' objects}\n",
       "        1    0.000    0.000    0.000    0.000 results.py:127(__init__)\n",
       "        1    0.000    0.000    0.000    0.000 ssa_solver.py:17(__init__)\n",
       "        1    0.000    0.000    0.000    0.000 {method 'append' of 'collections.deque' objects}\n",
       "        1    0.000    0.000    0.000    0.000 {method 'items' of 'dict' objects}\n",
       "        2    0.000    0.000    0.000    0.000 {built-in method builtins.isinstance}\n",
       "        1    0.000    0.000    0.000    0.000 {method 'disable' of '_lsprof.Profiler' objects}\n",
       "        1    0.000    0.000    0.000    0.000 fromnumeric.py:2251(_any_dispatcher)\n",
       "        1    0.000    0.000    0.000    0.000 function_base.py:18(_linspace_dispatcher)\n",
       "        1    0.000    0.000    0.000    0.000 {built-in method _operator.index}\n",
       "        1    0.000    0.000    0.000    0.000 {method 'keys' of 'collections.OrderedDict' objects}\n",
       "        1    0.000    0.000    0.000    0.000 fromnumeric.py:3102(_ndim_dispatcher)\n",
       "        1    0.000    0.000    0.000    0.000 {method 'locked' of '_thread.lock' objects}\n",
       "        1    0.000    0.000    0.000    0.000 multiarray.py:644(result_type)"
      ]
     },
     "metadata": {},
     "output_type": "display_data"
    }
   ],
   "source": [
    "%prun results = model.run(solver=gillespy2.NumPySSASolver, number_of_trajectories = 1000)"
   ]
  },
  {
   "cell_type": "code",
   "execution_count": 37,
   "metadata": {
    "collapsed": true,
    "jupyter": {
     "outputs_hidden": true
    },
    "tags": []
   },
   "outputs": [
    {
     "name": "stdout",
     "output_type": "stream",
     "text": [
      " "
     ]
    },
    {
     "data": {
      "text/plain": [
       "         42068 function calls (42067 primitive calls) in 18.290 seconds\n",
       "\n",
       "   Ordered by: internal time\n",
       "\n",
       "   ncalls  tottime  percall  cumtime  percall filename:lineno(function)\n",
       "        1    9.412    9.412    9.412    9.412 solverutils.py:78(_parse_binary_output)\n",
       "       15    5.831    0.389    5.831    0.389 {method 'read' of '_io.BufferedReader' objects}\n",
       "       20    2.150    0.108    2.150    0.108 {method 'acquire' of '_thread.lock' objects}\n",
       "        1    0.508    0.508    0.508    0.508 {method 'split' of 'str' objects}\n",
       "        1    0.161    0.161   18.131   18.131 ssa_c_solver.py:168(run)\n",
       "        1    0.147    0.147   18.289   18.289 model.py:781(run)\n",
       "        3    0.030    0.010    0.030    0.010 {built-in method _winapi.CreateProcess}\n",
       "        1    0.015    0.015    0.015    0.015 {method 'decode' of 'bytes' objects}\n",
       "       21    0.009    0.000    0.009    0.000 {built-in method io.open}\n",
       "    10000    0.005    0.000    0.005    0.000 results.py:97(__init__)\n",
       "       12    0.003    0.000    0.003    0.000 {built-in method nt.unlink}\n",
       "       42    0.003    0.000    0.003    0.000 {built-in method nt.stat}\n",
       "        3    0.003    0.001    0.003    0.001 {built-in method _winapi.WaitForSingleObject}\n",
       "        7    0.002    0.000    0.011    0.002 shutil.py:96(copyfile)\n",
       "    20405    0.002    0.000    0.002    0.000 {method 'append' of 'list' objects}\n",
       "        1    0.001    0.001   18.290   18.290 <string>:1(<module>)\n",
       "        7    0.001    0.000    0.001    0.000 {built-in method nt.chmod}\n",
       "        8    0.001    0.000    0.001    0.000 {built-in method nt._isdir}\n",
       "        1    0.001    0.001    0.003    0.003 ssa_c_solver.py:111(__write_template)\n",
       "    10101    0.001    0.000    0.001    0.000 {built-in method builtins.len}\n",
       "        1    0.000    0.000    0.000    0.000 {built-in method nt.mkdir}\n",
       "        1    0.000    0.000    0.005    0.005 weakref.py:547(__call__)\n",
       "        1    0.000    0.000    0.000    0.000 {built-in method nt.listdir}\n",
       "       20    0.000    0.000    0.000    0.000 {built-in method _winapi.CloseHandle}\n",
       "        4    0.000    0.000    0.000    0.000 {built-in method _thread.start_new_thread}\n",
       "        1    0.000    0.000    0.004    0.004 shutil.py:369(_rmtree_unsafe)\n",
       "        1    0.000    0.000    0.000    0.000 {built-in method nt.rmdir}\n",
       "       43    0.000    0.000    0.000    0.000 ntpath.py:122(splitdrive)\n",
       "      105    0.000    0.000    0.000    0.000 {method 'write' of '_io.TextIOWrapper' objects}\n",
       "        1    0.000    0.000    0.000    0.000 {built-in method nt.lstat}\n",
       "       18    0.000    0.000    0.000    0.000 ntpath.py:75(join)\n",
       "        7    0.000    0.000    0.014    0.002 shutil.py:231(copy)\n",
       "        3    0.000    0.000    0.000    0.000 subprocess.py:491(list2cmdline)\n",
       "        5    0.000    0.000    0.000    0.000 {built-in method _winapi.CreatePipe}\n",
       "        1    0.000    0.000    0.015    0.015 solverutils.py:29(_copy_files)\n",
       "        7    0.000    0.000    0.000    0.000 ntpath.py:178(split)\n",
       "        3    0.000    0.000    0.030    0.010 subprocess.py:1107(_execute_child)\n",
       "      105    0.000    0.000    0.000    0.000 {built-in method _codecs.charmap_encode}\n",
       "        1    0.000    0.000    0.000    0.000 {built-in method nt.scandir}\n",
       "        7    0.000    0.000    0.003    0.000 subprocess.py:1221(_wait)\n",
       "        2    0.000    0.000    2.151    1.076 subprocess.py:1242(_communicate)\n",
       "        3    0.000    0.000    0.030    0.010 subprocess.py:656(__init__)\n",
       "        7    0.000    0.000    0.002    0.000 shutil.py:125(copymode)\n",
       "        1    0.000    0.000    2.165    2.165 ssa_c_solver.py:132(__compile)\n",
       "       64    0.000    0.000    0.000    0.000 {method 'replace' of 'str' objects}\n",
       "      105    0.000    0.000    0.000    0.000 cp1252.py:18(encode)\n",
       "        3    0.000    0.000    7.984    2.661 subprocess.py:895(communicate)\n",
       "        3    0.000    0.000    0.000    0.000 reaction.py:328(sanitized_propensity_function)\n",
       "        7    0.000    0.000    0.001    0.000 shutil.py:84(_samefile)\n",
       "        2    0.000    0.000    2.165    1.082 subprocess.py:431(run)\n",
       "        4    0.000    0.000    0.000    0.000 threading.py:216(__init__)\n",
       "        4    0.000    0.000    0.000    0.000 threading.py:758(__init__)\n",
       "       11    0.000    0.000    0.000    0.000 {built-in method _thread.allocate_lock}\n",
       "        4    0.000    0.000    0.001    0.000 threading.py:534(wait)\n",
       "        1    0.000    0.000   18.290   18.290 {built-in method builtins.exec}\n",
       "        1    0.000    0.000    2.185    2.185 ssa_c_solver.py:71(__init__)\n",
       "        1    0.000    0.000    0.000    0.000 ssa_c_solver.py:16(_write_constants)\n",
       "        7    0.000    0.000    0.001    0.000 shutil.py:76(copyfileobj)\n",
       "       40    0.000    0.000    0.000    0.000 {built-in method builtins.hasattr}\n",
       "    34/33    0.000    0.000    0.000    0.000 {method 'format' of 'str' objects}\n",
       "        4    0.000    0.000    2.149    0.537 threading.py:1000(join)\n",
       "        1    0.000    0.000    0.000    0.000 {built-in method _warnings.warn}\n",
       "        4    0.000    0.000    0.001    0.000 threading.py:264(wait)\n",
       "       89    0.000    0.000    0.000    0.000 {method 'startswith' of 'str' objects}\n",
       "        9    0.000    0.000    0.000    0.000 {built-in method _winapi.DuplicateHandle}\n",
       "        7    0.000    0.000    0.000    0.000 ntpath.py:212(basename)\n",
       "        4    0.000    0.000    0.002    0.000 threading.py:829(start)\n",
       "       31    0.000    0.000    0.000    0.000 subprocess.py:202(Close)\n",
       "       75    0.000    0.000    0.000    0.000 {built-in method builtins.isinstance}\n",
       "        4    0.000    0.000    0.000    0.000 threading.py:968(_stop)\n",
       "        1    0.000    0.000    0.000    0.000 ntpath.py:226(islink)\n",
       "        3    0.000    0.000    0.000    0.000 subprocess.py:1013(_get_handles)\n",
       "        4    0.000    0.000    0.000    0.000 threading.py:728(_newname)\n",
       "        4    0.000    0.000    2.149    0.537 threading.py:1038(_wait_for_tstate_lock)\n",
       "        7    0.000    0.000    0.001    0.000 genericpath.py:27(isfile)\n",
       "        7    0.000    0.000    0.000    0.000 {built-in method _stat.S_IMODE}\n",
       "        4    0.000    0.000    0.000    0.000 _weakrefset.py:81(add)\n",
       "       10    0.000    0.000    0.000    0.000 {method 'close' of '_io.BufferedReader' objects}\n",
       "        1    0.000    0.000    0.004    0.004 shutil.py:456(rmtree)\n",
       "        1    0.000    0.000    0.000    0.000 solverutils.py:56(_write_reactions)\n",
       "        1    0.000    0.000    0.000    0.000 {built-in method numpy.empty}\n",
       "       68    0.000    0.000    0.000    0.000 {built-in method nt.fspath}\n",
       "        7    0.000    0.000    0.001    0.000 genericpath.py:94(samefile)\n",
       "        8    0.000    0.000    0.000    0.000 threading.py:1214(current_thread)\n",
       "        1    0.000    0.000    0.000    0.000 {built-in method builtins.round}\n",
       "        9    0.000    0.000    0.000    0.000 subprocess.py:1085(_make_inheritable)\n",
       "        1    0.000    0.000    0.000    0.000 weakref.py:530(__init__)\n",
       "        2    0.000    0.000    0.000    0.000 {built-in method _locale._getdefaultlocale}\n",
       "        2    0.000    0.000    0.000    0.000 _bootlocale.py:11(getpreferredencoding)\n",
       "        7    0.000    0.000    0.003    0.000 subprocess.py:985(wait)\n",
       "        5    0.000    0.000    0.000    0.000 {built-in method builtins.sorted}\n",
       "        1    0.000    0.000    0.001    0.001 tempfile.py:343(mkdtemp)\n",
       "        3    0.000    0.000    0.000    0.000 {built-in method _winapi.GetExitCodeProcess}\n",
       "        5    0.000    0.000    0.000    0.000 {built-in method msvcrt.open_osfhandle}\n",
       "        4    0.000    0.000    0.000    0.000 _weakrefset.py:38(_remove)\n",
       "        3    0.000    0.000    0.000    0.000 subprocess.py:822(__exit__)\n",
       "        8    0.000    0.000    0.000    0.000 random.py:224(_randbelow)\n",
       "        1    0.000    0.000    0.001    0.001 tempfile.py:787(__init__)\n",
       "        1    0.000    0.000    0.000    0.000 solverutils.py:37(_write_propensity)\n",
       "        4    0.000    0.000    0.000    0.000 threading.py:499(__init__)\n",
       "        1    0.000    0.000    0.000    0.000 model.py:194(sanitized_species_names)\n",
       "        1    0.000    0.000    0.004    0.004 tempfile.py:793(_cleanup)\n",
       "        7    0.000    0.000    0.000    0.000 {method 'write' of '_io.BufferedWriter' objects}\n",
       "        2    0.000    0.000    0.000    0.000 {built-in method _codecs.charmap_decode}\n",
       "       21    0.000    0.000    0.000    0.000 {method 'get' of 'dict' objects}\n",
       "        4    0.000    0.000    0.000    0.000 threading.py:243(__exit__)\n",
       "        3    0.000    0.000    0.000    0.000 subprocess.py:130(__init__)\n",
       "       18    0.000    0.000    0.000    0.000 sortableobject.py:25(__hash__)\n",
       "       12    0.000    0.000    0.000    0.000 {method 'is_dir' of 'nt.DirEntry' objects}\n",
       "        7    0.000    0.000    0.000    0.000 ntpath.py:34(_get_bothseps)\n",
       "       21    0.000    0.000    0.000    0.000 reaction.py:329(<lambda>)\n",
       "        3    0.000    0.000    0.000    0.000 subprocess.py:1094(_filter_handle_list)\n",
       "        2    0.000    0.000    0.000    0.000 cp1252.py:22(decode)\n",
       "        4    0.000    0.000    0.000    0.000 threading.py:240(__enter__)\n",
       "        3    0.000    0.000    0.000    0.000 reaction.py:331(<listcomp>)\n",
       "        3    0.000    0.000    0.000    0.000 subprocess.py:850(__del__)\n",
       "        4    0.000    0.000    0.000    0.000 threading.py:1120(daemon)\n",
       "        8    0.000    0.000    0.000    0.000 random.py:256(choice)\n",
       "       35    0.000    0.000    0.000    0.000 {method 'extend' of 'list' objects}\n",
       "        2    0.000    0.000    0.000    0.000 subprocess.py:963(poll)\n",
       "        4    0.000    0.000    0.000    0.000 {built-in method _winapi.GetStdHandle}\n",
       "        4    0.000    0.000    0.000    0.000 {method 'join' of 'str' objects}\n",
       "        7    0.000    0.000    0.000    0.000 {method 'rstrip' of 'str' objects}\n",
       "        4    0.000    0.000    0.000    0.000 threading.py:252(_acquire_restore)\n",
       "        1    0.000    0.000    0.000    0.000 tempfile.py:153(__next__)\n",
       "        4    0.000    0.000    0.000    0.000 {method 'add' of 'set' objects}\n",
       "        3    0.000    0.000    0.000    0.000 subprocess.py:1101(<setcomp>)\n",
       "        5    0.000    0.000    0.000    0.000 subprocess.py:207(Detach)\n",
       "        4    0.000    0.000    0.000    0.000 threading.py:249(_release_save)\n",
       "        4    0.000    0.000    0.000    0.000 threading.py:255(_is_owned)\n",
       "        3    0.000    0.000    0.000    0.000 subprocess.py:226(_cleanup)\n",
       "        3    0.000    0.000    0.000    0.000 {method 'count' of 'list' objects}\n",
       "       12    0.000    0.000    0.000    0.000 threading.py:507(is_set)\n",
       "        4    0.000    0.000    0.000    0.000 threading.py:1104(daemon)\n",
       "        7    0.000    0.000    0.000    0.000 {built-in method _stat.S_ISREG}\n",
       "        1    0.000    0.000    0.000    0.000 tempfile.py:142(rng)\n",
       "        1    0.000    0.000    0.000    0.000 model.py:289(sanitized_parameter_names)\n",
       "        8    0.000    0.000    0.000    0.000 {built-in method _thread.get_ident}\n",
       "        4    0.000    0.000    0.000    0.000 threading.py:1080(is_alive)\n",
       "       18    0.000    0.000    0.000    0.000 {built-in method _winapi.GetCurrentProcess}\n",
       "        1    0.000    0.000    0.000    0.000 tempfile.py:156(<listcomp>)\n",
       "        8    0.000    0.000    0.000    0.000 {method 'release' of '_thread.lock' objects}\n",
       "        4    0.000    0.000    0.000    0.000 {method '__enter__' of '_thread.lock' objects}\n",
       "       16    0.000    0.000    0.000    0.000 {method 'getrandbits' of '_random.Random' objects}\n",
       "        1    0.000    0.000    0.000    0.000 codecs.py:186(__init__)\n",
       "        2    0.000    0.000    0.000    0.000 subprocess.py:409(__init__)\n",
       "        1    0.000    0.000    0.000    0.000 tempfile.py:114(_sanitize_params)\n",
       "        7    0.000    0.000    0.000    0.000 {built-in method _stat.S_ISFIFO}\n",
       "        6    0.000    0.000    0.000    0.000 subprocess.py:969(_remaining_time)\n",
       "        5    0.000    0.000    0.000    0.000 subprocess.py:1204(_internal_poll)\n",
       "        1    0.000    0.000    0.000    0.000 tempfile.py:798(__repr__)\n",
       "        4    0.000    0.000    0.000    0.000 {method '__exit__' of '_thread.lock' objects}\n",
       "        2    0.000    0.000    0.000    0.000 {built-in method builtins.next}\n",
       "        4    0.000    0.000    0.000    0.000 {method 'discard' of 'set' objects}\n",
       "       11    0.000    0.000    0.000    0.000 {method 'keys' of 'collections.OrderedDict' objects}\n",
       "        4    0.000    0.000    0.000    0.000 {method 'append' of 'collections.deque' objects}\n",
       "        1    0.000    0.000    0.000    0.000 codecs.py:260(__init__)\n",
       "        4    0.000    0.000    0.000    0.000 {method 'locked' of '_thread.lock' objects}\n",
       "        8    0.000    0.000    0.000    0.000 {method 'bit_length' of 'int' objects}\n",
       "        1    0.000    0.000    0.000    0.000 tempfile.py:93(_infer_return_type)\n",
       "        3    0.000    0.000    0.000    0.000 subprocess.py:819(__enter__)\n",
       "        1    0.000    0.000    0.000    0.000 ssa_c_solver.py:107(__del__)\n",
       "        1    0.000    0.000    0.000    0.000 {built-in method nt.getpid}\n",
       "        1    0.000    0.000    0.000    0.000 {method 'pop' of 'dict' objects}\n",
       "        1    0.000    0.000    0.000    0.000 results.py:127(__init__)\n",
       "        1    0.000    0.000    0.000    0.000 {built-in method builtins.getattr}\n",
       "        1    0.000    0.000    0.000    0.000 {built-in method _stat.S_ISLNK}\n",
       "        1    0.000    0.000    0.000    0.000 tempfile.py:287(gettempdir)\n",
       "        1    0.000    0.000    0.000    0.000 {method 'items' of 'dict' objects}\n",
       "        1    0.000    0.000    0.000    0.000 {method 'disable' of '_lsprof.Profiler' objects}\n",
       "        1    0.000    0.000    0.000    0.000 tempfile.py:233(_get_candidate_names)\n",
       "        1    0.000    0.000    0.000    0.000 {method 'keys' of 'dict' objects}"
      ]
     },
     "metadata": {},
     "output_type": "display_data"
    }
   ],
   "source": [
    "%prun results = model.run(solver=gillespy2.SSACSolver, number_of_trajectories = 10000)"
   ]
  },
  {
   "cell_type": "code",
   "execution_count": 37,
   "metadata": {},
   "outputs": [
    {
     "data": {
      "application/vnd.jupyter.widget-view+json": {
       "model_id": "4a601302e4f9406b854bab38a5c52803",
       "version_major": 2,
       "version_minor": 0
      },
      "text/plain": [
       "Canvas(toolbar=Toolbar(toolitems=[('Home', 'Reset original view', 'home', 'home'), ('Back', 'Back to previous …"
      ]
     },
     "metadata": {},
     "output_type": "display_data"
    }
   ],
   "source": [
    "model = ApproximateMajority(n)\n",
    "model.run().plot(figsize = (6, 4))"
   ]
  },
  {
   "cell_type": "code",
   "execution_count": 41,
   "metadata": {},
   "outputs": [
    {
     "data": {
      "application/vnd.jupyter.widget-view+json": {
       "model_id": "424247fb42374559b413e2f4684c7679",
       "version_major": 2,
       "version_minor": 0
      },
      "text/plain": [
       "  0%|          | 0/100000 [00:00<?, ?it/s]"
      ]
     },
     "metadata": {},
     "output_type": "display_data"
    }
   ],
   "source": [
    "n = 100\n",
    "p = 0.5\n",
    "init_config = {a: p * n, b: (1-p)*n}\n",
    "trials = 100000\n",
    "end_time = 5\n",
    "sim = pp.Simulation(init_config, approx_majority)\n",
    "df = sim.sample_future_configuration(end_time, num_samples = trials)\n",
    "\n",
    "model = ApproximateMajority(n)\n",
    "model.timespan(np.linspace(0,end_time,2))\n",
    "results = model.run(number_of_trajectories = trials)"
   ]
  },
  {
   "cell_type": "code",
   "execution_count": 45,
   "metadata": {},
   "outputs": [
    {
     "data": {
      "application/vnd.jupyter.widget-view+json": {
       "model_id": "fd3f49951d7247bd83d96f620fb229f0",
       "version_major": 2,
       "version_minor": 0
      },
      "text/plain": [
       "Canvas(toolbar=Toolbar(toolitems=[('Home', 'Reset original view', 'home', 'home'), ('Back', 'Back to previous …"
      ]
     },
     "metadata": {},
     "output_type": "display_data"
    },
    {
     "data": {
      "application/vnd.jupyter.widget-view+json": {
       "model_id": "80971f96716d4f4e8f30c9bfa174ff72",
       "version_major": 2,
       "version_minor": 0
      },
      "text/plain": [
       "Canvas(toolbar=Toolbar(toolitems=[('Home', 'Reset original view', 'home', 'home'), ('Back', 'Back to previous …"
      ]
     },
     "metadata": {},
     "output_type": "display_data"
    },
    {
     "data": {
      "application/vnd.jupyter.widget-view+json": {
       "model_id": "992b62fdca9f49ba8409c84e758fd30f",
       "version_major": 2,
       "version_minor": 0
      },
      "text/plain": [
       "Canvas(toolbar=Toolbar(toolitems=[('Home', 'Reset original view', 'home', 'home'), ('Back', 'Back to previous …"
      ]
     },
     "metadata": {},
     "output_type": "display_data"
    }
   ],
   "source": [
    "%matplotlib widget\n",
    "for state in ['A', 'B', 'U']:\n",
    "    fig, ax = plt.subplots()\n",
    "    plt.hist(df[state], bins = np.linspace(0, n, 100), alpha = 0.5, label='ppsim', density=True, edgecolor = 'k', linewidth=0.2, color='g')\n",
    "    plt.hist([result[state][1] for result in results], bins = np.linspace(0, n, 100), alpha = 0.5, label='gillespy2', density=True, color='b', edgecolor = 'k', linewidth=0.2)\n",
    "#     plt.hist([df[state], [result[state][1] for result in results]], bins = np.linspace(0, n, 10), edgecolor = 'k', label=['ppsim', 'gillespy2'], density=True)\n",
    "    plt.legend()\n",
    "    plt.xlabel(f'Count of {state}')\n",
    "    plt.ylabel('empirical probability')\n",
    "    plt.show()"
   ]
  },
  {
   "cell_type": "code",
   "execution_count": null,
   "metadata": {
    "tags": []
   },
   "outputs": [
    {
     "data": {
      "application/vnd.jupyter.widget-view+json": {
       "model_id": "3da5512f4a74449f993640cc6a88bc28",
       "version_major": 2,
       "version_minor": 0
      },
      "text/plain": [
       "  0%|          | 0/1000 [00:00<?, ?it/s]"
      ]
     },
     "metadata": {},
     "output_type": "display_data"
    },
    {
     "data": {
      "application/vnd.jupyter.widget-view+json": {
       "model_id": "f824191debed4315ac51b9691c433215",
       "version_major": 2,
       "version_minor": 0
      },
      "text/plain": [
       "  0%|          | 0/1000 [00:00<?, ?it/s]"
      ]
     },
     "metadata": {},
     "output_type": "display_data"
    },
    {
     "data": {
      "application/vnd.jupyter.widget-view+json": {
       "model_id": "c5ecdef82630457d881135ae2eee0b21",
       "version_major": 2,
       "version_minor": 0
      },
      "text/plain": [
       "  0%|          | 0/1000 [00:00<?, ?it/s]"
      ]
     },
     "metadata": {},
     "output_type": "display_data"
    },
    {
     "data": {
      "application/vnd.jupyter.widget-view+json": {
       "model_id": "1ef733c6fff841fb830b08d30a9c464d",
       "version_major": 2,
       "version_minor": 0
      },
      "text/plain": [
       "  0%|          | 0/1000 [00:00<?, ?it/s]"
      ]
     },
     "metadata": {},
     "output_type": "display_data"
    },
    {
     "data": {
      "application/vnd.jupyter.widget-view+json": {
       "model_id": "c802e6c5ed0b40448637666f6cb037ba",
       "version_major": 2,
       "version_minor": 0
      },
      "text/plain": [
       "  0%|          | 0/1000 [00:00<?, ?it/s]"
      ]
     },
     "metadata": {},
     "output_type": "display_data"
    },
    {
     "data": {
      "application/vnd.jupyter.widget-view+json": {
       "model_id": "d1ab8f2ddf6a4f5882e731e7c8398e80",
       "version_major": 2,
       "version_minor": 0
      },
      "text/plain": [
       "  0%|          | 0/1000 [00:00<?, ?it/s]"
      ]
     },
     "metadata": {},
     "output_type": "display_data"
    },
    {
     "data": {
      "application/vnd.jupyter.widget-view+json": {
       "model_id": "195e2a492dd641f9a209d798b0208487",
       "version_major": 2,
       "version_minor": 0
      },
      "text/plain": [
       "  0%|          | 0/1000 [00:00<?, ?it/s]"
      ]
     },
     "metadata": {},
     "output_type": "display_data"
    },
    {
     "data": {
      "application/vnd.jupyter.widget-view+json": {
       "model_id": "8bf28ba302684b339a39c68c7488818b",
       "version_major": 2,
       "version_minor": 0
      },
      "text/plain": [
       "  0%|          | 0/1000 [00:00<?, ?it/s]"
      ]
     },
     "metadata": {},
     "output_type": "display_data"
    },
    {
     "data": {
      "application/vnd.jupyter.widget-view+json": {
       "model_id": "902a9c644bee4ee0a3d90f84b1e433c4",
       "version_major": 2,
       "version_minor": 0
      },
      "text/plain": [
       "  0%|          | 0/1000 [00:00<?, ?it/s]"
      ]
     },
     "metadata": {},
     "output_type": "display_data"
    }
   ],
   "source": [
    "import time\n",
    "ns = [int(n) for n in np.geomspace(100, 10 ** 5, 10)]\n",
    "gillespy_times = []\n",
    "ppsim_times = []\n",
    "num_trials = 1000\n",
    "for n in ns:\n",
    "    model = ApproximateMajority(n)\n",
    "    model.timespan(np.linspace(0,10,2))\n",
    "    start_time = time.perf_counter()\n",
    "    r = model.run(number_of_trajectories = num_trials)\n",
    "    gillespy_times.append((time.perf_counter() - start_time) / num_trials)\n",
    "#     print(gillespy_times)\n",
    "    sim = pp.Simulation({a: n // 2, b: n // 2}, approx_majority)\n",
    "    start_time = time.perf_counter()\n",
    "    c = sim.sample_future_configuration(10, num_trials)\n",
    "    ppsim_times.append((time.perf_counter() - start_time) / num_trials)\n",
    "#     print(ppsim_times)"
   ]
  },
  {
   "cell_type": "code",
   "execution_count": 47,
   "metadata": {},
   "outputs": [
    {
     "data": {
      "image/png": "[encoded data removed]",
      "text/plain": [
       "<Figure size 640x480 with 1 Axes>"
      ]
     },
     "metadata": {},
     "output_type": "display_data"
    }
   ],
   "source": [
    "fig, ax = plt.subplots()\n",
    "plt.plot(ns, gillespy_times)\n",
    "plt.plot(ns, ppsim_times)"
   ]
  },
  {
   "cell_type": "code",
   "execution_count": 4,
   "metadata": {
    "pycharm": {
     "name": "#%%\n"
    },
    "tags": []
   },
   "outputs": [
    {
     "data": {
      "application/vnd.jupyter.widget-view+json": {
       "model_id": "ba8703c2b76c46f4bda629e81f26e8cc",
       "version_major": 2,
       "version_minor": 0
      },
      "text/plain": [
       "Canvas(toolbar=Toolbar(toolitems=[('Home', 'Reset original view', 'home', 'home'), ('Back', 'Back to previous …"
      ]
     },
     "metadata": {},
     "output_type": "display_data"
    }
   ],
   "source": [
    "# CRN for approximate majority\n",
    "k1,k2,k3 = 9028, 2945, 1815\n",
    "total_concentration = 80 * 1e-9 # 1x volume was 80 nM\n",
    "vol = 1e-6 # 1 uL\n",
    "n = pp.concentration_to_count(total_concentration, vol)\n",
    "approx_majority_rates = [\n",
    "    (a+b >> 2*u).k(k1, units=pp.RateConstantUnits.mass_action),\n",
    "    (a+u >> 2*a).k(k2, units=pp.RateConstantUnits.mass_action),\n",
    "    (b+u >> 2*b).k(k3, units=pp.RateConstantUnits.mass_action),\n",
    "]\n",
    "p = 0.45\n",
    "init_config = {a: p*n, b: (1-p)*n}\n",
    "sim = pp.Simulation(init_config, approx_majority_rates, volume=vol, time_units='seconds')\n",
    "hp = pp.HistoryPlotter()\n",
    "sim.add_snapshot(hp)"
   ]
  },
  {
   "cell_type": "code",
   "execution_count": 5,
   "metadata": {},
   "outputs": [],
   "source": [
    "sim.run()"
   ]
  },
  {
   "cell_type": "markdown",
   "metadata": {},
   "source": [
    "# Speed Test Examples"
   ]
  },
  {
   "cell_type": "code",
   "execution_count": 16,
   "metadata": {},
   "outputs": [],
   "source": [
    "def get_unimolecular_chain(m):\n",
    "    # create reactions with m species s0, ..., s(m-1)\n",
    "    states = pp.species(' '.join([str(i) for i in range(m)]))\n",
    "    rxns = [states[i] >> states[i+1] for i in range(m-1)]\n",
    "    return states, rxns"
   ]
  },
  {
   "cell_type": "code",
   "execution_count": 22,
   "metadata": {},
   "outputs": [
    {
     "name": "stdout",
     "output_type": "stream",
     "text": [
      " Time: 166.000\n"
     ]
    },
    {
     "data": {
      "application/vnd.jupyter.widget-view+json": {
       "model_id": "31ec703b17554a30a72ff4d04cdb246d",
       "version_major": 2,
       "version_minor": 0
      },
      "text/plain": [
       "Canvas(toolbar=Toolbar(toolitems=[('Home', 'Reset original view', 'home', 'home'), ('Back', 'Back to previous …"
      ]
     },
     "metadata": {},
     "output_type": "display_data"
    },
    {
     "data": {
      "text/plain": [
       "<AxesSubplot:xlabel='time (continuous)'>"
      ]
     },
     "execution_count": 22,
     "metadata": {},
     "output_type": "execute_result"
    }
   ],
   "source": [
    "m = 100\n",
    "n = 10 ** 8\n",
    "states, rxns = get_unimolecular_chain(m)\n",
    "init_config = {states[0]: n}\n",
    "sim = pp.Simulation(init_config, rxns)\n",
    "sim.run()\n",
    "sim.history.plot()"
   ]
  },
  {
   "cell_type": "code",
   "execution_count": null,
   "metadata": {},
   "outputs": [],
   "source": []
  },
  {
   "cell_type": "markdown",
   "metadata": {},
   "source": [
    "# RPS Oscillator"
   ]
  },
  {
   "cell_type": "code",
   "execution_count": 10,
   "metadata": {},
   "outputs": [],
   "source": [
    "# CRN for approximate majority\n",
    "k1,k2,k3 = 1, 1, 1\n",
    "a,b,c = pp.species('A B C')\n",
    "rps = [\n",
    "    (b+a >> 2*b).k(k1),\n",
    "    (c+b >> 2*c).k(k2),\n",
    "    (a+c >> 2*a).k(k3),\n",
    "]"
   ]
  },
  {
   "cell_type": "code",
   "execution_count": 3,
   "metadata": {},
   "outputs": [],
   "source": [
    "%matplotlib widget"
   ]
  },
  {
   "cell_type": "code",
   "execution_count": 20,
   "metadata": {},
   "outputs": [
    {
     "name": "stdout",
     "output_type": "stream",
     "text": [
      " Time: 100.000\n"
     ]
    },
    {
     "data": {
      "application/vnd.jupyter.widget-view+json": {
       "model_id": "268dc36ec9c54e7da3c5eaf3a10dc3dc",
       "version_major": 2,
       "version_minor": 0
      },
      "text/plain": [
       "Canvas(toolbar=Toolbar(toolitems=[('Home', 'Reset original view', 'home', 'home'), ('Back', 'Back to previous …"
      ]
     },
     "metadata": {},
     "output_type": "display_data"
    },
    {
     "data": {
      "text/plain": [
       "Text(0.5, 1.0, 'rps oscillator')"
      ]
     },
     "execution_count": 20,
     "metadata": {},
     "output_type": "execute_result"
    }
   ],
   "source": [
    "n = 10 ** 10\n",
    "dist = [0.3, 0.3, 0.4]\n",
    "init_config = {a: n * dist[0], b: n * dist[1], c: n * dist[2]}\n",
    "sim = pp.Simulation(init_config, rps)\n",
    "sim.run(100, 0.1)\n",
    "sim.history.plot(figsize = (6,4))\n",
    "plt.title('rps oscillator')"
   ]
  },
  {
   "cell_type": "code",
   "execution_count": 12,
   "metadata": {},
   "outputs": [
    {
     "name": "stdout",
     "output_type": "stream",
     "text": [
      " Time: 3527.000\n"
     ]
    },
    {
     "data": {
      "application/vnd.jupyter.widget-view+json": {
       "model_id": "d56f7f7c4e354350845e9dd97329840e",
       "version_major": 2,
       "version_minor": 0
      },
      "text/plain": [
       "Canvas(toolbar=Toolbar(toolitems=[('Home', 'Reset original view', 'home', 'home'), ('Back', 'Back to previous …"
      ]
     },
     "metadata": {},
     "output_type": "display_data"
    },
    {
     "data": {
      "text/plain": [
       "Text(0.5, 1.0, 'rps oscillator')"
      ]
     },
     "execution_count": 12,
     "metadata": {},
     "output_type": "execute_result"
    }
   ],
   "source": [
    "sim.run()\n",
    "plt.figure()\n",
    "sim.history['A'].plot(figsize = (6,4))\n",
    "plt.title('rps oscillator')"
   ]
  },
  {
   "cell_type": "code",
   "execution_count": 7,
   "metadata": {},
   "outputs": [],
   "source": [
    "n = 10 ** 10\n",
    "init_config = {a: n // 3, b: n // 3, c: n // 3}\n",
    "sim = pp.Simulation(init_config, rps)"
   ]
  },
  {
   "cell_type": "code",
   "execution_count": 8,
   "metadata": {},
   "outputs": [
    {
     "data": {
      "application/vnd.jupyter.widget-view+json": {
       "model_id": "fbc391305dd840bfbe66b5ff98ffa60a",
       "version_major": 2,
       "version_minor": 0
      },
      "text/plain": [
       "Canvas(toolbar=Toolbar(toolitems=[('Home', 'Reset original view', 'home', 'home'), ('Back', 'Back to previous …"
      ]
     },
     "metadata": {},
     "output_type": "display_data"
    }
   ],
   "source": [
    "hp=pp.HistoryPlotter(update_time = 1)\n",
    "sim.add_snapshot(hp)"
   ]
  },
  {
   "cell_type": "code",
   "execution_count": 9,
   "metadata": {},
   "outputs": [
    {
     "ename": "KeyboardInterrupt",
     "evalue": "",
     "output_type": "error",
     "traceback": [
      "\u001b[1;31m---------------------------------------------------------------------------\u001b[0m",
      "\u001b[1;31mKeyboardInterrupt\u001b[0m                         Traceback (most recent call last)",
      "\u001b[1;32m<ipython-input-9-a07a038457d1>\u001b[0m in \u001b[0;36m<module>\u001b[1;34m\u001b[0m\n\u001b[1;32m----> 1\u001b[1;33m \u001b[0msim\u001b[0m\u001b[1;33m.\u001b[0m\u001b[0mrun\u001b[0m\u001b[1;33m(\u001b[0m\u001b[0mhistory_interval\u001b[0m \u001b[1;33m=\u001b[0m \u001b[1;36m0.1\u001b[0m\u001b[1;33m)\u001b[0m\u001b[1;33m\u001b[0m\u001b[1;33m\u001b[0m\u001b[0m\n\u001b[0m",
      "\u001b[1;32m~\\PycharmProjects\\population-protocols-python-package\\ppsim\\ppsim.py\u001b[0m in \u001b[0;36mrun\u001b[1;34m(self, run_until, history_interval, stopping_interval, timer)\u001b[0m\n\u001b[0;32m    481\u001b[0m             \u001b[0mcurrent_step\u001b[0m \u001b[1;33m=\u001b[0m \u001b[0mself\u001b[0m\u001b[1;33m.\u001b[0m\u001b[0msimulator\u001b[0m\u001b[1;33m.\u001b[0m\u001b[0mt\u001b[0m\u001b[1;33m\u001b[0m\u001b[1;33m\u001b[0m\u001b[0m\n\u001b[0;32m    482\u001b[0m             \u001b[0mself\u001b[0m\u001b[1;33m.\u001b[0m\u001b[0msimulator\u001b[0m\u001b[1;33m.\u001b[0m\u001b[0mrun\u001b[0m\u001b[1;33m(\u001b[0m\u001b[0mnext_step\u001b[0m\u001b[1;33m,\u001b[0m \u001b[1;33m*\u001b[0m\u001b[0mmax_wallclock_time\u001b[0m\u001b[1;33m)\u001b[0m\u001b[1;33m\u001b[0m\u001b[1;33m\u001b[0m\u001b[0m\n\u001b[1;32m--> 483\u001b[1;33m             \u001b[1;32mif\u001b[0m \u001b[0mself\u001b[0m\u001b[1;33m.\u001b[0m\u001b[0msimulator\u001b[0m\u001b[1;33m.\u001b[0m\u001b[0mt\u001b[0m \u001b[1;33m==\u001b[0m \u001b[0mnext_step\u001b[0m\u001b[1;33m:\u001b[0m\u001b[1;33m\u001b[0m\u001b[1;33m\u001b[0m\u001b[0m\n\u001b[0m\u001b[0;32m    484\u001b[0m                 \u001b[0mself\u001b[0m\u001b[1;33m.\u001b[0m\u001b[0mtime\u001b[0m \u001b[1;33m=\u001b[0m \u001b[0mnext_time\u001b[0m\u001b[1;33m\u001b[0m\u001b[1;33m\u001b[0m\u001b[0m\n\u001b[0;32m    485\u001b[0m             \u001b[1;32melif\u001b[0m \u001b[0mself\u001b[0m\u001b[1;33m.\u001b[0m\u001b[0msimulator\u001b[0m\u001b[1;33m.\u001b[0m\u001b[0mt\u001b[0m \u001b[1;33m<\u001b[0m \u001b[0mnext_step\u001b[0m\u001b[1;33m:\u001b[0m\u001b[1;33m\u001b[0m\u001b[1;33m\u001b[0m\u001b[0m\n",
      "\u001b[1;31mKeyboardInterrupt\u001b[0m: "
     ]
    }
   ],
   "source": [
    "sim.run(history_interval = 0.1)"
   ]
  },
  {
   "cell_type": "code",
   "execution_count": 23,
   "metadata": {},
   "outputs": [],
   "source": [
    "class RPS(gillespy2.Model):\n",
    "     def __init__(self, n):\n",
    "            #initialize Model\n",
    "            gillespy2.Model.__init__(self, name=\"RPS_Oscillator\")\n",
    "            \n",
    "            self.volume = n\n",
    "            \n",
    "            rate1 = gillespy2.Parameter(name='rate1', expression= k1)\n",
    "            rate2 = gillespy2.Parameter(name='rate2', expression= k2)\n",
    "            rate3 = gillespy2.Parameter(name='rate3', expression = k3)\n",
    "            \n",
    "            # Add parameters to the model\n",
    "            self.add_parameter([rate1,rate2,rate3])\n",
    "            \n",
    "            A = gillespy2.Species(name='A', initial_value= n * dist[0])\n",
    "            B = gillespy2.Species(name='B', initial_value= n * dist[1])\n",
    "            C = gillespy2.Species(name='C', initial_value= n * dist[2])\n",
    "            \n",
    "            # Add species to the model\n",
    "            self.add_species([A, B, C])\n",
    "            \n",
    "            r1 = gillespy2.Reaction(name=\"r1\",reactants={A:1,B:1}, products={B:2},\n",
    "                   rate=rate1)\n",
    "            \n",
    "            r2 = gillespy2.Reaction(name=\"r2\",reactants={B:1, C:1}, products={C:2},\n",
    "                    rate=rate2)\n",
    "            \n",
    "            r3 = gillespy2.Reaction(name=\"r3\",reactants={A:1, C:1}, products={A:2},\n",
    "                    rate=rate3)\n",
    "            \n",
    "            # Add reactions to the model\n",
    "            self.add_reaction([r1,r2,r3])\n",
    "            \n",
    "            # Set timespan of model\n",
    "            self.timespan(np.linspace(0,1000,10000))"
   ]
  },
  {
   "cell_type": "code",
   "execution_count": 16,
   "metadata": {},
   "outputs": [
    {
     "data": {
      "application/vnd.jupyter.widget-view+json": {
       "model_id": "ceb24a61433345ef8e79f98a23fa3c20",
       "version_major": 2,
       "version_minor": 0
      },
      "text/plain": [
       "Canvas(toolbar=Toolbar(toolitems=[('Home', 'Reset original view', 'home', 'home'), ('Back', 'Back to previous …"
      ]
     },
     "metadata": {},
     "output_type": "display_data"
    },
    {
     "data": {
      "application/vnd.jupyter.widget-view+json": {
       "model_id": "187ee12103824edeba0f98ac186bbda5",
       "version_major": 2,
       "version_minor": 0
      },
      "text/plain": [
       "Canvas(toolbar=Toolbar(toolitems=[('Home', 'Reset original view', 'home', 'home'), ('Back', 'Back to previous …"
      ]
     },
     "metadata": {},
     "output_type": "display_data"
    }
   ],
   "source": [
    "from mpl_toolkits.mplot3d.art3d import Poly3DCollection\n",
    "model = RPS(n)\n",
    "results=model.run()\n",
    "results.plot(figsize = (6, 4))\n",
    "\n",
    "def phase_plot(results):\n",
    "    ax = plt.figure().add_subplot(projection='3d')\n",
    "    verts = [[n,0,0],[0,n,0],[0,0,n]]\n",
    "    simplex = Poly3DCollection(verts, edgecolors='k', facecolors='w', alpha=0.1)\n",
    "    ax.add_collection3d(simplex)\n",
    "\n",
    "    ax.plot(results['A'], results['B'], results['C'], lw=0.5)\n",
    "    ax.set_xlabel('A')\n",
    "    ax.set_ylabel('B')\n",
    "    ax.set_zlabel('C')\n",
    "    ax.set_xlim(0, n)\n",
    "    ax.set_ylim(0, n)\n",
    "    ax.set_zlim(0, n)\n",
    "    ax.set_title(\"rps oscillator\")\n",
    "    ax.grid(False)\n",
    "    \n",
    "    ax.scatter(results['A'][0], results['B'][0], results['C'][0], c='g', edgecolor='k')\n",
    "    ax.scatter(results['A'][-1], results['B'][-1], results['C'][-1], c='r', edgecolor='k')\n",
    "    plt.show()\n",
    "    return(ax)\n",
    "    \n",
    "ax = phase_plot(results)"
   ]
  },
  {
   "cell_type": "code",
   "execution_count": 24,
   "metadata": {},
   "outputs": [
    {
     "data": {
      "application/vnd.jupyter.widget-view+json": {
       "model_id": "7f2e63e0e1504b40adb5bfa0665cd1a6",
       "version_major": 2,
       "version_minor": 0
      },
      "text/plain": [
       "Canvas(toolbar=Toolbar(toolitems=[('Home', 'Reset original view', 'home', 'home'), ('Back', 'Back to previous …"
      ]
     },
     "metadata": {},
     "output_type": "display_data"
    },
    {
     "data": {
      "application/vnd.jupyter.widget-view+json": {
       "model_id": "2bd98ca7998a408a96019a9e4c05e2f8",
       "version_major": 2,
       "version_minor": 0
      },
      "text/plain": [
       "Canvas(toolbar=Toolbar(toolitems=[('Home', 'Reset original view', 'home', 'home'), ('Back', 'Back to previous …"
      ]
     },
     "metadata": {},
     "output_type": "display_data"
    },
    {
     "data": {
      "text/plain": [
       "Text(0.5, 0.92, 'rps oscillator with tau-leaping')"
      ]
     },
     "execution_count": 24,
     "metadata": {},
     "output_type": "execute_result"
    }
   ],
   "source": [
    "model = RPS(n)\n",
    "results=model.run(solver=gillespy2.TauLeapingSolver)\n",
    "results.plot(figsize = (6, 4))\n",
    "ax = phase_plot(results)\n",
    "ax.set_title(\"rps oscillator with tau-leaping\")"
   ]
  },
  {
   "cell_type": "code",
   "execution_count": 23,
   "metadata": {},
   "outputs": [
    {
     "name": "stderr",
     "output_type": "stream",
     "text": [
      "C:\\Users\\Eric\\Anaconda2\\lib\\site-packages\\scipy\\integrate\\_ode.py:1353: UserWarning: lsoda: Excess work done on this call (perhaps wrong Dfun type).\n",
      "  self.messages.get(istate, unexpected_istate_msg)))\n"
     ]
    },
    {
     "data": {
      "application/vnd.jupyter.widget-view+json": {
       "model_id": "d37587b07b054b999ab4216ca01890ad",
       "version_major": 2,
       "version_minor": 0
      },
      "text/plain": [
       "Canvas(toolbar=Toolbar(toolitems=[('Home', 'Reset original view', 'home', 'home'), ('Back', 'Back to previous …"
      ]
     },
     "metadata": {},
     "output_type": "display_data"
    },
    {
     "data": {
      "application/vnd.jupyter.widget-view+json": {
       "model_id": "752d25a1b7264429be935f735abdf367",
       "version_major": 2,
       "version_minor": 0
      },
      "text/plain": [
       "Canvas(toolbar=Toolbar(toolitems=[('Home', 'Reset original view', 'home', 'home'), ('Back', 'Back to previous …"
      ]
     },
     "metadata": {},
     "output_type": "display_data"
    }
   ],
   "source": [
    "# For some reason gillespy2.ODESolver doesn't work\n",
    "# model = RPS(3)\n",
    "# model.timespan(np.linspace(0,200,2000))\n",
    "results=model.run(solver=gillespy2.ODESolver)\n",
    "results.plot(figsize = (6, 4))\n",
    "ax = plt.figure().add_subplot(projection='3d')\n",
    "ax.plot(results['A'], results['B'], results['C'])\n",
    "ax.set_xlabel('A')\n",
    "ax.set_ylabel('B')\n",
    "ax.set_zlabel('C')\n",
    "ax.set_title(\"rps oscillator\")\n",
    "plt.show()"
   ]
  }
 ],
 "metadata": {
  "kernelspec": {
   "display_name": "Python 3",
   "language": "python",
   "name": "python3"
  },
  "language_info": {
   "codemirror_mode": {
    "name": "ipython",
    "version": 3
   },
   "file_extension": ".py",
   "mimetype": "text/x-python",
   "name": "python",
   "nbconvert_exporter": "python",
   "pygments_lexer": "ipython3",
   "version": "3.7.3"
  }
 },
 "nbformat": 4,
 "nbformat_minor": 4
}
