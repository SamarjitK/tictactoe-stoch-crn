{
 "cells": [
  {
   "cell_type": "code",
   "execution_count": 1,
   "metadata": {
    "collapsed": false,
    "jupyter": {
     "outputs_hidden": false
    },
    "pycharm": {
     "name": "#%%\n"
    }
   },
   "outputs": [],
   "source": [
    "import ppsim\n",
    "from dataclasses import dataclass\n",
    "import dataclasses\n",
    "import numpy as np\n",
    "from matplotlib import pyplot as plt\n",
    "import pickle\n",
    "\n",
    "import ipywidgets as widgets"
   ]
  },
  {
   "cell_type": "markdown",
   "metadata": {},
   "source": [
    "# CRN (chemical reaction network) notation for specifying protocols\n",
    "\n"
   ]
  },
  {
   "cell_type": "code",
   "execution_count": 2,
   "metadata": {
    "collapsed": false,
    "jupyter": {
     "outputs_hidden": false
    },
    "pycharm": {
     "name": "#%%\n"
    }
   },
   "outputs": [
    {
     "ename": "NameError",
     "evalue": "name 'pp' is not defined",
     "output_type": "error",
     "traceback": [
      "\u001b[1;31m---------------------------------------------------------------------------\u001b[0m",
      "\u001b[1;31mNameError\u001b[0m                                 Traceback (most recent call last)",
      "\u001b[1;32m<ipython-input-2-16fbee5bfbca>\u001b[0m in \u001b[0;36m<module>\u001b[1;34m\u001b[0m\n\u001b[0;32m      1\u001b[0m \u001b[1;31m# CRN for approximate majority\u001b[0m\u001b[1;33m\u001b[0m\u001b[1;33m\u001b[0m\u001b[1;33m\u001b[0m\u001b[0m\n\u001b[1;32m----> 2\u001b[1;33m \u001b[0ma\u001b[0m\u001b[1;33m,\u001b[0m\u001b[0mb\u001b[0m\u001b[1;33m,\u001b[0m\u001b[0mu\u001b[0m \u001b[1;33m=\u001b[0m \u001b[0mpp\u001b[0m\u001b[1;33m.\u001b[0m\u001b[0mspecies\u001b[0m\u001b[1;33m(\u001b[0m\u001b[1;34m'A B U'\u001b[0m\u001b[1;33m)\u001b[0m\u001b[1;33m\u001b[0m\u001b[1;33m\u001b[0m\u001b[0m\n\u001b[0m\u001b[0;32m      3\u001b[0m approx_majority = [\n\u001b[0;32m      4\u001b[0m     \u001b[0ma\u001b[0m\u001b[1;33m+\u001b[0m\u001b[0mb\u001b[0m \u001b[1;33m>>\u001b[0m \u001b[1;36m2\u001b[0m\u001b[1;33m*\u001b[0m\u001b[0mu\u001b[0m\u001b[1;33m,\u001b[0m\u001b[1;33m\u001b[0m\u001b[1;33m\u001b[0m\u001b[0m\n\u001b[0;32m      5\u001b[0m     \u001b[0ma\u001b[0m\u001b[1;33m+\u001b[0m\u001b[0mu\u001b[0m \u001b[1;33m>>\u001b[0m \u001b[1;36m2\u001b[0m\u001b[1;33m*\u001b[0m\u001b[0ma\u001b[0m\u001b[1;33m,\u001b[0m\u001b[1;33m\u001b[0m\u001b[1;33m\u001b[0m\u001b[0m\n",
      "\u001b[1;31mNameError\u001b[0m: name 'pp' is not defined"
     ]
    }
   ],
   "source": [
    "# CRN for approximate majority\n",
    "a,b,u = pp.species('A B U')\n",
    "approx_majority = [\n",
    "    a+b >> 2*u,\n",
    "    a+u >> 2*a,\n",
    "    b+u >> 2*b,\n",
    "]"
   ]
  },
  {
   "cell_type": "code",
   "execution_count": null,
   "metadata": {},
   "outputs": [],
   "source": [
    "n = 10 ** 5\n",
    "init_config = {a: 0.51*n, b: 0.49*n}\n",
    "sim = pp.Simulation(init_config, approx_majority)\n",
    "sim.run(history_interval=0.1)\n",
    "sim.history.plot()\n",
    "plt.title('approximate majority protocol')\n",
    "plt.xlim(0, sim.times[-1])\n",
    "plt.ylim(0, n)"
   ]
  },
  {
   "cell_type": "markdown",
   "metadata": {},
   "source": [
    "# DSD oscillator \n",
    "\n",
    "Below is an implementation of a rock-paper-scissors (RPS) oscillator using DNA strand displacement. The \"formal\" CRN for the RPS oscillator is \n",
    "\n",
    "- A+B &rarr; 2B\n",
    "- B+C &rarr; 2C\n",
    "- C+A &rarr; 2A\n",
    "\n",
    "Each reaction is implemented by 8 lower-level reactions describing DNA interactions. For details, see Fig. 1 in http://dx.doi.org/10.1126/science.aal2052 (bioRxiv verion: https://www.biorxiv.org/content/10.1101/138420v2)."
   ]
  },
  {
   "cell_type": "code",
   "execution_count": 2,
   "metadata": {},
   "outputs": [],
   "source": [
    "from ppsim import species\n",
    "\n",
    "# Fig. 1 in https://www.biorxiv.org/content/10.1101/138420v2.full.pdf\n",
    "# A+B --> 2B\n",
    "# B+C --> 2C\n",
    "# C+A --> 2A\n",
    "\n",
    "# signal species (represent formal species in formal CRN above)\n",
    "# index indicates whether it was the first or second product of a previous reaction\n",
    "b1, b2, c1, c2, a1, a2 = species('b1  b2  c1  c2  a1  a2')\n",
    "\n",
    "signal_species = [b1, b2, c1, c2, a1, a2]\n",
    "\n",
    "# fuel species react step\n",
    "react_a_b_b1, back_a_b = species('react_a_b_b1  back_a_b')\n",
    "react_b_c_c1, back_b_c = species('react_b_c_c1  back_b_c')\n",
    "react_c_a_a1, back_c_a = species('react_c_a_a1  back_c_a')\n",
    "\n",
    "react_species = [react_a_b_b1, react_b_c_c1, react_c_a_a1]\n",
    "back_species = [back_a_b, back_b_c, back_c_a]\n",
    "\n",
    "# fuel species produce step\n",
    "produce_b_b1_b2, helper_b_b2 = species('produce_b_b1_b2  helper_b_b2')\n",
    "produce_c_c1_c2, helper_c_c2 = species('produce_c_c1_c2  helper_c_c2')\n",
    "produce_a_a1_a2, helper_a_a2 = species('produce_a_a1_a2  helper_a_a2')\n",
    "\n",
    "produce_species = [produce_b_b1_b2, produce_c_c1_c2, produce_a_a1_a2]\n",
    "helper_species = [helper_b_b2, helper_c_c2, helper_a_a2]\n",
    "\n",
    "# intermediate species\n",
    "flux_b_b1, flux_c_c1, flux_a_a1 = species('flux_b_b1  flux_c_c1  flux_a_a1')\n",
    "reactint_a1_b_b1, reactint_b1_c_c1, reactint_c1_a_a1 = species('reactint_a1_b_b1  reactint_b1_c_c1  reactint_c1_a_a1') \n",
    "reactint_a2_b_b1, reactint_b2_c_c1, reactint_c2_a_a1 = species('reactint_a2_b_b1  reactint_b2_c_c1  reactint_c2_a_a1') \n",
    "productint_b_b1_b2, productint_c_c1_c2, productint_a_a1_a2 = species('productint_b_b1_b2  productint_c_c1_c2  productint_a_a1_a2')\n",
    "\n",
    "flux_species = [flux_b_b1, flux_c_c1, flux_a_a1]\n",
    "reactint_species = [reactint_a1_b_b1, reactint_b1_c_c1, reactint_c1_a_a1,\n",
    "                    reactint_a2_b_b1, reactint_b2_c_c1, reactint_c2_a_a1]\n",
    "produceint_species = [productint_b_b1_b2, productint_c_c1_c2, productint_a_a1_a2]\n",
    "\n",
    "# waste species react step\n",
    "waste_a1_b1, waste_a1_b2, waste_a2_b1, waste_a2_b2 = species('waste_a1_b1  waste_a1_b2  waste_a2_b1  waste_a2_b2')\n",
    "waste_b1_c1, waste_b1_c2, waste_b2_c1, waste_b2_c2 = species('waste_b1_c1  waste_b1_c2  waste_b2_c1  waste_b2_c2')\n",
    "waste_c1_a1, waste_c1_a2, waste_c2_a1, waste_c2_a2 = species('waste_c1_a1  waste_c1_a2  waste_c2_a1  waste_c2_a2')\n",
    "\n",
    "# waste species produce step\n",
    "waste_b_b1_b2, waste_c_c1_c2, waste_a_a1_a2 = species('waste_b_b1_b2  waste_c_c1_c2  waste_a_a1_a2')\n",
    "\n",
    "waste_species = [waste_a1_b1, waste_a1_b2, waste_a2_b1, waste_a2_b2,\n",
    "                 waste_b1_c1, waste_b1_c2, waste_b2_c1, waste_b2_c2,\n",
    "                 waste_c1_a1, waste_c1_a2, waste_c2_a1, waste_c2_a2,\n",
    "                 waste_b_b1_b2, waste_c_c1_c2, waste_a_a1_a2]\n",
    "\n",
    "# DSD reactions implementing formal CRN\n",
    "# A+B --> 2B\n",
    "ab_react_rxns = [\n",
    "    a1 + react_a_b_b1 | back_a_b + reactint_a1_b_b1,\n",
    "    a2 + react_a_b_b1 | back_a_b + reactint_a2_b_b1,\n",
    "    reactint_a1_b_b1 + b1 >> waste_a1_b1 + flux_b_b1, # typo in Fig. 1; these rxns irreversible\n",
    "    reactint_a1_b_b1 + b2 >> waste_a1_b2 + flux_b_b1, #\n",
    "    reactint_a2_b_b1 + b1 >> waste_a2_b1 + flux_b_b1, #\n",
    "    reactint_a2_b_b1 + b2 >> waste_a2_b2 + flux_b_b1, #\n",
    "]\n",
    "ab_produce_rxns = [\n",
    "    flux_b_b1 + produce_b_b1_b2 | b1 + productint_b_b1_b2,\n",
    "    helper_b_b2 + productint_b_b1_b2 >> waste_b_b1_b2 + b2,\n",
    "]\n",
    "ab_rxns = ab_react_rxns + ab_produce_rxns\n",
    "\n",
    "# B+C --> 2C\n",
    "bc_react_rxns = [\n",
    "    b1 + react_b_c_c1 | back_b_c + reactint_b1_c_c1,\n",
    "    b2 + react_b_c_c1 | back_b_c + reactint_b2_c_c1,\n",
    "    reactint_b1_c_c1 + c1 >> waste_b1_c1 + flux_c_c1,\n",
    "    reactint_b1_c_c1 + c2 >> waste_b1_c2 + flux_c_c1,\n",
    "    reactint_b2_c_c1 + c1 >> waste_b2_c1 + flux_c_c1,\n",
    "    reactint_b2_c_c1 + c2 >> waste_b2_c2 + flux_c_c1,\n",
    "]\n",
    "bc_produce_rxns = [\n",
    "    flux_c_c1 + produce_c_c1_c2 | c1 + productint_c_c1_c2,\n",
    "    helper_c_c2 + productint_c_c1_c2 >> waste_c_c1_c2 + c2,\n",
    "]\n",
    "bc_rxns = bc_react_rxns + bc_produce_rxns\n",
    "\n",
    "# C+A --> 2A\n",
    "ca_react_rxns = [\n",
    "    c1 + react_c_a_a1 | back_c_a + reactint_c1_a_a1,\n",
    "    c2 + react_c_a_a1 | back_c_a + reactint_c2_a_a1,\n",
    "    reactint_c1_a_a1 + a1 >> waste_c1_a1 + flux_a_a1,\n",
    "    reactint_c1_a_a1 + a2 >> waste_c1_a2 + flux_a_a1,\n",
    "    reactint_c2_a_a1 + a1 >> waste_c2_a1 + flux_a_a1,\n",
    "    reactint_c2_a_a1 + a2 >> waste_c2_a2 + flux_a_a1,\n",
    "]\n",
    "ca_produce_rxns = [\n",
    "    flux_a_a1 + produce_a_a1_a2 | a1 + productint_a_a1_a2,\n",
    "    helper_a_a2 + productint_a_a1_a2 >> waste_a_a1_a2 + a2,\n",
    "]\n",
    "ca_rxns = ca_react_rxns + ca_produce_rxns\n",
    "\n",
    "all_rps_dsd_rxns = ab_rxns + bc_rxns + ca_rxns\n",
    "\n",
    "all_species = signal_species + \\\n",
    "              react_species + \\\n",
    "              back_species + \\\n",
    "              produce_species + \\\n",
    "              helper_species + \\\n",
    "              flux_species + \\\n",
    "              reactint_species + \\\n",
    "              produceint_species + \\\n",
    "              waste_species"
   ]
  },
  {
   "cell_type": "code",
   "execution_count": 6,
   "metadata": {},
   "outputs": [
    {
     "name": "stdout",
     "output_type": "stream",
     "text": [
      " Time: 0.100\n"
     ]
    },
    {
     "data": {
      "text/plain": [
       "(0.0, 691341759248.0)"
      ]
     },
     "execution_count": 6,
     "metadata": {},
     "output_type": "execute_result"
    },
    {
     "data": {
      "image/png": "[encoded data removed]",
      "text/plain": [
       "<Figure size 432x288 with 1 Axes>"
      ]
     },
     "metadata": {
      "needs_background": "light"
     },
     "output_type": "display_data"
    }
   ],
   "source": [
    "from ppsim import Simulation, RateConstantUnits, concentration_to_count\n",
    "\n",
    "uL = 10 ** -6  # 1 uL (microliter)\n",
    "nM = 10 ** -9  # 1 nM (nanomolar)\n",
    "\n",
    "unit_rate_constants = False\n",
    "if not unit_rate_constants:\n",
    "    k = 10e6  # forward rate constant in mass-action units\n",
    "    r = 10e6  # reverse rate constant in mass-action units\n",
    "    for rxn in all_rps_dsd_rxns:\n",
    "        rxn.k(k, units=RateConstantUnits.mass_action)\n",
    "        if rxn.reversible:\n",
    "            rxn.r(r, units=RateConstantUnits.mass_action)\n",
    "\n",
    "vol = 1 * uL\n",
    "\n",
    "react_conc = 100 * nM\n",
    "back_conc = 100 * nM\n",
    "helper_conc = 75 * nM\n",
    "produce_conc = 100 * nM\n",
    "a1_conc = 13 * nM\n",
    "b1_conc = 10 * nM\n",
    "\n",
    "react_count = concentration_to_count(react_conc, vol)\n",
    "back_count = concentration_to_count(back_conc, vol)\n",
    "helper_count = concentration_to_count(helper_conc, vol)\n",
    "produce_count = concentration_to_count(produce_conc, vol)\n",
    "a1_count = concentration_to_count(a1_conc, vol)\n",
    "b1_count = concentration_to_count(b1_conc, vol)\n",
    "\n",
    "init_config_react = {specie: react_count for specie in react_species}\n",
    "init_config_back = {specie: back_count for specie in back_species}\n",
    "init_config_helper = {specie: helper_count for specie in helper_species}\n",
    "init_config_produce = {specie: produce_count for specie in produce_species}\n",
    "\n",
    "init_config = {a1: a1_count, b1: b1_count}\n",
    "init_config.update(init_config_react)\n",
    "init_config.update(init_config_back)\n",
    "init_config.update(init_config_helper)\n",
    "init_config.update(init_config_produce)\n",
    "\n",
    "volume_for_simulation = 1 if unit_rate_constants else vol\n",
    "# volume_for_simulation = concentration_to_count(1, vol)\n",
    "sim = Simulation(init_config=init_config, rule=all_rps_dsd_rxns, volume=volume_for_simulation)\n",
    "# return sim\n",
    "sim.run(history_interval=0.01, run_until=0.1)\n",
    "sim.history.plot()\n",
    "plt.title('DNA strand displacement implementation of RPS oscillator')\n",
    "plt.xlim(0, sim.times[-1])\n",
    "plt.ylim(0, sim.n)"
   ]
  }
 ],
 "metadata": {
  "kernelspec": {
   "display_name": "Python 3",
   "language": "python",
   "name": "python3"
  },
  "language_info": {
   "codemirror_mode": {
    "name": "ipython",
    "version": 3
   },
   "file_extension": ".py",
   "mimetype": "text/x-python",
   "name": "python",
   "nbconvert_exporter": "python",
   "pygments_lexer": "ipython3",
   "version": "3.7.9"
  }
 },
 "nbformat": 4,
 "nbformat_minor": 4
}
