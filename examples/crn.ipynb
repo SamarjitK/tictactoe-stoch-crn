{
 "cells": [
  {
   "cell_type": "code",
   "execution_count": 1,
   "metadata": {
    "collapsed": false,
    "jupyter": {
     "outputs_hidden": false
    },
    "pycharm": {
     "name": "#%%\n"
    }
   },
   "outputs": [],
   "source": [
    "import ppsim as pp\n",
    "from dataclasses import dataclass\n",
    "import dataclasses\n",
    "import numpy as np\n",
    "from matplotlib import pyplot as plt\n",
    "import pickle\n",
    "\n",
    "import ipywidgets as widgets"
   ]
  },
  {
   "cell_type": "markdown",
   "metadata": {},
   "source": [
    "# CRN (chemical reaction network) notation for specifying protocols\n",
    "\n"
   ]
  },
  {
   "cell_type": "code",
   "execution_count": 4,
   "metadata": {
    "collapsed": false,
    "jupyter": {
     "outputs_hidden": false
    },
    "pycharm": {
     "name": "#%%\n"
    }
   },
   "outputs": [],
   "source": [
    "# CRN for approximate majority\n",
    "a,b,u = pp.species('A B U')\n",
    "approx_majority = [\n",
    "    a+b >> 2*u,\n",
    "    a+u >> 2*a,\n",
    "    b+u >> 2*b,\n",
    "]"
   ]
  },
  {
   "cell_type": "code",
   "execution_count": 5,
   "metadata": {},
   "outputs": [
    {
     "name": "stdout",
     "output_type": "stream",
     "text": [
      " Time: 25.700\n"
     ]
    },
    {
     "data": {
      "text/plain": [
       "(0.0, 100000.0)"
      ]
     },
     "execution_count": 5,
     "metadata": {},
     "output_type": "execute_result"
    },
    {
     "data": {
      "image/png": "[encoded data removed]",
      "text/plain": [
       "<Figure size 432x288 with 1 Axes>"
      ]
     },
     "metadata": {
      "needs_background": "light"
     },
     "output_type": "display_data"
    }
   ],
   "source": [
    "n = 10 ** 5\n",
    "init_config = {a: 0.51*n, b: 0.49*n}\n",
    "sim = pp.Simulation(init_config, approx_majority)\n",
    "sim.run(history_interval=0.1)\n",
    "sim.history.plot()\n",
    "plt.title('approximate majority protocol')\n",
    "plt.xlim(0, sim.times[-1])\n",
    "plt.ylim(0, n)"
   ]
  },
  {
   "cell_type": "markdown",
   "metadata": {},
   "source": [
    "# DSD oscillator \n",
    "\n",
    "Below is an implementation of a rock-paper-scissors (RPS) oscillator using DNA strand displacement. The \"formal\" CRN for the RPS oscillator is \n",
    "\n",
    "- A+B &rarr; 2B\n",
    "- B+C &rarr; 2C\n",
    "- C+A &rarr; 2A\n",
    "\n",
    "Each reaction is implemented by 8 lower-level reactions describing DNA interactions. For details, see Fig. 1 in http://dx.doi.org/10.1126/science.aal2052 (bioRxiv verion: https://www.biorxiv.org/content/10.1101/138420v2)."
   ]
  },
  {
   "cell_type": "code",
   "execution_count": 66,
   "metadata": {},
   "outputs": [],
   "source": [
    "from ppsim import species\n",
    "\n",
    "# Fig. 1 in https://www.biorxiv.org/content/10.1101/138420v2.full.pdf\n",
    "# A+B --> 2B\n",
    "# B+C --> 2C\n",
    "# C+A --> 2A\n",
    "\n",
    "# signal species (represent formal species in formal CRN above)\n",
    "# index indicates whether it was the first or second product of a previous reaction\n",
    "b1, b2, c1, c2, a1, a2 = species('b1  b2  c1  c2  a1  a2')\n",
    "\n",
    "signal_species = [b1, b2, c1, c2, a1, a2]\n",
    "\n",
    "# fuel species react step\n",
    "react_a_b_b1, back_a_b = species('react_a_b_b1  back_a_b')\n",
    "react_b_c_c1, back_b_c = species('react_b_c_c1  back_b_c')\n",
    "react_c_a_a1, back_c_a = species('react_c_a_a1  back_c_a')\n",
    "\n",
    "react_species = [react_a_b_b1, react_b_c_c1, react_c_a_a1]\n",
    "back_species = [back_a_b, back_b_c, back_c_a]\n",
    "\n",
    "# fuel species produce step\n",
    "produce_b_b1_b2, helper_b_b2 = species('produce_b_b1_b2  helper_b_b2')\n",
    "produce_c_c1_c2, helper_c_c2 = species('produce_c_c1_c2  helper_c_c2')\n",
    "produce_a_a1_a2, helper_a_a2 = species('produce_a_a1_a2  helper_a_a2')\n",
    "\n",
    "produce_species = [produce_b_b1_b2, produce_c_c1_c2, produce_a_a1_a2]\n",
    "helper_species = [helper_b_b2, helper_c_c2, helper_a_a2]\n",
    "fuel_species = react_species + produce_species\n",
    "\n",
    "# intermediate species\n",
    "flux_b_b1, flux_c_c1, flux_a_a1 = species('flux_b_b1  flux_c_c1  flux_a_a1')\n",
    "reactint_a1_b_b1, reactint_b1_c_c1, reactint_c1_a_a1 = species('reactint_a1_b_b1  reactint_b1_c_c1  reactint_c1_a_a1') \n",
    "reactint_a2_b_b1, reactint_b2_c_c1, reactint_c2_a_a1 = species('reactint_a2_b_b1  reactint_b2_c_c1  reactint_c2_a_a1') \n",
    "productint_b_b1_b2, productint_c_c1_c2, productint_a_a1_a2 = species('productint_b_b1_b2  productint_c_c1_c2  productint_a_a1_a2')\n",
    "\n",
    "flux_species = [flux_b_b1, flux_c_c1, flux_a_a1]\n",
    "reactint_species = [reactint_a1_b_b1, reactint_b1_c_c1, reactint_c1_a_a1,\n",
    "                    reactint_a2_b_b1, reactint_b2_c_c1, reactint_c2_a_a1]\n",
    "produceint_species = [productint_b_b1_b2, productint_c_c1_c2, productint_a_a1_a2]\n",
    "\n",
    "# waste species react step\n",
    "waste_a1_b1, waste_a1_b2, waste_a2_b1, waste_a2_b2 = species('waste_a1_b1  waste_a1_b2  waste_a2_b1  waste_a2_b2')\n",
    "waste_b1_c1, waste_b1_c2, waste_b2_c1, waste_b2_c2 = species('waste_b1_c1  waste_b1_c2  waste_b2_c1  waste_b2_c2')\n",
    "waste_c1_a1, waste_c1_a2, waste_c2_a1, waste_c2_a2 = species('waste_c1_a1  waste_c1_a2  waste_c2_a1  waste_c2_a2')\n",
    "\n",
    "# waste species produce step\n",
    "waste_b_b1_b2, waste_c_c1_c2, waste_a_a1_a2 = species('waste_b_b1_b2  waste_c_c1_c2  waste_a_a1_a2')\n",
    "\n",
    "waste_species = [waste_a1_b1, waste_a1_b2, waste_a2_b1, waste_a2_b2,\n",
    "                 waste_b1_c1, waste_b1_c2, waste_b2_c1, waste_b2_c2,\n",
    "                 waste_c1_a1, waste_c1_a2, waste_c2_a1, waste_c2_a2,\n",
    "                 waste_b_b1_b2, waste_c_c1_c2, waste_a_a1_a2]\n",
    "\n",
    "# DSD reactions implementing formal CRN\n",
    "# A+B --> 2B\n",
    "ab_react_rxns = [\n",
    "    a1 + react_a_b_b1 | back_a_b + reactint_a1_b_b1,\n",
    "    a2 + react_a_b_b1 | back_a_b + reactint_a2_b_b1,\n",
    "    reactint_a1_b_b1 + b1 >> waste_a1_b1 + flux_b_b1, # typo in Fig. 1; these rxns irreversible\n",
    "    reactint_a1_b_b1 + b2 >> waste_a1_b2 + flux_b_b1, #\n",
    "    reactint_a2_b_b1 + b1 >> waste_a2_b1 + flux_b_b1, #\n",
    "    reactint_a2_b_b1 + b2 >> waste_a2_b2 + flux_b_b1, #\n",
    "]\n",
    "ab_produce_rxns = [\n",
    "    flux_b_b1 + produce_b_b1_b2 | b1 + productint_b_b1_b2,\n",
    "    helper_b_b2 + productint_b_b1_b2 >> waste_b_b1_b2 + b2,\n",
    "]\n",
    "ab_rxns = ab_react_rxns + ab_produce_rxns\n",
    "\n",
    "# B+C --> 2C\n",
    "bc_react_rxns = [\n",
    "    b1 + react_b_c_c1 | back_b_c + reactint_b1_c_c1,\n",
    "    b2 + react_b_c_c1 | back_b_c + reactint_b2_c_c1,\n",
    "    reactint_b1_c_c1 + c1 >> waste_b1_c1 + flux_c_c1,\n",
    "    reactint_b1_c_c1 + c2 >> waste_b1_c2 + flux_c_c1,\n",
    "    reactint_b2_c_c1 + c1 >> waste_b2_c1 + flux_c_c1,\n",
    "    reactint_b2_c_c1 + c2 >> waste_b2_c2 + flux_c_c1,\n",
    "]\n",
    "bc_produce_rxns = [\n",
    "    flux_c_c1 + produce_c_c1_c2 | c1 + productint_c_c1_c2,\n",
    "    helper_c_c2 + productint_c_c1_c2 >> waste_c_c1_c2 + c2,\n",
    "]\n",
    "bc_rxns = bc_react_rxns + bc_produce_rxns\n",
    "\n",
    "# C+A --> 2A\n",
    "ca_react_rxns = [\n",
    "    c1 + react_c_a_a1 | back_c_a + reactint_c1_a_a1,\n",
    "    c2 + react_c_a_a1 | back_c_a + reactint_c2_a_a1,\n",
    "    reactint_c1_a_a1 + a1 >> waste_c1_a1 + flux_a_a1,\n",
    "    reactint_c1_a_a1 + a2 >> waste_c1_a2 + flux_a_a1,\n",
    "    reactint_c2_a_a1 + a1 >> waste_c2_a1 + flux_a_a1,\n",
    "    reactint_c2_a_a1 + a2 >> waste_c2_a2 + flux_a_a1,\n",
    "]\n",
    "ca_produce_rxns = [\n",
    "    flux_a_a1 + produce_a_a1_a2 | a1 + productint_a_a1_a2,\n",
    "    helper_a_a2 + productint_a_a1_a2 >> waste_a_a1_a2 + a2,\n",
    "]\n",
    "ca_rxns = ca_react_rxns + ca_produce_rxns\n",
    "\n",
    "all_rps_dsd_rxns = ab_rxns + bc_rxns + ca_rxns\n",
    "\n",
    "all_species = signal_species + \\\n",
    "              react_species + \\\n",
    "              back_species + \\\n",
    "              produce_species + \\\n",
    "              helper_species + \\\n",
    "              flux_species + \\\n",
    "              reactint_species + \\\n",
    "              produceint_species + \\\n",
    "              waste_species\n",
    "\n",
    "def state_map(state):\n",
    "    if state in signal_species:\n",
    "        return state.name[0]\n",
    "    if state in react_species:\n",
    "        return 'react'\n",
    "    if state in produce_species:\n",
    "        return 'produce'\n",
    "    if state in waste_species:\n",
    "        return 'waste'\n",
    "    if state in helper_species:\n",
    "        return 'helper'"
   ]
  },
  {
   "cell_type": "code",
   "execution_count": 92,
   "metadata": {},
   "outputs": [
    {
     "name": "stdout",
     "output_type": "stream",
     "text": [
      " Time: 1.000\n"
     ]
    }
   ],
   "source": [
    "from ppsim import Simulation, RateConstantUnits, concentration_to_count\n",
    "\n",
    "uL = 10 ** -6  # 1 uL (microliter)\n",
    "nM = 10 ** -9  # 1 nM (nanomolar)\n",
    "\n",
    "k = 1e6  # forward rate constant in mass-action units\n",
    "r = 1e6  # reverse rate constant in mass-action units\n",
    "for rxn in all_rps_dsd_rxns:\n",
    "    rxn.k(k, units=RateConstantUnits.mass_action)\n",
    "    if rxn.reversible:\n",
    "        rxn.r(r, units=RateConstantUnits.mass_action)\n",
    "\n",
    "vol = 1 * uL\n",
    "\n",
    "# scale time to make simulations take less time\n",
    "time_scaling = 1\n",
    "vol /= time_scaling\n",
    "\n",
    "react_conc = 100 * nM\n",
    "back_conc = 100 * nM\n",
    "# paper had helper_conc at 75 nM, but they were dying out first\n",
    "helper_conc = 100 * nM\n",
    "produce_conc = 100 * nM\n",
    "a1_conc = 5 * nM\n",
    "b1_conc = 10 * nM\n",
    "c1_conc = 5 * nM\n",
    "\n",
    "react_count = concentration_to_count(react_conc, vol)\n",
    "back_count = concentration_to_count(back_conc, vol)\n",
    "helper_count = concentration_to_count(helper_conc, vol)\n",
    "produce_count = concentration_to_count(produce_conc, vol)\n",
    "a1_count = concentration_to_count(a1_conc, vol)\n",
    "b1_count = concentration_to_count(b1_conc, vol)\n",
    "c1_count = concentration_to_count(c1_conc, vol)\n",
    "\n",
    "init_config_react = {specie: react_count for specie in react_species}\n",
    "init_config_back = {specie: back_count for specie in back_species}\n",
    "init_config_helper = {specie: helper_count for specie in helper_species}\n",
    "init_config_produce = {specie: produce_count for specie in produce_species}\n",
    "\n",
    "init_config = {a1: a1_count, b1: b1_count, c1: c1_count}\n",
    "init_config.update(init_config_react)\n",
    "init_config.update(init_config_back)\n",
    "init_config.update(init_config_helper)\n",
    "init_config.update(init_config_produce)\n",
    "\n",
    "# volume_for_simulation = concentration_to_count(1, vol)\n",
    "sim = Simulation(init_config=init_config, rule=all_rps_dsd_rxns, volume=vol)\n",
    "# num_hours = 10\n",
    "num_seconds = 1\n",
    "sim.run(history_interval=0.1, run_until=num_seconds)\n",
    "# df = sim.history\n",
    "# spec = ['a','b','c']\n",
    "# for x in spec:\n",
    "#     df[x] = df[x + '1'] + df[x + '2']\n",
    "# sim.history(['a1','a2','b1','b2','c1','c2']).plot()\n",
    "# plt.title('DNA strand displacement implementation of RPS oscillator')\n",
    "# plt.xlim(0, sim.times[-1])\n",
    "# plt.ylim(0, sim.n)"
   ]
  },
  {
   "cell_type": "code",
   "execution_count": 71,
   "metadata": {},
   "outputs": [
    {
     "data": {
      "application/vnd.jupyter.widget-view+json": {
       "model_id": "a96f7d9e6a9548ef960d31b7b726dd7b",
       "version_major": 2,
       "version_minor": 0
      },
      "text/plain": [
       "Canvas(toolbar=Toolbar(toolitems=[('Home', 'Reset original view', 'home', 'home'), ('Back', 'Back to previous …"
      ]
     },
     "metadata": {},
     "output_type": "display_data"
    },
    {
     "data": {
      "text/plain": [
       "<AxesSubplot:xlabel='time (continuous)'>"
      ]
     },
     "execution_count": 71,
     "metadata": {},
     "output_type": "execute_result"
    }
   ],
   "source": [
    "df[spec].plot()"
   ]
  },
  {
   "cell_type": "code",
   "execution_count": 69,
   "metadata": {},
   "outputs": [
    {
     "data": {
      "application/vnd.jupyter.widget-view+json": {
       "model_id": "634625e1c89a480ea536fdf288b161b1",
       "version_major": 2,
       "version_minor": 0
      },
      "text/plain": [
       "Canvas(toolbar=Toolbar(toolitems=[('Home', 'Reset original view', 'home', 'home'), ('Back', 'Back to previous …"
      ]
     },
     "metadata": {},
     "output_type": "display_data"
    },
    {
     "data": {
      "text/plain": [
       "<AxesSubplot:xlabel='time (continuous)'>"
      ]
     },
     "execution_count": 69,
     "metadata": {},
     "output_type": "execute_result"
    }
   ],
   "source": [
    "df.plot()"
   ]
  },
  {
   "cell_type": "code",
   "execution_count": 107,
   "metadata": {},
   "outputs": [
    {
     "data": {
      "text/plain": [
       "array([ 2738174347,         530,  5477712691,        1082, 60493664596,\n",
       "       60764562360, 60493658476,  2737547356,        1108,      639039,\n",
       "           1273335,     1272170, 60221407068, 60221406492, 60221406470,\n",
       "       60221385367, 60221363304, 60221363568,       21701,       43188,\n",
       "             42902, 59949150604, 59678252840, 59949156724,   270939363,\n",
       "                 2,   541838532,          26,   271589582,          22,\n",
       "           1317631,           0,           0,           0,         532,\n",
       "           1316202,           0,           0,           0,        1108,\n",
       "            661272,           0,           0,           0,        1130],\n",
       "      dtype=int64)"
      ]
     },
     "execution_count": 107,
     "metadata": {},
     "output_type": "execute_result"
    }
   ],
   "source": [
    "sim.config_array"
   ]
  },
  {
   "cell_type": "code",
   "execution_count": 65,
   "metadata": {},
   "outputs": [
    {
     "data": {
      "text/plain": [
       "a1                     301\n",
       "a2                       0\n",
       "b1                     602\n",
       "b2                       0\n",
       "back_a_b              6022\n",
       "back_b_c              6022\n",
       "back_c_a              6022\n",
       "c1                     301\n",
       "c2                       0\n",
       "flux_a_a1                0\n",
       "flux_b_b1                0\n",
       "flux_c_c1                0\n",
       "helper_a_a2           4517\n",
       "helper_b_b2           4517\n",
       "helper_c_c2           4517\n",
       "produce_a_a1_a2       6022\n",
       "produce_b_b1_b2       6022\n",
       "produce_c_c1_c2       6022\n",
       "productint_a_a1_a2       0\n",
       "productint_b_b1_b2       0\n",
       "productint_c_c1_c2       0\n",
       "react_a_b_b1          6022\n",
       "react_b_c_c1          6022\n",
       "react_c_a_a1          6022\n",
       "reactint_a1_b_b1         0\n",
       "reactint_a2_b_b1         0\n",
       "reactint_b1_c_c1         0\n",
       "reactint_b2_c_c1         0\n",
       "reactint_c1_a_a1         0\n",
       "reactint_c2_a_a1         0\n",
       "waste_a1_b1              0\n",
       "waste_a1_b2              0\n",
       "waste_a2_b1              0\n",
       "waste_a2_b2              0\n",
       "waste_a_a1_a2            0\n",
       "waste_b1_c1              0\n",
       "waste_b1_c2              0\n",
       "waste_b2_c1              0\n",
       "waste_b2_c2              0\n",
       "waste_b_b1_b2            0\n",
       "waste_c1_a1              0\n",
       "waste_c1_a2              0\n",
       "waste_c2_a1              0\n",
       "waste_c2_a2              0\n",
       "waste_c_c1_c2            0\n",
       "a                      301\n",
       "b                      602\n",
       "c                      301\n",
       "Name: 0, dtype: int64"
      ]
     },
     "execution_count": 65,
     "metadata": {},
     "output_type": "execute_result"
    }
   ],
   "source": [
    "df.iloc[0]"
   ]
  },
  {
   "cell_type": "code",
   "execution_count": null,
   "outputs": [],
   "source": [
    "%matplotlib widget\n",
    "sp = pp.StatePlotter(state_map)\n",
    "sim.add_snapshot(sp)"
   ],
   "metadata": {
    "collapsed": false,
    "pycharm": {
     "name": "#%%\n"
    }
   }
  },
  {
   "cell_type": "code",
   "execution_count": null,
   "outputs": [],
   "source": [
    "sp._matrix"
   ],
   "metadata": {
    "collapsed": false,
    "pycharm": {
     "name": "#%%\n"
    }
   }
  },
  {
   "cell_type": "code",
   "execution_count": null,
   "outputs": [],
   "source": [
    "import pandas as pd\n",
    "df = pd.DataFrame(data=np.matmul(sim.history.to_numpy(), sp._matrix), columns=sp.categories)\n",
    "# h = sim.history.to_numpy()"
   ],
   "metadata": {
    "collapsed": false,
    "pycharm": {
     "name": "#%%\n"
    }
   }
  },
  {
   "cell_type": "code",
   "execution_count": null,
   "outputs": [],
   "source": [
    "df.plot()"
   ],
   "metadata": {
    "collapsed": false,
    "pycharm": {
     "name": "#%%\n"
    }
   }
  },
  {
   "cell_type": "code",
   "execution_count": null,
   "outputs": [],
   "source": [
    "sp._matrix.shape"
   ],
   "metadata": {
    "collapsed": false,
    "pycharm": {
     "name": "#%%\n"
    }
   }
  },
  {
   "cell_type": "code",
   "execution_count": null,
   "outputs": [],
   "source": [
    "len(sim.state_list)"
   ],
   "metadata": {
    "collapsed": false,
    "pycharm": {
     "name": "#%%\n"
    }
   }
  },
  {
   "cell_type": "code",
   "execution_count": 93,
   "metadata": {},
   "outputs": [
    {
     "data": {
      "application/vnd.jupyter.widget-view+json": {
       "model_id": "86d216c90126439eb9f18ab4d542da3b",
       "version_major": 2,
       "version_minor": 0
      },
      "text/plain": [
       "Canvas(toolbar=Toolbar(toolitems=[('Home', 'Reset original view', 'home', 'home'), ('Back', 'Back to previous …"
      ]
     },
     "metadata": {},
     "output_type": "display_data"
    }
   ],
   "source": [
    "num_hours = 24\n",
    "sim.run(history_interval=0.1, run_until=num_hours * 3600)"
   ]
  },
  {
   "cell_type": "code",
   "execution_count": 94,
   "metadata": {},
   "outputs": [
    {
     "data": {
      "text/plain": [
       "array([[1, 0, 0, 0, 0, 0, 0],\n",
       "       [1, 0, 0, 0, 0, 0, 0],\n",
       "       [0, 1, 0, 0, 0, 0, 0],\n",
       "       [0, 1, 0, 0, 0, 0, 0],\n",
       "       [0, 0, 0, 0, 0, 0, 0],\n",
       "       [0, 0, 0, 0, 0, 0, 0],\n",
       "       [0, 0, 0, 0, 0, 0, 0],\n",
       "       [0, 0, 1, 0, 0, 0, 0],\n",
       "       [0, 0, 1, 0, 0, 0, 0],\n",
       "       [0, 0, 0, 0, 0, 0, 0],\n",
       "       [0, 0, 0, 0, 0, 0, 0],\n",
       "       [0, 0, 0, 0, 0, 0, 0],\n",
       "       [0, 0, 0, 1, 0, 0, 0],\n",
       "       [0, 0, 0, 1, 0, 0, 0],\n",
       "       [0, 0, 0, 1, 0, 0, 0],\n",
       "       [0, 0, 0, 0, 1, 0, 0],\n",
       "       [0, 0, 0, 0, 1, 0, 0],\n",
       "       [0, 0, 0, 0, 1, 0, 0],\n",
       "       [0, 0, 0, 0, 0, 0, 0],\n",
       "       [0, 0, 0, 0, 0, 0, 0],\n",
       "       [0, 0, 0, 0, 0, 0, 0],\n",
       "       [0, 0, 0, 0, 0, 1, 0],\n",
       "       [0, 0, 0, 0, 0, 1, 0],\n",
       "       [0, 0, 0, 0, 0, 1, 0],\n",
       "       [0, 0, 0, 0, 0, 0, 0],\n",
       "       [0, 0, 0, 0, 0, 0, 0],\n",
       "       [0, 0, 0, 0, 0, 0, 0],\n",
       "       [0, 0, 0, 0, 0, 0, 0],\n",
       "       [0, 0, 0, 0, 0, 0, 0],\n",
       "       [0, 0, 0, 0, 0, 0, 0],\n",
       "       [0, 0, 0, 0, 0, 0, 1],\n",
       "       [0, 0, 0, 0, 0, 0, 1],\n",
       "       [0, 0, 0, 0, 0, 0, 1],\n",
       "       [0, 0, 0, 0, 0, 0, 1],\n",
       "       [0, 0, 0, 0, 0, 0, 1],\n",
       "       [0, 0, 0, 0, 0, 0, 1],\n",
       "       [0, 0, 0, 0, 0, 0, 1],\n",
       "       [0, 0, 0, 0, 0, 0, 1],\n",
       "       [0, 0, 0, 0, 0, 0, 1],\n",
       "       [0, 0, 0, 0, 0, 0, 1],\n",
       "       [0, 0, 0, 0, 0, 0, 1],\n",
       "       [0, 0, 0, 0, 0, 0, 1],\n",
       "       [0, 0, 0, 0, 0, 0, 1],\n",
       "       [0, 0, 0, 0, 0, 0, 1],\n",
       "       [0, 0, 0, 0, 0, 0, 1]], dtype=int64)"
      ]
     },
     "execution_count": 94,
     "metadata": {},
     "output_type": "execute_result"
    }
   ],
   "source": [
    "sp._matrix"
   ]
  },
  {
   "cell_type": "code",
   "execution_count": 104,
   "metadata": {},
   "outputs": [],
   "source": [
    "import pandas as pd\n",
    "df = pd.DataFrame(data=np.matmul(sim.history.to_numpy(), sp._matrix), columns=sp.categories)\n",
    "# h = sim.history.to_numpy()"
   ]
  },
  {
   "cell_type": "code",
   "execution_count": 105,
   "metadata": {},
   "outputs": [
    {
     "data": {
      "application/vnd.jupyter.widget-view+json": {
       "model_id": "5bf02e38c8934948aef27724a8c0eb7a",
       "version_major": 2,
       "version_minor": 0
      },
      "text/plain": [
       "Canvas(toolbar=Toolbar(toolitems=[('Home', 'Reset original view', 'home', 'home'), ('Back', 'Back to previous …"
      ]
     },
     "metadata": {},
     "output_type": "display_data"
    },
    {
     "data": {
      "text/plain": [
       "<AxesSubplot:>"
      ]
     },
     "execution_count": 105,
     "metadata": {},
     "output_type": "execute_result"
    }
   ],
   "source": [
    "df.plot()"
   ]
  },
  {
   "cell_type": "code",
   "execution_count": 97,
   "metadata": {},
   "outputs": [
    {
     "data": {
      "text/plain": [
       "(45, 7)"
      ]
     },
     "execution_count": 97,
     "metadata": {},
     "output_type": "execute_result"
    }
   ],
   "source": [
    "sp._matrix.shape"
   ]
  },
  {
   "cell_type": "code",
   "execution_count": 84,
   "metadata": {},
   "outputs": [
    {
     "data": {
      "text/plain": [
       "45"
      ]
     },
     "execution_count": 84,
     "metadata": {},
     "output_type": "execute_result"
    }
   ],
   "source": [
    "len(sim.state_list)"
   ]
  },
  {
   "cell_type": "code",
   "execution_count": 21,
   "metadata": {},
   "outputs": [],
   "source": [
    "num_hours = 24\n",
    "sim.run(history_interval=0.1, run_until=num_hours * 3600)"
   ]
  },
  {
   "cell_type": "code",
   "execution_count": 62,
   "metadata": {},
   "outputs": [
    {
     "data": {
      "application/vnd.jupyter.widget-view+json": {
       "model_id": "5fea89f943d24069be6bfe32de01d38a",
       "version_major": 2,
       "version_minor": 0
      },
      "text/plain": [
       "interactive(children=(IntSlider(value=0, description='index', layout=Layout(width='100%'), max=600), Output())…"
      ]
     },
     "metadata": {},
     "output_type": "display_data"
    }
   ],
   "source": [
    "sp.ax.set_yscale('linear')\n",
    "sim.snapshot_slider()"
   ]
  },
  {
   "cell_type": "code",
   "execution_count": 83,
   "metadata": {},
   "outputs": [
    {
     "data": {
      "text/html": [
       "<div>\n",
       "<style scoped>\n",
       "    .dataframe tbody tr th:only-of-type {\n",
       "        vertical-align: middle;\n",
       "    }\n",
       "\n",
       "    .dataframe tbody tr th {\n",
       "        vertical-align: top;\n",
       "    }\n",
       "\n",
       "    .dataframe thead th {\n",
       "        text-align: right;\n",
       "    }\n",
       "</style>\n",
       "<table border=\"1\" class=\"dataframe\">\n",
       "  <thead>\n",
       "    <tr style=\"text-align: right;\">\n",
       "      <th></th>\n",
       "      <th>a1</th>\n",
       "      <th>a2</th>\n",
       "      <th>b1</th>\n",
       "      <th>b2</th>\n",
       "      <th>back_a_b</th>\n",
       "      <th>back_b_c</th>\n",
       "      <th>back_c_a</th>\n",
       "      <th>c1</th>\n",
       "      <th>c2</th>\n",
       "      <th>flux_a_a1</th>\n",
       "      <th>...</th>\n",
       "      <th>waste_b2_c2</th>\n",
       "      <th>waste_b_b1_b2</th>\n",
       "      <th>waste_c1_a1</th>\n",
       "      <th>waste_c1_a2</th>\n",
       "      <th>waste_c2_a1</th>\n",
       "      <th>waste_c2_a2</th>\n",
       "      <th>waste_c_c1_c2</th>\n",
       "      <th>a</th>\n",
       "      <th>b</th>\n",
       "      <th>c</th>\n",
       "    </tr>\n",
       "    <tr>\n",
       "      <th>time (continuous)</th>\n",
       "      <th></th>\n",
       "      <th></th>\n",
       "      <th></th>\n",
       "      <th></th>\n",
       "      <th></th>\n",
       "      <th></th>\n",
       "      <th></th>\n",
       "      <th></th>\n",
       "      <th></th>\n",
       "      <th></th>\n",
       "      <th></th>\n",
       "      <th></th>\n",
       "      <th></th>\n",
       "      <th></th>\n",
       "      <th></th>\n",
       "      <th></th>\n",
       "      <th></th>\n",
       "      <th></th>\n",
       "      <th></th>\n",
       "      <th></th>\n",
       "      <th></th>\n",
       "    </tr>\n",
       "  </thead>\n",
       "  <tbody>\n",
       "    <tr>\n",
       "      <th>0.0</th>\n",
       "      <td>3011070380</td>\n",
       "      <td>0</td>\n",
       "      <td>6022140760</td>\n",
       "      <td>0</td>\n",
       "      <td>60221407600</td>\n",
       "      <td>60221407600</td>\n",
       "      <td>60221407600</td>\n",
       "      <td>3011070380</td>\n",
       "      <td>0</td>\n",
       "      <td>0</td>\n",
       "      <td>...</td>\n",
       "      <td>0</td>\n",
       "      <td>0</td>\n",
       "      <td>0</td>\n",
       "      <td>0</td>\n",
       "      <td>0</td>\n",
       "      <td>0</td>\n",
       "      <td>0</td>\n",
       "      <td>3011070380</td>\n",
       "      <td>6022140760</td>\n",
       "      <td>3011070380</td>\n",
       "    </tr>\n",
       "    <tr>\n",
       "      <th>0.1</th>\n",
       "      <td>2981264593</td>\n",
       "      <td>0</td>\n",
       "      <td>5962547947</td>\n",
       "      <td>0</td>\n",
       "      <td>60251206082</td>\n",
       "      <td>60280985634</td>\n",
       "      <td>60251212105</td>\n",
       "      <td>2981251194</td>\n",
       "      <td>0</td>\n",
       "      <td>7305</td>\n",
       "      <td>...</td>\n",
       "      <td>0</td>\n",
       "      <td>0</td>\n",
       "      <td>7325</td>\n",
       "      <td>0</td>\n",
       "      <td>0</td>\n",
       "      <td>0</td>\n",
       "      <td>0</td>\n",
       "      <td>2981264593</td>\n",
       "      <td>5962547947</td>\n",
       "      <td>2981251194</td>\n",
       "    </tr>\n",
       "    <tr>\n",
       "      <th>0.2</th>\n",
       "      <td>2952040010</td>\n",
       "      <td>3</td>\n",
       "      <td>5904145431</td>\n",
       "      <td>1</td>\n",
       "      <td>60280408899</td>\n",
       "      <td>60339344893</td>\n",
       "      <td>60280410858</td>\n",
       "      <td>2952009388</td>\n",
       "      <td>2</td>\n",
       "      <td>29071</td>\n",
       "      <td>...</td>\n",
       "      <td>0</td>\n",
       "      <td>1</td>\n",
       "      <td>29281</td>\n",
       "      <td>0</td>\n",
       "      <td>0</td>\n",
       "      <td>0</td>\n",
       "      <td>2</td>\n",
       "      <td>2952040013</td>\n",
       "      <td>5904145432</td>\n",
       "      <td>2952009390</td>\n",
       "    </tr>\n",
       "    <tr>\n",
       "      <th>0.3</th>\n",
       "      <td>2923401623</td>\n",
       "      <td>8</td>\n",
       "      <td>5846936539</td>\n",
       "      <td>7</td>\n",
       "      <td>60309012147</td>\n",
       "      <td>60396482840</td>\n",
       "      <td>60309019389</td>\n",
       "      <td>2923330387</td>\n",
       "      <td>7</td>\n",
       "      <td>64210</td>\n",
       "      <td>...</td>\n",
       "      <td>0</td>\n",
       "      <td>7</td>\n",
       "      <td>64847</td>\n",
       "      <td>0</td>\n",
       "      <td>0</td>\n",
       "      <td>0</td>\n",
       "      <td>7</td>\n",
       "      <td>2923401631</td>\n",
       "      <td>5846936546</td>\n",
       "      <td>2923330394</td>\n",
       "    </tr>\n",
       "    <tr>\n",
       "      <th>0.4</th>\n",
       "      <td>2895327649</td>\n",
       "      <td>12</td>\n",
       "      <td>5790894470</td>\n",
       "      <td>27</td>\n",
       "      <td>60337037946</td>\n",
       "      <td>60452428639</td>\n",
       "      <td>60337038736</td>\n",
       "      <td>2895214955</td>\n",
       "      <td>27</td>\n",
       "      <td>112385</td>\n",
       "      <td>...</td>\n",
       "      <td>0</td>\n",
       "      <td>27</td>\n",
       "      <td>113878</td>\n",
       "      <td>0</td>\n",
       "      <td>0</td>\n",
       "      <td>0</td>\n",
       "      <td>27</td>\n",
       "      <td>2895327661</td>\n",
       "      <td>5790894497</td>\n",
       "      <td>2895214982</td>\n",
       "    </tr>\n",
       "    <tr>\n",
       "      <th>0.5</th>\n",
       "      <td>2867804437</td>\n",
       "      <td>32</td>\n",
       "      <td>5735976116</td>\n",
       "      <td>64</td>\n",
       "      <td>60364500500</td>\n",
       "      <td>60507226026</td>\n",
       "      <td>60364492436</td>\n",
       "      <td>2867640227</td>\n",
       "      <td>72</td>\n",
       "      <td>173043</td>\n",
       "      <td>...</td>\n",
       "      <td>0</td>\n",
       "      <td>65</td>\n",
       "      <td>175976</td>\n",
       "      <td>0</td>\n",
       "      <td>0</td>\n",
       "      <td>0</td>\n",
       "      <td>73</td>\n",
       "      <td>2867804469</td>\n",
       "      <td>5735976180</td>\n",
       "      <td>2867640299</td>\n",
       "    </tr>\n",
       "    <tr>\n",
       "      <th>0.6</th>\n",
       "      <td>2840829679</td>\n",
       "      <td>61</td>\n",
       "      <td>5682166905</td>\n",
       "      <td>151</td>\n",
       "      <td>60391403363</td>\n",
       "      <td>60560890857</td>\n",
       "      <td>60391400623</td>\n",
       "      <td>2840588505</td>\n",
       "      <td>153</td>\n",
       "      <td>244938</td>\n",
       "      <td>...</td>\n",
       "      <td>0</td>\n",
       "      <td>152</td>\n",
       "      <td>249953</td>\n",
       "      <td>0</td>\n",
       "      <td>0</td>\n",
       "      <td>0</td>\n",
       "      <td>154</td>\n",
       "      <td>2840829740</td>\n",
       "      <td>5682167056</td>\n",
       "      <td>2840588658</td>\n",
       "    </tr>\n",
       "    <tr>\n",
       "      <th>0.7</th>\n",
       "      <td>2814388661</td>\n",
       "      <td>121</td>\n",
       "      <td>5629445325</td>\n",
       "      <td>259</td>\n",
       "      <td>60417761894</td>\n",
       "      <td>60613447138</td>\n",
       "      <td>60417760829</td>\n",
       "      <td>2814061871</td>\n",
       "      <td>274</td>\n",
       "      <td>327425</td>\n",
       "      <td>...</td>\n",
       "      <td>0</td>\n",
       "      <td>261</td>\n",
       "      <td>335382</td>\n",
       "      <td>0</td>\n",
       "      <td>0</td>\n",
       "      <td>0</td>\n",
       "      <td>277</td>\n",
       "      <td>2814388782</td>\n",
       "      <td>5629445584</td>\n",
       "      <td>2814062145</td>\n",
       "    </tr>\n",
       "    <tr>\n",
       "      <th>0.8</th>\n",
       "      <td>2788474271</td>\n",
       "      <td>233</td>\n",
       "      <td>5577821674</td>\n",
       "      <td>438</td>\n",
       "      <td>60443582924</td>\n",
       "      <td>60664884325</td>\n",
       "      <td>60443569993</td>\n",
       "      <td>2788066184</td>\n",
       "      <td>452</td>\n",
       "      <td>420787</td>\n",
       "      <td>...</td>\n",
       "      <td>0</td>\n",
       "      <td>443</td>\n",
       "      <td>432567</td>\n",
       "      <td>0</td>\n",
       "      <td>0</td>\n",
       "      <td>0</td>\n",
       "      <td>459</td>\n",
       "      <td>2788474504</td>\n",
       "      <td>5577822112</td>\n",
       "      <td>2788066636</td>\n",
       "    </tr>\n",
       "    <tr>\n",
       "      <th>0.9</th>\n",
       "      <td>2763067053</td>\n",
       "      <td>382</td>\n",
       "      <td>5527227760</td>\n",
       "      <td>688</td>\n",
       "      <td>60468887250</td>\n",
       "      <td>60715272359</td>\n",
       "      <td>60468863431</td>\n",
       "      <td>2762566951</td>\n",
       "      <td>701</td>\n",
       "      <td>523681</td>\n",
       "      <td>...</td>\n",
       "      <td>0</td>\n",
       "      <td>698</td>\n",
       "      <td>540226</td>\n",
       "      <td>0</td>\n",
       "      <td>1</td>\n",
       "      <td>0</td>\n",
       "      <td>714</td>\n",
       "      <td>2763067435</td>\n",
       "      <td>5527228448</td>\n",
       "      <td>2762567652</td>\n",
       "    </tr>\n",
       "    <tr>\n",
       "      <th>1.0</th>\n",
       "      <td>2738164790</td>\n",
       "      <td>560</td>\n",
       "      <td>5477671927</td>\n",
       "      <td>1080</td>\n",
       "      <td>60493676648</td>\n",
       "      <td>60764603385</td>\n",
       "      <td>60493641807</td>\n",
       "      <td>2737563871</td>\n",
       "      <td>1063</td>\n",
       "      <td>636550</td>\n",
       "      <td>...</td>\n",
       "      <td>0</td>\n",
       "      <td>1092</td>\n",
       "      <td>658971</td>\n",
       "      <td>0</td>\n",
       "      <td>1</td>\n",
       "      <td>0</td>\n",
       "      <td>1085</td>\n",
       "      <td>2738165350</td>\n",
       "      <td>5477673007</td>\n",
       "      <td>2737564934</td>\n",
       "    </tr>\n",
       "    <tr>\n",
       "      <th>1.0</th>\n",
       "      <td>2738164790</td>\n",
       "      <td>560</td>\n",
       "      <td>5477671927</td>\n",
       "      <td>1080</td>\n",
       "      <td>60493676648</td>\n",
       "      <td>60764603385</td>\n",
       "      <td>60493641807</td>\n",
       "      <td>2737563871</td>\n",
       "      <td>1063</td>\n",
       "      <td>636550</td>\n",
       "      <td>...</td>\n",
       "      <td>0</td>\n",
       "      <td>1092</td>\n",
       "      <td>658971</td>\n",
       "      <td>0</td>\n",
       "      <td>1</td>\n",
       "      <td>0</td>\n",
       "      <td>1085</td>\n",
       "      <td>2738165350</td>\n",
       "      <td>5477673007</td>\n",
       "      <td>2737564934</td>\n",
       "    </tr>\n",
       "  </tbody>\n",
       "</table>\n",
       "<p>12 rows × 48 columns</p>\n",
       "</div>"
      ],
      "text/plain": [
       "                           a1   a2          b1    b2     back_a_b  \\\n",
       "time (continuous)                                                   \n",
       "0.0                3011070380    0  6022140760     0  60221407600   \n",
       "0.1                2981264593    0  5962547947     0  60251206082   \n",
       "0.2                2952040010    3  5904145431     1  60280408899   \n",
       "0.3                2923401623    8  5846936539     7  60309012147   \n",
       "0.4                2895327649   12  5790894470    27  60337037946   \n",
       "0.5                2867804437   32  5735976116    64  60364500500   \n",
       "0.6                2840829679   61  5682166905   151  60391403363   \n",
       "0.7                2814388661  121  5629445325   259  60417761894   \n",
       "0.8                2788474271  233  5577821674   438  60443582924   \n",
       "0.9                2763067053  382  5527227760   688  60468887250   \n",
       "1.0                2738164790  560  5477671927  1080  60493676648   \n",
       "1.0                2738164790  560  5477671927  1080  60493676648   \n",
       "\n",
       "                      back_b_c     back_c_a          c1    c2  flux_a_a1  ...  \\\n",
       "time (continuous)                                                         ...   \n",
       "0.0                60221407600  60221407600  3011070380     0          0  ...   \n",
       "0.1                60280985634  60251212105  2981251194     0       7305  ...   \n",
       "0.2                60339344893  60280410858  2952009388     2      29071  ...   \n",
       "0.3                60396482840  60309019389  2923330387     7      64210  ...   \n",
       "0.4                60452428639  60337038736  2895214955    27     112385  ...   \n",
       "0.5                60507226026  60364492436  2867640227    72     173043  ...   \n",
       "0.6                60560890857  60391400623  2840588505   153     244938  ...   \n",
       "0.7                60613447138  60417760829  2814061871   274     327425  ...   \n",
       "0.8                60664884325  60443569993  2788066184   452     420787  ...   \n",
       "0.9                60715272359  60468863431  2762566951   701     523681  ...   \n",
       "1.0                60764603385  60493641807  2737563871  1063     636550  ...   \n",
       "1.0                60764603385  60493641807  2737563871  1063     636550  ...   \n",
       "\n",
       "                   waste_b2_c2  waste_b_b1_b2  waste_c1_a1  waste_c1_a2  \\\n",
       "time (continuous)                                                         \n",
       "0.0                          0              0            0            0   \n",
       "0.1                          0              0         7325            0   \n",
       "0.2                          0              1        29281            0   \n",
       "0.3                          0              7        64847            0   \n",
       "0.4                          0             27       113878            0   \n",
       "0.5                          0             65       175976            0   \n",
       "0.6                          0            152       249953            0   \n",
       "0.7                          0            261       335382            0   \n",
       "0.8                          0            443       432567            0   \n",
       "0.9                          0            698       540226            0   \n",
       "1.0                          0           1092       658971            0   \n",
       "1.0                          0           1092       658971            0   \n",
       "\n",
       "                   waste_c2_a1  waste_c2_a2  waste_c_c1_c2           a  \\\n",
       "time (continuous)                                                        \n",
       "0.0                          0            0              0  3011070380   \n",
       "0.1                          0            0              0  2981264593   \n",
       "0.2                          0            0              2  2952040013   \n",
       "0.3                          0            0              7  2923401631   \n",
       "0.4                          0            0             27  2895327661   \n",
       "0.5                          0            0             73  2867804469   \n",
       "0.6                          0            0            154  2840829740   \n",
       "0.7                          0            0            277  2814388782   \n",
       "0.8                          0            0            459  2788474504   \n",
       "0.9                          1            0            714  2763067435   \n",
       "1.0                          1            0           1085  2738165350   \n",
       "1.0                          1            0           1085  2738165350   \n",
       "\n",
       "                            b           c  \n",
       "time (continuous)                          \n",
       "0.0                6022140760  3011070380  \n",
       "0.1                5962547947  2981251194  \n",
       "0.2                5904145432  2952009390  \n",
       "0.3                5846936546  2923330394  \n",
       "0.4                5790894497  2895214982  \n",
       "0.5                5735976180  2867640299  \n",
       "0.6                5682167056  2840588658  \n",
       "0.7                5629445584  2814062145  \n",
       "0.8                5577822112  2788066636  \n",
       "0.9                5527228448  2762567652  \n",
       "1.0                5477673007  2737564934  \n",
       "1.0                5477673007  2737564934  \n",
       "\n",
       "[12 rows x 48 columns]"
      ]
     },
     "execution_count": 83,
     "metadata": {},
     "output_type": "execute_result"
    }
   ],
   "source": [
    "sim.history"
   ]
  },
  {
   "cell_type": "code",
   "execution_count": null,
   "metadata": {},
   "outputs": [],
   "source": []
  }
 ],
 "metadata": {
  "kernelspec": {
   "display_name": "Python 3",
   "language": "python",
   "name": "python3"
  },
  "language_info": {
   "codemirror_mode": {
    "name": "ipython",
    "version": 3
   },
   "file_extension": ".py",
   "mimetype": "text/x-python",
   "name": "python",
   "nbconvert_exporter": "python",
   "pygments_lexer": "ipython3",
   "version": "3.7.3"
  }
 },
 "nbformat": 4,
 "nbformat_minor": 4
}