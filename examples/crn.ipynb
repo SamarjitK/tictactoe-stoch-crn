{
 "cells": [
  {
   "cell_type": "markdown",
   "metadata": {},
   "source": [
    "# Simulating Chemical Reaction Networks with ppsim\n",
    "\n",
    "``ppsim`` is able to simulate any Chemical Reaction Network (CRN) whose reactions are all bimolecular (two reactant, two product) or unimolecular (one reactant, one product). This notebook shows some examples of that feature, and how it compares to the standard Gillespie stochastic simulation algorithm."
   ]
  },
  {
   "cell_type": "code",
   "execution_count": 1,
   "metadata": {
    "collapsed": false,
    "jupyter": {
     "outputs_hidden": false
    },
    "pycharm": {
     "name": "#%%\n"
    }
   },
   "outputs": [],
   "source": [
    "import ppsim as pp\n",
    "import numpy as np\n",
    "from matplotlib import pyplot as plt\n",
    "import pickle"
   ]
  },
  {
   "cell_type": "code",
   "execution_count": 2,
   "metadata": {},
   "outputs": [],
   "source": [
    "%matplotlib widget"
   ]
  },
  {
   "cell_type": "markdown",
   "metadata": {},
   "source": [
    "# Approximate majority CRN\n",
    "\n",
    "This state CRN reaches a consensus between the two initial states ``A`` and ``B``. Opposite opinions become undecided ``U`` states, which are then converted by the ``A`` and ``B`` states."
   ]
  },
  {
   "cell_type": "code",
   "execution_count": 35,
   "metadata": {},
   "outputs": [
    {
     "name": "stdout",
     "output_type": "stream",
     "text": [
      " Time: 30.000\n"
     ]
    },
    {
     "data": {
      "application/vnd.jupyter.widget-view+json": {
       "model_id": "cf15107d652f45878b9d5c9542b89409",
       "version_major": 2,
       "version_minor": 0
      },
      "text/plain": [
       "Canvas(toolbar=Toolbar(toolitems=[('Home', 'Reset original view', 'home', 'home'), ('Back', 'Back to previous …"
      ]
     },
     "metadata": {},
     "output_type": "display_data"
    }
   ],
   "source": [
    "a,b,u = pp.species('A B U')\n",
    "approx_majority = [\n",
    "    a+b >> 2*u,\n",
    "    a+u >> 2*a,\n",
    "    b+u >> 2*b,\n",
    "]\n",
    "n = 10 ** 2\n",
    "p = 0.51\n",
    "init_config = {a: p*n, b: (1-p)*n}\n",
    "sim = pp.Simulation(init_config, approx_majority)\n",
    "sim.run(30, 0.1)\n",
    "sim.history.plot(figsize = (6,4))\n",
    "plt.title('approximate majority protocol')\n",
    "plt.show()"
   ]
  },
  {
   "cell_type": "markdown",
   "metadata": {},
   "source": [
    "We will implement the same protocol using Gillespie simulation with the package [GillesPy2](https://github.com/StochSS/GillesPy2)."
   ]
  },
  {
   "cell_type": "code",
   "execution_count": 4,
   "metadata": {},
   "outputs": [
    {
     "data": {
      "application/vnd.jupyter.widget-view+json": {
       "model_id": "095b7847c03e4600bbf65bfb83f4c086",
       "version_major": 2,
       "version_minor": 0
      },
      "text/plain": [
       "Canvas(toolbar=Toolbar(toolitems=[('Home', 'Reset original view', 'home', 'home'), ('Back', 'Back to previous …"
      ]
     },
     "metadata": {},
     "output_type": "display_data"
    },
    {
     "data": {
      "text/plain": [
       "<matplotlib.collections.LineCollection at 0x203ffdc1128>"
      ]
     },
     "execution_count": 4,
     "metadata": {},
     "output_type": "execute_result"
    }
   ],
   "source": [
    "import gillespy2\n",
    "model = pp.gillespy2_format(init_config, approx_majority, n)\n",
    "model.timespan(np.linspace(0,30,300))\n",
    "model.run().plot(figsize = (6, 4), title='Approximate Majority')\n",
    "end_time = 5\n",
    "plt.vlines(end_time, 0, n, color='r',linestyles = 'dashed')"
   ]
  },
  {
   "cell_type": "markdown",
   "metadata": {},
   "source": [
    "To test more thoroughly that these two simulations have the exact same distribution, we will sample the probability distribution of each state at time 5."
   ]
  },
  {
   "cell_type": "code",
   "execution_count": 5,
   "metadata": {},
   "outputs": [
    {
     "data": {
      "application/vnd.jupyter.widget-view+json": {
       "model_id": "6a58408767a64caa809de7ecdf4cf514",
       "version_major": 2,
       "version_minor": 0
      },
      "text/plain": [
       "  0%|          | 0/10000 [00:00<?, ?it/s]"
      ]
     },
     "metadata": {},
     "output_type": "display_data"
    },
    {
     "data": {
      "application/vnd.jupyter.widget-view+json": {
       "model_id": "8b808aa216894db1aea13ee88a6d8cbf",
       "version_major": 2,
       "version_minor": 0
      },
      "text/plain": [
       "  0%|          | 0/10000 [00:00<?, ?it/s]"
      ]
     },
     "metadata": {},
     "output_type": "display_data"
    }
   ],
   "source": [
    "# trials = 10 ** 6\n",
    "# ran 1 million trials for recorded data, but now trials is set lower so the notebook runs faster\n",
    "trials = 10 ** 4\n",
    "sim = pp.Simulation(init_config, approx_majority)\n",
    "results_ppsim_cts = sim.sample_future_configuration(end_time, num_samples = trials)\n",
    "# Run additional trials with discrete time for comparison\n",
    "sim.continuous_time = False\n",
    "results_ppsim_discrete = sim.sample_future_configuration(end_time, num_samples = trials)\n",
    "\n",
    "model.timespan(np.linspace(0,end_time,2))\n",
    "results_gillespy2 = model.run(number_of_trajectories = trials)"
   ]
  },
  {
   "cell_type": "code",
   "execution_count": 6,
   "metadata": {},
   "outputs": [
    {
     "data": {
      "application/vnd.jupyter.widget-view+json": {
       "model_id": "176727eb7b2141e599a2ff8d2c2fb144",
       "version_major": 2,
       "version_minor": 0
      },
      "text/plain": [
       "Canvas(toolbar=Toolbar(toolitems=[('Home', 'Reset original view', 'home', 'home'), ('Back', 'Back to previous …"
      ]
     },
     "metadata": {},
     "output_type": "display_data"
    },
    {
     "data": {
      "text/plain": [
       "Text(0.5, 0.98, 'Sampled state distributions')"
      ]
     },
     "execution_count": 6,
     "metadata": {},
     "output_type": "execute_result"
    }
   ],
   "source": [
    "fig, axes = plt.subplots(1, 2)\n",
    "for state, ax in zip(['A', 'B'], axes):\n",
    "    ax.hist([results_ppsim_cts[state], [result[state][1] for result in results_gillespy2]], bins = np.linspace(0, n, 20), \n",
    "                              alpha = 1, label=['ppsim', 'gillespy2'], density=True, edgecolor = 'k', linewidth = 0.0)\n",
    "    ax.legend()\n",
    "    ax.set_xlabel(f'Count of {state}')\n",
    "axes[0].set_ylabel('empirical probability')\n",
    "fig.suptitle('Sampled state distributions')"
   ]
  },
  {
   "cell_type": "markdown",
   "metadata": {},
   "source": [
    "Now we will take a look at larger population size, to see how the time for ``ppsim`` to run compares to ``gillespy2`` and also another Gillespie SSA simulator from the package [StochKit2](https://academic.oup.com/bioinformatics/article/27/17/2457/224105)."
   ]
  },
  {
   "cell_type": "code",
   "execution_count": 33,
   "metadata": {
    "tags": []
   },
   "outputs": [],
   "source": [
    "from time import perf_counter\n",
    "from IPython.display import clear_output\n",
    "import math\n",
    "import os\n",
    "\n",
    "def time_trials(simulator, ns, num_trials = 10000):\n",
    "    # get data on time it takes ppsim to run rule from init_config until end_time\n",
    "    times = []\n",
    "    for n in ns:\n",
    "        print(f'n = {n:.2E}')\n",
    "        sim = simulator(n)\n",
    "        start_time = perf_counter()\n",
    "        sim.run(num_trials)\n",
    "        trial_time = (perf_counter() - start_time) / num_trials\n",
    "        times.append(trial_time)\n",
    "        # set num_trials to be at most the number that this one could have finished in 10 seconds\n",
    "        if trial_time > 1000:\n",
    "            break\n",
    "        num_trials = min(num_trials, math.ceil(10 / trial_time))\n",
    "        clear_output(wait=True)\n",
    "    return times\n",
    "\n",
    "# redefining this function will change the rule that the trials use\n",
    "def sim_params(n):\n",
    "    # returns init_config, rxns, vol\n",
    "    return {a: n // 2, b: n // 2}, approx_majority, n\n",
    "\n",
    "class gillespy2_trials:\n",
    "    def __init__(self, n):\n",
    "        self.model = pp.gillespy2_format(*sim_params(n))\n",
    "        self.model.timespan([0,end_time])\n",
    "    def run(self, num_trials):\n",
    "        self.model.run(number_of_trajectories=num_trials)\n",
    "\n",
    "class ppsim_trials:\n",
    "    def __init__(self, n):\n",
    "        self.sim = pp.Simulation(*sim_params(n)[0:2])\n",
    "    def run(self, num_trials):\n",
    "        self.sim.sample_future_configuration(end_time, num_trials)\n",
    "        \n",
    "# In order to run stochkit_trials, need a stochkit package in the environment variable STOCHKIT_HOME\n",
    "class stochkit_trials:\n",
    "    def __init__(self, n):\n",
    "        # save to build folder, which is in .gitignore\n",
    "        self.filename = 'build/stochkit_trial.xml'\n",
    "        init_config, rxns, vol = sim_params(n)\n",
    "        pp.write_stochkit_file(self.filename, *sim_params(n))\n",
    "        self.cmd = os.path.join(os.environ['STOCHKIT_HOME'], 'ssa')\n",
    "    def run(self, num_trials):\n",
    "        self.cmd += ' -m ' + self.filename + ' -r ' + str(num_trials) + ' -t ' + str(end_time) + ' -f'\n",
    "        os.system(self.cmd)"
   ]
  },
  {
   "cell_type": "code",
   "execution_count": 42,
   "metadata": {
    "tags": []
   },
   "outputs": [],
   "source": [
    "# # Code that was used to generate the data, which was saved with pickle\n",
    "# ns = [int(n) for n in np.geomspace(10 ** 1, 10 ** 12, 23)]\n",
    "# end_time = 10\n",
    "# num_trials = 1000\n",
    "# methods = [ppsim_trials, gillespy2_trials, stochkit_trials]\n",
    "# method_times2 = [time_trials(method, ns) for method in methods]\n",
    "# pickle.dump(method_times, open( \"crn_data/am_runtimes.p\", \"wb\" ) )"
   ]
  },
  {
   "cell_type": "code",
   "execution_count": 47,
   "metadata": {},
   "outputs": [
    {
     "data": {
      "application/vnd.jupyter.widget-view+json": {
       "model_id": "6ca145c2c6d943c0b663c8cf8471af57",
       "version_major": 2,
       "version_minor": 0
      },
      "text/plain": [
       "Canvas(toolbar=Toolbar(toolitems=[('Home', 'Reset original view', 'home', 'home'), ('Back', 'Back to previous …"
      ]
     },
     "metadata": {},
     "output_type": "display_data"
    }
   ],
   "source": [
    "# load the pickled data to plot\n",
    "method_times = pickle.load( open( \"crn_data/am_runtimes.p\", \"rb\" ))\n",
    "fig = plt.figure()\n",
    "for times in method_times:\n",
    "    plt.plot(ns[2:len(times)], times[2:])\n",
    "plt.xscale('log')\n",
    "plt.yscale('log')\n",
    "plt.xlabel('population size')\n",
    "plt.ylabel('running time (s)')\n",
    "plt.xticks(ns[2::2])\n",
    "plt.title('Average running time to run approximate majority to time 10')\n",
    "plt.legend(['ppsim', 'GillesPy2', 'StochKit2'])\n",
    "plt.grid()"
   ]
  },
  {
   "cell_type": "code",
   "execution_count": 48,
   "metadata": {},
   "outputs": [],
   "source": [
    "plt.savefig('crn_data/am3.svg')"
   ]
  },
  {
   "cell_type": "markdown",
   "metadata": {},
   "source": [
    "The runtime plots are reflecting that Gillespie has $O(n)$ runtime (roughly slope 1 on log-log plot), wheras ``ppsim`` has $O(\\sqrt{n})$ runtime (roughly slope 1/2 on log-log plot).\n",
    "\n",
    "Using ``ppsim``, we are able to simulate populations into the trillions. This approximate majority protocol has been implemented experimentally by DNA strand displacement in [this paper](https://pubmed.ncbi.nlm.nih.gov/24077029/). We can set the approximate majority rate constants to be effective rate constants from the paper, and using the concentration 80 nM from the paper in a volume of 1 microliter, we have a system of nearly $10^{11}$ molecules, which can be ``ppsim`` can handle."
   ]
  },
  {
   "cell_type": "code",
   "execution_count": 18,
   "metadata": {
    "pycharm": {
     "name": "#%%\n"
    },
    "tags": []
   },
   "outputs": [
    {
     "data": {
      "application/vnd.jupyter.widget-view+json": {
       "model_id": "ef1b27f70e5248068f75c121d635005c",
       "version_major": 2,
       "version_minor": 0
      },
      "text/plain": [
       "Canvas(toolbar=Toolbar(toolitems=[('Home', 'Reset original view', 'home', 'home'), ('Back', 'Back to previous …"
      ]
     },
     "metadata": {},
     "output_type": "display_data"
    },
    {
     "data": {
      "text/plain": [
       "Text(0.5, 1.0, 'approximate majority, experimental conditions')"
      ]
     },
     "execution_count": 18,
     "metadata": {},
     "output_type": "execute_result"
    }
   ],
   "source": [
    "# CRN for approximate majority\n",
    "k1,k2,k3 = 9028, 2945, 1815\n",
    "total_concentration = 80 * 1e-9 # 1x volume was 80 nM\n",
    "vol = 1e-6 # 1 uL\n",
    "n = pp.concentration_to_count(total_concentration, vol)\n",
    "approx_majority_rates = [\n",
    "    (a+b >> 2*u).k(k1, units=pp.RateConstantUnits.mass_action),\n",
    "    (a+u >> 2*a).k(k2, units=pp.RateConstantUnits.mass_action),\n",
    "    (b+u >> 2*b).k(k3, units=pp.RateConstantUnits.mass_action),\n",
    "]\n",
    "# set the initial concentrations near where the the mass-action CRN would reach an unstable equilibrium\n",
    "p = 0.45\n",
    "init_config = {a: int(p*n), b: int((1-p)*n)}\n",
    "# d = int(n / (k1 + k2 + k3))\n",
    "# init_config = {a: k3 * d, b: k2 * d, u: k1* d}\n",
    "sim = pp.Simulation(init_config, approx_majority_rates, volume=vol, time_units='seconds')\n",
    "hp = pp.HistoryPlotter()\n",
    "sim.add_snapshot(hp)"
   ]
  },
  {
   "cell_type": "code",
   "execution_count": 25,
   "metadata": {},
   "outputs": [
    {
     "data": {
      "text/plain": [
       "Text(59.794445951779686, 0.5, 'count')"
      ]
     },
     "execution_count": 25,
     "metadata": {},
     "output_type": "execute_result"
    }
   ],
   "source": [
    "%time sim.run()\n",
    "hp.ax.set_title('approximate majority, experimental conditions')\n",
    "hp.ax.set_ylabel('count')"
   ]
  },
  {
   "cell_type": "markdown",
   "metadata": {},
   "source": [
    "# Large State Speed Tests\n",
    "\n",
    "We will now see how `ppsim`'s running time scales with the number of states. Our first example CRN will be a chain of unimolecular decay, where each of `m` states decays into the next."
   ]
  },
  {
   "cell_type": "code",
   "execution_count": 75,
   "metadata": {},
   "outputs": [
    {
     "name": "stdout",
     "output_type": "stream",
     "text": [
      " Time: 24.500\n"
     ]
    },
    {
     "data": {
      "application/vnd.jupyter.widget-view+json": {
       "model_id": "db3a345735054922b8d8b1dee3d3bf9f",
       "version_major": 2,
       "version_minor": 0
      },
      "text/plain": [
       "Canvas(toolbar=Toolbar(toolitems=[('Home', 'Reset original view', 'home', 'home'), ('Back', 'Back to previous …"
      ]
     },
     "metadata": {},
     "output_type": "display_data"
    },
    {
     "data": {
      "text/plain": [
       "Text(0.5, 1.0, 'unimolecular decay')"
      ]
     },
     "execution_count": 75,
     "metadata": {},
     "output_type": "execute_result"
    }
   ],
   "source": [
    "def get_unimolecular_chain(m):\n",
    "    # create reactions with m species s0, ..., s(m-1)\n",
    "    states = pp.species(' '.join([str(i) for i in range(m)]))\n",
    "    rxns = [states[i] >> states[i+1] for i in range(m-1)]\n",
    "    return states, rxns\n",
    "states, rxns = get_unimolecular_chain(10)\n",
    "n = 10 ** 4\n",
    "sim = pp.Simulation({states[0]: n}, rxns)\n",
    "sim.run(history_interval=0.1)\n",
    "sim.history.plot()\n",
    "plt.ylabel('count')\n",
    "plt.yscale('symlog')\n",
    "plt.ylim(0, 2*n)\n",
    "plt.title('unimolecular decay')"
   ]
  },
  {
   "cell_type": "markdown",
   "metadata": {},
   "source": [
    "The plot with time on a linear scale and counts on a log scale shows each state successively decaying exponentially to 0.\n",
    "\n",
    "We will compare ppsim with StochKit2, at a fixed population size $n = 10^4$ where they had comparable times with 3-state approximate majority. Unlike in the above plot, the initial configuration will be a uniform mix of all `m` states. This is to ensure that we can test for a fixed amount of time and have all reactions be active simulatenously."
   ]
  },
  {
   "cell_type": "code",
   "execution_count": 65,
   "metadata": {},
   "outputs": [],
   "source": [
    "n = 10 ** 4\n",
    "end_time = 10\n",
    "\n",
    "def sim_params(m):\n",
    "    # returns init_config, rxns, vol\n",
    "    states, rxns = get_unimolecular_chain(m)\n",
    "    return {state:n // m for state in states}, rxns, n"
   ]
  },
  {
   "cell_type": "code",
   "execution_count": 66,
   "metadata": {},
   "outputs": [
    {
     "name": "stdout",
     "output_type": "stream",
     "text": [
      "n = 1.00E+03\n"
     ]
    }
   ],
   "source": [
    "# Code that was used to generate the data, which was saved with pickle\n",
    "ms = [int(m) for m in np.linspace(2, 1000, 20)]\n",
    "methods = [ppsim_trials, stochkit_trials]\n",
    "method_times = [time_trials(method, ms, num_trials=100) for method in methods]\n",
    "pickle.dump(method_times, open( \"crn_data/unimolecular_runtimes.p\", \"wb\" ) )"
   ]
  },
  {
   "cell_type": "code",
   "execution_count": 70,
   "metadata": {},
   "outputs": [
    {
     "data": {
      "application/vnd.jupyter.widget-view+json": {
       "model_id": "b9eb2ecf025b4c3aac1621051950c038",
       "version_major": 2,
       "version_minor": 0
      },
      "text/plain": [
       "Canvas(toolbar=Toolbar(toolitems=[('Home', 'Reset original view', 'home', 'home'), ('Back', 'Back to previous …"
      ]
     },
     "metadata": {},
     "output_type": "display_data"
    }
   ],
   "source": [
    "# load the pickled data to plot\n",
    "method_times = pickle.load( open( \"crn_data/unimolecular_runtimes.p\", \"rb\" ))\n",
    "fig = plt.figure()\n",
    "for times in method_times:\n",
    "    plt.plot(ms[:len(times)], times)\n",
    "# plt.xscale('log')\n",
    "# plt.yscale('log')\n",
    "plt.xlabel('number of states')\n",
    "plt.ylabel('running time (s)')\n",
    "plt.title('Average running time for unimolecular chain, n = 10^4')\n",
    "plt.legend(['ppsim', 'StochKit2'])\n",
    "plt.grid()"
   ]
  },
  {
   "cell_type": "code",
   "execution_count": 76,
   "metadata": {},
   "outputs": [],
   "source": [
    "plt.savefig('crn_data/unimolecular1.svg')"
   ]
  },
  {
   "cell_type": "markdown",
   "metadata": {},
   "source": [
    "Next we will look at a chain where each reaction is bimolecular."
   ]
  },
  {
   "cell_type": "code",
   "execution_count": 89,
   "metadata": {},
   "outputs": [
    {
     "name": "stdout",
     "output_type": "stream",
     "text": [
      " Time: 115722.100\n"
     ]
    },
    {
     "data": {
      "application/vnd.jupyter.widget-view+json": {
       "model_id": "db619ba06ebd4df5bb9cc421e0fea69a",
       "version_major": 2,
       "version_minor": 0
      },
      "text/plain": [
       "Canvas(toolbar=Toolbar(toolitems=[('Home', 'Reset original view', 'home', 'home'), ('Back', 'Back to previous …"
      ]
     },
     "metadata": {},
     "output_type": "display_data"
    },
    {
     "data": {
      "text/plain": [
       "Text(0.5, 1.0, 'bimolecular decay')"
      ]
     },
     "execution_count": 89,
     "metadata": {},
     "output_type": "execute_result"
    }
   ],
   "source": [
    "def get_bimolecular_chain(m):\n",
    "    # create reactions with m species s0, ..., s(m-1)\n",
    "    states = pp.species(' '.join([str(i) for i in range(m)]))\n",
    "    rxns = [2*states[i] >> states[i] + states[i+1] for i in range(m-1)]\n",
    "    return states, rxns\n",
    "states, rxns = get_bimolecular_chain(10)\n",
    "sim = pp.Simulation({states[0]: n}, rxns)\n",
    "# Setting history_interval to be a function lets the recorded timesteps be evenly spaced on a log plot\n",
    "sim.run(history_interval=lambda t: 10 ** len(str(int(t))) / 100)\n",
    "sim.history.plot()\n",
    "plt.xscale('symlog')\n",
    "plt.xlim(0, sim.times[-1])\n",
    "plt.yscale('symlog')\n",
    "plt.ylabel('count')\n",
    "plt.ylim(0, 2*n)\n",
    "plt.title('bimolecular decay')"
   ]
  },
  {
   "cell_type": "markdown",
   "metadata": {},
   "source": [
    "Now a plot with time and counts on a log scale shows that each state successive decays polynomially to 0. Because `ppsim` dynamically switches to Gillespie's algorithm when the number of null interactions gets very high, it can quickly go out to large times if the system is waiting on a small number of reactions to complete."
   ]
  },
  {
   "cell_type": "code",
   "execution_count": 103,
   "metadata": {},
   "outputs": [],
   "source": [
    "n = 10 ** 4\n",
    "end_time = 100\n",
    "\n",
    "def sim_params(m):\n",
    "    # returns init_config, rxns, vol\n",
    "    states, rxns = get_bimolecular_chain(m)\n",
    "    return {state:n // m for state in states}, rxns, n"
   ]
  },
  {
   "cell_type": "code",
   "execution_count": 104,
   "metadata": {},
   "outputs": [
    {
     "name": "stdout",
     "output_type": "stream",
     "text": [
      "n = 1.00E+03\n"
     ]
    }
   ],
   "source": [
    "# Code that was used to generate the data, which was saved with pickle\n",
    "ms = [int(m) for m in np.linspace(2, 1000, 20)]\n",
    "methods = [ppsim_trials, stochkit_trials]\n",
    "method_times = [time_trials(method, ms, num_trials=100) for method in methods]\n",
    "pickle.dump(method_times, open( \"crn_data/bimolecular_runtimes.p\", \"wb\" ) )"
   ]
  },
  {
   "cell_type": "code",
   "execution_count": 118,
   "metadata": {},
   "outputs": [
    {
     "data": {
      "application/vnd.jupyter.widget-view+json": {
       "model_id": "375a2bb86c8e4ee1868ef08e40481792",
       "version_major": 2,
       "version_minor": 0
      },
      "text/plain": [
       "Canvas(toolbar=Toolbar(toolitems=[('Home', 'Reset original view', 'home', 'home'), ('Back', 'Back to previous …"
      ]
     },
     "metadata": {},
     "output_type": "display_data"
    }
   ],
   "source": [
    "# load the pickled data to plot\n",
    "method_times = pickle.load( open( \"crn_data/bimolecular_runtimes.p\", \"rb\" ))\n",
    "ms = [int(m) for m in np.linspace(2, 1000, 20)]\n",
    "fig = plt.figure()\n",
    "for times in method_times:\n",
    "    plt.plot(ms[:len(times)], times)\n",
    "# plt.xscale('log')\n",
    "# plt.yscale('log')\n",
    "plt.xlabel('number of states')\n",
    "plt.ylabel('running time (s)')\n",
    "plt.title('Average running time for bimolecular chain, n = 10^4')\n",
    "plt.legend(['ppsim', 'StochKit2'])\n",
    "plt.grid()"
   ]
  },
  {
   "cell_type": "code",
   "execution_count": 123,
   "metadata": {},
   "outputs": [],
   "source": [
    "def get_discrete_averaging(m):\n",
    "    # create reactions with m species s0, ..., s(m-1)\n",
    "    states = pp.species(' '.join([str(i) for i in range(m)]))\n",
    "    rxns = []\n",
    "    for i in range(m):\n",
    "        for j in range(i):\n",
    "            avg = (i + j) / 2\n",
    "            rxns.append(states[i] + states[j] >> states[math.floor(avg)] + states[math.ceil(avg)])\n",
    "    return states, rxns"
   ]
  },
  {
   "cell_type": "code",
   "execution_count": 124,
   "metadata": {},
   "outputs": [],
   "source": [
    "n = 10 ** 4\n",
    "end_time = 10\n",
    "\n",
    "def sim_params(m):\n",
    "    # returns init_config, rxns, vol\n",
    "    states, rxns = get_discrete_averaging(m)\n",
    "    return {states[0]: n // 2, states[m-1]: n // 2}, rxns, n"
   ]
  },
  {
   "cell_type": "code",
   "execution_count": 125,
   "metadata": {},
   "outputs": [
    {
     "name": "stdout",
     "output_type": "stream",
     "text": [
      "n = 5.27E+02\n"
     ]
    }
   ],
   "source": [
    "# Code that was used to generate the data, which was saved with pickle\n",
    "ms = [int(m) for m in np.linspace(3, 1000, 20)]\n",
    "\n",
    "methods = [ppsim_trials, stochkit_trials]\n",
    "method_times = [time_trials(method, ms, num_trials=100) for method in methods]\n",
    "pickle.dump(method_times, open( \"crn_data/discrete_averaging_runtimes.p\", \"wb\" ) )"
   ]
  },
  {
   "cell_type": "code",
   "execution_count": 110,
   "metadata": {},
   "outputs": [
    {
     "data": {
      "application/vnd.jupyter.widget-view+json": {
       "model_id": "32c0993841f14bef813778d133d9cd1f",
       "version_major": 2,
       "version_minor": 0
      },
      "text/plain": [
       "Canvas(toolbar=Toolbar(toolitems=[('Home', 'Reset original view', 'home', 'home'), ('Back', 'Back to previous …"
      ]
     },
     "metadata": {},
     "output_type": "display_data"
    }
   ],
   "source": [
    "# load the pickled data to plot\n",
    "method_times = pickle.load( open( \"crn_data/discrete_averaging_runtimes.p\", \"rb\" ))\n",
    "fig = plt.figure()\n",
    "for times in method_times:\n",
    "    plt.plot(ms[:len(times)], times)\n",
    "# plt.xscale('log')\n",
    "# plt.yscale('log')\n",
    "plt.xlabel('number of states')\n",
    "plt.ylabel('running time (s)')\n",
    "plt.title('Average running time for discrete averaging, n = 10^4')\n",
    "plt.legend(['ppsim', 'StochKit2'])\n",
    "plt.grid()"
   ]
  },
  {
   "cell_type": "markdown",
   "metadata": {},
   "source": [
    "# RPS Oscillator"
   ]
  },
  {
   "cell_type": "code",
   "execution_count": 111,
   "metadata": {},
   "outputs": [],
   "source": [
    "# CRN for rps oscillator\n",
    "k1,k2,k3 = 1, 1, 1\n",
    "a,b,c = pp.species('A B C')\n",
    "rps = [\n",
    "    (b+a >> 2*b).k(k1),\n",
    "    (c+b >> 2*c).k(k2),\n",
    "    (a+c >> 2*a).k(k3),\n",
    "]"
   ]
  },
  {
   "cell_type": "code",
   "execution_count": 112,
   "metadata": {},
   "outputs": [
    {
     "name": "stdout",
     "output_type": "stream",
     "text": [
      " Time: 100.000\n"
     ]
    },
    {
     "data": {
      "application/vnd.jupyter.widget-view+json": {
       "model_id": "afd603aa1fbd4663bef86138c882ef78",
       "version_major": 2,
       "version_minor": 0
      },
      "text/plain": [
       "Canvas(toolbar=Toolbar(toolitems=[('Home', 'Reset original view', 'home', 'home'), ('Back', 'Back to previous …"
      ]
     },
     "metadata": {},
     "output_type": "display_data"
    },
    {
     "data": {
      "text/plain": [
       "Text(0.5, 1.0, 'rps oscillator')"
      ]
     },
     "execution_count": 112,
     "metadata": {},
     "output_type": "execute_result"
    }
   ],
   "source": [
    "n = 10 ** 10\n",
    "dist = [0.3, 0.3, 0.4]\n",
    "init_config = {a: n * dist[0], b: n * dist[1], c: n * dist[2]}\n",
    "sim = pp.Simulation(init_config, rps)\n",
    "sim.run(100, 0.1)\n",
    "sim.history.plot(figsize = (6,4))\n",
    "plt.title('rps oscillator')"
   ]
  },
  {
   "cell_type": "code",
   "execution_count": 113,
   "metadata": {},
   "outputs": [
    {
     "name": "stdout",
     "output_type": "stream",
     "text": [
      " Time: 833.405\r"
     ]
    },
    {
     "ename": "KeyboardInterrupt",
     "evalue": "",
     "output_type": "error",
     "traceback": [
      "\u001b[1;31m---------------------------------------------------------------------------\u001b[0m",
      "\u001b[1;31mKeyboardInterrupt\u001b[0m                         Traceback (most recent call last)",
      "\u001b[1;32m<ipython-input-113-f4434fa559c4>\u001b[0m in \u001b[0;36m<module>\u001b[1;34m\u001b[0m\n\u001b[1;32m----> 1\u001b[1;33m \u001b[0msim\u001b[0m\u001b[1;33m.\u001b[0m\u001b[0mrun\u001b[0m\u001b[1;33m(\u001b[0m\u001b[1;33m)\u001b[0m\u001b[1;33m\u001b[0m\u001b[1;33m\u001b[0m\u001b[0m\n\u001b[0m\u001b[0;32m      2\u001b[0m \u001b[0mplt\u001b[0m\u001b[1;33m.\u001b[0m\u001b[0mfigure\u001b[0m\u001b[1;33m(\u001b[0m\u001b[1;33m)\u001b[0m\u001b[1;33m\u001b[0m\u001b[1;33m\u001b[0m\u001b[0m\n\u001b[0;32m      3\u001b[0m \u001b[0msim\u001b[0m\u001b[1;33m.\u001b[0m\u001b[0mhistory\u001b[0m\u001b[1;33m[\u001b[0m\u001b[1;34m'A'\u001b[0m\u001b[1;33m]\u001b[0m\u001b[1;33m.\u001b[0m\u001b[0mplot\u001b[0m\u001b[1;33m(\u001b[0m\u001b[0mfigsize\u001b[0m \u001b[1;33m=\u001b[0m \u001b[1;33m(\u001b[0m\u001b[1;36m6\u001b[0m\u001b[1;33m,\u001b[0m\u001b[1;36m4\u001b[0m\u001b[1;33m)\u001b[0m\u001b[1;33m)\u001b[0m\u001b[1;33m\u001b[0m\u001b[1;33m\u001b[0m\u001b[0m\n\u001b[0;32m      4\u001b[0m \u001b[0mplt\u001b[0m\u001b[1;33m.\u001b[0m\u001b[0mtitle\u001b[0m\u001b[1;33m(\u001b[0m\u001b[1;34m'rps oscillator'\u001b[0m\u001b[1;33m)\u001b[0m\u001b[1;33m\u001b[0m\u001b[1;33m\u001b[0m\u001b[0m\n",
      "\u001b[1;32m~\\PycharmProjects\\population-protocols-python-package\\ppsim\\simulation.py\u001b[0m in \u001b[0;36mrun\u001b[1;34m(self, run_until, history_interval, stopping_interval, timer)\u001b[0m\n\u001b[0;32m    446\u001b[0m                 \u001b[0mt\u001b[0m \u001b[1;33m=\u001b[0m \u001b[0mmin\u001b[0m\u001b[1;33m(\u001b[0m\u001b[0mt\u001b[0m\u001b[1;33m,\u001b[0m \u001b[0mend_time\u001b[0m\u001b[1;33m)\u001b[0m\u001b[1;33m\u001b[0m\u001b[1;33m\u001b[0m\u001b[0m\n\u001b[0;32m    447\u001b[0m             \u001b[1;32mreturn\u001b[0m \u001b[0mt\u001b[0m\u001b[1;33m\u001b[0m\u001b[1;33m\u001b[0m\u001b[0m\n\u001b[1;32m--> 448\u001b[1;33m \u001b[1;33m\u001b[0m\u001b[0m\n\u001b[0m\u001b[0;32m    449\u001b[0m         \u001b[0mnext_time\u001b[0m \u001b[1;33m=\u001b[0m \u001b[0mget_next_time\u001b[0m\u001b[1;33m(\u001b[0m\u001b[1;33m)\u001b[0m\u001b[1;33m\u001b[0m\u001b[1;33m\u001b[0m\u001b[0m\n\u001b[0;32m    450\u001b[0m         \u001b[1;31m# The next step that the simulator will be run until, which corresponds to parallel time next_time\u001b[0m\u001b[1;33m\u001b[0m\u001b[1;33m\u001b[0m\u001b[1;33m\u001b[0m\u001b[0m\n",
      "\u001b[1;31mKeyboardInterrupt\u001b[0m: "
     ]
    }
   ],
   "source": [
    "sim.run()\n",
    "plt.figure()\n",
    "sim.history['A'].plot(figsize = (6,4))\n",
    "plt.title('rps oscillator')"
   ]
  },
  {
   "cell_type": "code",
   "execution_count": null,
   "metadata": {},
   "outputs": [],
   "source": [
    "n = 10 ** 10\n",
    "init_config = {a: n // 3, b: n // 3, c: n // 3}\n",
    "sim = pp.Simulation(init_config, rps)"
   ]
  },
  {
   "cell_type": "code",
   "execution_count": null,
   "metadata": {},
   "outputs": [],
   "source": [
    "hp=pp.HistoryPlotter(update_time = 1)\n",
    "sim.add_snapshot(hp)"
   ]
  },
  {
   "cell_type": "code",
   "execution_count": null,
   "metadata": {},
   "outputs": [],
   "source": [
    "sim.run(history_interval = 0.1)"
   ]
  },
  {
   "cell_type": "code",
   "execution_count": null,
   "metadata": {},
   "outputs": [],
   "source": [
    "class RPS(gillespy2.Model):\n",
    "     def __init__(self, n):\n",
    "            #initialize Model\n",
    "            gillespy2.Model.__init__(self, name=\"RPS_Oscillator\")\n",
    "            \n",
    "            self.volume = n\n",
    "            \n",
    "            rate1 = gillespy2.Parameter(name='rate1', expression= k1)\n",
    "            rate2 = gillespy2.Parameter(name='rate2', expression= k2)\n",
    "            rate3 = gillespy2.Parameter(name='rate3', expression = k3)\n",
    "            \n",
    "            # Add parameters to the model\n",
    "            self.add_parameter([rate1,rate2,rate3])\n",
    "            \n",
    "            A = gillespy2.Species(name='A', initial_value= n * dist[0])\n",
    "            B = gillespy2.Species(name='B', initial_value= n * dist[1])\n",
    "            C = gillespy2.Species(name='C', initial_value= n * dist[2])\n",
    "            \n",
    "            # Add species to the model\n",
    "            self.add_species([A, B, C])\n",
    "            \n",
    "            r1 = gillespy2.Reaction(name=\"r1\",reactants={A:1,B:1}, products={B:2},\n",
    "                   rate=rate1)\n",
    "            \n",
    "            r2 = gillespy2.Reaction(name=\"r2\",reactants={B:1, C:1}, products={C:2},\n",
    "                    rate=rate2)\n",
    "            \n",
    "            r3 = gillespy2.Reaction(name=\"r3\",reactants={A:1, C:1}, products={A:2},\n",
    "                    rate=rate3)\n",
    "            \n",
    "            # Add reactions to the model\n",
    "            self.add_reaction([r1,r2,r3])\n",
    "            \n",
    "            # Set timespan of model\n",
    "            self.timespan(np.linspace(0,1000,10000))"
   ]
  },
  {
   "cell_type": "code",
   "execution_count": null,
   "metadata": {},
   "outputs": [],
   "source": [
    "from mpl_toolkits.mplot3d.art3d import Poly3DCollection\n",
    "model = RPS(n)\n",
    "results=model.run()\n",
    "results.plot(figsize = (6, 4))\n",
    "\n",
    "def phase_plot(results):\n",
    "    ax = plt.figure().add_subplot(projection='3d')\n",
    "    verts = [[n,0,0],[0,n,0],[0,0,n]]\n",
    "    simplex = Poly3DCollection(verts, edgecolors='k', facecolors='w', alpha=0.1)\n",
    "    ax.add_collection3d(simplex)\n",
    "\n",
    "    ax.plot(results['A'], results['B'], results['C'], lw=0.5)\n",
    "    ax.set_xlabel('A')\n",
    "    ax.set_ylabel('B')\n",
    "    ax.set_zlabel('C')\n",
    "    ax.set_xlim(0, n)\n",
    "    ax.set_ylim(0, n)\n",
    "    ax.set_zlim(0, n)\n",
    "    ax.set_title(\"rps oscillator\")\n",
    "    ax.grid(False)\n",
    "    \n",
    "    ax.scatter(results['A'][0], results['B'][0], results['C'][0], c='g', edgecolor='k')\n",
    "    ax.scatter(results['A'][-1], results['B'][-1], results['C'][-1], c='r', edgecolor='k')\n",
    "    plt.show()\n",
    "    return(ax)\n",
    "    \n",
    "ax = phase_plot(results)"
   ]
  },
  {
   "cell_type": "code",
   "execution_count": null,
   "metadata": {},
   "outputs": [],
   "source": [
    "model = RPS(n)\n",
    "results=model.run(solver=gillespy2.TauLeapingSolver)\n",
    "results.plot(figsize = (6, 4))\n",
    "ax = phase_plot(results)\n",
    "ax.set_title(\"rps oscillator with tau-leaping\")"
   ]
  },
  {
   "cell_type": "code",
   "execution_count": null,
   "metadata": {},
   "outputs": [],
   "source": [
    "# For some reason gillespy2.ODESolver doesn't work\n",
    "# model = RPS(3)\n",
    "# model.timespan(np.linspace(0,200,2000))\n",
    "results=model.run(solver=gillespy2.ODESolver)\n",
    "results.plot(figsize = (6, 4))\n",
    "ax = plt.figure().add_subplot(projection='3d')\n",
    "ax.plot(results['A'], results['B'], results['C'])\n",
    "ax.set_xlabel('A')\n",
    "ax.set_ylabel('B')\n",
    "ax.set_zlabel('C')\n",
    "ax.set_title(\"rps oscillator\")\n",
    "plt.show()"
   ]
  }
 ],
 "metadata": {
  "kernelspec": {
   "display_name": "Python 3",
   "language": "python",
   "name": "python3"
  },
  "language_info": {
   "codemirror_mode": {
    "name": "ipython",
    "version": 3
   },
   "file_extension": ".py",
   "mimetype": "text/x-python",
   "name": "python",
   "nbconvert_exporter": "python",
   "pygments_lexer": "ipython3",
   "version": "3.7.3"
  }
 },
 "nbformat": 4,
 "nbformat_minor": 4
}
