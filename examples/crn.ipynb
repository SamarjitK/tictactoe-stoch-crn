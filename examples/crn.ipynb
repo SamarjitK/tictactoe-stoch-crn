{
 "cells": [
  {
   "cell_type": "code",
   "execution_count": 1,
   "metadata": {
    "collapsed": false,
    "jupyter": {
     "outputs_hidden": false
    },
    "pycharm": {
     "name": "#%%\n"
    }
   },
   "outputs": [],
   "source": [
    "import imp\n",
    "import ppsim as pp\n",
    "imp.reload(pp)\n",
    "from dataclasses import dataclass\n",
    "import dataclasses\n",
    "import numpy as np\n",
    "from matplotlib import pyplot as plt\n",
    "import pickle\n",
    "\n",
    "import ipywidgets as widgets"
   ]
  },
  {
   "cell_type": "markdown",
   "metadata": {},
   "source": [
    "# CRN (chemical reaction network) notation for specifying protocols\n",
    "\n"
   ]
  },
  {
   "cell_type": "code",
   "execution_count": 7,
   "metadata": {
    "collapsed": false,
    "jupyter": {
     "outputs_hidden": false
    },
    "pycharm": {
     "name": "#%%\n"
    }
   },
   "outputs": [],
   "source": [
    "# CRN for approximate majority\n",
    "a,b,u = pp.species('A B U')\n",
    "approx_majority = [\n",
    "    a+b >> 2*u,\n",
    "    a+u >> 2*a,\n",
    "    b+u >> 2*b,\n",
    "]"
   ]
  },
  {
   "cell_type": "code",
   "execution_count": 4,
   "metadata": {},
   "outputs": [
    {
     "name": "stdout",
     "output_type": "stream",
     "text": [
      " Time: 24.400\n"
     ]
    },
    {
     "data": {
      "text/plain": [
       "(0.0, 100000.0)"
      ]
     },
     "execution_count": 4,
     "metadata": {},
     "output_type": "execute_result"
    },
    {
     "data": {
      "image/png": "[encoded data removed]",
      "text/plain": [
       "<Figure size 432x288 with 1 Axes>"
      ]
     },
     "metadata": {
      "needs_background": "light"
     },
     "output_type": "display_data"
    }
   ],
   "source": [
    "n = 10 ** 5\n",
    "init_config = {a: 0.51*n, b: 0.49*n}\n",
    "sim = pp.Simulation(init_config, approx_majority)\n",
    "sim.run(history_interval=0.1)\n",
    "sim.history.plot()\n",
    "plt.title('approximate majority protocol')\n",
    "plt.xlim(0, sim.times[-1])\n",
    "plt.ylim(0, n)"
   ]
  },
  {
   "cell_type": "markdown",
   "metadata": {},
   "source": [
    "# DSD oscillator \n",
    "\n",
    "Below is an implementation of a rock-paper-scissors (RPS) oscillator using DNA strand displacement. The \"formal\" CRN for the RPS oscillator is A+B &rarr; 2B, B+C &rarr; 2C, C+A &rarr; 2A. Wach reaction implemented by 8 lower-level reactions describing DNA interactions. For details, see Fig. 1 in http://dx.doi.org/10.1126/science.aal2052 (bioRxiv verion: https://www.biorxiv.org/content/10.1101/138420v2)."
   ]
  },
  {
   "cell_type": "code",
   "execution_count": 6,
   "metadata": {},
   "outputs": [],
   "source": [
    "from ppsim import species\n",
    "# Fig. 1 in https://www.biorxiv.org/content/10.1101/138420v2.full.pdf\n",
    "# A+B --> 2B\n",
    "# B+C --> 2C\n",
    "# C+A --> 2A\n",
    "\n",
    "# implementation formal species\n",
    "b1, b2, c1, c2, a1, a2 = species('b1 b2 c1 c2 a1 a2')\n",
    "\n",
    "# fuel species\n",
    "react_a_b_b1, back_a_b, produce_b_b1_b2, helper_b_b2 = species('react_a_b_b1   back_a_b   produce_b_b1_b2   helper_b_b2')\n",
    "react_b_c_c1, back_b_c, produce_c_c1_c2, helper_c_c2 = species('react_b_c_c1   back_b_c   produce_c_c1_c2   helper_c_c2')\n",
    "react_c_a_a1, back_c_a, produce_a_a1_a2, helper_a_a2 = species('react_c_a_a1   back_c_a   produce_a_a1_a2   helper_a_a2')\n",
    "    \n",
    "# intermediate species\n",
    "flux_b_b1, flux_c_c1, flux_a_a1 = species('flux_b_b1   flux_c_c1   flux_a_a1')\n",
    "reactint_a1_b_b1, reactint_b1_c_c1, reactint_c1_a_a1 = species('reactint_a1_b_b1 reactint_b1_c_c1 reactint_c1_a_a1') \n",
    "reactint_a2_b_b1, reactint_b2_c_c1, reactint_c2_a_a1 = species('reactint_a2_b_b1 reactint_b2_c_c1 reactint_c2_a_a1') \n",
    "productint_b_b1_b2, productint_c_c1_c2, productint_a_a1_a2 = species('productint_b_b1_b2 productint_c_c1_c2 productint_a_a1_a2')\n",
    "helper_b_b2, helper_c_c2, helper_a_a2 = species('helper_b_b2 helper_c_c2 helper_a_a2')\n",
    "\n",
    "# waste species react step\n",
    "waste_a1_b1, waste_a1_b2, waste_a2_b1, waste_a2_b2 = species('waste_a1_b1 waste_a1_b2 waste_a2_b1 waste_a2_b2')\n",
    "waste_b1_c1, waste_b1_c2, waste_b2_c1, waste_b2_c2 = species('waste_b1_c1 waste_b1_c2 waste_b2_c1 waste_b2_c2')\n",
    "waste_c1_a1, waste_c1_a2, waste_c2_a1, waste_c2_a2 = species('waste_c1_a1 waste_c1_a2 waste_c2_a1 waste_c2_a2')\n",
    "# waste species product step\n",
    "waste_b_b1_b2, waste_c_c1_c2, waste_a_a1_a2 = species('waste_b_b1_b2   waste_c_c1_c2   waste_a_a1_a2')\n",
    "\n",
    "# DSD reactions implementing formal CRN\n",
    "# A+B --> 2B\n",
    "ab_react_rxns = [\n",
    "    a1 + react_a_b_b1 | back_a_b + reactint_a1_b_b1,\n",
    "    a2 + react_a_b_b1 | back_a_b + reactint_a2_b_b1,\n",
    "    reactint_a1_b_b1 + b1 >> waste_a1_b1 + flux_b_b1,\n",
    "    reactint_a1_b_b1 + b2 >> waste_a1_b2 + flux_b_b1,\n",
    "    reactint_a2_b_b1 + b1 >> waste_a2_b1 + flux_b_b1,\n",
    "    reactint_a2_b_b1 + b2 >> waste_a2_b2 + flux_b_b1,\n",
    "]\n",
    "ab_produce_rxns = [\n",
    "    flux_b_b1 + produce_b_b1_b2 | b1 + productint_b_b1_b2,\n",
    "    helper_b_b2 + productint_b_b1_b2 >> waste_b_b1_b2 + b2,\n",
    "]\n",
    "\n",
    "\n",
    "# B+C --> 2C\n",
    "\n",
    "\n",
    "# C+A --> 2A\n",
    "\n"
   ]
  }
 ],
 "metadata": {
  "kernelspec": {
   "display_name": "Python 3",
   "language": "python",
   "name": "python3"
  },
  "language_info": {
   "codemirror_mode": {
    "name": "ipython",
    "version": 3
   },
   "file_extension": ".py",
   "mimetype": "text/x-python",
   "name": "python",
   "nbconvert_exporter": "python",
   "pygments_lexer": "ipython3",
   "version": "3.7.9"
  }
 },
 "nbformat": 4,
 "nbformat_minor": 4
}
