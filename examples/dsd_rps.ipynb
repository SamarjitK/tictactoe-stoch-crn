{
 "cells": [
  {
   "cell_type": "code",
   "execution_count": 5,
   "metadata": {
    "collapsed": false,
    "jupyter": {
     "outputs_hidden": false
    },
    "pycharm": {
     "name": "#%%\n"
    }
   },
   "outputs": [],
   "source": [
    "import ppsim as pp\n",
    "from dataclasses import dataclass\n",
    "import dataclasses\n",
    "import numpy as np\n",
    "from matplotlib import pyplot as plt\n",
    "import pickle\n",
    "%matplotlib widget\n",
    "import ipywidgets as widgets"
   ]
  },
  {
   "cell_type": "markdown",
   "metadata": {},
   "source": [
    "# DSD oscillator \n",
    "\n",
    "Below is an implementation of a rock-paper-scissors (RPS) oscillator using DNA strand displacement. The \"formal\" CRN for the RPS oscillator is \n",
    "\n",
    "- A+B &rarr; 2B\n",
    "- B+C &rarr; 2C\n",
    "- C+A &rarr; 2A\n",
    "\n",
    "Each reaction is implemented by 8 lower-level reactions describing DNA interactions. For details, see Fig. 1 in http://dx.doi.org/10.1126/science.aal2052 (bioRxiv verion: https://www.biorxiv.org/content/10.1101/138420v2)."
   ]
  },
  {
   "cell_type": "code",
   "execution_count": 9,
   "metadata": {},
   "outputs": [],
   "source": [
    "from ppsim import species\n",
    "\n",
    "# Fig. 1 in https://www.biorxiv.org/content/10.1101/138420v2.full.pdf\n",
    "# A+B --> 2B\n",
    "# B+C --> 2C\n",
    "# C+A --> 2A\n",
    "\n",
    "# signal species (represent formal species in formal CRN above)\n",
    "# index indicates whether it was the first or second product of a previous reaction\n",
    "b1, b2, c1, c2, a1, a2 = species('b1  b2  c1  c2  a1  a2')\n",
    "\n",
    "signal_species = [b1, b2, c1, c2, a1, a2]\n",
    "\n",
    "# fuel species react step\n",
    "react_a_b_b1, back_a_b = species('react_a_b_b1  back_a_b')\n",
    "react_b_c_c1, back_b_c = species('react_b_c_c1  back_b_c')\n",
    "react_c_a_a1, back_c_a = species('react_c_a_a1  back_c_a')\n",
    "\n",
    "react_species = [react_a_b_b1, react_b_c_c1, react_c_a_a1]\n",
    "back_species = [back_a_b, back_b_c, back_c_a]\n",
    "\n",
    "# fuel species produce step\n",
    "produce_b_b1_b2, helper_b_b2 = species('produce_b_b1_b2  helper_b_b2')\n",
    "produce_c_c1_c2, helper_c_c2 = species('produce_c_c1_c2  helper_c_c2')\n",
    "produce_a_a1_a2, helper_a_a2 = species('produce_a_a1_a2  helper_a_a2')\n",
    "\n",
    "produce_species = [produce_b_b1_b2, produce_c_c1_c2, produce_a_a1_a2]\n",
    "helper_species = [helper_b_b2, helper_c_c2, helper_a_a2]\n",
    "fuel_species = react_species + produce_species\n",
    "\n",
    "# intermediate species\n",
    "flux_b_b1, flux_c_c1, flux_a_a1 = species('flux_b_b1  flux_c_c1  flux_a_a1')\n",
    "reactint_a1_b_b1, reactint_b1_c_c1, reactint_c1_a_a1 = species('reactint_a1_b_b1  reactint_b1_c_c1  reactint_c1_a_a1') \n",
    "reactint_a2_b_b1, reactint_b2_c_c1, reactint_c2_a_a1 = species('reactint_a2_b_b1  reactint_b2_c_c1  reactint_c2_a_a1') \n",
    "productint_b_b1_b2, productint_c_c1_c2, productint_a_a1_a2 = species('productint_b_b1_b2  productint_c_c1_c2  productint_a_a1_a2')\n",
    "\n",
    "flux_species = [flux_b_b1, flux_c_c1, flux_a_a1]\n",
    "reactint_species = [reactint_a1_b_b1, reactint_b1_c_c1, reactint_c1_a_a1,\n",
    "                    reactint_a2_b_b1, reactint_b2_c_c1, reactint_c2_a_a1]\n",
    "produceint_species = [productint_b_b1_b2, productint_c_c1_c2, productint_a_a1_a2]\n",
    "\n",
    "# waste species react step\n",
    "waste_a1_b1, waste_a1_b2, waste_a2_b1, waste_a2_b2 = species('waste_a1_b1  waste_a1_b2  waste_a2_b1  waste_a2_b2')\n",
    "waste_b1_c1, waste_b1_c2, waste_b2_c1, waste_b2_c2 = species('waste_b1_c1  waste_b1_c2  waste_b2_c1  waste_b2_c2')\n",
    "waste_c1_a1, waste_c1_a2, waste_c2_a1, waste_c2_a2 = species('waste_c1_a1  waste_c1_a2  waste_c2_a1  waste_c2_a2')\n",
    "\n",
    "# waste species produce step\n",
    "waste_b_b1_b2, waste_c_c1_c2, waste_a_a1_a2 = species('waste_b_b1_b2  waste_c_c1_c2  waste_a_a1_a2')\n",
    "\n",
    "waste_species = [waste_a1_b1, waste_a1_b2, waste_a2_b1, waste_a2_b2,\n",
    "                 waste_b1_c1, waste_b1_c2, waste_b2_c1, waste_b2_c2,\n",
    "                 waste_c1_a1, waste_c1_a2, waste_c2_a1, waste_c2_a2,\n",
    "                 waste_b_b1_b2, waste_c_c1_c2, waste_a_a1_a2]\n",
    "\n",
    "# DSD reactions implementing formal CRN\n",
    "# A+B --> 2B\n",
    "ab_react_rxns = [\n",
    "    a1 + react_a_b_b1 | back_a_b + reactint_a1_b_b1,\n",
    "    a2 + react_a_b_b1 | back_a_b + reactint_a2_b_b1,\n",
    "    reactint_a1_b_b1 + b1 >> waste_a1_b1 + flux_b_b1, # typo in Fig. 1; these rxns irreversible\n",
    "    reactint_a1_b_b1 + b2 >> waste_a1_b2 + flux_b_b1, #\n",
    "    reactint_a2_b_b1 + b1 >> waste_a2_b1 + flux_b_b1, #\n",
    "    reactint_a2_b_b1 + b2 >> waste_a2_b2 + flux_b_b1, #\n",
    "]\n",
    "ab_produce_rxns = [\n",
    "    flux_b_b1 + produce_b_b1_b2 | b1 + productint_b_b1_b2,\n",
    "    helper_b_b2 + productint_b_b1_b2 >> waste_b_b1_b2 + b2,\n",
    "]\n",
    "ab_rxns = ab_react_rxns + ab_produce_rxns\n",
    "\n",
    "# B+C --> 2C\n",
    "bc_react_rxns = [\n",
    "    b1 + react_b_c_c1 | back_b_c + reactint_b1_c_c1,\n",
    "    b2 + react_b_c_c1 | back_b_c + reactint_b2_c_c1,\n",
    "    reactint_b1_c_c1 + c1 >> waste_b1_c1 + flux_c_c1,\n",
    "    reactint_b1_c_c1 + c2 >> waste_b1_c2 + flux_c_c1,\n",
    "    reactint_b2_c_c1 + c1 >> waste_b2_c1 + flux_c_c1,\n",
    "    reactint_b2_c_c1 + c2 >> waste_b2_c2 + flux_c_c1,\n",
    "]\n",
    "bc_produce_rxns = [\n",
    "    flux_c_c1 + produce_c_c1_c2 | c1 + productint_c_c1_c2,\n",
    "    helper_c_c2 + productint_c_c1_c2 >> waste_c_c1_c2 + c2,\n",
    "]\n",
    "bc_rxns = bc_react_rxns + bc_produce_rxns\n",
    "\n",
    "# C+A --> 2A\n",
    "ca_react_rxns = [\n",
    "    c1 + react_c_a_a1 | back_c_a + reactint_c1_a_a1,\n",
    "    c2 + react_c_a_a1 | back_c_a + reactint_c2_a_a1,\n",
    "    reactint_c1_a_a1 + a1 >> waste_c1_a1 + flux_a_a1,\n",
    "    reactint_c1_a_a1 + a2 >> waste_c1_a2 + flux_a_a1,\n",
    "    reactint_c2_a_a1 + a1 >> waste_c2_a1 + flux_a_a1,\n",
    "    reactint_c2_a_a1 + a2 >> waste_c2_a2 + flux_a_a1,\n",
    "]\n",
    "ca_produce_rxns = [\n",
    "    flux_a_a1 + produce_a_a1_a2 | a1 + productint_a_a1_a2,\n",
    "    helper_a_a2 + productint_a_a1_a2 >> waste_a_a1_a2 + a2,\n",
    "]\n",
    "ca_rxns = ca_react_rxns + ca_produce_rxns\n",
    "\n",
    "all_rps_dsd_rxns = ab_rxns + bc_rxns + ca_rxns\n",
    "\n",
    "all_species = signal_species + \\\n",
    "              react_species + \\\n",
    "              back_species + \\\n",
    "              produce_species + \\\n",
    "              helper_species + \\\n",
    "              flux_species + \\\n",
    "              reactint_species + \\\n",
    "              produceint_species + \\\n",
    "              waste_species\n",
    "\n",
    "def aux(state):\n",
    "    if state in react_species:\n",
    "        return 'react'\n",
    "    if state in produce_species:\n",
    "        return 'produce'\n",
    "    if state in waste_species:\n",
    "        return 'waste'\n",
    "    if state in helper_species:\n",
    "        return 'helper'\n",
    "    \n",
    "def abc(state):\n",
    "    if state in signal_species:\n",
    "        return state.name[0]"
   ]
  },
  {
   "cell_type": "code",
   "execution_count": 10,
   "metadata": {},
   "outputs": [],
   "source": [
    "from ppsim import Simulation, RateConstantUnits, concentration_to_count\n",
    "\n",
    "uL = 10 ** -6  # 1 uL (microliter)\n",
    "nL = 10 ** -9\n",
    "nM = 10 ** -9  # 1 nM (nanomolar)\n",
    "\n",
    "k = 1e6  # forward rate constant in mass-action units\n",
    "r = 1e6  # reverse rate constant in mass-action units\n",
    "for rxn in all_rps_dsd_rxns:\n",
    "    rxn.k(k, units=RateConstantUnits.mass_action)\n",
    "    if rxn.reversible:\n",
    "        rxn.r(r, units=RateConstantUnits.mass_action)\n",
    "\n",
    "vol = 10 * nL\n",
    "\n",
    "# scale time to make simulations take less time\n",
    "time_scaling = 1\n",
    "vol /= time_scaling\n",
    "\n",
    "react_conc = 100 * nM\n",
    "back_conc = 100 * nM\n",
    "helper_conc = 75 * nM\n",
    "produce_conc = 100 * nM\n",
    "a1_conc = 11 * nM\n",
    "b1_conc = 10 * nM\n",
    "c1_conc = 3 * nM\n",
    "\n",
    "# this factor scales all concentrations\n",
    "conc_factor = 1\n",
    "\n",
    "react_count = concentration_to_count(react_conc * conc_factor, vol)\n",
    "back_count = concentration_to_count(back_conc * conc_factor , vol)\n",
    "helper_count = concentration_to_count(helper_conc* conc_factor, vol)\n",
    "produce_count = concentration_to_count(produce_conc* conc_factor, vol)\n",
    "a1_count = concentration_to_count(a1_conc* conc_factor, vol)\n",
    "b1_count = concentration_to_count(b1_conc* conc_factor, vol)\n",
    "c1_count = concentration_to_count(c1_conc* conc_factor, vol)\n",
    "\n",
    "init_config_react = {specie: react_count for specie in react_species}\n",
    "init_config_back = {specie: back_count for specie in back_species}\n",
    "init_config_helper = {specie: helper_count for specie in helper_species}\n",
    "init_config_produce = {specie: produce_count for specie in produce_species}\n",
    "\n",
    "init_config = {a1: a1_count, b1: b1_count, c1: c1_count}\n",
    "init_config.update(init_config_react)\n",
    "init_config.update(init_config_back)\n",
    "init_config.update(init_config_helper)\n",
    "init_config.update(init_config_produce)\n",
    "\n",
    "sim = Simulation(init_config=init_config, rule=all_rps_dsd_rxns, volume=vol, time_units='seconds')"
   ]
  },
  {
   "cell_type": "code",
   "execution_count": 69,
   "metadata": {},
   "outputs": [],
   "source": [
    "# # Code that generated the data, saved with pickle\n",
    "# # Run for 12 simulated hours, recording every 60 seconds\n",
    "# sim.run(12 * 3600, 60)\n",
    "# hp = pp.HistoryPlotter(abc, update_time=1)\n",
    "# hp2 = pp.HistoryPlotter(aux, update_time=1)\n",
    "# hp.ax.set_title('Counts of formal species')\n",
    "# hp2.ax.set_title('Counts of auxilliary species')\n",
    "# sim.add_snapshot(hp)\n",
    "# sim.add_snapshot(hp2)\n",
    "# pickle.dump(sim, open( \"crn_data/dsd_experiment.p\", \"wb\" ) )"
   ]
  },
  {
   "cell_type": "code",
   "execution_count": 70,
   "metadata": {},
   "outputs": [
    {
     "data": {
      "application/vnd.jupyter.widget-view+json": {
       "model_id": "27aa067c7e0c45259ee9a16db08b89b5",
       "version_major": 2,
       "version_minor": 0
      },
      "text/plain": [
       "Canvas(toolbar=Toolbar(toolitems=[('Home', 'Reset original view', 'home', 'home'), ('Back', 'Back to previous …"
      ]
     },
     "metadata": {},
     "output_type": "display_data"
    },
    {
     "data": {
      "application/vnd.jupyter.widget-view+json": {
       "model_id": "d44d88eb3222469ea28360d960c93423",
       "version_major": 2,
       "version_minor": 0
      },
      "text/plain": [
       "Canvas(toolbar=Toolbar(toolitems=[('Home', 'Reset original view', 'home', 'home'), ('Back', 'Back to previous …"
      ]
     },
     "metadata": {},
     "output_type": "display_data"
    }
   ],
   "source": [
    "sim = pickle.load( open( \"crn_data/dsd_experiment.p\", \"rb\" ))"
   ]
  },
  {
   "cell_type": "code",
   "execution_count": 4,
   "metadata": {},
   "outputs": [],
   "source": [
    "pp.write_stochkit_file('dsd_example.xml',all_rps_dsd_rxns, init_config, vol)"
   ]
  },
  {
   "cell_type": "code",
   "execution_count": 64,
   "metadata": {},
   "outputs": [],
   "source": [
    "import random\n",
    "def sample_one(config):\n",
    "    x = random.randrange(0, sum(config))\n",
    "    i = 0\n",
    "    while x > 0:\n",
    "        x -= config[i]\n",
    "        i += 1\n",
    "    return i-1\n",
    "\n",
    "def sample_state(sim):\n",
    "    return sim.state_list[sample_one(sim.config_array)]\n",
    "\n",
    "def sample_null_probability(sim):\n",
    "    num_trials = 100000\n",
    "    num_nulls = 0\n",
    "    for _ in range(num_trials):\n",
    "        a, b = sample_state(sim), sample_state(sim)\n",
    "        if sim.rule(a,b) is None or set(sim.rule(a,b)) == set((a, b)):\n",
    "            num_nulls += 1\n",
    "    return num_nulls / num_trials"
   ]
  },
  {
   "cell_type": "code",
   "execution_count": 65,
   "metadata": {},
   "outputs": [
    {
     "data": {
      "text/plain": [
       "0.99645"
      ]
     },
     "execution_count": 65,
     "metadata": {},
     "output_type": "execute_result"
    }
   ],
   "source": [
    "sample_null_probability(sim)"
   ]
  },
  {
   "cell_type": "code",
   "execution_count": null,
   "metadata": {},
   "outputs": [],
   "source": []
  }
 ],
 "metadata": {
  "kernelspec": {
   "display_name": "Python 3",
   "language": "python",
   "name": "python3"
  },
  "language_info": {
   "codemirror_mode": {
    "name": "ipython",
    "version": 3
   },
   "file_extension": ".py",
   "mimetype": "text/x-python",
   "name": "python",
   "nbconvert_exporter": "python",
   "pygments_lexer": "ipython3",
   "version": "3.7.3"
  }
 },
 "nbformat": 4,
 "nbformat_minor": 4
}
