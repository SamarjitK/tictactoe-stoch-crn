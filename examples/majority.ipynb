{
 "cells": [
  {
   "cell_type": "markdown",
   "id": "exclusive-dispatch",
   "metadata": {},
   "source": [
    "# Population protocols for solving majority\n",
    "\n",
    "The following notebook is supplemental to [this recent paper](https://arxiv.org/abs/2012.15800).\n",
    "It contains examples that serve to introduce the main ideas behind the time and space optimal majority protocol described more fully in the paper."
   ]
  },
  {
   "cell_type": "code",
   "execution_count": 1,
   "id": "undefined-uruguay",
   "metadata": {
    "tags": []
   },
   "outputs": [],
   "source": [
    "from ppsim import Simulation, StatePlotter, time_trials\n",
    "from dataclasses import dataclass\n",
    "import dataclasses\n",
    "import numpy as np\n",
    "from matplotlib import pyplot as plt\n",
    "import seaborn as sns\n",
    "import pickle\n",
    "import ipywidgets as widgets\n",
    "\n",
    "# Either this backend or the qt backend is necessary to use the StatePlotter Snapshot object for dynamic visualization while the simulation runs\n",
    "# %matplotlib widget\n",
    "# Each code cell needs to be run successively. Clicking 'run all' will not let the plots be generated until all cells finish running."
   ]
  },
  {
   "cell_type": "code",
   "execution_count": 11,
   "id": "adverse-schedule",
   "metadata": {},
   "outputs": [],
   "source": [
    "%matplotlib inline"
   ]
  },
  {
   "cell_type": "markdown",
   "id": "younger-madness",
   "metadata": {},
   "source": [
    "# Simplest protocols for solving majority\n",
    "\n",
    "## 4 state majority\n",
    "\n",
    "The majority problem has a simple 4 state solution, which was analyzed [here](https://arxiv.org/abs/1202.1083) and [here](https://arxiv.org/abs/1404.7671). The rule is always correct, by maintaining the invariant #A - #B."
   ]
  },
  {
   "cell_type": "code",
   "execution_count": 13,
   "id": "single-writer",
   "metadata": {
    "tags": []
   },
   "outputs": [],
   "source": [
    "exact_majority = {\n",
    "    ('A', 'B'): ('a', 'b'),\n",
    "    ('A', 'b'): ('A', 'a'),\n",
    "    ('B', 'a'): ('B', 'b')\n",
    "}"
   ]
  },
  {
   "cell_type": "markdown",
   "id": "interpreted-basin",
   "metadata": {},
   "source": [
    "In the worst case, where the initial gap (#A - #B) is constant, this takes $\\Theta(n \\log n)$ time to reach the stable correct output configuration."
   ]
  },
  {
   "cell_type": "code",
   "execution_count": 14,
   "id": "handled-bracelet",
   "metadata": {
    "tags": []
   },
   "outputs": [
    {
     "name": "stdout",
     "output_type": "stream",
     "text": [
      " Time: 599726.100\n"
     ]
    },
    {
     "data": {
      "image/png": "[encoded data removed]",
      "text/plain": [
       "<Figure size 432x288 with 1 Axes>"
      ]
     },
     "metadata": {
      "needs_background": "light"
     },
     "output_type": "display_data"
    }
   ],
   "source": [
    "n = 10 ** 5\n",
    "init_config = {'A': n // 2 + 1, 'B': n // 2}\n",
    "sim = Simulation(init_config, exact_majority, transition_order='symmetric')\n",
    "# Setting history_interval to be a function lets the recorded timesteps be evenly spaced on a log plot\n",
    "sim.run(history_interval=lambda t: 10 ** len(str(int(t))) / 100)\n",
    "sim.history.plot()\n",
    "plt.title('4 state majority protocol')\n",
    "plt.xscale('symlog')\n",
    "plt.yscale('symlog')\n",
    "plt.xlim(0, sim.times[-1])\n",
    "plt.ylim(0, n)\n",
    "plt.show()"
   ]
  },
  {
   "cell_type": "markdown",
   "id": "introductory-radical",
   "metadata": {},
   "source": [
    "## 6 state majority, including tie case\n",
    "\n",
    "In the case of a tie, the 4 state protocol does not have well-defined behavior. But by adding two more states, we can correct detect ties as well."
   ]
  },
  {
   "cell_type": "code",
   "execution_count": 4,
   "id": "young-intermediate",
   "metadata": {
    "tags": []
   },
   "outputs": [
    {
     "name": "stdout",
     "output_type": "stream",
     "text": [
      "A, B  -->  T, T\n",
      "A, T  -->  A, a\n",
      "B, T  -->  B, b\n",
      "B, a  -->  B, b\n",
      "T, a  -->  T, t\n",
      "A, b  -->  A, a\n",
      "T, b  -->  T, t\n",
      "A, t  -->  A, a\n",
      "B, t  -->  B, b\n",
      " Time: 273735.100\n"
     ]
    },
    {
     "data": {
      "application/vnd.jupyter.widget-view+json": {
       "model_id": "e0ca3cab40e54bce81b6da852b9cedcd",
       "version_major": 2,
       "version_minor": 0
      },
      "text/plain": [
       "Canvas(toolbar=Toolbar(toolitems=[('Home', 'Reset original view', 'home', 'home'), ('Back', 'Back to previous …"
      ]
     },
     "metadata": {},
     "output_type": "display_data"
    }
   ],
   "source": [
    "# states are A, B, T, a, b, t\n",
    "def exact_majority_ties(x, y):\n",
    "    # Cancellation\n",
    "    if x == 'A' and y == 'B':\n",
    "        return ('T', 'T')\n",
    "    # Active A / B eliminate T\n",
    "    if x in ['A', 'B'] and y == 'T':\n",
    "        return (x, x.lower())\n",
    "    # Active converts passive\n",
    "    if x.isupper() and y.islower():\n",
    "        return (x, x.lower())\n",
    "\n",
    "n = 10 ** 5\n",
    "sim = Simulation({'A': n // 2, 'B': n // 2}, exact_majority_ties, transition_order='symmetric')\n",
    "print(sim.reactions)\n",
    "sim.run(history_interval=lambda t: 10 ** len(str(int(t))) / 100)\n",
    "sim.history.plot()\n",
    "plt.title('6 state majority protocol detecting ties')\n",
    "plt.xscale('symlog')\n",
    "plt.yscale('symlog')\n",
    "plt.xlim(0, sim.times[-1])\n",
    "plt.ylim(0, n)\n",
    "plt.show()"
   ]
  },
  {
   "cell_type": "markdown",
   "id": "matched-conditions",
   "metadata": {},
   "source": [
    "The full time and space optimal majority protocol will also handle the case of a tie, and it uses this exact 6-state protocol as a stable backup. The agents will switch to running this protocol from their initial inputs if they detect an error that indicates that the fast protocol ran incorrectly. Because this only happens with low probability, using the slow protocol above as a stable backup contributes neglibly to the expected time."
   ]
  },
  {
   "cell_type": "markdown",
   "id": "awful-benchmark",
   "metadata": {},
   "source": [
    "## 3 state approximate majority\n",
    "\n",
    "Another simple example is the 3-state approximate majority protocol, which was analyzed [here](http://www.cs.yale.edu/homes/aspnes/papers/approximate-majority-journal.pdf) and [here](https://www.cs.ubc.ca/~condon/papers/approx-maj-journal.pdf). This protocol is much faster, but no longer works with probability 1, so does not solve the exact majority problem."
   ]
  },
  {
   "cell_type": "code",
   "execution_count": 5,
   "id": "explicit-johnston",
   "metadata": {
    "tags": []
   },
   "outputs": [
    {
     "name": "stdout",
     "output_type": "stream",
     "text": [
      " Time: 23.800\n"
     ]
    },
    {
     "data": {
      "application/vnd.jupyter.widget-view+json": {
       "model_id": "e725d6eae8884144aa82e370cda37524",
       "version_major": 2,
       "version_minor": 0
      },
      "text/plain": [
       "Canvas(toolbar=Toolbar(toolitems=[('Home', 'Reset original view', 'home', 'home'), ('Back', 'Back to previous …"
      ]
     },
     "metadata": {},
     "output_type": "display_data"
    }
   ],
   "source": [
    "a, b, u = 'A', 'B', 'U'\n",
    "approximate_majority = {\n",
    "    (a,b): (u,u),\n",
    "    (a,u): (a,a),\n",
    "    (b,u): (b,b)\n",
    "}\n",
    "n = 10 ** 9\n",
    "init_config = {a: n // 2 * 0.5001, b: n // 2 * 0.4999}\n",
    "sim = Simulation(init_config, approximate_majority)\n",
    "sim.run(history_interval=0.1)\n",
    "sim.history.plot()\n",
    "t = plt.title('3 state approximate majority protocol')"
   ]
  },
  {
   "cell_type": "markdown",
   "id": "controlled-match",
   "metadata": {},
   "source": [
    "It was shown to stabilize in only $O(\\log n)$ time to a consensus configuration. We can provide numerical evidence for this by simulating many trials over a large range of population sizes."
   ]
  },
  {
   "cell_type": "code",
   "execution_count": null,
   "id": "revolutionary-shadow",
   "metadata": {
    "tags": []
   },
   "outputs": [],
   "source": [
    "ns = [int(n) for n in np.geomspace(10, 10 ** 8, 8)]\n",
    "def initial_condition(n):\n",
    "    return {'A': n // 2, 'B': n // 2}\n",
    "df = time_trials(approximate_majority, ns, initial_condition, num_trials=1000, max_wallclock_time = 30, transition_order='symmetric')\n",
    "fig, ax = plt.subplots()\n",
    "ax = sns.lineplot(x='n', y='time', data=df)\n",
    "ax.set_title('Average stabilization time of approximate majority')\n",
    "ax.set_xscale('log')"
   ]
  },
  {
   "cell_type": "markdown",
   "id": "declared-deposit",
   "metadata": {},
   "source": [
    "This consensus will only be correct with high probability, however, and requires the initial gap to be $\\Omega(\\sqrt{n \\log n})$. We can see that when the gap is close to 0, it is performing essentially a random walk, which is why a sufficiently large initial gap is necessary to ensure the initial majority stays ahead."
   ]
  },
  {
   "cell_type": "code",
   "execution_count": 6,
   "id": "surrounded-blast",
   "metadata": {
    "tags": []
   },
   "outputs": [
    {
     "name": "stdout",
     "output_type": "stream",
     "text": [
      " Time: 4.000\n"
     ]
    },
    {
     "data": {
      "application/vnd.jupyter.widget-view+json": {
       "model_id": "dcb7082b0869459f8d2e801c31b83283",
       "version_major": 2,
       "version_minor": 0
      },
      "text/plain": [
       "Canvas(toolbar=Toolbar(toolitems=[('Home', 'Reset original view', 'home', 'home'), ('Back', 'Back to previous …"
      ]
     },
     "metadata": {},
     "output_type": "display_data"
    },
    {
     "data": {
      "text/plain": [
       "<AxesSubplot:title={'center':'Count of A - count of B'}, xlabel='time (n interactions)'>"
      ]
     },
     "execution_count": 6,
     "metadata": {},
     "output_type": "execute_result"
    }
   ],
   "source": [
    "sim.reset({a: n // 2 + 1, b: n // 2 - 1})\n",
    "sim.run(4, 0.01)\n",
    "fig, ax = plt.subplots()\n",
    "ax.set_title('Count of A - count of B')\n",
    "ax.set_yscale('symlog')\n",
    "(sim.history['A'] - sim.history['B']).plot()"
   ]
  },
  {
   "cell_type": "markdown",
   "id": "casual-ecuador",
   "metadata": {},
   "source": [
    "# Bias Averaging Framework for $O(\\log n)$ state protocols\n",
    "\n",
    "We view the initial states `A` and `B` as having `bias = +1` and `bias = -1` respectively. \n",
    "Then the sum $g = \\sum_v v.\\text{bias}$ gives the gap between opinions, and the majority problem is equivalent to determining $\\text{sign}(g)$.\n",
    "All our rules will maintain $g$ as an invariant to ensure correctness.\n",
    "\n",
    "To bound the total number of states to $O(\\log n)$, the only allowable values for `bias` will be $0,\\pm 1, \\pm\\frac{1}{2}, \\pm\\frac{1}{4}, \\ldots, \\pm\\frac{1}{2^L}$ where $L = \\lceil \\log_2(n) \\rceil$.\n",
    "We describe the state of the agent with two fields `opinion`$=\\pm 1$ and `exponent`$=0,-1, \\ldots, -L$, so `bias = opinion * (2 ** exponent)`."
   ]
  },
  {
   "cell_type": "code",
   "execution_count": 61,
   "id": "authorized-nylon",
   "metadata": {
    "tags": []
   },
   "outputs": [],
   "source": [
    "# This code defines an Agent class that includes these fields, as well as some convenience functions\n",
    "\n",
    "from fractions import Fraction\n",
    "\n",
    "@dataclass(unsafe_hash=True)\n",
    "class Agent:\n",
    "    opinion: int = 0\n",
    "    exponent: int = 0\n",
    "    \n",
    "    # Lets the protocol directly reference bias, which is inferred from the two data fields of the agent\n",
    "    @property\n",
    "    def bias(self):\n",
    "        return self.opinion * 2 ** self.exponent\n",
    "    \n",
    "    # Lets the protocol directly set the value of bias\n",
    "    @bias.setter\n",
    "    def bias(self, value):\n",
    "        if value == 0:\n",
    "            self.opinion = self.exponent = 0\n",
    "        else:\n",
    "            self.opinion = int(np.sign(value))\n",
    "            exponent = np.log2(abs(value))\n",
    "            if exponent.is_integer():\n",
    "                self.exponent = int(exponent)\n",
    "            else:\n",
    "                raise ValueError(f'bias = {value} must an integer power of 2')\n",
    "    \n",
    "    # Adding a custom string method to print(Agent) displays the bias\n",
    "    def __str__(self):\n",
    "        if self.bias == 0:\n",
    "            return '0'\n",
    "        s = ''\n",
    "        if self.bias > 0:\n",
    "            s += '+'\n",
    "        if abs(self.bias) > 1/100:\n",
    "            s += str(Fraction(self.bias))\n",
    "        else:\n",
    "            if self.bias < 0:\n",
    "                s += '-'\n",
    "            s += '1/2^' + str(abs(self.exponent))\n",
    "        return s\n",
    "    \n",
    "def init_agents(a, b):\n",
    "    return {Agent(opinion = 1): a, Agent(opinion = -1): b}"
   ]
  },
  {
   "cell_type": "markdown",
   "id": "abandoned-reasoning",
   "metadata": {},
   "source": [
    "The biases change through cancel reactions of the form $+\\frac{1}{2^i},-\\frac{1}{2^i}\\rightarrow 0, 0$ and split reactions of the form $\\pm\\frac{1}{2^i}, 0 \\rightarrow \\pm\\frac{1}{2^i+1}, \\pm\\frac{1}{2^i+1}$. These both preserve the invariant sum of the biases, and result in both agents taking the average of the two biases. Thus, these rules can be thought of as an approximation to the averaging rule $i, j \\rightarrow \\frac{i + j}{2}, \\frac{i + j}{2}$, where we are only allowing the transitions that keep the values of bias in $0,\\pm 1, \\pm\\frac{1}{2}, \\pm\\frac{1}{4}, \\ldots, \\pm\\frac{1}{2^L}$."
   ]
  },
  {
   "cell_type": "code",
   "execution_count": 62,
   "id": "distinguished-pitch",
   "metadata": {
    "tags": []
   },
   "outputs": [
    {
     "name": "stdout",
     "output_type": "stream",
     "text": [
      "    0,    +1  -->   +1/2,  +1/2\n",
      "    0,  +1/2  -->   +1/4,  +1/4\n",
      "    0,  +1/4  -->   +1/8,  +1/8\n",
      "    0,  +1/8  -->  +1/16, +1/16\n",
      "    0,    -1  -->   -1/2,  -1/2\n",
      "   +1,    -1  -->      0,     0\n",
      "    0,  -1/2  -->   -1/4,  -1/4\n",
      " +1/2,  -1/2  -->      0,     0\n",
      "    0,  -1/4  -->   -1/8,  -1/8\n",
      " +1/4,  -1/4  -->      0,     0\n",
      "    0,  -1/8  -->  -1/16, -1/16\n",
      " +1/8,  -1/8  -->      0,     0\n",
      "+1/16, -1/16  -->      0,     0\n"
     ]
    }
   ],
   "source": [
    "def cancel_split(a: Agent, b: Agent, L: int):\n",
    "     # cancel reaction\n",
    "    if a.bias == -b.bias:\n",
    "        a.opinion = b.opinion = 0\n",
    "        a.exponent = b.exponent = 0\n",
    "    \n",
    "    # split reaction\n",
    "    if a.bias == 0 and abs(b.bias) > 2 ** (-L):\n",
    "        a.opinion = b.opinion\n",
    "        a.exponent = b.exponent = b.exponent - 1\n",
    "    # By default, the protocol is assumed to be symmetric\n",
    "    # This function returns None in the reversed case where b.bias == 0 and a.bias != 0.\n",
    "    # In that case, the simulator will automatically switch the order of a and b,\n",
    "    #  assuming they will have the same non-null interaction in either order.\n",
    "\n",
    "# To check that the function is working as intended, we can print all reactions for a small instance\n",
    "print(Simulation(init_agents(1, 1), cancel_split, L = 4).reactions)"
   ]
  },
  {
   "cell_type": "markdown",
   "id": "confused-sailing",
   "metadata": {},
   "source": [
    "By themselves, however, these cancel and split reactions do not solve majority."
   ]
  },
  {
   "cell_type": "code",
   "execution_count": 63,
   "id": "bright-portfolio",
   "metadata": {
    "tags": []
   },
   "outputs": [],
   "source": [
    "n = 10 ** 9\n",
    "## This code ran a simulation and saved it to pickle\n",
    "# sim = Simulation(init_agents(n // 2 + 1, n // 2), cancel_split, L=int(np.log2(n)))\n",
    "# sim.run(history_interval=lambda t: 10 ** len(str(int(t))) / 100)\n",
    "# pickle.dump(sim, open( \"majority_simulations/cancel_split.p\", \"wb\" ) )\n",
    "\n",
    "# # This will load results back from pickle\n",
    "sim = pickle.load( open( \"majority_simulations/cancel_split.p\", \"rb\" ) )"
   ]
  },
  {
   "cell_type": "code",
   "execution_count": 64,
   "id": "necessary-overview",
   "metadata": {},
   "outputs": [
    {
     "data": {
      "application/vnd.jupyter.widget-view+json": {
       "model_id": "9b7a5bc11de041299a3f8d2064c723aa",
       "version_major": 2,
       "version_minor": 0
      },
      "text/plain": [
       "interactive(children=(IntSlider(value=0, description='index', layout=Layout(width='100%'), max=702), Output())…"
      ]
     },
     "metadata": {},
     "output_type": "display_data"
    }
   ],
   "source": [
    "# With a much larger number of states, trying to directly plot sim.history would be messy.\n",
    "# Instead, we create a barplot which visualizes a single configuration, with a slider that\n",
    "#   ranges over all times recorded by the simulation.\n",
    "\n",
    "# This setup assumes non-interactive backend\n",
    "# In an interactive backend, it will quickly and unnecessarily generate many figures\n",
    "def draw_plots(index):\n",
    "    fig, ax = plt.subplots(figsize=(12,4))\n",
    "    snap = sim.history.iloc[index]\n",
    "    ind = np.arange(len(snap[1].index))\n",
    "    width = 0.4\n",
    "    ax.clear()\n",
    "    ax.bar(-1, snap[0], width, label='0 (opinion=T)')\n",
    "    ax.bar(ind + width, snap[1], width, label= '+1 (opinion=A)')\n",
    "    ax.bar(ind + 2 * width, snap[-1], width, label= '-1 (opinion=B)')\n",
    "    ax.set_xticks([-1] + list(ind+1.5*width))\n",
    "    ax.set_xticklabels(['T'] + [str(i) for i in range(0,-len(snap[1]),-1)], fontsize = 10)\n",
    "    ax.set_xlabel('$\\log_2$ |bias|', fontsize=16)\n",
    "    ax.set_ylabel(f'Count ($n=10^{int(np.log10(n))}$)', fontsize=16)\n",
    "    ax.set_yscale('symlog')\n",
    "    ax.set_ylim(0, n)\n",
    "    ax.legend(title = 'sign(bias)', fontsize=16, title_fontsize=16)\n",
    "    t = sim.times[index]\n",
    "    ax.set_title(f'Unsynchronized cancel / split reactions after time {t: 0.1f} ({t / np.log(n): 0.2f} ln n)', fontsize=16)\n",
    "#     fig.savefig('majority_simulations/cancel_split_no_sync.pdf')\n",
    "    \n",
    "bar = widgets.interact(draw_plots, index = widgets.IntSlider(\n",
    "    min=0, max=len(sim.history)-1, step=1, value=0, layout = widgets.Layout(width='100%')))"
   ]
  },
  {
   "cell_type": "markdown",
   "id": "cleared-celtic",
   "metadata": {},
   "source": [
    "All values of bias are produced rapidly. When the counts of all bias values are roughly equal, the chance of a cancel reaction drops to $\\Theta(\\frac{1}{\\log n})$. This low rate of cancellation results in a small count of $0$ agents, which then drops the rate of split reactions.\n",
    "\n",
    "Not only is this protocol slow, it is also not ensured the majority opinion will take over. In this example, the minority opinion B (negative bias) happened to have more split reactions, which resulted in a much larger count of minority agents at smaller bias values. From around time 200 all the way until the protocol becomes silent in $\\Theta(n)$ time, there are a larger number of agents with the minority opinion. The majority opinion A agents have a larger bias, but a smaller count."
   ]
  },
  {
   "cell_type": "markdown",
   "id": "unique-shirt",
   "metadata": {},
   "source": [
    "## Additional bias-preserving transitions\n",
    "\n",
    "There are a few additional transitions that will also preserve the bias."
   ]
  },
  {
   "cell_type": "code",
   "execution_count": 38,
   "id": "invalid-drunk",
   "metadata": {
    "tags": []
   },
   "outputs": [
    {
     "name": "stdout",
     "output_type": "stream",
     "text": [
      "    0,    +1  -->   +1/2,  +1/2\n",
      "    0,  +1/2  -->   +1/4,  +1/4\n",
      "    0,  +1/4  -->   +1/8,  +1/8\n",
      "    0,  +1/8  -->  +1/16, +1/16\n",
      "    0,    -1  -->   -1/2,  -1/2\n",
      "   +1,    -1  -->      0,     0\n",
      " +1/2,    -1  -->   -1/4,  -1/4\n",
      " +1/4,    -1  -->   -1/2,  -1/4\n",
      "    0,  -1/2  -->   -1/4,  -1/4\n",
      "   +1,  -1/2  -->   +1/4,  +1/4\n",
      " +1/2,  -1/2  -->      0,     0\n",
      " +1/4,  -1/2  -->   -1/8,  -1/8\n",
      " +1/8,  -1/2  -->   -1/4,  -1/8\n",
      "    0,  -1/4  -->   -1/8,  -1/8\n",
      "   +1,  -1/4  -->   +1/2,  +1/4\n",
      " +1/2,  -1/4  -->   +1/8,  +1/8\n",
      " +1/4,  -1/4  -->      0,     0\n",
      " +1/8,  -1/4  -->  -1/16, -1/16\n",
      "+1/16,  -1/4  -->   -1/8, -1/16\n",
      "    0,  -1/8  -->  -1/16, -1/16\n",
      " +1/2,  -1/8  -->   +1/4,  +1/8\n",
      " +1/4,  -1/8  -->  +1/16, +1/16\n",
      " +1/8,  -1/8  -->      0,     0\n",
      "+1/16,  -1/8  -->      0, -1/16\n",
      " +1/4, -1/16  -->   +1/8, +1/16\n",
      " +1/8, -1/16  -->      0, +1/16\n",
      "+1/16, -1/16  -->      0,     0\n"
     ]
    }
   ],
   "source": [
    "from itertools import product\n",
    "\n",
    "def bias_average(a, b, L):\n",
    "    a, b = dataclasses.replace(a), dataclasses.replace(b)\n",
    "    \n",
    "    # all allowable bias values\n",
    "    biases = [0] + [2 ** i for i in range(-L,1)] + [-2 ** i for i in range(-L, 1)]\n",
    "    # all pairs of bias values that preserve the sum\n",
    "    legal_outputs = [(x,y) for (x,y) in product(biases, biases) if x + y == a.bias + b.bias]\n",
    "    # choose the pair of bias values which are closest together\n",
    "    a.bias, b.bias = legal_outputs[np.argmin(np.array([abs(x-y) for (x,y) in legal_outputs]))]\n",
    "    \n",
    "    return a, b\n",
    "\n",
    "# Note that the function above is very inefficient. This will only affect the time it takes the\n",
    "#   simulator to instantiate the example. After that point, the simulator uses a more efficient\n",
    "#   internal representation of the transition rule, so it does not matter if the python function\n",
    "#   that defines the transition rule is efficient.\n",
    "\n",
    "print(Simulation(init_agents(1, 1), bias_average, L = 4).reactions)"
   ]
  },
  {
   "cell_type": "markdown",
   "id": "auburn-devon",
   "metadata": {},
   "source": [
    "These transitions help eliminate opposite biases, but do not fundamentally change the way the protocol works, and will not get rid of the fundamental flaws."
   ]
  },
  {
   "cell_type": "code",
   "execution_count": 39,
   "id": "electoral-referral",
   "metadata": {
    "tags": []
   },
   "outputs": [
    {
     "name": "stdout",
     "output_type": "stream",
     "text": [
      " Time: 518.100\n"
     ]
    }
   ],
   "source": [
    "## This code ran a simulation and saved it to pickle\n",
    "# n = 10 ** 9\n",
    "# sim = Simulation(init_agents(n // 2 + 1, n // 2), bias_average, L=int(np.log2(n)))\n",
    "# sim.run(history_interval=lambda t: 10 ** len(str(int(t))) / 100)\n",
    "# pickle.dump(sim, open( \"majority_simulations/bias_average.p\", \"wb\" ) )\n",
    "\n",
    "# # This will load results back from pickle\n",
    "sim = pickle.load( open( \"majority_simulations/bias_average.p\", \"rb\" ) )"
   ]
  },
  {
   "cell_type": "code",
   "execution_count": 40,
   "id": "instrumental-given",
   "metadata": {
    "tags": []
   },
   "outputs": [
    {
     "data": {
      "application/vnd.jupyter.widget-view+json": {
       "model_id": "4e1689ba34cb49648f61a160b3cfb228",
       "version_major": 2,
       "version_minor": 0
      },
      "text/plain": [
       "interactive(children=(IntSlider(value=0, description='index', layout=Layout(width='100%'), max=233), Output())…"
      ]
     },
     "metadata": {},
     "output_type": "display_data"
    }
   ],
   "source": [
    "bar = widgets.interact(draw_plots, index = widgets.IntSlider(\n",
    "    min=0, max=len(sim.history)-1, step=1, value=0, layout = widgets.Layout(width='100%')))"
   ]
  },
  {
   "cell_type": "markdown",
   "id": "stable-wages",
   "metadata": {},
   "source": [
    "In some cases, such as the trial shown above, we do successfully eliminate all minority agents. Note, however, that because the rate of cancel reactions is $\\Theta(\\frac{1}{\\log n})$, we expect a fraction $\\frac{1}{\\log n}$ of $0$ agents. Then means an agents has a $\\Theta(\\frac{1}{\\log n})$ probability of having a split reaction, so it should take $\\Theta(\\log^2 n)$ time for all agents to split down across all $\\Theta(\\log n)$ bias values. So even if this protocol was reliable, it would not be faster than existing majority protocols.\n",
    "\n",
    "Even worse, however, is there is still a possibility of error. The case above, with a gap of 1 between majority and minority opinions, is actually not the worst case for these rules. When the gap is very small, the counts of majority and minority remain very close, so more cancel reactions keep happening longer, giving the system a chance to split all the way down to the minimum bias. Trying again with a larger gap, it is more likely to find examples where the protocol fails to eliminate all minority agents."
   ]
  },
  {
   "cell_type": "code",
   "execution_count": 41,
   "id": "popular-schedule",
   "metadata": {},
   "outputs": [
    {
     "name": "stdout",
     "output_type": "stream",
     "text": [
      " Time: 1408744.100\n"
     ]
    }
   ],
   "source": [
    "n = 10 ** 9\n",
    "g = int(n ** (1/3))\n",
    "## This code ran a simulation and saved it to pickle\n",
    "# sim = Simulation(init_agents((n+g) // 2, (n-g) // 2), bias_average, L=int(np.log2(n)))\n",
    "# sim.run(history_interval=lambda t: 10 ** len(str(int(t))) / 100)\n",
    "# pickle.dump(sim, open( \"majority_simulations/bias_average2.p\", \"wb\" ) )\n",
    "\n",
    "# # This will load results back from pickle\n",
    "sim = pickle.load( open( \"majority_simulations/bias_average2.p\", \"rb\" ) )"
   ]
  },
  {
   "cell_type": "code",
   "execution_count": 43,
   "id": "operating-essex",
   "metadata": {},
   "outputs": [
    {
     "data": {
      "application/vnd.jupyter.widget-view+json": {
       "model_id": "ae5450f8e980426a9847e18e28f28ae4",
       "version_major": 2,
       "version_minor": 0
      },
      "text/plain": [
       "interactive(children=(IntSlider(value=0, description='index', layout=Layout(width='100%'), max=556), Output())…"
      ]
     },
     "metadata": {},
     "output_type": "display_data"
    }
   ],
   "source": [
    "bar = widgets.interact(draw_plots, index = widgets.IntSlider(\n",
    "    min=0, max=len(sim.history)-1, step=1, value=0, layout = widgets.Layout(width='100%')))"
   ]
  },
  {
   "cell_type": "markdown",
   "id": "adopted-competition",
   "metadata": {},
   "source": [
    "TODO: Run more trials to find examples where this fails, or just don't include it / change the description"
   ]
  },
  {
   "cell_type": "markdown",
   "id": "registered-transfer",
   "metadata": {},
   "source": [
    "# Adding Synchronization\n",
    "\n",
    "The key idea to address the issues shown in the above simulations is to add more synchronization that keeps the biases of agents more tightly synchronized. This will ensure the cancel and split reactions keep happening at a high rate, and the biases can decrease down to the point where the majority opinion takes over.\n",
    "\n",
    "To achieve this, we will add a field `hour` to the unbiased agents, effectively splitting the one state $0$ into $\\log n$ states $0_0, 0_1, \\ldots, 0_L$. The new logic for split reactions is\n",
    "$$\\pm\\frac{1}{2^i}, 0_h \\rightarrow \\pm\\frac{1}{2^{i+1}}, \\pm\\frac{1}{2^{i+1}}\n",
    "\\quad\n",
    "\\text{ if } h > i.$$\n",
    "In other words, we wait until `hour` $\\geq h$ before allowing any splits down to `bias`=$\\pm\\frac{1}{2^h}$.\n",
    "\n",
    "If we could ensure that all unbiased agents had the exact same hour for $\\Theta(\\log n)$ time, this would let all biased agents finish their split reactions, and we would have all states in $\\{0_h, +\\frac{1}{2^h}, -\\frac{1}{2^h}\\}$ with high probability. This perfect synchronization could be achieved with standard phase clocks from the literature. This would take $\\Theta(\\log^2 n)$ time to complete however, so we have the same time and space bounds as [multiple](https://arxiv.org/abs/1704.04947) [existing](https://link.springer.com/article/10.1007/s00446-020-00385-0) majority protocols, and be essentially following the same strategy.\n",
    "\n",
    "To improve the running time to $\\Theta(\\log n)$, we will use a different clock, that only runs for $O(1)$ time per hour, which we now describe."
   ]
  },
  {
   "cell_type": "markdown",
   "id": "accomplished-cycle",
   "metadata": {},
   "source": [
    "## \"Fixed Resolution\" Clock"
   ]
  },
  {
   "cell_type": "markdown",
   "id": "danish-absence",
   "metadata": {},
   "source": [
    "We now describe the rules used by the clock. These transitions will be executed by a separate subpopulation of `clock` agents, who keep time with a field `minute`. The unbiased agents will then update their `hour` field by interacting with `clock` agents, where each block of $k$ adjacent minutes corresponds to an hour, for a constant parameter $k$."
   ]
  },
  {
   "cell_type": "code",
   "execution_count": 2,
   "id": "partial-palestinian",
   "metadata": {
    "tags": []
   },
   "outputs": [],
   "source": [
    "def clock(a, b, m, p=1):\n",
    "    if a == b < m:\n",
    "        # \"Dripping\" reaction advances the minute\n",
    "        #   An optional parameter p controls the probability of a drip reaction\n",
    "        return {(a + 1, b): p}\n",
    "    else:\n",
    "        # \"Epidemic\" reactions let agents catch up to the current minute\n",
    "        return max(a, b), max(a, b)"
   ]
  },
  {
   "cell_type": "code",
   "execution_count": 71,
   "id": "ceramic-nerve",
   "metadata": {
    "tags": []
   },
   "outputs": [],
   "source": [
    "# TODO: Run very large clock simulation for paper figure\n",
    "\n",
    "n = 10 ** 17\n",
    "m = 50\n",
    "# ## This code ran a simulation and saved it to pickle\n",
    "# for i, p in enumerate([1, 1/10, 1/100, 1/1000]):\n",
    "#     sim = Simulation({0: n}, clock, m = m, p = p)\n",
    "#     sim.run(history_interval=0.1)\n",
    "pickle.dump(sim, open( \"majority_simulations/clock.p\", \"wb\" ) )\n",
    "\n",
    "# # # This will load results back from pickle\n",
    "# sim = pickle.load( open( \"majority_simulations/clock3.p\", \"rb\" ) )\n",
    "\n",
    "# sim = Simulation({0: n}, clock, m = m, p = 1)\n",
    "# sim.run(history_interval=0.1)"
   ]
  },
  {
   "cell_type": "code",
   "execution_count": 72,
   "id": "ignored-boating",
   "metadata": {},
   "outputs": [
    {
     "data": {
      "application/vnd.jupyter.widget-view+json": {
       "model_id": "e31b029072ff42409e5f3bb3481fcab6",
       "version_major": 2,
       "version_minor": 0
      },
      "text/plain": [
       "interactive(children=(IntSlider(value=0, description='index', layout=Layout(width='100%'), max=454), Output())…"
      ]
     },
     "metadata": {},
     "output_type": "display_data"
    }
   ],
   "source": [
    "# This setup assumes non-interactive backend\n",
    "# In an interactive backend, it will quickly and unnecessarily generate many figures\n",
    "def draw_plots(index):\n",
    "    fig, ax = plt.subplots(figsize=(12,4))\n",
    "    width = 0.4\n",
    "    ax.clear()\n",
    "    for i in range(m // k):\n",
    "        ax.bar(range(i * k, (i+1) * k), sim.history.iloc[index][i * k: (i+1) * k], label=str(i))\n",
    "    ax.set_xticks(range(m))\n",
    "    ax.set_xticklabels([str(i) for i in range(m)], fontsize = 10)\n",
    "    ax.set_xlabel('Minute', fontsize=16)\n",
    "    ax.set_ylabel('Count ($n=10^{' + str(int(np.log10(n))) + '}$)', fontsize=16)\n",
    "    ax.set_yscale('symlog')\n",
    "    ax.set_ylim(0, n)\n",
    "    ax.legend(title = 'hour', fontsize=16, title_fontsize=16)\n",
    "    t = sim.times[index]\n",
    "    ax.set_title(f'Clock distribution after time {t: 0.1f} ({t / np.log(n): 0.2f} ln n)', fontsize=16)\n",
    "#     fig.savefig('majority_simulations/clock_distribution.pdf')\n",
    "    \n",
    "k = 5\n",
    "bar = widgets.interact(draw_plots, index = widgets.IntSlider(\n",
    "    min=0, max=len(sim.history)-1, step=1, value=0, layout = widgets.Layout(width='100%')))"
   ]
  },
  {
   "cell_type": "code",
   "execution_count": 50,
   "id": "manual-bicycle",
   "metadata": {},
   "outputs": [
    {
     "name": "stdout",
     "output_type": "stream",
     "text": [
      "n = 1000\n",
      "p = 1.0\n",
      "p = 3.1622776601683795\n",
      "p = 10.0\n",
      "p = 31.622776601683793\n",
      "p = 100.0\n",
      "p = 316.22776601683796\n",
      "p = 1000.0\n",
      "p = 3162.2776601683795\n",
      "p = 10000.0\n",
      "p = 31622.776601683792\n",
      "p = 100000.0\n",
      "n = 1000000\n",
      "p = 1.0\n",
      "p = 3.1622776601683795\n",
      "p = 10.0\n",
      "p = 31.622776601683793\n",
      "p = 100.0\n",
      "p = 316.22776601683796\n",
      "p = 1000.0\n",
      "p = 3162.2776601683795\n",
      "p = 10000.0\n",
      "p = 31622.776601683792\n",
      "p = 100000.0\n",
      "n = 1000000000\n",
      "p = 1.0\n",
      "p = 3.1622776601683795\n",
      "p = 10.0\n",
      "p = 31.622776601683793\n",
      "p = 100.0\n",
      "p = 316.22776601683796\n",
      "p = 1000.0\n",
      "p = 3162.2776601683795\n",
      "p = 10000.0\n",
      "p = 31622.776601683792\n",
      "p = 100000.0\n"
     ]
    }
   ],
   "source": [
    "## This code generated data on clock times and saved it to pickle\n",
    "\n",
    "def ten_perfect_past_threshold(config):\n",
    "    return sum([config[i] for i in range(threshold) if i in config]) <= 0.9 * n\n",
    "\n",
    "data = {'n': [], 'p': [], 'time': []}\n",
    "ps = np.geomspace(1, 10 ** 5, 11)\n",
    "for n in [10 ** 3, 10 ** 6, 10 ** 9]:\n",
    "    print(f'n = {n}')\n",
    "    for p in ps:\n",
    "        print(f'p = {p}')\n",
    "        for _ in range(10):\n",
    "            sim = Simulation({0: n}, clock, m = 20, p = 1/p)\n",
    "            threshold = 10\n",
    "            sim.run(ten_perfect_past_threshold, stopping_interval = 0.01, timer=False)\n",
    "            for h in range(11,21):\n",
    "                t = sim.time\n",
    "                threshold = h\n",
    "                sim.run(ten_perfect_past_threshold, stopping_interval = 0.01, timer=False)\n",
    "                data['time'].append(sim.time - t)\n",
    "                data['p'].append(p)\n",
    "                data['n'].append(n)\n",
    "\n",
    "pickle.dump(data, open( \"majority_simulations/clock_times.p\", \"wb\" ) )"
   ]
  },
  {
   "cell_type": "code",
   "execution_count": 58,
   "id": "constant-freeware",
   "metadata": {},
   "outputs": [
    {
     "data": {
      "image/png": "[encoded data removed]",
      "text/plain": [
       "<Figure size 864x288 with 1 Axes>"
      ]
     },
     "metadata": {
      "needs_background": "light"
     },
     "output_type": "display_data"
    }
   ],
   "source": [
    "data = pickle.load( open( \"majority_simulations/clock_times.p\", \"rb\" ) )\n",
    "fig, ax = plt.subplots(figsize=(12,4))\n",
    "ax.plot(np.geomspace(1, 10 ** 5, 1000), 2.11+np.log(np.geomspace(1, 10 ** 5, 1000))/2)\n",
    "ax.plot(np.geomspace(1, 10 ** 5, 1000), [max(np.log(1+2*p/9)/2 - 0.01, 0.45) for p in np.geomspace(1, 10 ** 5, 1000)])\n",
    "sns.lineplot(data=data, x = 'p', y='time', hue='n', ax=ax, err_style='bars', palette=['red','green','blue'])\n",
    "ax.set_xscale('log')\n",
    "ax.set_ylim(0, 2.11+np.log(ps[-1])/2)\n",
    "ax.set_xlabel('1/p', fontsize = 16)\n",
    "ax.set_ylabel('Time per minute', fontsize = 16)\n",
    "ax.legend(['Theoretical upper bound', 'Theoretical lower bound'] + [f'Simulation, n = 10^{int(np.log10(n))}' for n in times.keys()])\n",
    "ax.set_title('Clock running time as a function of parameter p', fontsize = 16)\n",
    "plt.show()"
   ]
  },
  {
   "cell_type": "code",
   "execution_count": 59,
   "id": "after-firmware",
   "metadata": {},
   "outputs": [],
   "source": [
    "fig.savefig('majority_simulations/clock_bounds.pdf')"
   ]
  },
  {
   "cell_type": "code",
   "execution_count": 36,
   "id": "assigned-locator",
   "metadata": {},
   "outputs": [
    {
     "data": {
      "text/plain": [
       "{1000: [0.7419999999999991,\n",
       "  1.0570000000000088,\n",
       "  1.5170000000000026,\n",
       "  2.0769999999999844,\n",
       "  2.929999999999994,\n",
       "  3.4520000000000266,\n",
       "  4.346000000000024,\n",
       "  7.152999999999952,\n",
       "  10.378999999999929,\n",
       "  28.469999999999935,\n",
       "  122.51000000000022,\n",
       "  351.7720000000016,\n",
       "  506.2420000000009],\n",
       " 1000000: [0.744999999999999,\n",
       "  1.1340000000000052,\n",
       "  1.6,\n",
       "  2.1219999999999954,\n",
       "  2.6709999999999856,\n",
       "  3.2559999999999887,\n",
       "  3.7790000000000403,\n",
       "  4.4100000000000055,\n",
       "  5.043000000000022,\n",
       "  5.547000000000024,\n",
       "  6.1380000000000186,\n",
       "  7.227999999999976,\n",
       "  7.986999999999919],\n",
       " 1000000000: [0.744999999999999,\n",
       "  1.1340000000000052,\n",
       "  1.6010000000000002,\n",
       "  2.1199999999999966,\n",
       "  2.6689999999999863,\n",
       "  3.2319999999999935,\n",
       "  3.804000000000002,\n",
       "  4.37700000000004,\n",
       "  4.953000000000027,\n",
       "  5.525000000000014,\n",
       "  6.104000000000002,\n",
       "  6.663999999999943,\n",
       "  7.249999999999955]}"
      ]
     },
     "execution_count": 36,
     "metadata": {},
     "output_type": "execute_result"
    }
   ],
   "source": [
    "times"
   ]
  },
  {
   "cell_type": "code",
   "execution_count": 25,
   "id": "fresh-architecture",
   "metadata": {},
   "outputs": [],
   "source": [
    "fig.savefig('majority_simulations/clock_times.pdf')"
   ]
  },
  {
   "cell_type": "code",
   "execution_count": 132,
   "id": "hindu-mercury",
   "metadata": {},
   "outputs": [
    {
     "data": {
      "text/plain": [
       "[0.744999999999999, 0.0, 0.0, 0.0, 0.0, 0.0, 0.0, 0.0, 0.0, 0.0, 0.0, 0.0, 0.0]"
      ]
     },
     "execution_count": 132,
     "metadata": {},
     "output_type": "execute_result"
    }
   ],
   "source": [
    "times"
   ]
  },
  {
   "cell_type": "code",
   "execution_count": 127,
   "id": "executive-alarm",
   "metadata": {},
   "outputs": [
    {
     "data": {
      "text/plain": [
       "array([1.00000000e+00, 3.16227766e+00, 1.00000000e+01, 3.16227766e+01,\n",
       "       1.00000000e+02, 3.16227766e+02, 1.00000000e+03, 3.16227766e+03,\n",
       "       1.00000000e+04, 3.16227766e+04, 1.00000000e+05, 3.16227766e+05,\n",
       "       1.00000000e+06])"
      ]
     },
     "execution_count": 127,
     "metadata": {},
     "output_type": "execute_result"
    }
   ],
   "source": [
    "ps = np.geomspace(1, 10 ** 6, 13)\n",
    "ps"
   ]
  },
  {
   "cell_type": "markdown",
   "id": "italic-wireless",
   "metadata": {},
   "source": [
    "Notice also that this clock rule is extremely similar to the power-of-two-choices phase clock. In fact, the distribution of the clock ends up being essentially the same."
   ]
  },
  {
   "cell_type": "code",
   "execution_count": null,
   "id": "polar-memphis",
   "metadata": {
    "tags": []
   },
   "outputs": [],
   "source": [
    "def two_choices_clock(a, b, m):\n",
    "    if min(a, b) < m:\n",
    "        return min(a, b) + 1, max(a, b)"
   ]
  },
  {
   "cell_type": "code",
   "execution_count": null,
   "id": "unavailable-color",
   "metadata": {
    "tags": []
   },
   "outputs": [],
   "source": [
    "n = 10 ** 9\n",
    "sim = Simulation({0: n}, two_choices_clock, m = 30)\n",
    "sp = StatePlotter()\n",
    "sim.add_snapshot(sp)\n",
    "sp.ax.set_yscale('symlog')"
   ]
  },
  {
   "cell_type": "code",
   "execution_count": null,
   "id": "historic-cholesterol",
   "metadata": {
    "tags": []
   },
   "outputs": [],
   "source": [
    "sim.run(history_interval=0.1)\n",
    "sim.snapshot_slider()"
   ]
  },
  {
   "cell_type": "code",
   "execution_count": null,
   "id": "incorporate-updating",
   "metadata": {
    "tags": []
   },
   "outputs": [],
   "source": []
  },
  {
   "cell_type": "markdown",
   "id": "pressed-registrar",
   "metadata": {},
   "source": [
    "# Adding Synchronization\n",
    "\n",
    "The unbiased agents will now have a field `hour`, and will wait until `hour = i` before doing a split down to `exponent = -i`.\n",
    "They will synchronize their `hour` with separate clock agents who are keeping a timer through a field `minute`, where `hour = minute // m` for a parameter `m` which gives the number of minutes per hour."
   ]
  },
  {
   "cell_type": "code",
   "execution_count": 72,
   "id": "dedicated-wisconsin",
   "metadata": {
    "tags": []
   },
   "outputs": [],
   "source": [
    "@dataclass(unsafe_hash=True)\n",
    "class MajorityAgent(Agent):\n",
    "    role: str = 'main'\n",
    "    _hour: int = 0\n",
    "    minute: int = 0\n",
    "    finished: bool = False\n",
    "    m: int = 5\n",
    "        \n",
    "    @property\n",
    "    def hour(self):\n",
    "        if self.role == 'clock':\n",
    "            return self.minute // self.m\n",
    "        else:\n",
    "            return self._hour\n",
    "        \n",
    "    @hour.setter\n",
    "    def hour(self, value):\n",
    "        if self.role == 'main':\n",
    "            self._hour = value\n",
    "        # can't change hour for a clock agent\n",
    "    \n",
    "    def __str__(self):\n",
    "        if self.bias != 0:\n",
    "            return super().__str__()\n",
    "        if self.role == 'clock':\n",
    "            return 'c' + str(self.minute)\n",
    "        else:\n",
    "            return 'u' + str(self.hour)\n",
    "    \n",
    "def init_majority_agents(a, b, m):\n",
    "    return {MajorityAgent(opinion = 1, m = m): a, MajorityAgent(opinion = -1, m = m): b}\n",
    "\n",
    "# custom function to build plots that visualize the 3 populations of clock, unbiased, and biased agents\n",
    "def make_plots(sim):\n",
    "    plt.ioff()\n",
    "    clock_plot = StatePlotter(lambda a: a.minute if a.role == 'clock' else None, update_time = 1)\n",
    "    sim.add_snapshot(clock_plot)\n",
    "    clock_plot.ax.set_xlabel('clock minute')\n",
    "    clock_plot.ax.axes.xaxis.set_ticklabels([])\n",
    "    unbiased_plot = StatePlotter(lambda a: a.hour if a.role == 'main' and a.bias == 0 else None, update_time = 1)\n",
    "    sim.add_snapshot(unbiased_plot)\n",
    "    unbiased_plot.ax.set_xlabel('unbiased hour')\n",
    "    biased_plot = StatePlotter(lambda a: a if a.bias != 0 else None, update_time = 1)\n",
    "    sim.add_snapshot(biased_plot)\n",
    "    for snap in sim.snapshots:\n",
    "        snap.ax.set_yscale('symlog')\n",
    "        snap.fig.tight_layout()\n",
    "    plt.ion()\n",
    "    sim.layout = widgets.GridspecLayout(6,2, height='700px', pane_heights=[4,7,1], grid_gap='5px')\n",
    "    sim.layout[0:2,0] = clock_plot.fig.canvas\n",
    "    sim.layout[0:2,1] = unbiased_plot.fig.canvas\n",
    "    sim.layout[2:5,:] = biased_plot.fig.canvas\n",
    "    sim.layout[5,:] = sim.snapshot_slider()\n",
    "    display(sim.layout)"
   ]
  },
  {
   "cell_type": "markdown",
   "id": "upper-effort",
   "metadata": {},
   "source": [
    "The clock agents will count for an additional `L` minutes after the last hour ($O(\\log n)$ time). Then they will send a signal `finished = True` that makes all agents stop (and move on to a later phase of the algorithm)."
   ]
  },
  {
   "cell_type": "code",
   "execution_count": 73,
   "id": "pending-consideration",
   "metadata": {
    "tags": []
   },
   "outputs": [],
   "source": [
    "def majority(a, b, L, p=1):\n",
    "    a.finished = b.finished = a.finished or b.finished\n",
    "    if a.finished:\n",
    "        a.minute = b.minute = 0\n",
    "        a.hour = b.hour = 0\n",
    "    else:\n",
    "        if a.role == b.role == 'main':\n",
    "            # cancel reaction\n",
    "            if a.bias == -b.bias != 0:\n",
    "                a.opinion = b.opinion = 0\n",
    "                a.hour = b.hour = abs(a.exponent)\n",
    "                a.exponent = b.exponent = 0\n",
    "                # half the agents from first split become clock\n",
    "                if a.hour == 0:\n",
    "                    a.role = 'clock'\n",
    "\n",
    "            # split reaction\n",
    "            if a.bias == 0 and b.bias != 0 and a.hour > abs(b.exponent):\n",
    "                a.opinion = b.opinion\n",
    "                a.exponent = b.exponent = b.exponent - 1\n",
    "                a.hour = b.hour = 0\n",
    "\n",
    "            if b.bias == 0 and a.bias != 0 and b.hour > abs(a.exponent) :\n",
    "                b.opinion = a.opinion\n",
    "                b.exponent = a.exponent = a.exponent - 1\n",
    "                a.hour = b.hour = 0\n",
    "\n",
    "        # unbiased agents propagate max hour\n",
    "        if a.bias == b.bias == 0:\n",
    "            a.hour = b.hour = min(max(a.hour, b.hour), L)\n",
    "\n",
    "        # clock minute uses new fixed resolution phase clock\n",
    "        if a.role == b.role == 'clock':\n",
    "            # drip reaction\n",
    "            if a.minute == b.minute:\n",
    "                a.minute += 1\n",
    "#               Wait an additional L minutes after hour L before finishing\n",
    "                if a.minute == a.m * L + L:\n",
    "                    a.finished = True\n",
    "                # dripping reaction happens with probability p\n",
    "                return {(a,b): p}\n",
    "            # epidemic reaction\n",
    "            else:\n",
    "                a.minute = b.minute = max(a.minute, b.minute)"
   ]
  },
  {
   "cell_type": "markdown",
   "id": "decreased-spouse",
   "metadata": {
    "tags": []
   },
   "source": [
    "If we set the parameter `p = 1/n`, then the clock will take $\\Theta(\\log n)$ time per minute. Then with high probability the entire population will stay synchronized at the same hour. In this case, we have an $O(\\log^2 n)$ time majority algorithm, essentially the same as the standard 'canceling and doubling' protocols."
   ]
  },
  {
   "cell_type": "code",
   "execution_count": 122,
   "id": "copyrighted-editor",
   "metadata": {
    "tags": []
   },
   "outputs": [],
   "source": [
    "n = 10 ** 9\n",
    "g = int(n ** (1/3))\n",
    "## This code ran a simulation and saved it to pickle\n",
    "# sim = Simulation(init_majority_agents((n+g) // 2, (n-g) // 2, m = 3), majority, L=int(np.log2(n)), p = 1/n)\n",
    "# sim.run()\n",
    "# pickle.dump(sim, open( \"majority_simulations/full_sync.p\", \"wb\" ) )\n",
    "\n",
    "# # This will load results back from pickle\n",
    "sim = pickle.load( open( \"majority_simulations/full_sync.p\", \"rb\" ) )"
   ]
  },
  {
   "cell_type": "code",
   "execution_count": 123,
   "id": "sensitive-mercury",
   "metadata": {},
   "outputs": [
    {
     "data": {
      "application/vnd.jupyter.widget-view+json": {
       "model_id": "38f31a05ce7241bf87321f3396783517",
       "version_major": 2,
       "version_minor": 0
      },
      "text/plain": [
       "interactive(children=(IntSlider(value=0, description='index', layout=Layout(width='100%'), max=2992), Output()…"
      ]
     },
     "metadata": {},
     "output_type": "display_data"
    }
   ],
   "source": [
    "# This setup assumes non-interactive backend\n",
    "# In an interactive backend, it will quickly and unnecessarily generate many figures\n",
    "def draw_plots(index):\n",
    "    fig, ax = plt.subplots(figsize=(12,4))\n",
    "    snap = sim.history.iloc[index]\n",
    "    A_counts = snap.xs((1, False), level=('opinion', 'finished'))\n",
    "    B_counts = snap.xs((-1, False), level=('opinion', 'finished'))\n",
    "    ind = np.arange(len(A_counts))\n",
    "    width = 0.4\n",
    "    ax.bar(-1, sum(snap.xs((0, 'main'), level=('opinion', 'role'))), width, label='0 (opinion=T)')\n",
    "    ax.bar(ind + width, A_counts, width, label= '+1 (opinion=A)')\n",
    "    ax.bar(ind + 2 * width, B_counts, width, label= '-1 (opinion=B)')\n",
    "    ax.set_xticks([-1] + list(ind+1.5*width))\n",
    "    ax.set_xticklabels(['T'] + [str(i) for i in range(0,-len(A_counts),-1)], fontsize = 10)\n",
    "    ax.set_xlabel('$\\log_2$ |bias|', fontsize=16)\n",
    "    ax.set_ylabel('Count ($n=10^9$)', fontsize=16)\n",
    "    ax.set_yscale('symlog')\n",
    "    ax.set_ylim(0, n)\n",
    "    ax.legend(title = 'sign(bias)', fontsize=16, title_fontsize=16)\n",
    "    t = sim.times[index]\n",
    "    ax.set_title(f'Fully synchronized cancel / split reactions after time {t: 0.1f} ({t / np.log(n): 0.2f} ln n)', fontsize=16)\n",
    "#     fig.savefig('majority_simulations/cancel_split_full_sync.pdf')\n",
    "    \n",
    "bar = widgets.interact(draw_plots, index = widgets.IntSlider(\n",
    "    min=0, max=len(sim.history)-1, step=1, value=0, layout = widgets.Layout(width='100%')))"
   ]
  },
  {
   "cell_type": "markdown",
   "id": "adopted-homework",
   "metadata": {},
   "source": [
    "Setting `p=1`, still with `m=3` minutes per hour, we have $O(1)$ time per minute and per hour. Then this entire phase lasts $\\Theta(\\log n)$ time. \n",
    "\n",
    "In the more general case, we will not eliminate all minority agents. What will be true, with high probability, is that a vast majority of agents will finish with the majority opinion, in a range of 3 consecutive exponents."
   ]
  },
  {
   "cell_type": "code",
   "execution_count": 124,
   "id": "unlimited-cigarette",
   "metadata": {},
   "outputs": [],
   "source": [
    "n = 10 ** 9\n",
    "g = int(n ** (1/3))\n",
    "## This code ran a simulation and saved it to pickle\n",
    "# sim = Simulation(init_majority_agents((n+g) // 2, (n-g) // 2, m = 3), majority, L=int(np.log2(n)))\n",
    "# sim.run()\n",
    "# pickle.dump(sim, open( \"majority_simulations/main_averaging.p\", \"wb\" ) )\n",
    "\n",
    "# # This will load results back from pickle\n",
    "sim = pickle.load( open( \"majority_simulations/main_averaging.p\", \"rb\" ) )"
   ]
  },
  {
   "cell_type": "code",
   "execution_count": 126,
   "id": "placed-bridal",
   "metadata": {},
   "outputs": [
    {
     "data": {
      "application/vnd.jupyter.widget-view+json": {
       "model_id": "4c0fbb3c8ddc47c6a7f58570914cd4bd",
       "version_major": 2,
       "version_minor": 0
      },
      "text/plain": [
       "interactive(children=(IntSlider(value=0, description='index', layout=Layout(width='100%'), max=212), Output())…"
      ]
     },
     "metadata": {},
     "output_type": "display_data"
    }
   ],
   "source": [
    "# This setup assumes non-interactive backend\n",
    "# In an interactive backend, it will quickly and unnecessarily generate many figures\n",
    "def draw_plots(index):\n",
    "    fig, ax = plt.subplots(figsize=(12,4))\n",
    "    snap = sim.history.iloc[index]\n",
    "    A_counts = snap.xs((1), level=('opinion')).groupby('exponent').sum()[::-1]\n",
    "    B_counts = snap.xs((-1), level=('opinion')).groupby('exponent').sum()[::-1]\n",
    "    ind = np.arange(len(A_counts))\n",
    "    width = 0.4\n",
    "    ax.bar(-1, sum(snap.xs((0, 'main'), level=('opinion', 'role'))), width, label='0 (opinion=T)')\n",
    "    ax.bar(ind + width, A_counts, width, label= '+1 (opinion=A)')\n",
    "    ax.bar(ind + 2 * width, B_counts, width, label= '-1 (opinion=B)')\n",
    "    ax.set_xticks([-1] + list(ind+1.5*width))\n",
    "    ax.set_xticklabels(['T'] + [str(i) for i in range(0,-len(A_counts),-1)], fontsize = 10)\n",
    "    ax.set_xlabel('$\\log_2$ |bias|', fontsize=16)\n",
    "    ax.set_ylabel(f'Count ($n=10^{int(np.log10(n))}$, $g=+{g}$)', fontsize=16)\n",
    "    ax.set_yscale('symlog')\n",
    "    ax.set_ylim(0, n)\n",
    "    ax.legend(title = 'sign(bias)', fontsize=16, title_fontsize=16)\n",
    "    t = sim.times[index]\n",
    "    ax.set_title(f'Partially synchronized cancel / split reactions after time {t: 0.1f} ({t / np.log(n): 0.2f} ln n)', fontsize=16)\n",
    "#     fig.savefig('majority_simulations/main_averaging.pdf')\n",
    "    \n",
    "bar = widgets.interact(draw_plots, index = widgets.IntSlider(\n",
    "    min=0, max=len(sim.history)-1, step=1, value=0, layout = widgets.Layout(width='100%')))"
   ]
  },
  {
   "cell_type": "markdown",
   "id": "proper-collectible",
   "metadata": {},
   "source": [
    "\n",
    "In the case of a tie, we will end up with every biased agent reaching the minimum value `exponent = -L`. Choosing $L = \\lceil \\log_2(n) \\rceil$ ensures that this can only happen in the case of a tie. Thus we can check if all exponents are `-L` after this phase finishes to stably detect a tie."
   ]
  }
 ],
 "metadata": {
  "kernelspec": {
   "display_name": "Python 3",
   "language": "python",
   "name": "python3"
  },
  "language_info": {
   "codemirror_mode": {
    "name": "ipython",
    "version": 3
   },
   "file_extension": ".py",
   "mimetype": "text/x-python",
   "name": "python",
   "nbconvert_exporter": "python",
   "pygments_lexer": "ipython3",
   "version": "3.7.3"
  }
 },
 "nbformat": 4,
 "nbformat_minor": 5
}
