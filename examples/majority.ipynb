{
 "cells": [
  {
   "cell_type": "code",
   "execution_count": 1,
   "id": "amino-financing",
   "metadata": {
    "tags": []
   },
   "outputs": [],
   "source": [
    "from ppsim import Simulation, StatePlotter, time_trials\n",
    "from dataclasses import dataclass\n",
    "import dataclasses\n",
    "import numpy as np\n",
    "from matplotlib import pyplot as plt\n",
    "import seaborn as sns\n",
    "import pickle\n",
    "%matplotlib widget\n",
    "import ipywidgets as widgets"
   ]
  },
  {
   "cell_type": "markdown",
   "id": "changed-relative",
   "metadata": {},
   "source": [
    "# Simplest protocols for the majority problem\n",
    "\n",
    "The majority problem has a simple 4 state solution, which was analyzed [here](https://arxiv.org/abs/1202.1083) and [here](https://arxiv.org/abs/1404.7671). The rule is always correct, by maintaining the invariant #A - #B."
   ]
  },
  {
   "cell_type": "code",
   "execution_count": 2,
   "id": "about-button",
   "metadata": {
    "tags": []
   },
   "outputs": [],
   "source": [
    "exact_majority = {\n",
    "    ('A', 'B'): ('a', 'b'),\n",
    "    ('A', 'b'): ('A', 'a'),\n",
    "    ('B', 'a'): ('B', 'b')\n",
    "}"
   ]
  },
  {
   "cell_type": "markdown",
   "id": "respected-warehouse",
   "metadata": {},
   "source": [
    "In the worst case, where the initial gap (#A - #B) is constant, this takes $\\Theta(n \\log n)$ time to reach the stable correct output configuration."
   ]
  },
  {
   "cell_type": "code",
   "execution_count": 3,
   "id": "anticipated-story",
   "metadata": {
    "tags": []
   },
   "outputs": [
    {
     "name": "stdout",
     "output_type": "stream",
     "text": [
      " Time: 490242.000\n"
     ]
    },
    {
     "data": {
      "application/vnd.jupyter.widget-view+json": {
       "model_id": "ba8d9aab605f4cb3b5cd62ee28db2b80",
       "version_major": 2,
       "version_minor": 0
      },
      "text/plain": [
       "Canvas(toolbar=Toolbar(toolitems=[('Home', 'Reset original view', 'home', 'home'), ('Back', 'Back to previous …"
      ]
     },
     "metadata": {},
     "output_type": "display_data"
    },
    {
     "data": {
      "text/plain": [
       "(0.0, 100000.0)"
      ]
     },
     "execution_count": 3,
     "metadata": {},
     "output_type": "execute_result"
    }
   ],
   "source": [
    "n = 10 ** 5\n",
    "init_config = {'A': n // 2 + 1, 'B': n // 2}\n",
    "sim = Simulation(init_config, exact_majority, transition_order='symmetric')\n",
    "sim.run()\n",
    "sim.history.plot()\n",
    "plt.title('4 state majority protocol')\n",
    "plt.xscale('symlog')\n",
    "plt.yscale('symlog')\n",
    "plt.xlim(0, sim.times[-1])\n",
    "plt.ylim(0, n)"
   ]
  },
  {
   "cell_type": "markdown",
   "id": "nuclear-essex",
   "metadata": {},
   "source": [
    "In the case of a tie, the 4 state protocol does not have well-defined behavior. But by adding two more states, we can correct detect ties as well."
   ]
  },
  {
   "cell_type": "code",
   "execution_count": 4,
   "id": "touched-hanging",
   "metadata": {
    "tags": []
   },
   "outputs": [
    {
     "name": "stdout",
     "output_type": "stream",
     "text": [
      "A, B  -->  T, T\n",
      "A, T  -->  A, a\n",
      "B, T  -->  B, b\n",
      "B, a  -->  B, b\n",
      "T, a  -->  T, t\n",
      "A, b  -->  A, a\n",
      "T, b  -->  T, t\n",
      "A, t  -->  A, a\n",
      "B, t  -->  B, b\n",
      " Time: 244033.000\n"
     ]
    },
    {
     "data": {
      "application/vnd.jupyter.widget-view+json": {
       "model_id": "f3c87b091262439ca8df65760989f5cf",
       "version_major": 2,
       "version_minor": 0
      },
      "text/plain": [
       "Canvas(toolbar=Toolbar(toolitems=[('Home', 'Reset original view', 'home', 'home'), ('Back', 'Back to previous …"
      ]
     },
     "metadata": {},
     "output_type": "display_data"
    },
    {
     "data": {
      "text/plain": [
       "(0.0, 100000.0)"
      ]
     },
     "execution_count": 4,
     "metadata": {},
     "output_type": "execute_result"
    }
   ],
   "source": [
    "# states are A, B, T, a, b, t\n",
    "def exact_majority_ties(x, y):\n",
    "    # Cancellation\n",
    "    if x == 'A' and y == 'B':\n",
    "        return ('T', 'T')\n",
    "    # Active A / B eliminate T\n",
    "    if x in ['A', 'B'] and y == 'T':\n",
    "        return (x, x.lower())\n",
    "    # Active converts passive\n",
    "    if x.isupper() and y.islower():\n",
    "        return (x, x.lower())\n",
    "\n",
    "n = 10 ** 5\n",
    "sim = Simulation({'A': n // 2, 'B': n // 2}, exact_majority_ties, transition_order='symmetric')\n",
    "print(sim.reactions)\n",
    "sim.run()\n",
    "sim.history.plot()\n",
    "plt.title('6 state majority protocol detecting ties')\n",
    "plt.xscale('symlog')\n",
    "plt.yscale('symlog')\n",
    "plt.xlim(0, sim.times[-1])\n",
    "plt.ylim(0, n)"
   ]
  },
  {
   "cell_type": "markdown",
   "id": "legendary-pepper",
   "metadata": {},
   "source": [
    "Another simple example is the 3-state approximate majority protocol, which was analyzed [here](http://www.cs.yale.edu/homes/aspnes/papers/approximate-majority-journal.pdf) and [here](https://www.cs.ubc.ca/~condon/papers/approx-maj-journal.pdf)."
   ]
  },
  {
   "cell_type": "code",
   "execution_count": 5,
   "id": "neither-information",
   "metadata": {
    "tags": []
   },
   "outputs": [
    {
     "name": "stdout",
     "output_type": "stream",
     "text": [
      " Time: 51.400\n"
     ]
    },
    {
     "data": {
      "application/vnd.jupyter.widget-view+json": {
       "model_id": "96af77754a1644d08c5bf7dc46744c2b",
       "version_major": 2,
       "version_minor": 0
      },
      "text/plain": [
       "Canvas(toolbar=Toolbar(toolitems=[('Home', 'Reset original view', 'home', 'home'), ('Back', 'Back to previous …"
      ]
     },
     "metadata": {},
     "output_type": "display_data"
    },
    {
     "data": {
      "text/plain": [
       "Text(0.5, 1.0, '3 state approximate majority protocol')"
      ]
     },
     "execution_count": 5,
     "metadata": {},
     "output_type": "execute_result"
    }
   ],
   "source": [
    "a, b, u = 'A', 'B', 'U'\n",
    "approximate_majority = {\n",
    "    (a,b): (u,u),\n",
    "    (a,u): (a,a),\n",
    "    (b,u): (b,b)\n",
    "}\n",
    "n = 10 ** 9\n",
    "init_config = {a: n // 2 * 0.5001, b: n // 2 * 0.4999}\n",
    "sim = Simulation(init_config, approximate_majority)\n",
    "sim.run(recording_step=0.1)\n",
    "sim.history.plot()\n",
    "plt.title('3 state approximate majority protocol')"
   ]
  },
  {
   "cell_type": "markdown",
   "id": "opposite-luther",
   "metadata": {},
   "source": [
    "It was shown to stabilize in only $O(\\log n)$ time to a consensus configuration."
   ]
  },
  {
   "cell_type": "code",
   "execution_count": null,
   "id": "about-surfing",
   "metadata": {
    "tags": []
   },
   "outputs": [],
   "source": [
    "ns = [int(n) for n in np.geomspace(10, 10 ** 8, 20)]\n",
    "def initial_condition(n):\n",
    "    return {'A': n // 2, 'B': n // 2}\n",
    "df = time_trials(approximate_majority, ns, initial_condition, num_trials=100, max_wallclock_time = 30, transition_order='symmetric')\n",
    "fig, ax = plt.subplots()\n",
    "ax = sns.lineplot(x='n', y='time', data=df)\n",
    "ax.set_title('Average stabilization time of approximate majority')\n",
    "ax.set_xscale('log')"
   ]
  },
  {
   "cell_type": "markdown",
   "id": "annoying-comparison",
   "metadata": {},
   "source": [
    "This consensus will only be correct with high probability, however, and requires the initial gap to be $\\Omega(\\sqrt{n \\log n})$. We can see that when the gap is close to 0, it is performing essentially a random walk, which is why a sufficiently large initial gap is necessary to ensure the initial majority stays ahead."
   ]
  },
  {
   "cell_type": "code",
   "execution_count": null,
   "id": "present-thong",
   "metadata": {
    "tags": []
   },
   "outputs": [],
   "source": [
    "sim.reset({a: n // 2 + 1, b: n // 2 - 1})\n",
    "sim.run(4, recording_step = 0.01)\n",
    "fig, ax = plt.subplots()\n",
    "ax.set_title('Count of A - count of B')\n",
    "ax.set_yscale('symlog')\n",
    "(sim.history['A'] - sim.history['B']).plot()"
   ]
  },
  {
   "cell_type": "markdown",
   "id": "aggressive-manner",
   "metadata": {},
   "source": [
    "# Bias Averaging Framework for $O(\\log n)$ state protocols\n",
    "\n",
    "We view the initial states `A` and `B` as having `bias = +1` and `bias = -1` respectively. We then maintain the invariant that all interactions preserve the total bias.\n",
    "To bound the total number of states to $O(\\log n)$, the only allowable values for `bias` will be $\\pm 1, \\pm\\frac{1}{2}, \\pm\\frac{1}{4}, \\ldots, \\pm\\frac{1}{2^L}$ where $L = \\lceil \\log_2(n) \\rceil$.\n",
    "We describe the state of the agent with two fields `opinion`$=\\pm 1$ and `exponent`$=0,-1, \\ldots, -L$, so `bias = opinion * (2 ** exponent)`."
   ]
  },
  {
   "cell_type": "code",
   "execution_count": null,
   "id": "given-bible",
   "metadata": {
    "tags": []
   },
   "outputs": [],
   "source": [
    "from fractions import Fraction\n",
    "\n",
    "@dataclass(unsafe_hash=True)\n",
    "class Agent:\n",
    "    opinion: int = 0\n",
    "    exponent: int = 0\n",
    "        \n",
    "    @property\n",
    "    def bias(self):\n",
    "        return self.opinion * 2 ** self.exponent\n",
    "    \n",
    "    @bias.setter\n",
    "    def bias(self, value):\n",
    "        if value == 0:\n",
    "            self.opinion = self.exponent = 0\n",
    "        else:\n",
    "            self.opinion = int(np.sign(value))\n",
    "            exponent = np.log2(abs(value))\n",
    "            if exponent.is_integer():\n",
    "                self.exponent = int(exponent)\n",
    "            else:\n",
    "                raise ValueError(f'bias = {value} must an integer power of 2')\n",
    "    \n",
    "    def __str__(self):\n",
    "        if self.bias == 0:\n",
    "            return '0'\n",
    "        s = ''\n",
    "        if self.bias > 0:\n",
    "            s += '+'\n",
    "        if abs(self.bias) > 1/100:\n",
    "            s += str(Fraction(self.bias))\n",
    "        else:\n",
    "            if self.bias < 0:\n",
    "                s += '-'\n",
    "            s += '1/2^' + str(abs(self.exponent))\n",
    "        return s\n",
    "    \n",
    "def init_agents(a, b):\n",
    "    return {Agent(opinion = 1): a, Agent(opinion = -1): b}"
   ]
  },
  {
   "cell_type": "markdown",
   "id": "descending-farmer",
   "metadata": {},
   "source": [
    "The cancel / split reactions maintain the invariant sum of agent biases."
   ]
  },
  {
   "cell_type": "code",
   "execution_count": null,
   "id": "rising-obligation",
   "metadata": {
    "tags": []
   },
   "outputs": [],
   "source": [
    "def cancel_split(a: Agent, b: Agent, L: int):\n",
    "     # cancel reaction\n",
    "    if a.bias == -b.bias:\n",
    "        a.opinion = b.opinion = 0\n",
    "        a.exponent = b.exponent = 0\n",
    "    \n",
    "    # split reaction\n",
    "    if a.bias == 0 and abs(b.bias) > 2 ** (-L):\n",
    "        a.opinion = b.opinion\n",
    "        a.exponent = b.exponent = b.exponent - 1\n",
    "    \n",
    "    if b.bias == 0 and abs(a.bias) > 2 ** (-L):\n",
    "        b.opinion = a.opinion\n",
    "        b.exponent = a.exponent = a.exponent - 1\n",
    "\n",
    "print(Simulation(init_agents(1, 1), cancel_split, L = 4).reactions)"
   ]
  },
  {
   "cell_type": "markdown",
   "id": "precious-marking",
   "metadata": {},
   "source": [
    "By themselves, however, these rules do not solve majority."
   ]
  },
  {
   "cell_type": "code",
   "execution_count": null,
   "id": "computational-dinner",
   "metadata": {
    "tags": []
   },
   "outputs": [],
   "source": [
    "n = 10 ** 6\n",
    "sim = Simulation(init_agents(n // 2 + 1, n // 2), cancel_split, L=int(np.log2(n)))\n",
    "sp = StatePlotter()\n",
    "sim.add_snapshot(sp)\n",
    "sp.ax.set_yscale('symlog')"
   ]
  },
  {
   "cell_type": "code",
   "execution_count": null,
   "id": "featured-hormone",
   "metadata": {
    "tags": []
   },
   "outputs": [],
   "source": [
    "sim.run(recording_step=0.1)\n",
    "sim.snapshot_slider()"
   ]
  },
  {
   "cell_type": "markdown",
   "id": "tender-deviation",
   "metadata": {},
   "source": [
    "There are a few additional transitions that will also preserve the bias."
   ]
  },
  {
   "cell_type": "code",
   "execution_count": null,
   "id": "proper-stanford",
   "metadata": {
    "tags": []
   },
   "outputs": [],
   "source": [
    "from itertools import product\n",
    "\n",
    "def bias_average(a, b, L):\n",
    "    a, b = dataclasses.replace(a), dataclasses.replace(b)\n",
    "    \n",
    "    # all allowable bias values\n",
    "    biases = [0] + [2 ** i for i in range(-L,1)] + [-2 ** i for i in range(-L, 1)]\n",
    "    # all pairs of bias values that preserve the sum\n",
    "    legal_outputs = [(x,y) for (x,y) in product(biases, biases) if x + y == a.bias + b.bias]\n",
    "    # choose the pair of bias values which are closest together\n",
    "    a.bias, b.bias = legal_outputs[np.argmin(np.array([abs(x-y) for (x,y) in legal_outputs]))]\n",
    "    \n",
    "    return a, b\n",
    "\n",
    "print(Simulation(init_agents(1, 1), bias_average, L = 4).reactions)"
   ]
  },
  {
   "cell_type": "markdown",
   "id": "welsh-accessory",
   "metadata": {},
   "source": [
    "But just these transitions do not speed up the protocol or remove the probability of error."
   ]
  },
  {
   "cell_type": "code",
   "execution_count": null,
   "id": "massive-lying",
   "metadata": {
    "tags": []
   },
   "outputs": [],
   "source": [
    "n = 10 ** 6\n",
    "sim = Simulation(init_agents(n // 2 + 1, n // 2), bias_average, L=int(np.log2(n)))\n",
    "sp = StatePlotter()\n",
    "sim.add_snapshot(sp)\n",
    "sp.ax.set_yscale('symlog')"
   ]
  },
  {
   "cell_type": "code",
   "execution_count": null,
   "id": "comparative-turning",
   "metadata": {
    "tags": []
   },
   "outputs": [],
   "source": [
    "sim.run(recording_step=0.1)\n",
    "sim.snapshot_slider()"
   ]
  },
  {
   "cell_type": "markdown",
   "id": "gross-invitation",
   "metadata": {},
   "source": [
    "Here was an example simulation run where some minority agents were never eliminated:"
   ]
  },
  {
   "cell_type": "code",
   "execution_count": null,
   "id": "turkish-fifty",
   "metadata": {
    "tags": []
   },
   "outputs": [],
   "source": [
    "sim = pickle.load( open( \"majority_simulations/bias_average.p\", \"rb\" ) )\n",
    "sim.snapshot_slider()"
   ]
  },
  {
   "cell_type": "markdown",
   "id": "humanitarian-visibility",
   "metadata": {},
   "source": [
    "# Adding Synchronization\n",
    "\n",
    "The unbiased agents will now have a field `hour`, and will wait until `hour = i` before doing a split down to `exponent = -i`.\n",
    "They will synchronize their `hour` with separate clock agents who are keeping a timer through a field `minute`, where `hour = minute // m` for a parameter `m` which gives the number of minutes per hour."
   ]
  },
  {
   "cell_type": "code",
   "execution_count": null,
   "id": "pointed-climb",
   "metadata": {
    "tags": []
   },
   "outputs": [],
   "source": [
    "@dataclass(unsafe_hash=True)\n",
    "class MajorityAgent(Agent):\n",
    "    role: str = 'main'\n",
    "    _hour: int = 0\n",
    "    minute: int = 0\n",
    "    finished: bool = False\n",
    "    m: int = 5\n",
    "        \n",
    "    @property\n",
    "    def hour(self):\n",
    "        if self.role == 'clock':\n",
    "            return self.minute // self.m\n",
    "        else:\n",
    "            return self._hour\n",
    "        \n",
    "    @hour.setter\n",
    "    def hour(self, value):\n",
    "        if self.role == 'main':\n",
    "            self._hour = value\n",
    "        # can't change hour for a clock agent\n",
    "    \n",
    "    def __str__(self):\n",
    "        if self.bias != 0:\n",
    "            return super().__str__()\n",
    "        if self.role == 'clock':\n",
    "            return 'c' + str(self.minute)\n",
    "        else:\n",
    "            return 'u' + str(self.hour)\n",
    "    \n",
    "def init_majority_agents(a, b, m):\n",
    "    return {MajorityAgent(opinion = 1, m = m): a, MajorityAgent(opinion = -1, m = m): b}\n",
    "\n",
    "# custom function to build plots that visualize the 3 populations of clock, unbiased, and biased agents\n",
    "def make_plots(sim):\n",
    "    plt.ioff()\n",
    "    clock_plot = StatePlotter(lambda a: a.minute if a.role == 'clock' else None, update_time = 1)\n",
    "    sim.add_snapshot(clock_plot)\n",
    "    clock_plot.ax.set_xlabel('clock minute')\n",
    "    clock_plot.ax.axes.xaxis.set_ticklabels([])\n",
    "    unbiased_plot = StatePlotter(lambda a: a.hour if a.role == 'main' and a.bias == 0 else None, update_time = 1)\n",
    "    sim.add_snapshot(unbiased_plot)\n",
    "    unbiased_plot.ax.set_xlabel('unbiased hour')\n",
    "    biased_plot = StatePlotter(lambda a: str(a) if a.bias != 0 else None, update_time = 1)\n",
    "    sim.add_snapshot(biased_plot)\n",
    "    for snap in sim.snapshots:\n",
    "        snap.ax.set_yscale('symlog')\n",
    "        snap.fig.tight_layout()\n",
    "    plt.ion()\n",
    "    sim.layout = widgets.GridspecLayout(6,2, height='700px', pane_heights=[4,7,1], grid_gap='5px')\n",
    "    sim.layout[0:2,0] = clock_plot.fig.canvas\n",
    "    sim.layout[0:2,1] = unbiased_plot.fig.canvas\n",
    "    sim.layout[2:5,:] = biased_plot.fig.canvas\n",
    "    sim.layout[5,:] = sim.snapshot_slider()\n",
    "    display(sim.layout)"
   ]
  },
  {
   "cell_type": "markdown",
   "id": "about-worthy",
   "metadata": {},
   "source": [
    "The clock agents will count for an additional `L` minutes after the last hour ($O(\\log n)$ time). Then they will send a signal `finished = True` that makes all agents stop (and move on to a later phase of the algorithm)."
   ]
  },
  {
   "cell_type": "code",
   "execution_count": null,
   "id": "physical-executive",
   "metadata": {
    "tags": []
   },
   "outputs": [],
   "source": [
    "def majority(a, b, L):\n",
    "    a.finished = b.finished = a.finished or b.finished\n",
    "    if a.finished:\n",
    "        a.minute = b.minute = 0\n",
    "        a.hour = b.hour = 0\n",
    "    else:\n",
    "        if a.role == b.role == 'main':\n",
    "            # cancel reaction\n",
    "            if a.bias == -b.bias != 0:\n",
    "                a.opinion = b.opinion = 0\n",
    "                a.hour = b.hour = abs(a.exponent)\n",
    "                a.exponent = b.exponent = 0\n",
    "                # half the agents from first split become clock\n",
    "                if a.hour == 0:\n",
    "                    a.role = 'clock'\n",
    "\n",
    "            # split reaction\n",
    "            if a.bias == 0 and b.bias != 0 and a.hour > abs(b.exponent):\n",
    "                a.opinion = b.opinion\n",
    "                a.exponent = b.exponent = b.exponent - 1\n",
    "                a.hour = b.hour = 0\n",
    "\n",
    "            if b.bias == 0 and a.bias != 0 and b.hour > abs(a.exponent) :\n",
    "                b.opinion = a.opinion\n",
    "                b.exponent = a.exponent = a.exponent - 1\n",
    "                a.hour = b.hour = 0\n",
    "\n",
    "        # unbiased agents propagate max hour\n",
    "        if a.bias == b.bias == 0:\n",
    "            a.hour = b.hour = min(max(a.hour, b.hour), L)\n",
    "\n",
    "        # clock minute uses new fixed resolution phase clock\n",
    "        if a.role == b.role == 'clock':\n",
    "            # drip reaction\n",
    "            if a.minute == b.minute:\n",
    "                a.minute += 1\n",
    "#               Wait an additional L minutes after hour L before finishing\n",
    "                if a.minute == a.m * L + L:\n",
    "                    a.finished = True\n",
    "            # epidemic reaction\n",
    "            else:\n",
    "                a.minute = b.minute = max(a.minute, b.minute)"
   ]
  },
  {
   "cell_type": "markdown",
   "id": "incoming-salvation",
   "metadata": {
    "tags": []
   },
   "source": [
    "If we set the number of minutes per hour `m` to be $O(\\log n)$ then with high probability the entire population will stay synchronized at the same hour. In this case, we have an $O(\\log^2 n)$ time majority algorithm, essentially the same as the standard 'canceling and doubling' protocols."
   ]
  },
  {
   "cell_type": "code",
   "execution_count": null,
   "id": "accepted-wallace",
   "metadata": {
    "tags": []
   },
   "outputs": [],
   "source": [
    "n = 10 ** 6\n",
    "sim = Simulation(init_majority_agents(n // 2 + 1, n // 2, m = int(np.log(n))), majority, L=int(np.log2(n)))\n",
    "make_plots(sim)"
   ]
  },
  {
   "cell_type": "code",
   "execution_count": null,
   "id": "editorial-bankruptcy",
   "metadata": {},
   "outputs": [],
   "source": [
    "sim.run()\n",
    "sim.layout[5,:] = sim.snapshot_slider()"
   ]
  },
  {
   "cell_type": "markdown",
   "id": "nominated-speech",
   "metadata": {},
   "source": [
    "To make the protocol take only $O(\\log n)$ time, we set the parameter `m` to be constant. In the case of a tie, we will end up with every biased agent reaching the minimum value `exponent = -L`. Choosing $L = \\lceil \\log_2(n) \\rceil$ ensures that this can only happen in the case of a tie. Thus we can check if all exponents are `-L` after this phase finishes to stably detect a tie."
   ]
  },
  {
   "cell_type": "code",
   "execution_count": null,
   "id": "radio-forum",
   "metadata": {},
   "outputs": [],
   "source": [
    "n = 10 ** 7\n",
    "sim = Simulation(init_majority_agents(n // 2, n // 2, m = 3), majority, L=int(np.log2(n)))\n",
    "make_plots(sim)"
   ]
  },
  {
   "cell_type": "code",
   "execution_count": null,
   "id": "legendary-particular",
   "metadata": {},
   "outputs": [],
   "source": [
    "sim.run()\n",
    "sim.layout[5,:] = sim.snapshot_slider()"
   ]
  },
  {
   "cell_type": "markdown",
   "id": "north-cache",
   "metadata": {},
   "source": [
    "In the more general case, we will not eliminate all minority agents. What will be true, with high probability, is that a vast majority of agents will finish with the majority opinion, in a range of 3 consecutive exponents."
   ]
  },
  {
   "cell_type": "code",
   "execution_count": null,
   "id": "grave-spanish",
   "metadata": {},
   "outputs": [],
   "source": [
    "n = 10 ** 7\n",
    "sim = Simulation(init_majority_agents(n // 2 + int(n ** 0.5), n // 2 - int(n ** 0.5), m = 3), majority, L=int(np.log2(n)))\n",
    "sim.run()\n",
    "make_plots(sim)"
   ]
  },
  {
   "cell_type": "code",
   "execution_count": null,
   "id": "killing-intellectual",
   "metadata": {},
   "outputs": [],
   "source": [
    "sim.run()\n",
    "sim.layout[5,:] = sim.snapshot_slider()"
   ]
  },
  {
   "cell_type": "code",
   "execution_count": null,
   "id": "illegal-argument",
   "metadata": {},
   "outputs": [],
   "source": [
    "## For a larger value of n, a simulation was ran and then pickled\n",
    "# n = 10 ** 10\n",
    "# sim = Simulation(init_majority_agents(n // 2 + int(n ** 0.5), n // 2 - int(n ** 0.5), m = 3), majority, L=int(np.log2(n)))\n",
    "# sim.run()\n",
    "# pickle.dump(sim, open( \"majority_simulations/majority.p\", \"wb\" ) )\n",
    "\n",
    "# We can now load this simulation\n",
    "sim = pickle.load( open( \"majority_simulations/majority.p\", \"rb\" ) )\n",
    "make_plots(sim)"
   ]
  },
  {
   "cell_type": "markdown",
   "id": "polyphonic-passenger",
   "metadata": {},
   "source": [
    "# Clock Protocol"
   ]
  },
  {
   "cell_type": "markdown",
   "id": "computational-helicopter",
   "metadata": {},
   "source": [
    "Looking more closely at the rule of the `clock` agents, we can see the key important feature of the `minute` distribution is that the front tail decays doubly-exponentially, while the back tail decays exponentially. This ends up ensuring that when a majority of agents are in `hour = h`, the fraction of agents with `hour > h` can be made to be a fraction that is arbitrarily small by tuning the parameter `m`."
   ]
  },
  {
   "cell_type": "code",
   "execution_count": null,
   "id": "coral-layout",
   "metadata": {
    "tags": []
   },
   "outputs": [],
   "source": [
    "def clock(a, b, m):\n",
    "    if a == b < m:\n",
    "        return a + 1, b\n",
    "    else:\n",
    "        return max(a, b), max(a, b)"
   ]
  },
  {
   "cell_type": "code",
   "execution_count": null,
   "id": "internal-press",
   "metadata": {
    "tags": []
   },
   "outputs": [],
   "source": [
    "n = 10 ** 9\n",
    "sim = Simulation({0: n}, clock, m = 30)\n",
    "sp = StatePlotter()\n",
    "sim.add_snapshot(sp)\n",
    "sp.ax.set_yscale('symlog')"
   ]
  },
  {
   "cell_type": "code",
   "execution_count": null,
   "id": "intellectual-tuition",
   "metadata": {
    "tags": []
   },
   "outputs": [],
   "source": [
    "sim.run(recording_step=0.1)\n",
    "sim.snapshot_slider()"
   ]
  },
  {
   "cell_type": "markdown",
   "id": "sexual-venice",
   "metadata": {},
   "source": [
    "Notice also that this clock rule is extremely similar to the power-of-two-choices phase clock. In fact, the distribution of the clock ends up being essentially the same."
   ]
  },
  {
   "cell_type": "code",
   "execution_count": null,
   "id": "arbitrary-summit",
   "metadata": {
    "tags": []
   },
   "outputs": [],
   "source": [
    "def two_choices_clock(a, b, m):\n",
    "    if min(a, b) < m:\n",
    "        return min(a, b) + 1, max(a, b)"
   ]
  },
  {
   "cell_type": "code",
   "execution_count": null,
   "id": "abstract-listing",
   "metadata": {
    "tags": []
   },
   "outputs": [],
   "source": [
    "n = 10 ** 9\n",
    "sim = Simulation({0: n}, two_choices_clock, m = 30)\n",
    "sp = StatePlotter()\n",
    "sim.add_snapshot(sp)\n",
    "sp.ax.set_yscale('symlog')"
   ]
  },
  {
   "cell_type": "code",
   "execution_count": null,
   "id": "earned-massachusetts",
   "metadata": {
    "tags": []
   },
   "outputs": [],
   "source": [
    "sim.run(recording_step=0.1)\n",
    "sim.snapshot_slider()"
   ]
  },
  {
   "cell_type": "code",
   "execution_count": null,
   "id": "major-leather",
   "metadata": {
    "tags": []
   },
   "outputs": [],
   "source": []
  }
 ],
 "metadata": {
  "kernelspec": {
   "display_name": "Python 3",
   "language": "python",
   "name": "python3"
  },
  "language_info": {
   "codemirror_mode": {
    "name": "ipython",
    "version": 3
   },
   "file_extension": ".py",
   "mimetype": "text/x-python",
   "name": "python",
   "nbconvert_exporter": "python",
   "pygments_lexer": "ipython3",
   "version": "3.7.3"
  }
 },
 "nbformat": 4,
 "nbformat_minor": 5
}
