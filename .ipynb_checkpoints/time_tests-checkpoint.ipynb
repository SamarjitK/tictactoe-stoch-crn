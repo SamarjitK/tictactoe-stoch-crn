{
 "cells": [
  {
   "cell_type": "code",
   "execution_count": 1,
   "metadata": {},
   "outputs": [
    {
     "name": "stdout",
     "output_type": "stream",
     "text": [
      "65.9 ms ± 1.39 ms per loop (mean ± std. dev. of 7 runs, 10 loops each)\n"
     ]
    }
   ],
   "source": [
    "from ppsim import Simulation\n",
    "from ppsim import protocols\n",
    "\n",
    "n = 10 ** 6\n",
    "%timeit Simulation({'A': n // 2, 'B': n // 2}, protocols.approximate_majority).run(10.)"
   ]
  },
  {
   "cell_type": "code",
   "execution_count": null,
   "metadata": {
    "pycharm": {
     "name": "#%%\n"
    }
   },
   "outputs": [
    {
     "name": "stdout",
     "output_type": "stream",
     "text": [
      " Time: 10.001"
     ]
    }
   ],
   "source": [
    "def no_anim():\n",
    "    n = 10 ** 8\n",
    "    sim = Simulation({0: n}, protocols.self_stabilizing_clock, m = 20)\n",
    "    sim.run(10.)\n",
    "\n",
    "%timeit no_anim()"
   ]
  },
  {
   "cell_type": "code",
   "execution_count": null,
   "metadata": {},
   "outputs": [],
   "source": []
  }
 ],
 "metadata": {
  "kernelspec": {
   "display_name": "Python 3",
   "language": "python",
   "name": "python3"
  },
  "language_info": {
   "codemirror_mode": {
    "name": "ipython",
    "version": 3
   },
   "file_extension": ".py",
   "mimetype": "text/x-python",
   "name": "python",
   "nbconvert_exporter": "python",
   "pygments_lexer": "ipython3",
   "version": "3.7.3"
  }
 },
 "nbformat": 4,
 "nbformat_minor": 1
}
